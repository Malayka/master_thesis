{
 "cells": [
  {
   "cell_type": "code",
   "execution_count": 21,
   "metadata": {},
   "outputs": [
    {
     "data": {
      "text/plain": [
       "2"
      ]
     },
     "execution_count": 21,
     "metadata": {},
     "output_type": "execute_result"
    }
   ],
   "source": [
    "1 + 1"
   ]
  },
  {
   "cell_type": "code",
   "execution_count": 1,
   "metadata": {},
   "outputs": [],
   "source": [
    "from my_tools import *"
   ]
  },
  {
   "cell_type": "markdown",
   "metadata": {},
   "source": [
    "## Trying to parallelize calculating balance deltas"
   ]
  },
  {
   "cell_type": "code",
   "execution_count": 117,
   "metadata": {},
   "outputs": [],
   "source": [
    "def parseBlock(b):\n",
    "    result = []\n",
    "    for out in b.outputs:\n",
    "        o = {'type': out.address.type, 'num':out.address.address_num, 'val': out.value }\n",
    "        result.append(o)\n",
    "    for in_ in b.inputs:\n",
    "        i = {'type': in_.address.type, 'num':in_.address.address_num, 'val': -in_.value }\n",
    "        result.append(i)\n",
    "    return result\n",
    "\n",
    "def parseBlocks(blocks):\n",
    "    return [parseBlock(b) for b in blocks]"
   ]
  },
  {
   "cell_type": "code",
   "execution_count": 152,
   "metadata": {},
   "outputs": [],
   "source": [
    "def parseBlock2(b):\n",
    "    return {'o': b.outputs, 'i': b.inputs}\n",
    "\n",
    "def parseBlocks2(blocks):\n",
    "    return [parseBlock(b) for b in blocks]"
   ]
  },
  {
   "cell_type": "code",
   "execution_count": 157,
   "metadata": {},
   "outputs": [],
   "source": [
    "def parseBlock3(b):\n",
    "    return b.txes\n",
    "\n",
    "def parseBlocks3(blocks):\n",
    "    return [parseBlock3(b) for b in blocks]"
   ]
  },
  {
   "cell_type": "code",
   "execution_count": 158,
   "metadata": {},
   "outputs": [
    {
     "name": "stdout",
     "output_type": "stream",
     "text": [
      "CPU times: user 1.34 s, sys: 0 ns, total: 1.34 s\n",
      "Wall time: 1.28 s\n"
     ]
    }
   ],
   "source": [
    "%time parsed3_m = parseBlocks3(MNC.blocks)"
   ]
  },
  {
   "cell_type": "code",
   "execution_count": 118,
   "metadata": {},
   "outputs": [
    {
     "data": {
      "text/plain": [
       "[[{'num': 1, 'type': address_type.pubkey, 'val': 5000000000}],\n",
       " [{'num': 2, 'type': address_type.pubkey, 'val': 50000000000}]]"
      ]
     },
     "execution_count": 118,
     "metadata": {},
     "output_type": "execute_result"
    }
   ],
   "source": [
    "parseBlocks(MNC.blocks[:2])"
   ]
  },
  {
   "cell_type": "code",
   "execution_count": 7,
   "metadata": {},
   "outputs": [
    {
     "data": {
      "text/plain": [
       "'{}'"
      ]
     },
     "execution_count": 7,
     "metadata": {},
     "output_type": "execute_result"
    }
   ],
   "source": [
    "json.dumps(collections.defaultdict(lambda: 0.))"
   ]
  },
  {
   "cell_type": "code",
   "execution_count": 8,
   "metadata": {},
   "outputs": [],
   "source": [
    "import multiprocessing as mp\n",
    "import joblib\n",
    "from joblib import Parallel, delayed\n",
    "\n",
    "def getClustersBalanceDeltasNp(blocks, map_address2cluster):\n",
    "    balance_deltas = collections.defaultdict(lambda: 0.)\n",
    "    for b in blocks:\n",
    "        for out in b.outputs:\n",
    "            add = out.address\n",
    "            cluster_idx = map_address2cluster[add.type][add.address_num]\n",
    "            balance_deltas[cluster_idx] += out.value\n",
    "        for in_ in b.inputs:\n",
    "            add = in_.address\n",
    "            cluster_idx = map_address2cluster[add.type][add.address_num]\n",
    "            balance_deltas[cluster_idx] -= in_.value\n",
    "    return balance_deltas\n",
    "\n",
    "def getClustersBalanceDeltasNpDebug(blocks, map_address2cluster):\n",
    "    #balance_deltas = collections.defaultdict(lambda: 0.)\n",
    "    #balance_deltas = collections.defaultdict(lambda: 0.)\n",
    "    #for b in blocks:\n",
    "    #    for out in b.outputs:\n",
    "    #        add = out.address\n",
    "    #        cluster_idx = map_address2cluster[add.type][add.address_num]\n",
    "    #        balance_deltas[cluster_idx] += out.value\n",
    "    #    for in_ in b.inputs:\n",
    "    #        add = in_.address\n",
    "    #        cluster_idx = map_address2cluster[add.type][add.address_num]\n",
    "    #        balance_deltas[cluster_idx] -= in_.value\n",
    "    #return balance_deltas\n",
    "    print(len(blocks))\n",
    "    for b in blocks:\n",
    "        a = b\n",
    "        #for out in b.outputs:\n",
    "            #add = out.address\n",
    "            #a = map_address2cluster[add.type][add.address_num]\n",
    "            #b = out.value\n",
    "    return dict(deltas_m[100])\n",
    "\n",
    "def getClustersBalanceDeltasByGroupsNp(blocks, map_address2cluster, interval):\n",
    "    print('Eto ya :)')\n",
    "    blocks_by_groups = [blocks[i: i + interval] for i in range(0, len(blocks), interval)]\n",
    "    balance_deltas = [getClustersBalanceDeltasNp(g, map_address2cluster) for g in blocks_by_groups]\n",
    "    return balance_deltas\n",
    "\n",
    "def getClustersBalanceDeltasByGroupsNpPar(blocks, map_address2cluster, interval):\n",
    "    blocks_by_groups = [list(blocks[i: i + interval]) for i in range(0, len(blocks), interval)]\n",
    "    #print(blocks_by_groups)\n",
    "    #pool = mp.Pool(processes=4)\n",
    "    \n",
    "    balance_deltas = Parallel(n_jobs=4, verbose=100)(delayed(getClustersBalanceDeltasNpDebug)(g, map_address2cluster) for g in blocks_by_groups)\n",
    "    #balance_deltas = [pool.apply(getClustersBalanceDeltasNp, (g, map_address2cluster))\n",
    "    #                  for g in blocks_by_groups]\n",
    "    return balance_deltas\n",
    "\n",
    "def getClustersBalanceDeltasByGroupsNpParAsync(blocks, map_address2cluster, interval):\n",
    "    blocks_by_groups = [list(blocks[i: i + interval]) for i in range(0, len(blocks), interval)]\n",
    "    print(len(blocks_by_groups))\n",
    "    print(blocks_by_groups)\n",
    "    pool = mp.Pool(processes=8)\n",
    "    results = [pool.apply_async(getClustersBalanceDeltasNp, (g, map_address2cluster))\n",
    "               for g in blocks_by_groups]\n",
    "    balance_deltas = [p.get() for p in results]\n",
    "    return balance_deltas"
   ]
  },
  {
   "cell_type": "code",
   "execution_count": 161,
   "metadata": {},
   "outputs": [],
   "source": [
    "import multiprocessing as mp\n",
    "import joblib\n",
    "from joblib import Parallel, delayed\n",
    "\n",
    "def getClustersBalanceDeltasNp(blocks, map_address2cluster):\n",
    "    balance_deltas = collections.defaultdict(lambda: 0.)\n",
    "    for b in blocks:\n",
    "        for out in b.outputs:\n",
    "            add = out.address\n",
    "            cluster_idx = map_address2cluster[add.type][add.address_num]\n",
    "            balance_deltas[cluster_idx] += out.value\n",
    "        for in_ in b.inputs:\n",
    "            add = in_.address\n",
    "            cluster_idx = map_address2cluster[add.type][add.address_num]\n",
    "            balance_deltas[cluster_idx] -= in_.value\n",
    "    return dict(balance_deltas)\n",
    "\n",
    "def getClustersBalanceDeltasNpDebug__(blocks, map_address2cluster):\n",
    "    #balance_deltas = collections.defaultdict(lambda: 0.)\n",
    "    #balance_deltas = collections.defaultdict(lambda: 0.)\n",
    "    #for b in blocks:\n",
    "    #    for out in b.outputs:\n",
    "    #        add = out.address\n",
    "    #        cluster_idx = map_address2cluster[add.type][add.address_num]\n",
    "    #        balance_deltas[cluster_idx] += out.value\n",
    "    #    for in_ in b.inputs:\n",
    "    #        add = in_.address\n",
    "    #        cluster_idx = map_address2cluster[add.type][add.address_num]\n",
    "    #        balance_deltas[cluster_idx] -= in_.value\n",
    "    #return balance_deltas\n",
    "    #print(len(blocks))\n",
    "    balance_deltas = collections.defaultdict(lambda: 0.)\n",
    "    for b in blocks:\n",
    "        for io in b:\n",
    "            cluster_idx = map_address2cluster[io['type']][io['num']]\n",
    "            balance_deltas[cluster_idx] += io['val']\n",
    "    return dict(deltas_m[100])\n",
    "\n",
    "def getClustersBalanceDeltasByGroupsNpPar__(blocks, map_address2cluster, interval):\n",
    "    blocks_by_groups = [parseBlocks(blocks[i: i + interval]) for i in range(0, len(blocks), interval)]\n",
    "    #print(blocks_by_groups)\n",
    "    #pool = mp.Pool(processes=4)\n",
    "    \n",
    "    balance_deltas = Parallel(n_jobs=4, verbose=100)(delayed(getClustersBalanceDeltasNpDebug__)(g, map_address2cluster) for g in blocks_by_groups)\n",
    "    #balance_deltas = [pool.apply(getClustersBalanceDeltasNp, (g, map_address2cluster))\n",
    "    #                  for g in blocks_by_groups]\n",
    "    return balance_deltas\n",
    "\n",
    "\n",
    "def getClustersBalanceDeltasNpDebug__2(blocks, map_address2cluster):\n",
    "    #balance_deltas = collections.defaultdict(lambda: 0.)\n",
    "    #balance_deltas = collections.defaultdict(lambda: 0.)\n",
    "    #for b in blocks:\n",
    "    #    for out in b.outputs:\n",
    "    #        add = out.address\n",
    "    #        cluster_idx = map_address2cluster[add.type][add.address_num]\n",
    "    #        balance_deltas[cluster_idx] += out.value\n",
    "    #    for in_ in b.inputs:\n",
    "    #        add = in_.address\n",
    "    #        cluster_idx = map_address2cluster[add.type][add.address_num]\n",
    "    #        balance_deltas[cluster_idx] -= in_.value\n",
    "    #return balance_deltas\n",
    "    #print(len(blocks))\n",
    "    balance_deltas = collections.defaultdict(lambda: 0.)\n",
    "    for b in blocks:\n",
    "        for out in b['o']:\n",
    "            add = out.address\n",
    "            cluster_idx = map_address2cluster[add.type][add.address_num]\n",
    "            balance_deltas[cluster_idx] += out.value\n",
    "        for in_ in b['i']:\n",
    "            add = in_.address\n",
    "            cluster_idx = map_address2cluster[add.type][add.address_num]\n",
    "            balance_deltas[cluster_idx] -= in_.value\n",
    "    return dict(deltas_m[100])\n",
    "\n",
    "def getClustersBalanceDeltasByGroupsNpPar__2(blocks, map_address2cluster, interval):\n",
    "    blocks_by_groups = [parseBlocks2(blocks[i: i + interval]) for i in range(0, len(blocks), interval)]\n",
    "    #print(blocks_by_groups)\n",
    "    #pool = mp.Pool(processes=4)\n",
    "    \n",
    "    balance_deltas = Parallel(n_jobs=4, verbose=100)(delayed(getClustersBalanceDeltasNpDebug__2)(g, map_address2cluster) for g in blocks_by_groups)\n",
    "    #balance_deltas = [pool.apply(getClustersBalanceDeltasNp, (g, map_address2cluster))\n",
    "    #                  for g in blocks_by_groups]\n",
    "    return balance_deltas\n",
    "\n",
    "def getClustersBalanceDeltasNpDebug__3(blocks, map_address2cluster):\n",
    "    #balance_deltas = collections.defaultdict(lambda: 0.)\n",
    "    balance_deltas = collections.defaultdict(lambda: 0.)\n",
    "    for b in blocks:\n",
    "        for out in b.outputs:\n",
    "            add = out.address\n",
    "            cluster_idx = map_address2cluster[add.type][add.address_num]\n",
    "            balance_deltas[cluster_idx] += out.value\n",
    "        for in_ in b.inputs:\n",
    "            add = in_.address\n",
    "            cluster_idx = map_address2cluster[add.type][add.address_num]\n",
    "            balance_deltas[cluster_idx] -= in_.value\n",
    "    return balance_deltas\n",
    "\n",
    "def getClustersBalanceDeltasByGroupsNpPar__3(blocks, map_address2cluster, interval):\n",
    "    blocks_by_groups = [parseBlocks3(blocks[i: i + interval]) for i in range(0, len(blocks), interval)]\n",
    "    #print(blocks_by_groups)\n",
    "    #pool = mp.Pool(processes=4)\n",
    "    \n",
    "    balance_deltas = Parallel(n_jobs=4, verbose=100)(delayed(getClustersBalanceDeltasNpDebug__3)(g, map_address2cluster) for g in blocks_by_groups)\n",
    "    #balance_deltas = [pool.apply(getClustersBalanceDeltasNp, (g, map_address2cluster))\n",
    "    #                  for g in blocks_by_groups]\n",
    "    return balance_deltas"
   ]
  },
  {
   "cell_type": "code",
   "execution_count": 3,
   "metadata": {},
   "outputs": [],
   "source": [
    "def sumClustersBalanceDeltas(clustersBalanceDeltas, clusters_count):\n",
    "    balance_sums = np.zeros(clusters_count)\n",
    "    for deltas in clustersBalanceDeltas:\n",
    "        for cl_idx in deltas:\n",
    "            balance_sums += deltas[cl_idx]\n",
    "    return balance_sums"
   ]
  },
  {
   "cell_type": "code",
   "execution_count": 4,
   "metadata": {},
   "outputs": [
    {
     "name": "stdout",
     "output_type": "stream",
     "text": [
      "Got 500000 blocks\n",
      "Got 90517 clusters\n"
     ]
    }
   ],
   "source": [
    "# Q_MINCOIN\n",
    "MNC = CoinDataMgr(blocksci_path=\"/home/ubuntu/mincoin\",\n",
    "                  path_to_clusters=\"/home/ubuntu/~/clusters2\",\n",
    "                  folder_with_calculated=\"/home/ubuntu/thesis_work/calculated/mincoin_first_500k_blocks\",\n",
    "                  max_block=500000)"
   ]
  },
  {
   "cell_type": "code",
   "execution_count": 5,
   "metadata": {},
   "outputs": [
    {
     "name": "stdout",
     "output_type": "stream",
     "text": [
      "Reading folder '/home/ubuntu/thesis_work/calculated/mincoin_first_500k_blocks' with prefix 'int1000b_map_address2cluster'...\n",
      "  Got 'int1000b_map_address2cluster.hdf5', key is ''\n",
      "Finish\n"
     ]
    }
   ],
   "source": [
    "MNC[S_MAP_A2C].readAll()"
   ]
  },
  {
   "cell_type": "code",
   "execution_count": null,
   "metadata": {},
   "outputs": [],
   "source": []
  },
  {
   "cell_type": "code",
   "execution_count": 162,
   "metadata": {},
   "outputs": [
    {
     "name": "stdout",
     "output_type": "stream",
     "text": [
      "Pickling array (shape=(100000,), dtype=int32).\n",
      "Memmaping (shape=(600000,), dtype=int32) to new file /dev/shm/joblib_memmaping_pool_15936_140303565495096/15936-140303347763856-266b86af8f90c58c4d333c72aabccdbf.pkl\n",
      "Memmaping (shape=(600000,), dtype=int32) to old file /dev/shm/joblib_memmaping_pool_15936_140303565495096/15936-140303347763856-266b86af8f90c58c4d333c72aabccdbf.pkl\n",
      "Memmaping (shape=(600000,), dtype=int32) to old file /dev/shm/joblib_memmaping_pool_15936_140303565495096/15936-140303347763856-266b86af8f90c58c4d333c72aabccdbf.pkl\n",
      "Pickling array (shape=(100000,), dtype=int32).\n",
      "Pickling array (shape=(100000,), dtype=int32).\n",
      "Pickling array (shape=(100000,), dtype=int32).\n",
      "Memmaping (shape=(600000,), dtype=int32) to old file /dev/shm/joblib_memmaping_pool_15936_140303565495096/15936-140303347763856-266b86af8f90c58c4d333c72aabccdbf.pkl\n",
      "Pickling array (shape=(100000,), dtype=int32).\n"
     ]
    },
    {
     "ename": "JoblibTypeError",
     "evalue": "JoblibTypeError\n___________________________________________________________________________\nMultiprocessing exception:\n...........................................................................\n/usr/lib/python3.5/runpy.py in _run_module_as_main(mod_name='ipykernel_launcher', alter_argv=1)\n    179         sys.exit(msg)\n    180     main_globals = sys.modules[\"__main__\"].__dict__\n    181     if alter_argv:\n    182         sys.argv[0] = mod_spec.origin\n    183     return _run_code(code, main_globals, None,\n--> 184                      \"__main__\", mod_spec)\n        mod_spec = ModuleSpec(name='ipykernel_launcher', loader=<_f...b/python3.5/dist-packages/ipykernel_launcher.py')\n    185 \n    186 def run_module(mod_name, init_globals=None,\n    187                run_name=None, alter_sys=False):\n    188     \"\"\"Execute a module's code without importing it\n\n...........................................................................\n/usr/lib/python3.5/runpy.py in _run_code(code=<code object <module> at 0x7f9c6d9a2b70, file \"/...3.5/dist-packages/ipykernel_launcher.py\", line 5>, run_globals={'__builtins__': <module 'builtins' (built-in)>, '__cached__': '/usr/local/lib/python3.5/dist-packages/__pycache__/ipykernel_launcher.cpython-35.pyc', '__doc__': 'Entry point for launching an IPython kernel.\\n\\nTh...orts until\\nafter removing the cwd from sys.path.\\n', '__file__': '/usr/local/lib/python3.5/dist-packages/ipykernel_launcher.py', '__loader__': <_frozen_importlib_external.SourceFileLoader object>, '__name__': '__main__', '__package__': '', '__spec__': ModuleSpec(name='ipykernel_launcher', loader=<_f...b/python3.5/dist-packages/ipykernel_launcher.py'), 'app': <module 'ipykernel.kernelapp' from '/usr/local/lib/python3.5/dist-packages/ipykernel/kernelapp.py'>, 'sys': <module 'sys' (built-in)>}, init_globals=None, mod_name='__main__', mod_spec=ModuleSpec(name='ipykernel_launcher', loader=<_f...b/python3.5/dist-packages/ipykernel_launcher.py'), pkg_name='', script_name=None)\n     80                        __cached__ = cached,\n     81                        __doc__ = None,\n     82                        __loader__ = loader,\n     83                        __package__ = pkg_name,\n     84                        __spec__ = mod_spec)\n---> 85     exec(code, run_globals)\n        code = <code object <module> at 0x7f9c6d9a2b70, file \"/...3.5/dist-packages/ipykernel_launcher.py\", line 5>\n        run_globals = {'__builtins__': <module 'builtins' (built-in)>, '__cached__': '/usr/local/lib/python3.5/dist-packages/__pycache__/ipykernel_launcher.cpython-35.pyc', '__doc__': 'Entry point for launching an IPython kernel.\\n\\nTh...orts until\\nafter removing the cwd from sys.path.\\n', '__file__': '/usr/local/lib/python3.5/dist-packages/ipykernel_launcher.py', '__loader__': <_frozen_importlib_external.SourceFileLoader object>, '__name__': '__main__', '__package__': '', '__spec__': ModuleSpec(name='ipykernel_launcher', loader=<_f...b/python3.5/dist-packages/ipykernel_launcher.py'), 'app': <module 'ipykernel.kernelapp' from '/usr/local/lib/python3.5/dist-packages/ipykernel/kernelapp.py'>, 'sys': <module 'sys' (built-in)>}\n     86     return run_globals\n     87 \n     88 def _run_module_code(code, init_globals=None,\n     89                     mod_name=None, mod_spec=None,\n\n...........................................................................\n/usr/local/lib/python3.5/dist-packages/ipykernel_launcher.py in <module>()\n     11     # This is added back by InteractiveShellApp.init_path()\n     12     if sys.path[0] == '':\n     13         del sys.path[0]\n     14 \n     15     from ipykernel import kernelapp as app\n---> 16     app.launch_new_instance()\n\n...........................................................................\n/usr/local/lib/python3.5/dist-packages/traitlets/config/application.py in launch_instance(cls=<class 'ipykernel.kernelapp.IPKernelApp'>, argv=None, **kwargs={})\n    653 \n    654         If a global instance already exists, this reinitializes and starts it\n    655         \"\"\"\n    656         app = cls.instance(**kwargs)\n    657         app.initialize(argv)\n--> 658         app.start()\n        app.start = <bound method IPKernelApp.start of <ipykernel.kernelapp.IPKernelApp object>>\n    659 \n    660 #-----------------------------------------------------------------------------\n    661 # utility functions, for convenience\n    662 #-----------------------------------------------------------------------------\n\n...........................................................................\n/usr/local/lib/python3.5/dist-packages/ipykernel/kernelapp.py in start(self=<ipykernel.kernelapp.IPKernelApp object>)\n    481         if self.poller is not None:\n    482             self.poller.start()\n    483         self.kernel.start()\n    484         self.io_loop = ioloop.IOLoop.current()\n    485         try:\n--> 486             self.io_loop.start()\n        self.io_loop.start = <bound method BaseAsyncIOLoop.start of <tornado.platform.asyncio.AsyncIOMainLoop object>>\n    487         except KeyboardInterrupt:\n    488             pass\n    489 \n    490 launch_new_instance = IPKernelApp.launch_instance\n\n...........................................................................\n/usr/local/lib/python3.5/dist-packages/tornado/platform/asyncio.py in start(self=<tornado.platform.asyncio.AsyncIOMainLoop object>)\n    107         except (RuntimeError, AssertionError):\n    108             old_loop = None\n    109         try:\n    110             self._setup_logging()\n    111             asyncio.set_event_loop(self.asyncio_loop)\n--> 112             self.asyncio_loop.run_forever()\n        self.asyncio_loop.run_forever = <bound method BaseEventLoop.run_forever of <_Uni...EventLoop running=True closed=False debug=False>>\n    113         finally:\n    114             asyncio.set_event_loop(old_loop)\n    115 \n    116     def stop(self):\n\n...........................................................................\n/usr/lib/python3.5/asyncio/base_events.py in run_forever(self=<_UnixSelectorEventLoop running=True closed=False debug=False>)\n    340             raise RuntimeError('Event loop is running.')\n    341         self._set_coroutine_wrapper(self._debug)\n    342         self._thread_id = threading.get_ident()\n    343         try:\n    344             while True:\n--> 345                 self._run_once()\n        self._run_once = <bound method BaseEventLoop._run_once of <_UnixS...EventLoop running=True closed=False debug=False>>\n    346                 if self._stopping:\n    347                     break\n    348         finally:\n    349             self._stopping = False\n\n...........................................................................\n/usr/lib/python3.5/asyncio/base_events.py in _run_once(self=<_UnixSelectorEventLoop running=True closed=False debug=False>)\n   1307                         logger.warning('Executing %s took %.3f seconds',\n   1308                                        _format_handle(handle), dt)\n   1309                 finally:\n   1310                     self._current_handle = None\n   1311             else:\n-> 1312                 handle._run()\n        handle._run = <bound method Handle._run of <Handle BaseAsyncIOLoop._handle_events(13, 1)>>\n   1313         handle = None  # Needed to break cycles when an exception occurs.\n   1314 \n   1315     def _set_coroutine_wrapper(self, enabled):\n   1316         try:\n\n...........................................................................\n/usr/lib/python3.5/asyncio/events.py in _run(self=<Handle BaseAsyncIOLoop._handle_events(13, 1)>)\n    120             self._callback = None\n    121             self._args = None\n    122 \n    123     def _run(self):\n    124         try:\n--> 125             self._callback(*self._args)\n        self._callback = <bound method BaseAsyncIOLoop._handle_events of <tornado.platform.asyncio.AsyncIOMainLoop object>>\n        self._args = (13, 1)\n    126         except Exception as exc:\n    127             cb = _format_callback_source(self._callback, self._args)\n    128             msg = 'Exception in callback {}'.format(cb)\n    129             context = {\n\n...........................................................................\n/usr/local/lib/python3.5/dist-packages/tornado/platform/asyncio.py in _handle_events(self=<tornado.platform.asyncio.AsyncIOMainLoop object>, fd=13, events=1)\n     97             self.writers.remove(fd)\n     98         del self.handlers[fd]\n     99 \n    100     def _handle_events(self, fd, events):\n    101         fileobj, handler_func = self.handlers[fd]\n--> 102         handler_func(fileobj, events)\n        handler_func = <function wrap.<locals>.null_wrapper>\n        fileobj = <zmq.sugar.socket.Socket object>\n        events = 1\n    103 \n    104     def start(self):\n    105         try:\n    106             old_loop = asyncio.get_event_loop()\n\n...........................................................................\n/usr/local/lib/python3.5/dist-packages/tornado/stack_context.py in null_wrapper(*args=(<zmq.sugar.socket.Socket object>, 1), **kwargs={})\n    271         # Fast path when there are no active contexts.\n    272         def null_wrapper(*args, **kwargs):\n    273             try:\n    274                 current_state = _state.contexts\n    275                 _state.contexts = cap_contexts[0]\n--> 276                 return fn(*args, **kwargs)\n        args = (<zmq.sugar.socket.Socket object>, 1)\n        kwargs = {}\n    277             finally:\n    278                 _state.contexts = current_state\n    279         null_wrapper._wrapped = True\n    280         return null_wrapper\n\n...........................................................................\n/usr/local/lib/python3.5/dist-packages/zmq/eventloop/zmqstream.py in _handle_events(self=<zmq.eventloop.zmqstream.ZMQStream object>, fd=<zmq.sugar.socket.Socket object>, events=1)\n    445             return\n    446         zmq_events = self.socket.EVENTS\n    447         try:\n    448             # dispatch events:\n    449             if zmq_events & zmq.POLLIN and self.receiving():\n--> 450                 self._handle_recv()\n        self._handle_recv = <bound method ZMQStream._handle_recv of <zmq.eventloop.zmqstream.ZMQStream object>>\n    451                 if not self.socket:\n    452                     return\n    453             if zmq_events & zmq.POLLOUT and self.sending():\n    454                 self._handle_send()\n\n...........................................................................\n/usr/local/lib/python3.5/dist-packages/zmq/eventloop/zmqstream.py in _handle_recv(self=<zmq.eventloop.zmqstream.ZMQStream object>)\n    475             else:\n    476                 raise\n    477         else:\n    478             if self._recv_callback:\n    479                 callback = self._recv_callback\n--> 480                 self._run_callback(callback, msg)\n        self._run_callback = <bound method ZMQStream._run_callback of <zmq.eventloop.zmqstream.ZMQStream object>>\n        callback = <function wrap.<locals>.null_wrapper>\n        msg = [<zmq.sugar.frame.Frame object>, <zmq.sugar.frame.Frame object>, <zmq.sugar.frame.Frame object>, <zmq.sugar.frame.Frame object>, <zmq.sugar.frame.Frame object>, <zmq.sugar.frame.Frame object>, <zmq.sugar.frame.Frame object>]\n    481         \n    482 \n    483     def _handle_send(self):\n    484         \"\"\"Handle a send event.\"\"\"\n\n...........................................................................\n/usr/local/lib/python3.5/dist-packages/zmq/eventloop/zmqstream.py in _run_callback(self=<zmq.eventloop.zmqstream.ZMQStream object>, callback=<function wrap.<locals>.null_wrapper>, *args=([<zmq.sugar.frame.Frame object>, <zmq.sugar.frame.Frame object>, <zmq.sugar.frame.Frame object>, <zmq.sugar.frame.Frame object>, <zmq.sugar.frame.Frame object>, <zmq.sugar.frame.Frame object>, <zmq.sugar.frame.Frame object>],), **kwargs={})\n    427         close our socket.\"\"\"\n    428         try:\n    429             # Use a NullContext to ensure that all StackContexts are run\n    430             # inside our blanket exception handler rather than outside.\n    431             with stack_context.NullContext():\n--> 432                 callback(*args, **kwargs)\n        callback = <function wrap.<locals>.null_wrapper>\n        args = ([<zmq.sugar.frame.Frame object>, <zmq.sugar.frame.Frame object>, <zmq.sugar.frame.Frame object>, <zmq.sugar.frame.Frame object>, <zmq.sugar.frame.Frame object>, <zmq.sugar.frame.Frame object>, <zmq.sugar.frame.Frame object>],)\n        kwargs = {}\n    433         except:\n    434             gen_log.error(\"Uncaught exception in ZMQStream callback\",\n    435                           exc_info=True)\n    436             # Re-raise the exception so that IOLoop.handle_callback_exception\n\n...........................................................................\n/usr/local/lib/python3.5/dist-packages/tornado/stack_context.py in null_wrapper(*args=([<zmq.sugar.frame.Frame object>, <zmq.sugar.frame.Frame object>, <zmq.sugar.frame.Frame object>, <zmq.sugar.frame.Frame object>, <zmq.sugar.frame.Frame object>, <zmq.sugar.frame.Frame object>, <zmq.sugar.frame.Frame object>],), **kwargs={})\n    271         # Fast path when there are no active contexts.\n    272         def null_wrapper(*args, **kwargs):\n    273             try:\n    274                 current_state = _state.contexts\n    275                 _state.contexts = cap_contexts[0]\n--> 276                 return fn(*args, **kwargs)\n        args = ([<zmq.sugar.frame.Frame object>, <zmq.sugar.frame.Frame object>, <zmq.sugar.frame.Frame object>, <zmq.sugar.frame.Frame object>, <zmq.sugar.frame.Frame object>, <zmq.sugar.frame.Frame object>, <zmq.sugar.frame.Frame object>],)\n        kwargs = {}\n    277             finally:\n    278                 _state.contexts = current_state\n    279         null_wrapper._wrapped = True\n    280         return null_wrapper\n\n...........................................................................\n/usr/local/lib/python3.5/dist-packages/ipykernel/kernelbase.py in dispatcher(msg=[<zmq.sugar.frame.Frame object>, <zmq.sugar.frame.Frame object>, <zmq.sugar.frame.Frame object>, <zmq.sugar.frame.Frame object>, <zmq.sugar.frame.Frame object>, <zmq.sugar.frame.Frame object>, <zmq.sugar.frame.Frame object>])\n    278         if self.control_stream:\n    279             self.control_stream.on_recv(self.dispatch_control, copy=False)\n    280 \n    281         def make_dispatcher(stream):\n    282             def dispatcher(msg):\n--> 283                 return self.dispatch_shell(stream, msg)\n        msg = [<zmq.sugar.frame.Frame object>, <zmq.sugar.frame.Frame object>, <zmq.sugar.frame.Frame object>, <zmq.sugar.frame.Frame object>, <zmq.sugar.frame.Frame object>, <zmq.sugar.frame.Frame object>, <zmq.sugar.frame.Frame object>]\n    284             return dispatcher\n    285 \n    286         for s in self.shell_streams:\n    287             s.on_recv(make_dispatcher(s), copy=False)\n\n...........................................................................\n/usr/local/lib/python3.5/dist-packages/ipykernel/kernelbase.py in dispatch_shell(self=<ipykernel.ipkernel.IPythonKernel object>, stream=<zmq.eventloop.zmqstream.ZMQStream object>, msg={'buffers': [], 'content': {'allow_stdin': True, 'code': \"%time deltas_par_m = getClustersBalanceDeltasByG...C.blocks[:1], MNC[S_MAP_A2C][''], MNC.group_size)\", 'silent': False, 'stop_on_error': True, 'store_history': True, 'user_expressions': {}}, 'header': {'date': datetime.datetime(2018, 6, 9, 2, 40, 28, 410113, tzinfo=tzlocal()), 'msg_id': '677fb1b4fc5f40bf96b53ead64b549cb', 'msg_type': 'execute_request', 'session': '00ca0836c20b4d19800ca880e931ed43', 'username': 'username', 'version': '5.2'}, 'metadata': {}, 'msg_id': '677fb1b4fc5f40bf96b53ead64b549cb', 'msg_type': 'execute_request', 'parent_header': {}})\n    228             self.log.warn(\"Unknown message type: %r\", msg_type)\n    229         else:\n    230             self.log.debug(\"%s: %s\", msg_type, msg)\n    231             self.pre_handler_hook()\n    232             try:\n--> 233                 handler(stream, idents, msg)\n        handler = <bound method Kernel.execute_request of <ipykernel.ipkernel.IPythonKernel object>>\n        stream = <zmq.eventloop.zmqstream.ZMQStream object>\n        idents = [b'00ca0836c20b4d19800ca880e931ed43']\n        msg = {'buffers': [], 'content': {'allow_stdin': True, 'code': \"%time deltas_par_m = getClustersBalanceDeltasByG...C.blocks[:1], MNC[S_MAP_A2C][''], MNC.group_size)\", 'silent': False, 'stop_on_error': True, 'store_history': True, 'user_expressions': {}}, 'header': {'date': datetime.datetime(2018, 6, 9, 2, 40, 28, 410113, tzinfo=tzlocal()), 'msg_id': '677fb1b4fc5f40bf96b53ead64b549cb', 'msg_type': 'execute_request', 'session': '00ca0836c20b4d19800ca880e931ed43', 'username': 'username', 'version': '5.2'}, 'metadata': {}, 'msg_id': '677fb1b4fc5f40bf96b53ead64b549cb', 'msg_type': 'execute_request', 'parent_header': {}}\n    234             except Exception:\n    235                 self.log.error(\"Exception in message handler:\", exc_info=True)\n    236             finally:\n    237                 self.post_handler_hook()\n\n...........................................................................\n/usr/local/lib/python3.5/dist-packages/ipykernel/kernelbase.py in execute_request(self=<ipykernel.ipkernel.IPythonKernel object>, stream=<zmq.eventloop.zmqstream.ZMQStream object>, ident=[b'00ca0836c20b4d19800ca880e931ed43'], parent={'buffers': [], 'content': {'allow_stdin': True, 'code': \"%time deltas_par_m = getClustersBalanceDeltasByG...C.blocks[:1], MNC[S_MAP_A2C][''], MNC.group_size)\", 'silent': False, 'stop_on_error': True, 'store_history': True, 'user_expressions': {}}, 'header': {'date': datetime.datetime(2018, 6, 9, 2, 40, 28, 410113, tzinfo=tzlocal()), 'msg_id': '677fb1b4fc5f40bf96b53ead64b549cb', 'msg_type': 'execute_request', 'session': '00ca0836c20b4d19800ca880e931ed43', 'username': 'username', 'version': '5.2'}, 'metadata': {}, 'msg_id': '677fb1b4fc5f40bf96b53ead64b549cb', 'msg_type': 'execute_request', 'parent_header': {}})\n    394         if not silent:\n    395             self.execution_count += 1\n    396             self._publish_execute_input(code, parent, self.execution_count)\n    397 \n    398         reply_content = self.do_execute(code, silent, store_history,\n--> 399                                         user_expressions, allow_stdin)\n        user_expressions = {}\n        allow_stdin = True\n    400 \n    401         # Flush output before sending the reply.\n    402         sys.stdout.flush()\n    403         sys.stderr.flush()\n\n...........................................................................\n/usr/local/lib/python3.5/dist-packages/ipykernel/ipkernel.py in do_execute(self=<ipykernel.ipkernel.IPythonKernel object>, code=\"%time deltas_par_m = getClustersBalanceDeltasByG...C.blocks[:1], MNC[S_MAP_A2C][''], MNC.group_size)\", silent=False, store_history=True, user_expressions={}, allow_stdin=True)\n    203 \n    204         self._forward_input(allow_stdin)\n    205 \n    206         reply_content = {}\n    207         try:\n--> 208             res = shell.run_cell(code, store_history=store_history, silent=silent)\n        res = undefined\n        shell.run_cell = <bound method ZMQInteractiveShell.run_cell of <ipykernel.zmqshell.ZMQInteractiveShell object>>\n        code = \"%time deltas_par_m = getClustersBalanceDeltasByG...C.blocks[:1], MNC[S_MAP_A2C][''], MNC.group_size)\"\n        store_history = True\n        silent = False\n    209         finally:\n    210             self._restore_input()\n    211 \n    212         if res.error_before_exec is not None:\n\n...........................................................................\n/usr/local/lib/python3.5/dist-packages/ipykernel/zmqshell.py in run_cell(self=<ipykernel.zmqshell.ZMQInteractiveShell object>, *args=(\"%time deltas_par_m = getClustersBalanceDeltasByG...C.blocks[:1], MNC[S_MAP_A2C][''], MNC.group_size)\",), **kwargs={'silent': False, 'store_history': True})\n    532             )\n    533         self.payload_manager.write_payload(payload)\n    534 \n    535     def run_cell(self, *args, **kwargs):\n    536         self._last_traceback = None\n--> 537         return super(ZMQInteractiveShell, self).run_cell(*args, **kwargs)\n        self.run_cell = <bound method ZMQInteractiveShell.run_cell of <ipykernel.zmqshell.ZMQInteractiveShell object>>\n        args = (\"%time deltas_par_m = getClustersBalanceDeltasByG...C.blocks[:1], MNC[S_MAP_A2C][''], MNC.group_size)\",)\n        kwargs = {'silent': False, 'store_history': True}\n    538 \n    539     def _showtraceback(self, etype, evalue, stb):\n    540         # try to preserve ordering of tracebacks and print statements\n    541         sys.stdout.flush()\n\n...........................................................................\n/usr/local/lib/python3.5/dist-packages/IPython/core/interactiveshell.py in run_cell(self=<ipykernel.zmqshell.ZMQInteractiveShell object>, raw_cell=\"%time deltas_par_m = getClustersBalanceDeltasByG...C.blocks[:1], MNC[S_MAP_A2C][''], MNC.group_size)\", store_history=True, silent=False, shell_futures=True)\n   2723                 self.displayhook.exec_result = result\n   2724 \n   2725                 # Execute the user code\n   2726                 interactivity = \"none\" if silent else self.ast_node_interactivity\n   2727                 has_raised = self.run_ast_nodes(code_ast.body, cell_name,\n-> 2728                    interactivity=interactivity, compiler=compiler, result=result)\n        interactivity = 'last_expr'\n        compiler = <IPython.core.compilerop.CachingCompiler object>\n   2729                 \n   2730                 self.last_execution_succeeded = not has_raised\n   2731                 self.last_execution_result = result\n   2732 \n\n...........................................................................\n/usr/local/lib/python3.5/dist-packages/IPython/core/interactiveshell.py in run_ast_nodes(self=<ipykernel.zmqshell.ZMQInteractiveShell object>, nodelist=[<_ast.Expr object>], cell_name='<ipython-input-162-e8486ab83ad6>', interactivity='last', compiler=<IPython.core.compilerop.CachingCompiler object>, result=<ExecutionResult object at 7f9c4c9432b0, executi..._before_exec=None error_in_exec=None result=None>)\n   2851                     return True\n   2852 \n   2853             for i, node in enumerate(to_run_interactive):\n   2854                 mod = ast.Interactive([node])\n   2855                 code = compiler(mod, cell_name, \"single\")\n-> 2856                 if self.run_code(code, result):\n        self.run_code = <bound method InteractiveShell.run_code of <ipykernel.zmqshell.ZMQInteractiveShell object>>\n        code = <code object <module> at 0x7f9c4c5894b0, file \"<ipython-input-162-e8486ab83ad6>\", line 1>\n        result = <ExecutionResult object at 7f9c4c9432b0, executi..._before_exec=None error_in_exec=None result=None>\n   2857                     return True\n   2858 \n   2859             # Flush softspace\n   2860             if softspace(sys.stdout, 0):\n\n...........................................................................\n/usr/local/lib/python3.5/dist-packages/IPython/core/interactiveshell.py in run_code(self=<ipykernel.zmqshell.ZMQInteractiveShell object>, code_obj=<code object <module> at 0x7f9c4c5894b0, file \"<ipython-input-162-e8486ab83ad6>\", line 1>, result=<ExecutionResult object at 7f9c4c9432b0, executi..._before_exec=None error_in_exec=None result=None>)\n   2905         outflag = True  # happens in more places, so it's easier as default\n   2906         try:\n   2907             try:\n   2908                 self.hooks.pre_run_code_hook()\n   2909                 #rprint('Running code', repr(code_obj)) # dbg\n-> 2910                 exec(code_obj, self.user_global_ns, self.user_ns)\n        code_obj = <code object <module> at 0x7f9c4c5894b0, file \"<ipython-input-162-e8486ab83ad6>\", line 1>\n        self.user_global_ns = {'A': <function A>, 'A2': <function A2>, 'B': <function B>, 'B2': <function B2>, 'CoinDataMgr': <class 'my_tools.CoinDataMgr'>, 'DataVersions': <class 'my_tools.DataVersions'>, 'In': ['', 'from my_tools import *', 'import multiprocessing as mp\\n\\ndef getClustersBal... g in blocks_by_groups]\\n    return balance_deltas', 'def sumClustersBalanceDeltas(clustersBalanceDelt...ce_sums += deltas[cl_idx]\\n    return balance_sums', '# Q_MINCOIN\\nMNC = CoinDataMgr(blocksci_path=\"/ho...500k_blocks\",\\n                  max_block=500000)', 'MNC[S_MAP_A2C].readAll()', \"deltas_m = getClustersBalanceDeltasByGroupsNpPar(MNC.blocks, MNC[S_MAP_A2C][''], MNC.group_size)\", 'import multiprocessing as mp\\n\\ndef getClustersBal... g in blocks_by_groups]\\n    return balance_deltas', 'import multiprocessing as mp\\n\\ndef getClustersBal... g in blocks_by_groups]\\n    return balance_deltas', \"deltas_m = getClustersBalanceDeltasByGroupsNpPar(MNC.blocks, MNC[S_MAP_A2C][''], MNC.group_size)\", 'import multiprocessing as mp\\n\\ndef getClustersBal... g in blocks_by_groups]\\n    return balance_deltas', \"deltas_m = getClustersBalanceDeltasByGroupsNpPar(MNC.blocks, MNC[S_MAP_A2C][''], MNC.group_size)\", 'import multiprocessing as mp\\n\\ndef getClustersBal... g in blocks_by_groups]\\n    return balance_deltas', \"deltas_m = getClustersBalanceDeltasByGroupsNpPar(MNC.blocks, MNC[S_MAP_A2C][''], MNC.group_size)\", 'import multiprocessing as mp\\n\\ndef getClustersBal... g in blocks_by_groups]\\n    return balance_deltas', \"deltas_m = getClustersBalanceDeltasByGroupsNpPar(MNC.blocks, MNC[S_MAP_A2C][''], MNC.group_size)\", 'import multiprocessing as mp\\n\\ndef getClustersBal... g in blocks_by_groups]\\n    return balance_deltas', \"deltas_m = getClustersBalanceDeltasByGroupsNpPar(MNC.blocks, MNC[S_MAP_A2C][''], MNC.group_size)\", 'get_ipython().run_line_magic(\\'time\\', \"deltas_m =...MNC.blocks, MNC[S_MAP_A2C][\\'\\'], MNC.group_size)\")', 'import multiprocessing as mp\\n\\ndef getClustersBal... g in blocks_by_groups]\\n    return balance_deltas', ...], 'MNC': <my_tools.CoinDataMgr object>, 'Out': {27: defaultdict(<function getClustersBalanceDeltasNp...00.0, 2358: 300000000000.0, 2359: 50000000000.0}), 28: [21, 46, 83, 100, 114, 111, 146, 73, 195, 76, 56, 53, 59, 138, 180, 156, 171, 122, 96, 94], 61: defaultdict(<function getClustersBalanceDeltasNp...0000000.0, 2558: 200000000.0, 2559: 200000000.0}), 62: ['__class__', '__contains__', '__copy__', '__delattr__', '__delitem__', '__dir__', '__doc__', '__eq__', '__format__', '__ge__', '__getattribute__', '__getitem__', '__gt__', '__hash__', '__init__', '__iter__', '__le__', '__len__', '__lt__', '__missing__', ...], 63: defaultdict(<function getClustersBalanceDeltasNp...0000000.0, 2558: 200000000.0, 2559: 200000000.0}), 65: defaultdict(<function <lambda> at 0x7f9c4c58fe18>, {'a': 5.0}), 67: defaultdict(<function <lambda> at 0x7f9c4c58fe18>, {'a': 5.0}), 71: [defaultdict(<function A.<locals>.<lambda> at 0x7f9c0411c048>, {'a': 5.0})], 72: [defaultdict(<function A.<locals>.<lambda> at 0x7f9c4c58f2f0>, {'a': 5.0})], 74: [defaultdict(<function A2.<locals>.<lambda> at 0x7f9c4c5cd9d8>, {}), defaultdict(<function A2.<locals>.<lambda> at 0x7f9c4c5cd268>, {}), defaultdict(<function A2.<locals>.<lambda> at 0x7f9c4c5cd2f0>, {})], ...}, 'Parallel': <class 'joblib.parallel.Parallel'>, ...}\n        self.user_ns = {'A': <function A>, 'A2': <function A2>, 'B': <function B>, 'B2': <function B2>, 'CoinDataMgr': <class 'my_tools.CoinDataMgr'>, 'DataVersions': <class 'my_tools.DataVersions'>, 'In': ['', 'from my_tools import *', 'import multiprocessing as mp\\n\\ndef getClustersBal... g in blocks_by_groups]\\n    return balance_deltas', 'def sumClustersBalanceDeltas(clustersBalanceDelt...ce_sums += deltas[cl_idx]\\n    return balance_sums', '# Q_MINCOIN\\nMNC = CoinDataMgr(blocksci_path=\"/ho...500k_blocks\",\\n                  max_block=500000)', 'MNC[S_MAP_A2C].readAll()', \"deltas_m = getClustersBalanceDeltasByGroupsNpPar(MNC.blocks, MNC[S_MAP_A2C][''], MNC.group_size)\", 'import multiprocessing as mp\\n\\ndef getClustersBal... g in blocks_by_groups]\\n    return balance_deltas', 'import multiprocessing as mp\\n\\ndef getClustersBal... g in blocks_by_groups]\\n    return balance_deltas', \"deltas_m = getClustersBalanceDeltasByGroupsNpPar(MNC.blocks, MNC[S_MAP_A2C][''], MNC.group_size)\", 'import multiprocessing as mp\\n\\ndef getClustersBal... g in blocks_by_groups]\\n    return balance_deltas', \"deltas_m = getClustersBalanceDeltasByGroupsNpPar(MNC.blocks, MNC[S_MAP_A2C][''], MNC.group_size)\", 'import multiprocessing as mp\\n\\ndef getClustersBal... g in blocks_by_groups]\\n    return balance_deltas', \"deltas_m = getClustersBalanceDeltasByGroupsNpPar(MNC.blocks, MNC[S_MAP_A2C][''], MNC.group_size)\", 'import multiprocessing as mp\\n\\ndef getClustersBal... g in blocks_by_groups]\\n    return balance_deltas', \"deltas_m = getClustersBalanceDeltasByGroupsNpPar(MNC.blocks, MNC[S_MAP_A2C][''], MNC.group_size)\", 'import multiprocessing as mp\\n\\ndef getClustersBal... g in blocks_by_groups]\\n    return balance_deltas', \"deltas_m = getClustersBalanceDeltasByGroupsNpPar(MNC.blocks, MNC[S_MAP_A2C][''], MNC.group_size)\", 'get_ipython().run_line_magic(\\'time\\', \"deltas_m =...MNC.blocks, MNC[S_MAP_A2C][\\'\\'], MNC.group_size)\")', 'import multiprocessing as mp\\n\\ndef getClustersBal... g in blocks_by_groups]\\n    return balance_deltas', ...], 'MNC': <my_tools.CoinDataMgr object>, 'Out': {27: defaultdict(<function getClustersBalanceDeltasNp...00.0, 2358: 300000000000.0, 2359: 50000000000.0}), 28: [21, 46, 83, 100, 114, 111, 146, 73, 195, 76, 56, 53, 59, 138, 180, 156, 171, 122, 96, 94], 61: defaultdict(<function getClustersBalanceDeltasNp...0000000.0, 2558: 200000000.0, 2559: 200000000.0}), 62: ['__class__', '__contains__', '__copy__', '__delattr__', '__delitem__', '__dir__', '__doc__', '__eq__', '__format__', '__ge__', '__getattribute__', '__getitem__', '__gt__', '__hash__', '__init__', '__iter__', '__le__', '__len__', '__lt__', '__missing__', ...], 63: defaultdict(<function getClustersBalanceDeltasNp...0000000.0, 2558: 200000000.0, 2559: 200000000.0}), 65: defaultdict(<function <lambda> at 0x7f9c4c58fe18>, {'a': 5.0}), 67: defaultdict(<function <lambda> at 0x7f9c4c58fe18>, {'a': 5.0}), 71: [defaultdict(<function A.<locals>.<lambda> at 0x7f9c0411c048>, {'a': 5.0})], 72: [defaultdict(<function A.<locals>.<lambda> at 0x7f9c4c58f2f0>, {'a': 5.0})], 74: [defaultdict(<function A2.<locals>.<lambda> at 0x7f9c4c5cd9d8>, {}), defaultdict(<function A2.<locals>.<lambda> at 0x7f9c4c5cd268>, {}), defaultdict(<function A2.<locals>.<lambda> at 0x7f9c4c5cd2f0>, {})], ...}, 'Parallel': <class 'joblib.parallel.Parallel'>, ...}\n   2911             finally:\n   2912                 # Reset our crash handler in place\n   2913                 sys.excepthook = old_excepthook\n   2914         except SystemExit as e:\n\n...........................................................................\n/home/ubuntu/thesis_work/<ipython-input-162-e8486ab83ad6> in <module>()\n----> 1 get_ipython().run_line_magic('time', \"deltas_par_m = getClustersBalanceDeltasByGroupsNpPar__2(MNC.blocks[:1], MNC[S_MAP_A2C][''], MNC.group_size)\")\n\n...........................................................................\n/usr/local/lib/python3.5/dist-packages/IPython/core/interactiveshell.py in run_line_magic(self=<ipykernel.zmqshell.ZMQInteractiveShell object>, magic_name='time', line=\"deltas_par_m = getClustersBalanceDeltasByGroupsN...C.blocks[:1], MNC[S_MAP_A2C][''], MNC.group_size)\", _stack_depth=1)\n   2090             kwargs = {}\n   2091             # Grab local namespace if we need it:\n   2092             if getattr(fn, \"needs_local_scope\", False):\n   2093                 kwargs['local_ns'] = sys._getframe(stack_depth).f_locals\n   2094             with self.builtin_trap:\n-> 2095                 result = fn(*args,**kwargs)\n        result = undefined\n        fn = <bound method ExecutionMagics.time of <IPython.core.magics.execution.ExecutionMagics object>>\n        args = [\"deltas_par_m = getClustersBalanceDeltasByGroupsN...C.blocks[:1], MNC[S_MAP_A2C][''], MNC.group_size)\"]\n        kwargs = {'local_ns': {'A': <function A>, 'A2': <function A2>, 'B': <function B>, 'B2': <function B2>, 'CoinDataMgr': <class 'my_tools.CoinDataMgr'>, 'DataVersions': <class 'my_tools.DataVersions'>, 'In': ['', 'from my_tools import *', 'import multiprocessing as mp\\n\\ndef getClustersBal... g in blocks_by_groups]\\n    return balance_deltas', 'def sumClustersBalanceDeltas(clustersBalanceDelt...ce_sums += deltas[cl_idx]\\n    return balance_sums', '# Q_MINCOIN\\nMNC = CoinDataMgr(blocksci_path=\"/ho...500k_blocks\",\\n                  max_block=500000)', 'MNC[S_MAP_A2C].readAll()', \"deltas_m = getClustersBalanceDeltasByGroupsNpPar(MNC.blocks, MNC[S_MAP_A2C][''], MNC.group_size)\", 'import multiprocessing as mp\\n\\ndef getClustersBal... g in blocks_by_groups]\\n    return balance_deltas', 'import multiprocessing as mp\\n\\ndef getClustersBal... g in blocks_by_groups]\\n    return balance_deltas', \"deltas_m = getClustersBalanceDeltasByGroupsNpPar(MNC.blocks, MNC[S_MAP_A2C][''], MNC.group_size)\", 'import multiprocessing as mp\\n\\ndef getClustersBal... g in blocks_by_groups]\\n    return balance_deltas', \"deltas_m = getClustersBalanceDeltasByGroupsNpPar(MNC.blocks, MNC[S_MAP_A2C][''], MNC.group_size)\", 'import multiprocessing as mp\\n\\ndef getClustersBal... g in blocks_by_groups]\\n    return balance_deltas', \"deltas_m = getClustersBalanceDeltasByGroupsNpPar(MNC.blocks, MNC[S_MAP_A2C][''], MNC.group_size)\", 'import multiprocessing as mp\\n\\ndef getClustersBal... g in blocks_by_groups]\\n    return balance_deltas', \"deltas_m = getClustersBalanceDeltasByGroupsNpPar(MNC.blocks, MNC[S_MAP_A2C][''], MNC.group_size)\", 'import multiprocessing as mp\\n\\ndef getClustersBal... g in blocks_by_groups]\\n    return balance_deltas', \"deltas_m = getClustersBalanceDeltasByGroupsNpPar(MNC.blocks, MNC[S_MAP_A2C][''], MNC.group_size)\", 'get_ipython().run_line_magic(\\'time\\', \"deltas_m =...MNC.blocks, MNC[S_MAP_A2C][\\'\\'], MNC.group_size)\")', 'import multiprocessing as mp\\n\\ndef getClustersBal... g in blocks_by_groups]\\n    return balance_deltas', ...], 'MNC': <my_tools.CoinDataMgr object>, 'Out': {27: defaultdict(<function getClustersBalanceDeltasNp...00.0, 2358: 300000000000.0, 2359: 50000000000.0}), 28: [21, 46, 83, 100, 114, 111, 146, 73, 195, 76, 56, 53, 59, 138, 180, 156, 171, 122, 96, 94], 61: defaultdict(<function getClustersBalanceDeltasNp...0000000.0, 2558: 200000000.0, 2559: 200000000.0}), 62: ['__class__', '__contains__', '__copy__', '__delattr__', '__delitem__', '__dir__', '__doc__', '__eq__', '__format__', '__ge__', '__getattribute__', '__getitem__', '__gt__', '__hash__', '__init__', '__iter__', '__le__', '__len__', '__lt__', '__missing__', ...], 63: defaultdict(<function getClustersBalanceDeltasNp...0000000.0, 2558: 200000000.0, 2559: 200000000.0}), 65: defaultdict(<function <lambda> at 0x7f9c4c58fe18>, {'a': 5.0}), 67: defaultdict(<function <lambda> at 0x7f9c4c58fe18>, {'a': 5.0}), 71: [defaultdict(<function A.<locals>.<lambda> at 0x7f9c0411c048>, {'a': 5.0})], 72: [defaultdict(<function A.<locals>.<lambda> at 0x7f9c4c58f2f0>, {'a': 5.0})], 74: [defaultdict(<function A2.<locals>.<lambda> at 0x7f9c4c5cd9d8>, {}), defaultdict(<function A2.<locals>.<lambda> at 0x7f9c4c5cd268>, {}), defaultdict(<function A2.<locals>.<lambda> at 0x7f9c4c5cd2f0>, {})], ...}, 'Parallel': <class 'joblib.parallel.Parallel'>, ...}}\n   2096             return result\n   2097 \n   2098     def run_cell_magic(self, magic_name, line, cell):\n   2099         \"\"\"Execute the given cell magic.\n\n...........................................................................\n/home/ubuntu/thesis_work/<decorator-gen-62> in time(self=<IPython.core.magics.execution.ExecutionMagics object>, line=\"deltas_par_m = getClustersBalanceDeltasByGroupsN...C.blocks[:1], MNC[S_MAP_A2C][''], MNC.group_size)\", cell=None, local_ns={'A': <function A>, 'A2': <function A2>, 'B': <function B>, 'B2': <function B2>, 'CoinDataMgr': <class 'my_tools.CoinDataMgr'>, 'DataVersions': <class 'my_tools.DataVersions'>, 'In': ['', 'from my_tools import *', 'import multiprocessing as mp\\n\\ndef getClustersBal... g in blocks_by_groups]\\n    return balance_deltas', 'def sumClustersBalanceDeltas(clustersBalanceDelt...ce_sums += deltas[cl_idx]\\n    return balance_sums', '# Q_MINCOIN\\nMNC = CoinDataMgr(blocksci_path=\"/ho...500k_blocks\",\\n                  max_block=500000)', 'MNC[S_MAP_A2C].readAll()', \"deltas_m = getClustersBalanceDeltasByGroupsNpPar(MNC.blocks, MNC[S_MAP_A2C][''], MNC.group_size)\", 'import multiprocessing as mp\\n\\ndef getClustersBal... g in blocks_by_groups]\\n    return balance_deltas', 'import multiprocessing as mp\\n\\ndef getClustersBal... g in blocks_by_groups]\\n    return balance_deltas', \"deltas_m = getClustersBalanceDeltasByGroupsNpPar(MNC.blocks, MNC[S_MAP_A2C][''], MNC.group_size)\", 'import multiprocessing as mp\\n\\ndef getClustersBal... g in blocks_by_groups]\\n    return balance_deltas', \"deltas_m = getClustersBalanceDeltasByGroupsNpPar(MNC.blocks, MNC[S_MAP_A2C][''], MNC.group_size)\", 'import multiprocessing as mp\\n\\ndef getClustersBal... g in blocks_by_groups]\\n    return balance_deltas', \"deltas_m = getClustersBalanceDeltasByGroupsNpPar(MNC.blocks, MNC[S_MAP_A2C][''], MNC.group_size)\", 'import multiprocessing as mp\\n\\ndef getClustersBal... g in blocks_by_groups]\\n    return balance_deltas', \"deltas_m = getClustersBalanceDeltasByGroupsNpPar(MNC.blocks, MNC[S_MAP_A2C][''], MNC.group_size)\", 'import multiprocessing as mp\\n\\ndef getClustersBal... g in blocks_by_groups]\\n    return balance_deltas', \"deltas_m = getClustersBalanceDeltasByGroupsNpPar(MNC.blocks, MNC[S_MAP_A2C][''], MNC.group_size)\", 'get_ipython().run_line_magic(\\'time\\', \"deltas_m =...MNC.blocks, MNC[S_MAP_A2C][\\'\\'], MNC.group_size)\")', 'import multiprocessing as mp\\n\\ndef getClustersBal... g in blocks_by_groups]\\n    return balance_deltas', ...], 'MNC': <my_tools.CoinDataMgr object>, 'Out': {27: defaultdict(<function getClustersBalanceDeltasNp...00.0, 2358: 300000000000.0, 2359: 50000000000.0}), 28: [21, 46, 83, 100, 114, 111, 146, 73, 195, 76, 56, 53, 59, 138, 180, 156, 171, 122, 96, 94], 61: defaultdict(<function getClustersBalanceDeltasNp...0000000.0, 2558: 200000000.0, 2559: 200000000.0}), 62: ['__class__', '__contains__', '__copy__', '__delattr__', '__delitem__', '__dir__', '__doc__', '__eq__', '__format__', '__ge__', '__getattribute__', '__getitem__', '__gt__', '__hash__', '__init__', '__iter__', '__le__', '__len__', '__lt__', '__missing__', ...], 63: defaultdict(<function getClustersBalanceDeltasNp...0000000.0, 2558: 200000000.0, 2559: 200000000.0}), 65: defaultdict(<function <lambda> at 0x7f9c4c58fe18>, {'a': 5.0}), 67: defaultdict(<function <lambda> at 0x7f9c4c58fe18>, {'a': 5.0}), 71: [defaultdict(<function A.<locals>.<lambda> at 0x7f9c0411c048>, {'a': 5.0})], 72: [defaultdict(<function A.<locals>.<lambda> at 0x7f9c4c58f2f0>, {'a': 5.0})], 74: [defaultdict(<function A2.<locals>.<lambda> at 0x7f9c4c5cd9d8>, {}), defaultdict(<function A2.<locals>.<lambda> at 0x7f9c4c5cd268>, {}), defaultdict(<function A2.<locals>.<lambda> at 0x7f9c4c5cd2f0>, {})], ...}, 'Parallel': <class 'joblib.parallel.Parallel'>, ...})\n\n...........................................................................\n/usr/local/lib/python3.5/dist-packages/IPython/core/magic.py in <lambda>(f=<function ExecutionMagics.time>, *a=(<IPython.core.magics.execution.ExecutionMagics object>, \"deltas_par_m = getClustersBalanceDeltasByGroupsN...C.blocks[:1], MNC[S_MAP_A2C][''], MNC.group_size)\", None, {'A': <function A>, 'A2': <function A2>, 'B': <function B>, 'B2': <function B2>, 'CoinDataMgr': <class 'my_tools.CoinDataMgr'>, 'DataVersions': <class 'my_tools.DataVersions'>, 'In': ['', 'from my_tools import *', 'import multiprocessing as mp\\n\\ndef getClustersBal... g in blocks_by_groups]\\n    return balance_deltas', 'def sumClustersBalanceDeltas(clustersBalanceDelt...ce_sums += deltas[cl_idx]\\n    return balance_sums', '# Q_MINCOIN\\nMNC = CoinDataMgr(blocksci_path=\"/ho...500k_blocks\",\\n                  max_block=500000)', 'MNC[S_MAP_A2C].readAll()', \"deltas_m = getClustersBalanceDeltasByGroupsNpPar(MNC.blocks, MNC[S_MAP_A2C][''], MNC.group_size)\", 'import multiprocessing as mp\\n\\ndef getClustersBal... g in blocks_by_groups]\\n    return balance_deltas', 'import multiprocessing as mp\\n\\ndef getClustersBal... g in blocks_by_groups]\\n    return balance_deltas', \"deltas_m = getClustersBalanceDeltasByGroupsNpPar(MNC.blocks, MNC[S_MAP_A2C][''], MNC.group_size)\", 'import multiprocessing as mp\\n\\ndef getClustersBal... g in blocks_by_groups]\\n    return balance_deltas', \"deltas_m = getClustersBalanceDeltasByGroupsNpPar(MNC.blocks, MNC[S_MAP_A2C][''], MNC.group_size)\", 'import multiprocessing as mp\\n\\ndef getClustersBal... g in blocks_by_groups]\\n    return balance_deltas', \"deltas_m = getClustersBalanceDeltasByGroupsNpPar(MNC.blocks, MNC[S_MAP_A2C][''], MNC.group_size)\", 'import multiprocessing as mp\\n\\ndef getClustersBal... g in blocks_by_groups]\\n    return balance_deltas', \"deltas_m = getClustersBalanceDeltasByGroupsNpPar(MNC.blocks, MNC[S_MAP_A2C][''], MNC.group_size)\", 'import multiprocessing as mp\\n\\ndef getClustersBal... g in blocks_by_groups]\\n    return balance_deltas', \"deltas_m = getClustersBalanceDeltasByGroupsNpPar(MNC.blocks, MNC[S_MAP_A2C][''], MNC.group_size)\", 'get_ipython().run_line_magic(\\'time\\', \"deltas_m =...MNC.blocks, MNC[S_MAP_A2C][\\'\\'], MNC.group_size)\")', 'import multiprocessing as mp\\n\\ndef getClustersBal... g in blocks_by_groups]\\n    return balance_deltas', ...], 'MNC': <my_tools.CoinDataMgr object>, 'Out': {27: defaultdict(<function getClustersBalanceDeltasNp...00.0, 2358: 300000000000.0, 2359: 50000000000.0}), 28: [21, 46, 83, 100, 114, 111, 146, 73, 195, 76, 56, 53, 59, 138, 180, 156, 171, 122, 96, 94], 61: defaultdict(<function getClustersBalanceDeltasNp...0000000.0, 2558: 200000000.0, 2559: 200000000.0}), 62: ['__class__', '__contains__', '__copy__', '__delattr__', '__delitem__', '__dir__', '__doc__', '__eq__', '__format__', '__ge__', '__getattribute__', '__getitem__', '__gt__', '__hash__', '__init__', '__iter__', '__le__', '__len__', '__lt__', '__missing__', ...], 63: defaultdict(<function getClustersBalanceDeltasNp...0000000.0, 2558: 200000000.0, 2559: 200000000.0}), 65: defaultdict(<function <lambda> at 0x7f9c4c58fe18>, {'a': 5.0}), 67: defaultdict(<function <lambda> at 0x7f9c4c58fe18>, {'a': 5.0}), 71: [defaultdict(<function A.<locals>.<lambda> at 0x7f9c0411c048>, {'a': 5.0})], 72: [defaultdict(<function A.<locals>.<lambda> at 0x7f9c4c58f2f0>, {'a': 5.0})], 74: [defaultdict(<function A2.<locals>.<lambda> at 0x7f9c4c5cd9d8>, {}), defaultdict(<function A2.<locals>.<lambda> at 0x7f9c4c5cd268>, {}), defaultdict(<function A2.<locals>.<lambda> at 0x7f9c4c5cd2f0>, {})], ...}, 'Parallel': <class 'joblib.parallel.Parallel'>, ...}), **k={})\n    182     validate_type(magic_kind)\n    183 \n    184     # This is a closure to capture the magic_kind.  We could also use a class,\n    185     # but it's overkill for just that one bit of state.\n    186     def magic_deco(arg):\n--> 187         call = lambda f, *a, **k: f(*a, **k)\n        f = <function ExecutionMagics.time>\n        a = (<IPython.core.magics.execution.ExecutionMagics object>, \"deltas_par_m = getClustersBalanceDeltasByGroupsN...C.blocks[:1], MNC[S_MAP_A2C][''], MNC.group_size)\", None, {'A': <function A>, 'A2': <function A2>, 'B': <function B>, 'B2': <function B2>, 'CoinDataMgr': <class 'my_tools.CoinDataMgr'>, 'DataVersions': <class 'my_tools.DataVersions'>, 'In': ['', 'from my_tools import *', 'import multiprocessing as mp\\n\\ndef getClustersBal... g in blocks_by_groups]\\n    return balance_deltas', 'def sumClustersBalanceDeltas(clustersBalanceDelt...ce_sums += deltas[cl_idx]\\n    return balance_sums', '# Q_MINCOIN\\nMNC = CoinDataMgr(blocksci_path=\"/ho...500k_blocks\",\\n                  max_block=500000)', 'MNC[S_MAP_A2C].readAll()', \"deltas_m = getClustersBalanceDeltasByGroupsNpPar(MNC.blocks, MNC[S_MAP_A2C][''], MNC.group_size)\", 'import multiprocessing as mp\\n\\ndef getClustersBal... g in blocks_by_groups]\\n    return balance_deltas', 'import multiprocessing as mp\\n\\ndef getClustersBal... g in blocks_by_groups]\\n    return balance_deltas', \"deltas_m = getClustersBalanceDeltasByGroupsNpPar(MNC.blocks, MNC[S_MAP_A2C][''], MNC.group_size)\", 'import multiprocessing as mp\\n\\ndef getClustersBal... g in blocks_by_groups]\\n    return balance_deltas', \"deltas_m = getClustersBalanceDeltasByGroupsNpPar(MNC.blocks, MNC[S_MAP_A2C][''], MNC.group_size)\", 'import multiprocessing as mp\\n\\ndef getClustersBal... g in blocks_by_groups]\\n    return balance_deltas', \"deltas_m = getClustersBalanceDeltasByGroupsNpPar(MNC.blocks, MNC[S_MAP_A2C][''], MNC.group_size)\", 'import multiprocessing as mp\\n\\ndef getClustersBal... g in blocks_by_groups]\\n    return balance_deltas', \"deltas_m = getClustersBalanceDeltasByGroupsNpPar(MNC.blocks, MNC[S_MAP_A2C][''], MNC.group_size)\", 'import multiprocessing as mp\\n\\ndef getClustersBal... g in blocks_by_groups]\\n    return balance_deltas', \"deltas_m = getClustersBalanceDeltasByGroupsNpPar(MNC.blocks, MNC[S_MAP_A2C][''], MNC.group_size)\", 'get_ipython().run_line_magic(\\'time\\', \"deltas_m =...MNC.blocks, MNC[S_MAP_A2C][\\'\\'], MNC.group_size)\")', 'import multiprocessing as mp\\n\\ndef getClustersBal... g in blocks_by_groups]\\n    return balance_deltas', ...], 'MNC': <my_tools.CoinDataMgr object>, 'Out': {27: defaultdict(<function getClustersBalanceDeltasNp...00.0, 2358: 300000000000.0, 2359: 50000000000.0}), 28: [21, 46, 83, 100, 114, 111, 146, 73, 195, 76, 56, 53, 59, 138, 180, 156, 171, 122, 96, 94], 61: defaultdict(<function getClustersBalanceDeltasNp...0000000.0, 2558: 200000000.0, 2559: 200000000.0}), 62: ['__class__', '__contains__', '__copy__', '__delattr__', '__delitem__', '__dir__', '__doc__', '__eq__', '__format__', '__ge__', '__getattribute__', '__getitem__', '__gt__', '__hash__', '__init__', '__iter__', '__le__', '__len__', '__lt__', '__missing__', ...], 63: defaultdict(<function getClustersBalanceDeltasNp...0000000.0, 2558: 200000000.0, 2559: 200000000.0}), 65: defaultdict(<function <lambda> at 0x7f9c4c58fe18>, {'a': 5.0}), 67: defaultdict(<function <lambda> at 0x7f9c4c58fe18>, {'a': 5.0}), 71: [defaultdict(<function A.<locals>.<lambda> at 0x7f9c0411c048>, {'a': 5.0})], 72: [defaultdict(<function A.<locals>.<lambda> at 0x7f9c4c58f2f0>, {'a': 5.0})], 74: [defaultdict(<function A2.<locals>.<lambda> at 0x7f9c4c5cd9d8>, {}), defaultdict(<function A2.<locals>.<lambda> at 0x7f9c4c5cd268>, {}), defaultdict(<function A2.<locals>.<lambda> at 0x7f9c4c5cd2f0>, {})], ...}, 'Parallel': <class 'joblib.parallel.Parallel'>, ...})\n        k = {}\n    188 \n    189         if callable(arg):\n    190             # \"Naked\" decorator call (just @foo, no args)\n    191             func = arg\n\n...........................................................................\n/usr/local/lib/python3.5/dist-packages/IPython/core/magics/execution.py in time(self=<IPython.core.magics.execution.ExecutionMagics object>, line=\"deltas_par_m = getClustersBalanceDeltasByGroupsN...C.blocks[:1], MNC[S_MAP_A2C][''], MNC.group_size)\", cell=None, local_ns={'A': <function A>, 'A2': <function A2>, 'B': <function B>, 'B2': <function B2>, 'CoinDataMgr': <class 'my_tools.CoinDataMgr'>, 'DataVersions': <class 'my_tools.DataVersions'>, 'In': ['', 'from my_tools import *', 'import multiprocessing as mp\\n\\ndef getClustersBal... g in blocks_by_groups]\\n    return balance_deltas', 'def sumClustersBalanceDeltas(clustersBalanceDelt...ce_sums += deltas[cl_idx]\\n    return balance_sums', '# Q_MINCOIN\\nMNC = CoinDataMgr(blocksci_path=\"/ho...500k_blocks\",\\n                  max_block=500000)', 'MNC[S_MAP_A2C].readAll()', \"deltas_m = getClustersBalanceDeltasByGroupsNpPar(MNC.blocks, MNC[S_MAP_A2C][''], MNC.group_size)\", 'import multiprocessing as mp\\n\\ndef getClustersBal... g in blocks_by_groups]\\n    return balance_deltas', 'import multiprocessing as mp\\n\\ndef getClustersBal... g in blocks_by_groups]\\n    return balance_deltas', \"deltas_m = getClustersBalanceDeltasByGroupsNpPar(MNC.blocks, MNC[S_MAP_A2C][''], MNC.group_size)\", 'import multiprocessing as mp\\n\\ndef getClustersBal... g in blocks_by_groups]\\n    return balance_deltas', \"deltas_m = getClustersBalanceDeltasByGroupsNpPar(MNC.blocks, MNC[S_MAP_A2C][''], MNC.group_size)\", 'import multiprocessing as mp\\n\\ndef getClustersBal... g in blocks_by_groups]\\n    return balance_deltas', \"deltas_m = getClustersBalanceDeltasByGroupsNpPar(MNC.blocks, MNC[S_MAP_A2C][''], MNC.group_size)\", 'import multiprocessing as mp\\n\\ndef getClustersBal... g in blocks_by_groups]\\n    return balance_deltas', \"deltas_m = getClustersBalanceDeltasByGroupsNpPar(MNC.blocks, MNC[S_MAP_A2C][''], MNC.group_size)\", 'import multiprocessing as mp\\n\\ndef getClustersBal... g in blocks_by_groups]\\n    return balance_deltas', \"deltas_m = getClustersBalanceDeltasByGroupsNpPar(MNC.blocks, MNC[S_MAP_A2C][''], MNC.group_size)\", 'get_ipython().run_line_magic(\\'time\\', \"deltas_m =...MNC.blocks, MNC[S_MAP_A2C][\\'\\'], MNC.group_size)\")', 'import multiprocessing as mp\\n\\ndef getClustersBal... g in blocks_by_groups]\\n    return balance_deltas', ...], 'MNC': <my_tools.CoinDataMgr object>, 'Out': {27: defaultdict(<function getClustersBalanceDeltasNp...00.0, 2358: 300000000000.0, 2359: 50000000000.0}), 28: [21, 46, 83, 100, 114, 111, 146, 73, 195, 76, 56, 53, 59, 138, 180, 156, 171, 122, 96, 94], 61: defaultdict(<function getClustersBalanceDeltasNp...0000000.0, 2558: 200000000.0, 2559: 200000000.0}), 62: ['__class__', '__contains__', '__copy__', '__delattr__', '__delitem__', '__dir__', '__doc__', '__eq__', '__format__', '__ge__', '__getattribute__', '__getitem__', '__gt__', '__hash__', '__init__', '__iter__', '__le__', '__len__', '__lt__', '__missing__', ...], 63: defaultdict(<function getClustersBalanceDeltasNp...0000000.0, 2558: 200000000.0, 2559: 200000000.0}), 65: defaultdict(<function <lambda> at 0x7f9c4c58fe18>, {'a': 5.0}), 67: defaultdict(<function <lambda> at 0x7f9c4c58fe18>, {'a': 5.0}), 71: [defaultdict(<function A.<locals>.<lambda> at 0x7f9c0411c048>, {'a': 5.0})], 72: [defaultdict(<function A.<locals>.<lambda> at 0x7f9c4c58f2f0>, {'a': 5.0})], 74: [defaultdict(<function A2.<locals>.<lambda> at 0x7f9c4c5cd9d8>, {}), defaultdict(<function A2.<locals>.<lambda> at 0x7f9c4c5cd268>, {}), defaultdict(<function A2.<locals>.<lambda> at 0x7f9c4c5cd2f0>, {})], ...}, 'Parallel': <class 'joblib.parallel.Parallel'>, ...})\n   1233                 return\n   1234             end = clock2()\n   1235         else:\n   1236             st = clock2()\n   1237             try:\n-> 1238                 exec(code, glob, local_ns)\n        code = <code object <module> at 0x7f9aeb2d8d20, file \"<timed exec>\", line 1>\n        glob = {'A': <function A>, 'A2': <function A2>, 'B': <function B>, 'B2': <function B2>, 'CoinDataMgr': <class 'my_tools.CoinDataMgr'>, 'DataVersions': <class 'my_tools.DataVersions'>, 'In': ['', 'from my_tools import *', 'import multiprocessing as mp\\n\\ndef getClustersBal... g in blocks_by_groups]\\n    return balance_deltas', 'def sumClustersBalanceDeltas(clustersBalanceDelt...ce_sums += deltas[cl_idx]\\n    return balance_sums', '# Q_MINCOIN\\nMNC = CoinDataMgr(blocksci_path=\"/ho...500k_blocks\",\\n                  max_block=500000)', 'MNC[S_MAP_A2C].readAll()', \"deltas_m = getClustersBalanceDeltasByGroupsNpPar(MNC.blocks, MNC[S_MAP_A2C][''], MNC.group_size)\", 'import multiprocessing as mp\\n\\ndef getClustersBal... g in blocks_by_groups]\\n    return balance_deltas', 'import multiprocessing as mp\\n\\ndef getClustersBal... g in blocks_by_groups]\\n    return balance_deltas', \"deltas_m = getClustersBalanceDeltasByGroupsNpPar(MNC.blocks, MNC[S_MAP_A2C][''], MNC.group_size)\", 'import multiprocessing as mp\\n\\ndef getClustersBal... g in blocks_by_groups]\\n    return balance_deltas', \"deltas_m = getClustersBalanceDeltasByGroupsNpPar(MNC.blocks, MNC[S_MAP_A2C][''], MNC.group_size)\", 'import multiprocessing as mp\\n\\ndef getClustersBal... g in blocks_by_groups]\\n    return balance_deltas', \"deltas_m = getClustersBalanceDeltasByGroupsNpPar(MNC.blocks, MNC[S_MAP_A2C][''], MNC.group_size)\", 'import multiprocessing as mp\\n\\ndef getClustersBal... g in blocks_by_groups]\\n    return balance_deltas', \"deltas_m = getClustersBalanceDeltasByGroupsNpPar(MNC.blocks, MNC[S_MAP_A2C][''], MNC.group_size)\", 'import multiprocessing as mp\\n\\ndef getClustersBal... g in blocks_by_groups]\\n    return balance_deltas', \"deltas_m = getClustersBalanceDeltasByGroupsNpPar(MNC.blocks, MNC[S_MAP_A2C][''], MNC.group_size)\", 'get_ipython().run_line_magic(\\'time\\', \"deltas_m =...MNC.blocks, MNC[S_MAP_A2C][\\'\\'], MNC.group_size)\")', 'import multiprocessing as mp\\n\\ndef getClustersBal... g in blocks_by_groups]\\n    return balance_deltas', ...], 'MNC': <my_tools.CoinDataMgr object>, 'Out': {27: defaultdict(<function getClustersBalanceDeltasNp...00.0, 2358: 300000000000.0, 2359: 50000000000.0}), 28: [21, 46, 83, 100, 114, 111, 146, 73, 195, 76, 56, 53, 59, 138, 180, 156, 171, 122, 96, 94], 61: defaultdict(<function getClustersBalanceDeltasNp...0000000.0, 2558: 200000000.0, 2559: 200000000.0}), 62: ['__class__', '__contains__', '__copy__', '__delattr__', '__delitem__', '__dir__', '__doc__', '__eq__', '__format__', '__ge__', '__getattribute__', '__getitem__', '__gt__', '__hash__', '__init__', '__iter__', '__le__', '__len__', '__lt__', '__missing__', ...], 63: defaultdict(<function getClustersBalanceDeltasNp...0000000.0, 2558: 200000000.0, 2559: 200000000.0}), 65: defaultdict(<function <lambda> at 0x7f9c4c58fe18>, {'a': 5.0}), 67: defaultdict(<function <lambda> at 0x7f9c4c58fe18>, {'a': 5.0}), 71: [defaultdict(<function A.<locals>.<lambda> at 0x7f9c0411c048>, {'a': 5.0})], 72: [defaultdict(<function A.<locals>.<lambda> at 0x7f9c4c58f2f0>, {'a': 5.0})], 74: [defaultdict(<function A2.<locals>.<lambda> at 0x7f9c4c5cd9d8>, {}), defaultdict(<function A2.<locals>.<lambda> at 0x7f9c4c5cd268>, {}), defaultdict(<function A2.<locals>.<lambda> at 0x7f9c4c5cd2f0>, {})], ...}, 'Parallel': <class 'joblib.parallel.Parallel'>, ...}\n        local_ns = {'A': <function A>, 'A2': <function A2>, 'B': <function B>, 'B2': <function B2>, 'CoinDataMgr': <class 'my_tools.CoinDataMgr'>, 'DataVersions': <class 'my_tools.DataVersions'>, 'In': ['', 'from my_tools import *', 'import multiprocessing as mp\\n\\ndef getClustersBal... g in blocks_by_groups]\\n    return balance_deltas', 'def sumClustersBalanceDeltas(clustersBalanceDelt...ce_sums += deltas[cl_idx]\\n    return balance_sums', '# Q_MINCOIN\\nMNC = CoinDataMgr(blocksci_path=\"/ho...500k_blocks\",\\n                  max_block=500000)', 'MNC[S_MAP_A2C].readAll()', \"deltas_m = getClustersBalanceDeltasByGroupsNpPar(MNC.blocks, MNC[S_MAP_A2C][''], MNC.group_size)\", 'import multiprocessing as mp\\n\\ndef getClustersBal... g in blocks_by_groups]\\n    return balance_deltas', 'import multiprocessing as mp\\n\\ndef getClustersBal... g in blocks_by_groups]\\n    return balance_deltas', \"deltas_m = getClustersBalanceDeltasByGroupsNpPar(MNC.blocks, MNC[S_MAP_A2C][''], MNC.group_size)\", 'import multiprocessing as mp\\n\\ndef getClustersBal... g in blocks_by_groups]\\n    return balance_deltas', \"deltas_m = getClustersBalanceDeltasByGroupsNpPar(MNC.blocks, MNC[S_MAP_A2C][''], MNC.group_size)\", 'import multiprocessing as mp\\n\\ndef getClustersBal... g in blocks_by_groups]\\n    return balance_deltas', \"deltas_m = getClustersBalanceDeltasByGroupsNpPar(MNC.blocks, MNC[S_MAP_A2C][''], MNC.group_size)\", 'import multiprocessing as mp\\n\\ndef getClustersBal... g in blocks_by_groups]\\n    return balance_deltas', \"deltas_m = getClustersBalanceDeltasByGroupsNpPar(MNC.blocks, MNC[S_MAP_A2C][''], MNC.group_size)\", 'import multiprocessing as mp\\n\\ndef getClustersBal... g in blocks_by_groups]\\n    return balance_deltas', \"deltas_m = getClustersBalanceDeltasByGroupsNpPar(MNC.blocks, MNC[S_MAP_A2C][''], MNC.group_size)\", 'get_ipython().run_line_magic(\\'time\\', \"deltas_m =...MNC.blocks, MNC[S_MAP_A2C][\\'\\'], MNC.group_size)\")', 'import multiprocessing as mp\\n\\ndef getClustersBal... g in blocks_by_groups]\\n    return balance_deltas', ...], 'MNC': <my_tools.CoinDataMgr object>, 'Out': {27: defaultdict(<function getClustersBalanceDeltasNp...00.0, 2358: 300000000000.0, 2359: 50000000000.0}), 28: [21, 46, 83, 100, 114, 111, 146, 73, 195, 76, 56, 53, 59, 138, 180, 156, 171, 122, 96, 94], 61: defaultdict(<function getClustersBalanceDeltasNp...0000000.0, 2558: 200000000.0, 2559: 200000000.0}), 62: ['__class__', '__contains__', '__copy__', '__delattr__', '__delitem__', '__dir__', '__doc__', '__eq__', '__format__', '__ge__', '__getattribute__', '__getitem__', '__gt__', '__hash__', '__init__', '__iter__', '__le__', '__len__', '__lt__', '__missing__', ...], 63: defaultdict(<function getClustersBalanceDeltasNp...0000000.0, 2558: 200000000.0, 2559: 200000000.0}), 65: defaultdict(<function <lambda> at 0x7f9c4c58fe18>, {'a': 5.0}), 67: defaultdict(<function <lambda> at 0x7f9c4c58fe18>, {'a': 5.0}), 71: [defaultdict(<function A.<locals>.<lambda> at 0x7f9c0411c048>, {'a': 5.0})], 72: [defaultdict(<function A.<locals>.<lambda> at 0x7f9c4c58f2f0>, {'a': 5.0})], 74: [defaultdict(<function A2.<locals>.<lambda> at 0x7f9c4c5cd9d8>, {}), defaultdict(<function A2.<locals>.<lambda> at 0x7f9c4c5cd268>, {}), defaultdict(<function A2.<locals>.<lambda> at 0x7f9c4c5cd2f0>, {})], ...}, 'Parallel': <class 'joblib.parallel.Parallel'>, ...}\n   1239             except:\n   1240                 self.shell.showtraceback()\n   1241                 return\n   1242             end = clock2()\n\n...........................................................................\n/home/ubuntu/thesis_work/<timed exec> in <module>()\n\n...........................................................................\n/home/ubuntu/thesis_work/<ipython-input-161-addeb0ee4414> in getClustersBalanceDeltasByGroupsNpPar__2(blocks=<blocksci.BlockRange object>, map_address2cluster={address_type.nonstandard: array([2339,    0,    1, ...,    0,    0,    0], dtype=int32), address_type.pubkey: array([592053,   2339,   2340, ...,      0,      0,      0], dtype=int32), address_type.pubkeyhash: array([592053,   2339,   2340, ...,      0,      0,      0], dtype=int32), address_type.multisig_pubkey: array([592053,   2339,   2340, ...,      0,      0,      0], dtype=int32), address_type.scripthash: array([    1, 33625,     0, ...,     0,     0,     0], dtype=int32), address_type.multisig: array([0, 0, 0, ..., 0, 0, 0], dtype=int32), address_type.nulldata: array([56890, 33626, 33627, ...,     0,     0,     0], dtype=int32), address_type.witness_pubkeyhash: array([592053,   2339,   2340, ...,      0,      0,      0], dtype=int32), address_type.witness_scripthash: array([    1, 33625,     0, ...,     0,     0,     0], dtype=int32)}, interval=1000)\n     76 def getClustersBalanceDeltasByGroupsNpPar__2(blocks, map_address2cluster, interval):\n     77     blocks_by_groups = [parseBlocks2(blocks[i: i + interval]) for i in range(0, len(blocks), interval)]\n     78     #print(blocks_by_groups)\n     79     #pool = mp.Pool(processes=4)\n     80     \n---> 81     balance_deltas = Parallel(n_jobs=4, verbose=100)(delayed(getClustersBalanceDeltasNpDebug__2)(g, map_address2cluster) for g in blocks_by_groups)\n     82     #balance_deltas = [pool.apply(getClustersBalanceDeltasNp, (g, map_address2cluster))\n     83     #                  for g in blocks_by_groups]\n     84     return balance_deltas\n     85 \n\n...........................................................................\n/usr/local/lib/python3.5/dist-packages/joblib/parallel.py in __call__(self=Parallel(n_jobs=4), iterable=<generator object getClustersBalanceDeltasByGroupsNpPar__2.<locals>.<genexpr>>)\n    784             writer = sys.stderr.write\n    785         else:\n    786             writer = sys.stdout.write\n    787         msg = msg % msg_args\n    788         writer('[%s]: %s\\n' % (self, msg))\n--> 789 \n        self = Parallel(n_jobs=4)\n    790     def print_progress(self):\n    791         \"\"\"Display the process of the parallel execution only a fraction\n    792            of time, controlled by self.verbose.\n    793         \"\"\"\n\n---------------------------------------------------------------------------\nSub-process traceback:\n---------------------------------------------------------------------------\nTypeError                                          Sat Jun  9 02:40:28 2018\nPID: 23868                                   Python 3.5.2: /usr/bin/python3\n...........................................................................\n/usr/local/lib/python3.5/dist-packages/joblib/parallel.py in __call__(self=<joblib.parallel.BatchedCalls object>)\n    126     Alternatively backend can be passed directly as an instance.\n    127 \n    128     By default all available workers will be used (``n_jobs=-1``) unless the\n    129     caller passes an explicit value for the ``n_jobs`` parameter.\n    130 \n--> 131     This is an alternative to passing a ``backend='backend_name'`` argument to\n    132     the ``Parallel`` class constructor. It is particularly useful when calling\n    133     into library code that uses joblib internally but does not expose the\n    134     backend argument in its own API.\n    135 \n\n...........................................................................\n/usr/local/lib/python3.5/dist-packages/joblib/parallel.py in <listcomp>(.0=<list_iterator object>)\n    126     Alternatively backend can be passed directly as an instance.\n    127 \n    128     By default all available workers will be used (``n_jobs=-1``) unless the\n    129     caller passes an explicit value for the ``n_jobs`` parameter.\n    130 \n--> 131     This is an alternative to passing a ``backend='backend_name'`` argument to\n    132     the ``Parallel`` class constructor. It is particularly useful when calling\n    133     into library code that uses joblib internally but does not expose the\n    134     backend argument in its own API.\n    135 \n\n...........................................................................\n/home/ubuntu/thesis_work/<ipython-input-161-addeb0ee4414> in getClustersBalanceDeltasNpDebug__2(blocks=[[{'num': 1, 'type': address_type.pubkey, 'val': 5000000000}]], map_address2cluster={address_type.nonstandard: array([2339,    0,    1, ...,    0,    0,    0], dtype=int32), address_type.pubkey: memmap([592053,   2339,   2340, ...,      0,      0,      0], dtype=int32), address_type.pubkeyhash: memmap([592053,   2339,   2340, ...,      0,      0,      0], dtype=int32), address_type.multisig_pubkey: memmap([592053,   2339,   2340, ...,      0,      0,      0], dtype=int32), address_type.scripthash: array([    1, 33625,     0, ...,     0,     0,     0], dtype=int32), address_type.multisig: array([0, 0, 0, ..., 0, 0, 0], dtype=int32), address_type.nulldata: array([56890, 33626, 33627, ...,     0,     0,     0], dtype=int32), address_type.witness_pubkeyhash: memmap([592053,   2339,   2340, ...,      0,      0,      0], dtype=int32), address_type.witness_scripthash: array([    1, 33625,     0, ...,     0,     0,     0], dtype=int32)})\n     61     #        balance_deltas[cluster_idx] -= in_.value\n     62     #return balance_deltas\n     63     #print(len(blocks))\n     64     balance_deltas = collections.defaultdict(lambda: 0.)\n     65     for b in blocks:\n---> 66         for out in b['o']:\n     67             add = out.address\n     68             cluster_idx = map_address2cluster[add.type][add.address_num]\n     69             balance_deltas[cluster_idx] += out.value\n     70         for in_ in b['i']:\n\nTypeError: list indices must be integers or slices, not str\n___________________________________________________________________________",
     "output_type": "error",
     "traceback": [
      "\u001b[0;31m---------------------------------------------------------------------------\u001b[0m",
      "\u001b[0;31mRemoteTraceback\u001b[0m                           Traceback (most recent call last)",
      "\u001b[0;31mRemoteTraceback\u001b[0m: \n\"\"\"\nTraceback (most recent call last):\n  File \"/usr/local/lib/python3.5/dist-packages/joblib/_parallel_backends.py\", line 350, in __call__\n  File \"/usr/local/lib/python3.5/dist-packages/joblib/parallel.py\", line 131, in __call__\n    This is an alternative to passing a ``backend='backend_name'`` argument to\n  File \"/usr/local/lib/python3.5/dist-packages/joblib/parallel.py\", line 131, in <listcomp>\n    This is an alternative to passing a ``backend='backend_name'`` argument to\n  File \"<ipython-input-161-addeb0ee4414>\", line 66, in getClustersBalanceDeltasNpDebug__2\n    for out in b['o']:\nTypeError: list indices must be integers or slices, not str\n\nDuring handling of the above exception, another exception occurred:\n\nTraceback (most recent call last):\n  File \"/usr/lib/python3.5/multiprocessing/pool.py\", line 119, in worker\n    result = (True, func(*args, **kwds))\n  File \"/usr/local/lib/python3.5/dist-packages/joblib/_parallel_backends.py\", line 359, in __call__\njoblib.my_exceptions.TransportableException: TransportableException\n___________________________________________________________________________\nTypeError                                          Sat Jun  9 02:40:28 2018\nPID: 23868                                   Python 3.5.2: /usr/bin/python3\n...........................................................................\n/usr/local/lib/python3.5/dist-packages/joblib/parallel.py in __call__(self=<joblib.parallel.BatchedCalls object>)\n    126     Alternatively backend can be passed directly as an instance.\n    127 \n    128     By default all available workers will be used (``n_jobs=-1``) unless the\n    129     caller passes an explicit value for the ``n_jobs`` parameter.\n    130 \n--> 131     This is an alternative to passing a ``backend='backend_name'`` argument to\n    132     the ``Parallel`` class constructor. It is particularly useful when calling\n    133     into library code that uses joblib internally but does not expose the\n    134     backend argument in its own API.\n    135 \n\n...........................................................................\n/usr/local/lib/python3.5/dist-packages/joblib/parallel.py in <listcomp>(.0=<list_iterator object>)\n    126     Alternatively backend can be passed directly as an instance.\n    127 \n    128     By default all available workers will be used (``n_jobs=-1``) unless the\n    129     caller passes an explicit value for the ``n_jobs`` parameter.\n    130 \n--> 131     This is an alternative to passing a ``backend='backend_name'`` argument to\n    132     the ``Parallel`` class constructor. It is particularly useful when calling\n    133     into library code that uses joblib internally but does not expose the\n    134     backend argument in its own API.\n    135 \n\n...........................................................................\n/home/ubuntu/thesis_work/<ipython-input-161-addeb0ee4414> in getClustersBalanceDeltasNpDebug__2(blocks=[[{'num': 1, 'type': address_type.pubkey, 'val': 5000000000}]], map_address2cluster={address_type.nonstandard: array([2339,    0,    1, ...,    0,    0,    0], dtype=int32), address_type.pubkey: memmap([592053,   2339,   2340, ...,      0,      0,      0], dtype=int32), address_type.pubkeyhash: memmap([592053,   2339,   2340, ...,      0,      0,      0], dtype=int32), address_type.multisig_pubkey: memmap([592053,   2339,   2340, ...,      0,      0,      0], dtype=int32), address_type.scripthash: array([    1, 33625,     0, ...,     0,     0,     0], dtype=int32), address_type.multisig: array([0, 0, 0, ..., 0, 0, 0], dtype=int32), address_type.nulldata: array([56890, 33626, 33627, ...,     0,     0,     0], dtype=int32), address_type.witness_pubkeyhash: memmap([592053,   2339,   2340, ...,      0,      0,      0], dtype=int32), address_type.witness_scripthash: array([    1, 33625,     0, ...,     0,     0,     0], dtype=int32)})\n     61     #        balance_deltas[cluster_idx] -= in_.value\n     62     #return balance_deltas\n     63     #print(len(blocks))\n     64     balance_deltas = collections.defaultdict(lambda: 0.)\n     65     for b in blocks:\n---> 66         for out in b['o']:\n     67             add = out.address\n     68             cluster_idx = map_address2cluster[add.type][add.address_num]\n     69             balance_deltas[cluster_idx] += out.value\n     70         for in_ in b['i']:\n\nTypeError: list indices must be integers or slices, not str\n___________________________________________________________________________\n\"\"\"",
      "\nThe above exception was the direct cause of the following exception:\n",
      "\u001b[0;31mTransportableException\u001b[0m                    Traceback (most recent call last)",
      "\u001b[0;32m/usr/local/lib/python3.5/dist-packages/joblib/parallel.py\u001b[0m in \u001b[0;36mretrieve\u001b[0;34m(self)\u001b[0m\n\u001b[1;32m    698\u001b[0m             \u001b[0;31m# Recursively initialize the backend in case of requested fallback.\u001b[0m\u001b[0;34m\u001b[0m\u001b[0;34m\u001b[0m\u001b[0m\n\u001b[0;32m--> 699\u001b[0;31m             \u001b[0mself\u001b[0m\u001b[0;34m.\u001b[0m\u001b[0m_backend\u001b[0m \u001b[0;34m=\u001b[0m \u001b[0me\u001b[0m\u001b[0;34m.\u001b[0m\u001b[0mbackend\u001b[0m\u001b[0;34m\u001b[0m\u001b[0m\n\u001b[0m\u001b[1;32m    700\u001b[0m             \u001b[0mn_jobs\u001b[0m \u001b[0;34m=\u001b[0m \u001b[0mself\u001b[0m\u001b[0;34m.\u001b[0m\u001b[0m_initialize_backend\u001b[0m\u001b[0;34m(\u001b[0m\u001b[0;34m)\u001b[0m\u001b[0;34m\u001b[0m\u001b[0m\n",
      "\u001b[0;32m/usr/lib/python3.5/multiprocessing/pool.py\u001b[0m in \u001b[0;36mget\u001b[0;34m(self, timeout)\u001b[0m\n\u001b[1;32m    607\u001b[0m         \u001b[0;32melse\u001b[0m\u001b[0;34m:\u001b[0m\u001b[0;34m\u001b[0m\u001b[0m\n\u001b[0;32m--> 608\u001b[0;31m             \u001b[0;32mraise\u001b[0m \u001b[0mself\u001b[0m\u001b[0;34m.\u001b[0m\u001b[0m_value\u001b[0m\u001b[0;34m\u001b[0m\u001b[0m\n\u001b[0m\u001b[1;32m    609\u001b[0m \u001b[0;34m\u001b[0m\u001b[0m\n",
      "\u001b[0;31mTransportableException\u001b[0m: TransportableException\n___________________________________________________________________________\nTypeError                                          Sat Jun  9 02:40:28 2018\nPID: 23868                                   Python 3.5.2: /usr/bin/python3\n...........................................................................\n/usr/local/lib/python3.5/dist-packages/joblib/parallel.py in __call__(self=<joblib.parallel.BatchedCalls object>)\n    126     Alternatively backend can be passed directly as an instance.\n    127 \n    128     By default all available workers will be used (``n_jobs=-1``) unless the\n    129     caller passes an explicit value for the ``n_jobs`` parameter.\n    130 \n--> 131     This is an alternative to passing a ``backend='backend_name'`` argument to\n    132     the ``Parallel`` class constructor. It is particularly useful when calling\n    133     into library code that uses joblib internally but does not expose the\n    134     backend argument in its own API.\n    135 \n\n...........................................................................\n/usr/local/lib/python3.5/dist-packages/joblib/parallel.py in <listcomp>(.0=<list_iterator object>)\n    126     Alternatively backend can be passed directly as an instance.\n    127 \n    128     By default all available workers will be used (``n_jobs=-1``) unless the\n    129     caller passes an explicit value for the ``n_jobs`` parameter.\n    130 \n--> 131     This is an alternative to passing a ``backend='backend_name'`` argument to\n    132     the ``Parallel`` class constructor. It is particularly useful when calling\n    133     into library code that uses joblib internally but does not expose the\n    134     backend argument in its own API.\n    135 \n\n...........................................................................\n/home/ubuntu/thesis_work/<ipython-input-161-addeb0ee4414> in getClustersBalanceDeltasNpDebug__2(blocks=[[{'num': 1, 'type': address_type.pubkey, 'val': 5000000000}]], map_address2cluster={address_type.nonstandard: array([2339,    0,    1, ...,    0,    0,    0], dtype=int32), address_type.pubkey: memmap([592053,   2339,   2340, ...,      0,      0,      0], dtype=int32), address_type.pubkeyhash: memmap([592053,   2339,   2340, ...,      0,      0,      0], dtype=int32), address_type.multisig_pubkey: memmap([592053,   2339,   2340, ...,      0,      0,      0], dtype=int32), address_type.scripthash: array([    1, 33625,     0, ...,     0,     0,     0], dtype=int32), address_type.multisig: array([0, 0, 0, ..., 0, 0, 0], dtype=int32), address_type.nulldata: array([56890, 33626, 33627, ...,     0,     0,     0], dtype=int32), address_type.witness_pubkeyhash: memmap([592053,   2339,   2340, ...,      0,      0,      0], dtype=int32), address_type.witness_scripthash: array([    1, 33625,     0, ...,     0,     0,     0], dtype=int32)})\n     61     #        balance_deltas[cluster_idx] -= in_.value\n     62     #return balance_deltas\n     63     #print(len(blocks))\n     64     balance_deltas = collections.defaultdict(lambda: 0.)\n     65     for b in blocks:\n---> 66         for out in b['o']:\n     67             add = out.address\n     68             cluster_idx = map_address2cluster[add.type][add.address_num]\n     69             balance_deltas[cluster_idx] += out.value\n     70         for in_ in b['i']:\n\nTypeError: list indices must be integers or slices, not str\n___________________________________________________________________________",
      "\nDuring handling of the above exception, another exception occurred:\n",
      "\u001b[0;31mJoblibTypeError\u001b[0m                           Traceback (most recent call last)",
      "\u001b[0;32m<timed exec>\u001b[0m in \u001b[0;36m<module>\u001b[0;34m()\u001b[0m\n",
      "\u001b[0;32m<ipython-input-161-addeb0ee4414>\u001b[0m in \u001b[0;36mgetClustersBalanceDeltasByGroupsNpPar__2\u001b[0;34m(blocks, map_address2cluster, interval)\u001b[0m\n\u001b[1;32m     79\u001b[0m     \u001b[0;31m#pool = mp.Pool(processes=4)\u001b[0m\u001b[0;34m\u001b[0m\u001b[0;34m\u001b[0m\u001b[0m\n\u001b[1;32m     80\u001b[0m \u001b[0;34m\u001b[0m\u001b[0m\n\u001b[0;32m---> 81\u001b[0;31m     \u001b[0mbalance_deltas\u001b[0m \u001b[0;34m=\u001b[0m \u001b[0mParallel\u001b[0m\u001b[0;34m(\u001b[0m\u001b[0mn_jobs\u001b[0m\u001b[0;34m=\u001b[0m\u001b[0;36m4\u001b[0m\u001b[0;34m,\u001b[0m \u001b[0mverbose\u001b[0m\u001b[0;34m=\u001b[0m\u001b[0;36m100\u001b[0m\u001b[0;34m)\u001b[0m\u001b[0;34m(\u001b[0m\u001b[0mdelayed\u001b[0m\u001b[0;34m(\u001b[0m\u001b[0mgetClustersBalanceDeltasNpDebug__2\u001b[0m\u001b[0;34m)\u001b[0m\u001b[0;34m(\u001b[0m\u001b[0mg\u001b[0m\u001b[0;34m,\u001b[0m \u001b[0mmap_address2cluster\u001b[0m\u001b[0;34m)\u001b[0m \u001b[0;32mfor\u001b[0m \u001b[0mg\u001b[0m \u001b[0;32min\u001b[0m \u001b[0mblocks_by_groups\u001b[0m\u001b[0;34m)\u001b[0m\u001b[0;34m\u001b[0m\u001b[0m\n\u001b[0m\u001b[1;32m     82\u001b[0m     \u001b[0;31m#balance_deltas = [pool.apply(getClustersBalanceDeltasNp, (g, map_address2cluster))\u001b[0m\u001b[0;34m\u001b[0m\u001b[0;34m\u001b[0m\u001b[0m\n\u001b[1;32m     83\u001b[0m     \u001b[0;31m#                  for g in blocks_by_groups]\u001b[0m\u001b[0;34m\u001b[0m\u001b[0;34m\u001b[0m\u001b[0m\n",
      "\u001b[0;32m/usr/local/lib/python3.5/dist-packages/joblib/parallel.py\u001b[0m in \u001b[0;36m__call__\u001b[0;34m(self, iterable)\u001b[0m\n\u001b[1;32m    787\u001b[0m         \u001b[0mmsg\u001b[0m \u001b[0;34m=\u001b[0m \u001b[0mmsg\u001b[0m \u001b[0;34m%\u001b[0m \u001b[0mmsg_args\u001b[0m\u001b[0;34m\u001b[0m\u001b[0m\n\u001b[1;32m    788\u001b[0m         \u001b[0mwriter\u001b[0m\u001b[0;34m(\u001b[0m\u001b[0;34m'[%s]: %s\\n'\u001b[0m \u001b[0;34m%\u001b[0m \u001b[0;34m(\u001b[0m\u001b[0mself\u001b[0m\u001b[0;34m,\u001b[0m \u001b[0mmsg\u001b[0m\u001b[0;34m)\u001b[0m\u001b[0;34m)\u001b[0m\u001b[0;34m\u001b[0m\u001b[0m\n\u001b[0;32m--> 789\u001b[0;31m \u001b[0;34m\u001b[0m\u001b[0m\n\u001b[0m\u001b[1;32m    790\u001b[0m     \u001b[0;32mdef\u001b[0m \u001b[0mprint_progress\u001b[0m\u001b[0;34m(\u001b[0m\u001b[0mself\u001b[0m\u001b[0;34m)\u001b[0m\u001b[0;34m:\u001b[0m\u001b[0;34m\u001b[0m\u001b[0m\n\u001b[1;32m    791\u001b[0m         \"\"\"Display the process of the parallel execution only a fraction\n",
      "\u001b[0;32m/usr/local/lib/python3.5/dist-packages/joblib/parallel.py\u001b[0m in \u001b[0;36mretrieve\u001b[0;34m(self)\u001b[0m\n\u001b[1;32m    738\u001b[0m     \u001b[0;32mdef\u001b[0m \u001b[0mdispatch_next\u001b[0m\u001b[0;34m(\u001b[0m\u001b[0mself\u001b[0m\u001b[0;34m)\u001b[0m\u001b[0;34m:\u001b[0m\u001b[0;34m\u001b[0m\u001b[0m\n\u001b[1;32m    739\u001b[0m         \"\"\"Dispatch more data for parallel processing\n\u001b[0;32m--> 740\u001b[0;31m \u001b[0;34m\u001b[0m\u001b[0m\n\u001b[0m\u001b[1;32m    741\u001b[0m         \u001b[0mThis\u001b[0m \u001b[0mmethod\u001b[0m \u001b[0;32mis\u001b[0m \u001b[0mmeant\u001b[0m \u001b[0mto\u001b[0m \u001b[0mbe\u001b[0m \u001b[0mcalled\u001b[0m \u001b[0mconcurrently\u001b[0m \u001b[0mby\u001b[0m \u001b[0mthe\u001b[0m \u001b[0mmultiprocessing\u001b[0m\u001b[0;34m\u001b[0m\u001b[0m\n\u001b[1;32m    742\u001b[0m         \u001b[0mcallback\u001b[0m\u001b[0;34m.\u001b[0m \u001b[0mWe\u001b[0m \u001b[0mrely\u001b[0m \u001b[0mon\u001b[0m \u001b[0mthe\u001b[0m \u001b[0mthread\u001b[0m\u001b[0;34m-\u001b[0m\u001b[0msafety\u001b[0m \u001b[0mof\u001b[0m \u001b[0mdispatch_one_batch\u001b[0m \u001b[0mto\u001b[0m \u001b[0mprotect\u001b[0m\u001b[0;34m\u001b[0m\u001b[0m\n",
      "\u001b[0;31mJoblibTypeError\u001b[0m: JoblibTypeError\n___________________________________________________________________________\nMultiprocessing exception:\n...........................................................................\n/usr/lib/python3.5/runpy.py in _run_module_as_main(mod_name='ipykernel_launcher', alter_argv=1)\n    179         sys.exit(msg)\n    180     main_globals = sys.modules[\"__main__\"].__dict__\n    181     if alter_argv:\n    182         sys.argv[0] = mod_spec.origin\n    183     return _run_code(code, main_globals, None,\n--> 184                      \"__main__\", mod_spec)\n        mod_spec = ModuleSpec(name='ipykernel_launcher', loader=<_f...b/python3.5/dist-packages/ipykernel_launcher.py')\n    185 \n    186 def run_module(mod_name, init_globals=None,\n    187                run_name=None, alter_sys=False):\n    188     \"\"\"Execute a module's code without importing it\n\n...........................................................................\n/usr/lib/python3.5/runpy.py in _run_code(code=<code object <module> at 0x7f9c6d9a2b70, file \"/...3.5/dist-packages/ipykernel_launcher.py\", line 5>, run_globals={'__builtins__': <module 'builtins' (built-in)>, '__cached__': '/usr/local/lib/python3.5/dist-packages/__pycache__/ipykernel_launcher.cpython-35.pyc', '__doc__': 'Entry point for launching an IPython kernel.\\n\\nTh...orts until\\nafter removing the cwd from sys.path.\\n', '__file__': '/usr/local/lib/python3.5/dist-packages/ipykernel_launcher.py', '__loader__': <_frozen_importlib_external.SourceFileLoader object>, '__name__': '__main__', '__package__': '', '__spec__': ModuleSpec(name='ipykernel_launcher', loader=<_f...b/python3.5/dist-packages/ipykernel_launcher.py'), 'app': <module 'ipykernel.kernelapp' from '/usr/local/lib/python3.5/dist-packages/ipykernel/kernelapp.py'>, 'sys': <module 'sys' (built-in)>}, init_globals=None, mod_name='__main__', mod_spec=ModuleSpec(name='ipykernel_launcher', loader=<_f...b/python3.5/dist-packages/ipykernel_launcher.py'), pkg_name='', script_name=None)\n     80                        __cached__ = cached,\n     81                        __doc__ = None,\n     82                        __loader__ = loader,\n     83                        __package__ = pkg_name,\n     84                        __spec__ = mod_spec)\n---> 85     exec(code, run_globals)\n        code = <code object <module> at 0x7f9c6d9a2b70, file \"/...3.5/dist-packages/ipykernel_launcher.py\", line 5>\n        run_globals = {'__builtins__': <module 'builtins' (built-in)>, '__cached__': '/usr/local/lib/python3.5/dist-packages/__pycache__/ipykernel_launcher.cpython-35.pyc', '__doc__': 'Entry point for launching an IPython kernel.\\n\\nTh...orts until\\nafter removing the cwd from sys.path.\\n', '__file__': '/usr/local/lib/python3.5/dist-packages/ipykernel_launcher.py', '__loader__': <_frozen_importlib_external.SourceFileLoader object>, '__name__': '__main__', '__package__': '', '__spec__': ModuleSpec(name='ipykernel_launcher', loader=<_f...b/python3.5/dist-packages/ipykernel_launcher.py'), 'app': <module 'ipykernel.kernelapp' from '/usr/local/lib/python3.5/dist-packages/ipykernel/kernelapp.py'>, 'sys': <module 'sys' (built-in)>}\n     86     return run_globals\n     87 \n     88 def _run_module_code(code, init_globals=None,\n     89                     mod_name=None, mod_spec=None,\n\n...........................................................................\n/usr/local/lib/python3.5/dist-packages/ipykernel_launcher.py in <module>()\n     11     # This is added back by InteractiveShellApp.init_path()\n     12     if sys.path[0] == '':\n     13         del sys.path[0]\n     14 \n     15     from ipykernel import kernelapp as app\n---> 16     app.launch_new_instance()\n\n...........................................................................\n/usr/local/lib/python3.5/dist-packages/traitlets/config/application.py in launch_instance(cls=<class 'ipykernel.kernelapp.IPKernelApp'>, argv=None, **kwargs={})\n    653 \n    654         If a global instance already exists, this reinitializes and starts it\n    655         \"\"\"\n    656         app = cls.instance(**kwargs)\n    657         app.initialize(argv)\n--> 658         app.start()\n        app.start = <bound method IPKernelApp.start of <ipykernel.kernelapp.IPKernelApp object>>\n    659 \n    660 #-----------------------------------------------------------------------------\n    661 # utility functions, for convenience\n    662 #-----------------------------------------------------------------------------\n\n...........................................................................\n/usr/local/lib/python3.5/dist-packages/ipykernel/kernelapp.py in start(self=<ipykernel.kernelapp.IPKernelApp object>)\n    481         if self.poller is not None:\n    482             self.poller.start()\n    483         self.kernel.start()\n    484         self.io_loop = ioloop.IOLoop.current()\n    485         try:\n--> 486             self.io_loop.start()\n        self.io_loop.start = <bound method BaseAsyncIOLoop.start of <tornado.platform.asyncio.AsyncIOMainLoop object>>\n    487         except KeyboardInterrupt:\n    488             pass\n    489 \n    490 launch_new_instance = IPKernelApp.launch_instance\n\n...........................................................................\n/usr/local/lib/python3.5/dist-packages/tornado/platform/asyncio.py in start(self=<tornado.platform.asyncio.AsyncIOMainLoop object>)\n    107         except (RuntimeError, AssertionError):\n    108             old_loop = None\n    109         try:\n    110             self._setup_logging()\n    111             asyncio.set_event_loop(self.asyncio_loop)\n--> 112             self.asyncio_loop.run_forever()\n        self.asyncio_loop.run_forever = <bound method BaseEventLoop.run_forever of <_Uni...EventLoop running=True closed=False debug=False>>\n    113         finally:\n    114             asyncio.set_event_loop(old_loop)\n    115 \n    116     def stop(self):\n\n...........................................................................\n/usr/lib/python3.5/asyncio/base_events.py in run_forever(self=<_UnixSelectorEventLoop running=True closed=False debug=False>)\n    340             raise RuntimeError('Event loop is running.')\n    341         self._set_coroutine_wrapper(self._debug)\n    342         self._thread_id = threading.get_ident()\n    343         try:\n    344             while True:\n--> 345                 self._run_once()\n        self._run_once = <bound method BaseEventLoop._run_once of <_UnixS...EventLoop running=True closed=False debug=False>>\n    346                 if self._stopping:\n    347                     break\n    348         finally:\n    349             self._stopping = False\n\n...........................................................................\n/usr/lib/python3.5/asyncio/base_events.py in _run_once(self=<_UnixSelectorEventLoop running=True closed=False debug=False>)\n   1307                         logger.warning('Executing %s took %.3f seconds',\n   1308                                        _format_handle(handle), dt)\n   1309                 finally:\n   1310                     self._current_handle = None\n   1311             else:\n-> 1312                 handle._run()\n        handle._run = <bound method Handle._run of <Handle BaseAsyncIOLoop._handle_events(13, 1)>>\n   1313         handle = None  # Needed to break cycles when an exception occurs.\n   1314 \n   1315     def _set_coroutine_wrapper(self, enabled):\n   1316         try:\n\n...........................................................................\n/usr/lib/python3.5/asyncio/events.py in _run(self=<Handle BaseAsyncIOLoop._handle_events(13, 1)>)\n    120             self._callback = None\n    121             self._args = None\n    122 \n    123     def _run(self):\n    124         try:\n--> 125             self._callback(*self._args)\n        self._callback = <bound method BaseAsyncIOLoop._handle_events of <tornado.platform.asyncio.AsyncIOMainLoop object>>\n        self._args = (13, 1)\n    126         except Exception as exc:\n    127             cb = _format_callback_source(self._callback, self._args)\n    128             msg = 'Exception in callback {}'.format(cb)\n    129             context = {\n\n...........................................................................\n/usr/local/lib/python3.5/dist-packages/tornado/platform/asyncio.py in _handle_events(self=<tornado.platform.asyncio.AsyncIOMainLoop object>, fd=13, events=1)\n     97             self.writers.remove(fd)\n     98         del self.handlers[fd]\n     99 \n    100     def _handle_events(self, fd, events):\n    101         fileobj, handler_func = self.handlers[fd]\n--> 102         handler_func(fileobj, events)\n        handler_func = <function wrap.<locals>.null_wrapper>\n        fileobj = <zmq.sugar.socket.Socket object>\n        events = 1\n    103 \n    104     def start(self):\n    105         try:\n    106             old_loop = asyncio.get_event_loop()\n\n...........................................................................\n/usr/local/lib/python3.5/dist-packages/tornado/stack_context.py in null_wrapper(*args=(<zmq.sugar.socket.Socket object>, 1), **kwargs={})\n    271         # Fast path when there are no active contexts.\n    272         def null_wrapper(*args, **kwargs):\n    273             try:\n    274                 current_state = _state.contexts\n    275                 _state.contexts = cap_contexts[0]\n--> 276                 return fn(*args, **kwargs)\n        args = (<zmq.sugar.socket.Socket object>, 1)\n        kwargs = {}\n    277             finally:\n    278                 _state.contexts = current_state\n    279         null_wrapper._wrapped = True\n    280         return null_wrapper\n\n...........................................................................\n/usr/local/lib/python3.5/dist-packages/zmq/eventloop/zmqstream.py in _handle_events(self=<zmq.eventloop.zmqstream.ZMQStream object>, fd=<zmq.sugar.socket.Socket object>, events=1)\n    445             return\n    446         zmq_events = self.socket.EVENTS\n    447         try:\n    448             # dispatch events:\n    449             if zmq_events & zmq.POLLIN and self.receiving():\n--> 450                 self._handle_recv()\n        self._handle_recv = <bound method ZMQStream._handle_recv of <zmq.eventloop.zmqstream.ZMQStream object>>\n    451                 if not self.socket:\n    452                     return\n    453             if zmq_events & zmq.POLLOUT and self.sending():\n    454                 self._handle_send()\n\n...........................................................................\n/usr/local/lib/python3.5/dist-packages/zmq/eventloop/zmqstream.py in _handle_recv(self=<zmq.eventloop.zmqstream.ZMQStream object>)\n    475             else:\n    476                 raise\n    477         else:\n    478             if self._recv_callback:\n    479                 callback = self._recv_callback\n--> 480                 self._run_callback(callback, msg)\n        self._run_callback = <bound method ZMQStream._run_callback of <zmq.eventloop.zmqstream.ZMQStream object>>\n        callback = <function wrap.<locals>.null_wrapper>\n        msg = [<zmq.sugar.frame.Frame object>, <zmq.sugar.frame.Frame object>, <zmq.sugar.frame.Frame object>, <zmq.sugar.frame.Frame object>, <zmq.sugar.frame.Frame object>, <zmq.sugar.frame.Frame object>, <zmq.sugar.frame.Frame object>]\n    481         \n    482 \n    483     def _handle_send(self):\n    484         \"\"\"Handle a send event.\"\"\"\n\n...........................................................................\n/usr/local/lib/python3.5/dist-packages/zmq/eventloop/zmqstream.py in _run_callback(self=<zmq.eventloop.zmqstream.ZMQStream object>, callback=<function wrap.<locals>.null_wrapper>, *args=([<zmq.sugar.frame.Frame object>, <zmq.sugar.frame.Frame object>, <zmq.sugar.frame.Frame object>, <zmq.sugar.frame.Frame object>, <zmq.sugar.frame.Frame object>, <zmq.sugar.frame.Frame object>, <zmq.sugar.frame.Frame object>],), **kwargs={})\n    427         close our socket.\"\"\"\n    428         try:\n    429             # Use a NullContext to ensure that all StackContexts are run\n    430             # inside our blanket exception handler rather than outside.\n    431             with stack_context.NullContext():\n--> 432                 callback(*args, **kwargs)\n        callback = <function wrap.<locals>.null_wrapper>\n        args = ([<zmq.sugar.frame.Frame object>, <zmq.sugar.frame.Frame object>, <zmq.sugar.frame.Frame object>, <zmq.sugar.frame.Frame object>, <zmq.sugar.frame.Frame object>, <zmq.sugar.frame.Frame object>, <zmq.sugar.frame.Frame object>],)\n        kwargs = {}\n    433         except:\n    434             gen_log.error(\"Uncaught exception in ZMQStream callback\",\n    435                           exc_info=True)\n    436             # Re-raise the exception so that IOLoop.handle_callback_exception\n\n...........................................................................\n/usr/local/lib/python3.5/dist-packages/tornado/stack_context.py in null_wrapper(*args=([<zmq.sugar.frame.Frame object>, <zmq.sugar.frame.Frame object>, <zmq.sugar.frame.Frame object>, <zmq.sugar.frame.Frame object>, <zmq.sugar.frame.Frame object>, <zmq.sugar.frame.Frame object>, <zmq.sugar.frame.Frame object>],), **kwargs={})\n    271         # Fast path when there are no active contexts.\n    272         def null_wrapper(*args, **kwargs):\n    273             try:\n    274                 current_state = _state.contexts\n    275                 _state.contexts = cap_contexts[0]\n--> 276                 return fn(*args, **kwargs)\n        args = ([<zmq.sugar.frame.Frame object>, <zmq.sugar.frame.Frame object>, <zmq.sugar.frame.Frame object>, <zmq.sugar.frame.Frame object>, <zmq.sugar.frame.Frame object>, <zmq.sugar.frame.Frame object>, <zmq.sugar.frame.Frame object>],)\n        kwargs = {}\n    277             finally:\n    278                 _state.contexts = current_state\n    279         null_wrapper._wrapped = True\n    280         return null_wrapper\n\n...........................................................................\n/usr/local/lib/python3.5/dist-packages/ipykernel/kernelbase.py in dispatcher(msg=[<zmq.sugar.frame.Frame object>, <zmq.sugar.frame.Frame object>, <zmq.sugar.frame.Frame object>, <zmq.sugar.frame.Frame object>, <zmq.sugar.frame.Frame object>, <zmq.sugar.frame.Frame object>, <zmq.sugar.frame.Frame object>])\n    278         if self.control_stream:\n    279             self.control_stream.on_recv(self.dispatch_control, copy=False)\n    280 \n    281         def make_dispatcher(stream):\n    282             def dispatcher(msg):\n--> 283                 return self.dispatch_shell(stream, msg)\n        msg = [<zmq.sugar.frame.Frame object>, <zmq.sugar.frame.Frame object>, <zmq.sugar.frame.Frame object>, <zmq.sugar.frame.Frame object>, <zmq.sugar.frame.Frame object>, <zmq.sugar.frame.Frame object>, <zmq.sugar.frame.Frame object>]\n    284             return dispatcher\n    285 \n    286         for s in self.shell_streams:\n    287             s.on_recv(make_dispatcher(s), copy=False)\n\n...........................................................................\n/usr/local/lib/python3.5/dist-packages/ipykernel/kernelbase.py in dispatch_shell(self=<ipykernel.ipkernel.IPythonKernel object>, stream=<zmq.eventloop.zmqstream.ZMQStream object>, msg={'buffers': [], 'content': {'allow_stdin': True, 'code': \"%time deltas_par_m = getClustersBalanceDeltasByG...C.blocks[:1], MNC[S_MAP_A2C][''], MNC.group_size)\", 'silent': False, 'stop_on_error': True, 'store_history': True, 'user_expressions': {}}, 'header': {'date': datetime.datetime(2018, 6, 9, 2, 40, 28, 410113, tzinfo=tzlocal()), 'msg_id': '677fb1b4fc5f40bf96b53ead64b549cb', 'msg_type': 'execute_request', 'session': '00ca0836c20b4d19800ca880e931ed43', 'username': 'username', 'version': '5.2'}, 'metadata': {}, 'msg_id': '677fb1b4fc5f40bf96b53ead64b549cb', 'msg_type': 'execute_request', 'parent_header': {}})\n    228             self.log.warn(\"Unknown message type: %r\", msg_type)\n    229         else:\n    230             self.log.debug(\"%s: %s\", msg_type, msg)\n    231             self.pre_handler_hook()\n    232             try:\n--> 233                 handler(stream, idents, msg)\n        handler = <bound method Kernel.execute_request of <ipykernel.ipkernel.IPythonKernel object>>\n        stream = <zmq.eventloop.zmqstream.ZMQStream object>\n        idents = [b'00ca0836c20b4d19800ca880e931ed43']\n        msg = {'buffers': [], 'content': {'allow_stdin': True, 'code': \"%time deltas_par_m = getClustersBalanceDeltasByG...C.blocks[:1], MNC[S_MAP_A2C][''], MNC.group_size)\", 'silent': False, 'stop_on_error': True, 'store_history': True, 'user_expressions': {}}, 'header': {'date': datetime.datetime(2018, 6, 9, 2, 40, 28, 410113, tzinfo=tzlocal()), 'msg_id': '677fb1b4fc5f40bf96b53ead64b549cb', 'msg_type': 'execute_request', 'session': '00ca0836c20b4d19800ca880e931ed43', 'username': 'username', 'version': '5.2'}, 'metadata': {}, 'msg_id': '677fb1b4fc5f40bf96b53ead64b549cb', 'msg_type': 'execute_request', 'parent_header': {}}\n    234             except Exception:\n    235                 self.log.error(\"Exception in message handler:\", exc_info=True)\n    236             finally:\n    237                 self.post_handler_hook()\n\n...........................................................................\n/usr/local/lib/python3.5/dist-packages/ipykernel/kernelbase.py in execute_request(self=<ipykernel.ipkernel.IPythonKernel object>, stream=<zmq.eventloop.zmqstream.ZMQStream object>, ident=[b'00ca0836c20b4d19800ca880e931ed43'], parent={'buffers': [], 'content': {'allow_stdin': True, 'code': \"%time deltas_par_m = getClustersBalanceDeltasByG...C.blocks[:1], MNC[S_MAP_A2C][''], MNC.group_size)\", 'silent': False, 'stop_on_error': True, 'store_history': True, 'user_expressions': {}}, 'header': {'date': datetime.datetime(2018, 6, 9, 2, 40, 28, 410113, tzinfo=tzlocal()), 'msg_id': '677fb1b4fc5f40bf96b53ead64b549cb', 'msg_type': 'execute_request', 'session': '00ca0836c20b4d19800ca880e931ed43', 'username': 'username', 'version': '5.2'}, 'metadata': {}, 'msg_id': '677fb1b4fc5f40bf96b53ead64b549cb', 'msg_type': 'execute_request', 'parent_header': {}})\n    394         if not silent:\n    395             self.execution_count += 1\n    396             self._publish_execute_input(code, parent, self.execution_count)\n    397 \n    398         reply_content = self.do_execute(code, silent, store_history,\n--> 399                                         user_expressions, allow_stdin)\n        user_expressions = {}\n        allow_stdin = True\n    400 \n    401         # Flush output before sending the reply.\n    402         sys.stdout.flush()\n    403         sys.stderr.flush()\n\n...........................................................................\n/usr/local/lib/python3.5/dist-packages/ipykernel/ipkernel.py in do_execute(self=<ipykernel.ipkernel.IPythonKernel object>, code=\"%time deltas_par_m = getClustersBalanceDeltasByG...C.blocks[:1], MNC[S_MAP_A2C][''], MNC.group_size)\", silent=False, store_history=True, user_expressions={}, allow_stdin=True)\n    203 \n    204         self._forward_input(allow_stdin)\n    205 \n    206         reply_content = {}\n    207         try:\n--> 208             res = shell.run_cell(code, store_history=store_history, silent=silent)\n        res = undefined\n        shell.run_cell = <bound method ZMQInteractiveShell.run_cell of <ipykernel.zmqshell.ZMQInteractiveShell object>>\n        code = \"%time deltas_par_m = getClustersBalanceDeltasByG...C.blocks[:1], MNC[S_MAP_A2C][''], MNC.group_size)\"\n        store_history = True\n        silent = False\n    209         finally:\n    210             self._restore_input()\n    211 \n    212         if res.error_before_exec is not None:\n\n...........................................................................\n/usr/local/lib/python3.5/dist-packages/ipykernel/zmqshell.py in run_cell(self=<ipykernel.zmqshell.ZMQInteractiveShell object>, *args=(\"%time deltas_par_m = getClustersBalanceDeltasByG...C.blocks[:1], MNC[S_MAP_A2C][''], MNC.group_size)\",), **kwargs={'silent': False, 'store_history': True})\n    532             )\n    533         self.payload_manager.write_payload(payload)\n    534 \n    535     def run_cell(self, *args, **kwargs):\n    536         self._last_traceback = None\n--> 537         return super(ZMQInteractiveShell, self).run_cell(*args, **kwargs)\n        self.run_cell = <bound method ZMQInteractiveShell.run_cell of <ipykernel.zmqshell.ZMQInteractiveShell object>>\n        args = (\"%time deltas_par_m = getClustersBalanceDeltasByG...C.blocks[:1], MNC[S_MAP_A2C][''], MNC.group_size)\",)\n        kwargs = {'silent': False, 'store_history': True}\n    538 \n    539     def _showtraceback(self, etype, evalue, stb):\n    540         # try to preserve ordering of tracebacks and print statements\n    541         sys.stdout.flush()\n\n...........................................................................\n/usr/local/lib/python3.5/dist-packages/IPython/core/interactiveshell.py in run_cell(self=<ipykernel.zmqshell.ZMQInteractiveShell object>, raw_cell=\"%time deltas_par_m = getClustersBalanceDeltasByG...C.blocks[:1], MNC[S_MAP_A2C][''], MNC.group_size)\", store_history=True, silent=False, shell_futures=True)\n   2723                 self.displayhook.exec_result = result\n   2724 \n   2725                 # Execute the user code\n   2726                 interactivity = \"none\" if silent else self.ast_node_interactivity\n   2727                 has_raised = self.run_ast_nodes(code_ast.body, cell_name,\n-> 2728                    interactivity=interactivity, compiler=compiler, result=result)\n        interactivity = 'last_expr'\n        compiler = <IPython.core.compilerop.CachingCompiler object>\n   2729                 \n   2730                 self.last_execution_succeeded = not has_raised\n   2731                 self.last_execution_result = result\n   2732 \n\n...........................................................................\n/usr/local/lib/python3.5/dist-packages/IPython/core/interactiveshell.py in run_ast_nodes(self=<ipykernel.zmqshell.ZMQInteractiveShell object>, nodelist=[<_ast.Expr object>], cell_name='<ipython-input-162-e8486ab83ad6>', interactivity='last', compiler=<IPython.core.compilerop.CachingCompiler object>, result=<ExecutionResult object at 7f9c4c9432b0, executi..._before_exec=None error_in_exec=None result=None>)\n   2851                     return True\n   2852 \n   2853             for i, node in enumerate(to_run_interactive):\n   2854                 mod = ast.Interactive([node])\n   2855                 code = compiler(mod, cell_name, \"single\")\n-> 2856                 if self.run_code(code, result):\n        self.run_code = <bound method InteractiveShell.run_code of <ipykernel.zmqshell.ZMQInteractiveShell object>>\n        code = <code object <module> at 0x7f9c4c5894b0, file \"<ipython-input-162-e8486ab83ad6>\", line 1>\n        result = <ExecutionResult object at 7f9c4c9432b0, executi..._before_exec=None error_in_exec=None result=None>\n   2857                     return True\n   2858 \n   2859             # Flush softspace\n   2860             if softspace(sys.stdout, 0):\n\n...........................................................................\n/usr/local/lib/python3.5/dist-packages/IPython/core/interactiveshell.py in run_code(self=<ipykernel.zmqshell.ZMQInteractiveShell object>, code_obj=<code object <module> at 0x7f9c4c5894b0, file \"<ipython-input-162-e8486ab83ad6>\", line 1>, result=<ExecutionResult object at 7f9c4c9432b0, executi..._before_exec=None error_in_exec=None result=None>)\n   2905         outflag = True  # happens in more places, so it's easier as default\n   2906         try:\n   2907             try:\n   2908                 self.hooks.pre_run_code_hook()\n   2909                 #rprint('Running code', repr(code_obj)) # dbg\n-> 2910                 exec(code_obj, self.user_global_ns, self.user_ns)\n        code_obj = <code object <module> at 0x7f9c4c5894b0, file \"<ipython-input-162-e8486ab83ad6>\", line 1>\n        self.user_global_ns = {'A': <function A>, 'A2': <function A2>, 'B': <function B>, 'B2': <function B2>, 'CoinDataMgr': <class 'my_tools.CoinDataMgr'>, 'DataVersions': <class 'my_tools.DataVersions'>, 'In': ['', 'from my_tools import *', 'import multiprocessing as mp\\n\\ndef getClustersBal... g in blocks_by_groups]\\n    return balance_deltas', 'def sumClustersBalanceDeltas(clustersBalanceDelt...ce_sums += deltas[cl_idx]\\n    return balance_sums', '# Q_MINCOIN\\nMNC = CoinDataMgr(blocksci_path=\"/ho...500k_blocks\",\\n                  max_block=500000)', 'MNC[S_MAP_A2C].readAll()', \"deltas_m = getClustersBalanceDeltasByGroupsNpPar(MNC.blocks, MNC[S_MAP_A2C][''], MNC.group_size)\", 'import multiprocessing as mp\\n\\ndef getClustersBal... g in blocks_by_groups]\\n    return balance_deltas', 'import multiprocessing as mp\\n\\ndef getClustersBal... g in blocks_by_groups]\\n    return balance_deltas', \"deltas_m = getClustersBalanceDeltasByGroupsNpPar(MNC.blocks, MNC[S_MAP_A2C][''], MNC.group_size)\", 'import multiprocessing as mp\\n\\ndef getClustersBal... g in blocks_by_groups]\\n    return balance_deltas', \"deltas_m = getClustersBalanceDeltasByGroupsNpPar(MNC.blocks, MNC[S_MAP_A2C][''], MNC.group_size)\", 'import multiprocessing as mp\\n\\ndef getClustersBal... g in blocks_by_groups]\\n    return balance_deltas', \"deltas_m = getClustersBalanceDeltasByGroupsNpPar(MNC.blocks, MNC[S_MAP_A2C][''], MNC.group_size)\", 'import multiprocessing as mp\\n\\ndef getClustersBal... g in blocks_by_groups]\\n    return balance_deltas', \"deltas_m = getClustersBalanceDeltasByGroupsNpPar(MNC.blocks, MNC[S_MAP_A2C][''], MNC.group_size)\", 'import multiprocessing as mp\\n\\ndef getClustersBal... g in blocks_by_groups]\\n    return balance_deltas', \"deltas_m = getClustersBalanceDeltasByGroupsNpPar(MNC.blocks, MNC[S_MAP_A2C][''], MNC.group_size)\", 'get_ipython().run_line_magic(\\'time\\', \"deltas_m =...MNC.blocks, MNC[S_MAP_A2C][\\'\\'], MNC.group_size)\")', 'import multiprocessing as mp\\n\\ndef getClustersBal... g in blocks_by_groups]\\n    return balance_deltas', ...], 'MNC': <my_tools.CoinDataMgr object>, 'Out': {27: defaultdict(<function getClustersBalanceDeltasNp...00.0, 2358: 300000000000.0, 2359: 50000000000.0}), 28: [21, 46, 83, 100, 114, 111, 146, 73, 195, 76, 56, 53, 59, 138, 180, 156, 171, 122, 96, 94], 61: defaultdict(<function getClustersBalanceDeltasNp...0000000.0, 2558: 200000000.0, 2559: 200000000.0}), 62: ['__class__', '__contains__', '__copy__', '__delattr__', '__delitem__', '__dir__', '__doc__', '__eq__', '__format__', '__ge__', '__getattribute__', '__getitem__', '__gt__', '__hash__', '__init__', '__iter__', '__le__', '__len__', '__lt__', '__missing__', ...], 63: defaultdict(<function getClustersBalanceDeltasNp...0000000.0, 2558: 200000000.0, 2559: 200000000.0}), 65: defaultdict(<function <lambda> at 0x7f9c4c58fe18>, {'a': 5.0}), 67: defaultdict(<function <lambda> at 0x7f9c4c58fe18>, {'a': 5.0}), 71: [defaultdict(<function A.<locals>.<lambda> at 0x7f9c0411c048>, {'a': 5.0})], 72: [defaultdict(<function A.<locals>.<lambda> at 0x7f9c4c58f2f0>, {'a': 5.0})], 74: [defaultdict(<function A2.<locals>.<lambda> at 0x7f9c4c5cd9d8>, {}), defaultdict(<function A2.<locals>.<lambda> at 0x7f9c4c5cd268>, {}), defaultdict(<function A2.<locals>.<lambda> at 0x7f9c4c5cd2f0>, {})], ...}, 'Parallel': <class 'joblib.parallel.Parallel'>, ...}\n        self.user_ns = {'A': <function A>, 'A2': <function A2>, 'B': <function B>, 'B2': <function B2>, 'CoinDataMgr': <class 'my_tools.CoinDataMgr'>, 'DataVersions': <class 'my_tools.DataVersions'>, 'In': ['', 'from my_tools import *', 'import multiprocessing as mp\\n\\ndef getClustersBal... g in blocks_by_groups]\\n    return balance_deltas', 'def sumClustersBalanceDeltas(clustersBalanceDelt...ce_sums += deltas[cl_idx]\\n    return balance_sums', '# Q_MINCOIN\\nMNC = CoinDataMgr(blocksci_path=\"/ho...500k_blocks\",\\n                  max_block=500000)', 'MNC[S_MAP_A2C].readAll()', \"deltas_m = getClustersBalanceDeltasByGroupsNpPar(MNC.blocks, MNC[S_MAP_A2C][''], MNC.group_size)\", 'import multiprocessing as mp\\n\\ndef getClustersBal... g in blocks_by_groups]\\n    return balance_deltas', 'import multiprocessing as mp\\n\\ndef getClustersBal... g in blocks_by_groups]\\n    return balance_deltas', \"deltas_m = getClustersBalanceDeltasByGroupsNpPar(MNC.blocks, MNC[S_MAP_A2C][''], MNC.group_size)\", 'import multiprocessing as mp\\n\\ndef getClustersBal... g in blocks_by_groups]\\n    return balance_deltas', \"deltas_m = getClustersBalanceDeltasByGroupsNpPar(MNC.blocks, MNC[S_MAP_A2C][''], MNC.group_size)\", 'import multiprocessing as mp\\n\\ndef getClustersBal... g in blocks_by_groups]\\n    return balance_deltas', \"deltas_m = getClustersBalanceDeltasByGroupsNpPar(MNC.blocks, MNC[S_MAP_A2C][''], MNC.group_size)\", 'import multiprocessing as mp\\n\\ndef getClustersBal... g in blocks_by_groups]\\n    return balance_deltas', \"deltas_m = getClustersBalanceDeltasByGroupsNpPar(MNC.blocks, MNC[S_MAP_A2C][''], MNC.group_size)\", 'import multiprocessing as mp\\n\\ndef getClustersBal... g in blocks_by_groups]\\n    return balance_deltas', \"deltas_m = getClustersBalanceDeltasByGroupsNpPar(MNC.blocks, MNC[S_MAP_A2C][''], MNC.group_size)\", 'get_ipython().run_line_magic(\\'time\\', \"deltas_m =...MNC.blocks, MNC[S_MAP_A2C][\\'\\'], MNC.group_size)\")', 'import multiprocessing as mp\\n\\ndef getClustersBal... g in blocks_by_groups]\\n    return balance_deltas', ...], 'MNC': <my_tools.CoinDataMgr object>, 'Out': {27: defaultdict(<function getClustersBalanceDeltasNp...00.0, 2358: 300000000000.0, 2359: 50000000000.0}), 28: [21, 46, 83, 100, 114, 111, 146, 73, 195, 76, 56, 53, 59, 138, 180, 156, 171, 122, 96, 94], 61: defaultdict(<function getClustersBalanceDeltasNp...0000000.0, 2558: 200000000.0, 2559: 200000000.0}), 62: ['__class__', '__contains__', '__copy__', '__delattr__', '__delitem__', '__dir__', '__doc__', '__eq__', '__format__', '__ge__', '__getattribute__', '__getitem__', '__gt__', '__hash__', '__init__', '__iter__', '__le__', '__len__', '__lt__', '__missing__', ...], 63: defaultdict(<function getClustersBalanceDeltasNp...0000000.0, 2558: 200000000.0, 2559: 200000000.0}), 65: defaultdict(<function <lambda> at 0x7f9c4c58fe18>, {'a': 5.0}), 67: defaultdict(<function <lambda> at 0x7f9c4c58fe18>, {'a': 5.0}), 71: [defaultdict(<function A.<locals>.<lambda> at 0x7f9c0411c048>, {'a': 5.0})], 72: [defaultdict(<function A.<locals>.<lambda> at 0x7f9c4c58f2f0>, {'a': 5.0})], 74: [defaultdict(<function A2.<locals>.<lambda> at 0x7f9c4c5cd9d8>, {}), defaultdict(<function A2.<locals>.<lambda> at 0x7f9c4c5cd268>, {}), defaultdict(<function A2.<locals>.<lambda> at 0x7f9c4c5cd2f0>, {})], ...}, 'Parallel': <class 'joblib.parallel.Parallel'>, ...}\n   2911             finally:\n   2912                 # Reset our crash handler in place\n   2913                 sys.excepthook = old_excepthook\n   2914         except SystemExit as e:\n\n...........................................................................\n/home/ubuntu/thesis_work/<ipython-input-162-e8486ab83ad6> in <module>()\n----> 1 get_ipython().run_line_magic('time', \"deltas_par_m = getClustersBalanceDeltasByGroupsNpPar__2(MNC.blocks[:1], MNC[S_MAP_A2C][''], MNC.group_size)\")\n\n...........................................................................\n/usr/local/lib/python3.5/dist-packages/IPython/core/interactiveshell.py in run_line_magic(self=<ipykernel.zmqshell.ZMQInteractiveShell object>, magic_name='time', line=\"deltas_par_m = getClustersBalanceDeltasByGroupsN...C.blocks[:1], MNC[S_MAP_A2C][''], MNC.group_size)\", _stack_depth=1)\n   2090             kwargs = {}\n   2091             # Grab local namespace if we need it:\n   2092             if getattr(fn, \"needs_local_scope\", False):\n   2093                 kwargs['local_ns'] = sys._getframe(stack_depth).f_locals\n   2094             with self.builtin_trap:\n-> 2095                 result = fn(*args,**kwargs)\n        result = undefined\n        fn = <bound method ExecutionMagics.time of <IPython.core.magics.execution.ExecutionMagics object>>\n        args = [\"deltas_par_m = getClustersBalanceDeltasByGroupsN...C.blocks[:1], MNC[S_MAP_A2C][''], MNC.group_size)\"]\n        kwargs = {'local_ns': {'A': <function A>, 'A2': <function A2>, 'B': <function B>, 'B2': <function B2>, 'CoinDataMgr': <class 'my_tools.CoinDataMgr'>, 'DataVersions': <class 'my_tools.DataVersions'>, 'In': ['', 'from my_tools import *', 'import multiprocessing as mp\\n\\ndef getClustersBal... g in blocks_by_groups]\\n    return balance_deltas', 'def sumClustersBalanceDeltas(clustersBalanceDelt...ce_sums += deltas[cl_idx]\\n    return balance_sums', '# Q_MINCOIN\\nMNC = CoinDataMgr(blocksci_path=\"/ho...500k_blocks\",\\n                  max_block=500000)', 'MNC[S_MAP_A2C].readAll()', \"deltas_m = getClustersBalanceDeltasByGroupsNpPar(MNC.blocks, MNC[S_MAP_A2C][''], MNC.group_size)\", 'import multiprocessing as mp\\n\\ndef getClustersBal... g in blocks_by_groups]\\n    return balance_deltas', 'import multiprocessing as mp\\n\\ndef getClustersBal... g in blocks_by_groups]\\n    return balance_deltas', \"deltas_m = getClustersBalanceDeltasByGroupsNpPar(MNC.blocks, MNC[S_MAP_A2C][''], MNC.group_size)\", 'import multiprocessing as mp\\n\\ndef getClustersBal... g in blocks_by_groups]\\n    return balance_deltas', \"deltas_m = getClustersBalanceDeltasByGroupsNpPar(MNC.blocks, MNC[S_MAP_A2C][''], MNC.group_size)\", 'import multiprocessing as mp\\n\\ndef getClustersBal... g in blocks_by_groups]\\n    return balance_deltas', \"deltas_m = getClustersBalanceDeltasByGroupsNpPar(MNC.blocks, MNC[S_MAP_A2C][''], MNC.group_size)\", 'import multiprocessing as mp\\n\\ndef getClustersBal... g in blocks_by_groups]\\n    return balance_deltas', \"deltas_m = getClustersBalanceDeltasByGroupsNpPar(MNC.blocks, MNC[S_MAP_A2C][''], MNC.group_size)\", 'import multiprocessing as mp\\n\\ndef getClustersBal... g in blocks_by_groups]\\n    return balance_deltas', \"deltas_m = getClustersBalanceDeltasByGroupsNpPar(MNC.blocks, MNC[S_MAP_A2C][''], MNC.group_size)\", 'get_ipython().run_line_magic(\\'time\\', \"deltas_m =...MNC.blocks, MNC[S_MAP_A2C][\\'\\'], MNC.group_size)\")', 'import multiprocessing as mp\\n\\ndef getClustersBal... g in blocks_by_groups]\\n    return balance_deltas', ...], 'MNC': <my_tools.CoinDataMgr object>, 'Out': {27: defaultdict(<function getClustersBalanceDeltasNp...00.0, 2358: 300000000000.0, 2359: 50000000000.0}), 28: [21, 46, 83, 100, 114, 111, 146, 73, 195, 76, 56, 53, 59, 138, 180, 156, 171, 122, 96, 94], 61: defaultdict(<function getClustersBalanceDeltasNp...0000000.0, 2558: 200000000.0, 2559: 200000000.0}), 62: ['__class__', '__contains__', '__copy__', '__delattr__', '__delitem__', '__dir__', '__doc__', '__eq__', '__format__', '__ge__', '__getattribute__', '__getitem__', '__gt__', '__hash__', '__init__', '__iter__', '__le__', '__len__', '__lt__', '__missing__', ...], 63: defaultdict(<function getClustersBalanceDeltasNp...0000000.0, 2558: 200000000.0, 2559: 200000000.0}), 65: defaultdict(<function <lambda> at 0x7f9c4c58fe18>, {'a': 5.0}), 67: defaultdict(<function <lambda> at 0x7f9c4c58fe18>, {'a': 5.0}), 71: [defaultdict(<function A.<locals>.<lambda> at 0x7f9c0411c048>, {'a': 5.0})], 72: [defaultdict(<function A.<locals>.<lambda> at 0x7f9c4c58f2f0>, {'a': 5.0})], 74: [defaultdict(<function A2.<locals>.<lambda> at 0x7f9c4c5cd9d8>, {}), defaultdict(<function A2.<locals>.<lambda> at 0x7f9c4c5cd268>, {}), defaultdict(<function A2.<locals>.<lambda> at 0x7f9c4c5cd2f0>, {})], ...}, 'Parallel': <class 'joblib.parallel.Parallel'>, ...}}\n   2096             return result\n   2097 \n   2098     def run_cell_magic(self, magic_name, line, cell):\n   2099         \"\"\"Execute the given cell magic.\n\n...........................................................................\n/home/ubuntu/thesis_work/<decorator-gen-62> in time(self=<IPython.core.magics.execution.ExecutionMagics object>, line=\"deltas_par_m = getClustersBalanceDeltasByGroupsN...C.blocks[:1], MNC[S_MAP_A2C][''], MNC.group_size)\", cell=None, local_ns={'A': <function A>, 'A2': <function A2>, 'B': <function B>, 'B2': <function B2>, 'CoinDataMgr': <class 'my_tools.CoinDataMgr'>, 'DataVersions': <class 'my_tools.DataVersions'>, 'In': ['', 'from my_tools import *', 'import multiprocessing as mp\\n\\ndef getClustersBal... g in blocks_by_groups]\\n    return balance_deltas', 'def sumClustersBalanceDeltas(clustersBalanceDelt...ce_sums += deltas[cl_idx]\\n    return balance_sums', '# Q_MINCOIN\\nMNC = CoinDataMgr(blocksci_path=\"/ho...500k_blocks\",\\n                  max_block=500000)', 'MNC[S_MAP_A2C].readAll()', \"deltas_m = getClustersBalanceDeltasByGroupsNpPar(MNC.blocks, MNC[S_MAP_A2C][''], MNC.group_size)\", 'import multiprocessing as mp\\n\\ndef getClustersBal... g in blocks_by_groups]\\n    return balance_deltas', 'import multiprocessing as mp\\n\\ndef getClustersBal... g in blocks_by_groups]\\n    return balance_deltas', \"deltas_m = getClustersBalanceDeltasByGroupsNpPar(MNC.blocks, MNC[S_MAP_A2C][''], MNC.group_size)\", 'import multiprocessing as mp\\n\\ndef getClustersBal... g in blocks_by_groups]\\n    return balance_deltas', \"deltas_m = getClustersBalanceDeltasByGroupsNpPar(MNC.blocks, MNC[S_MAP_A2C][''], MNC.group_size)\", 'import multiprocessing as mp\\n\\ndef getClustersBal... g in blocks_by_groups]\\n    return balance_deltas', \"deltas_m = getClustersBalanceDeltasByGroupsNpPar(MNC.blocks, MNC[S_MAP_A2C][''], MNC.group_size)\", 'import multiprocessing as mp\\n\\ndef getClustersBal... g in blocks_by_groups]\\n    return balance_deltas', \"deltas_m = getClustersBalanceDeltasByGroupsNpPar(MNC.blocks, MNC[S_MAP_A2C][''], MNC.group_size)\", 'import multiprocessing as mp\\n\\ndef getClustersBal... g in blocks_by_groups]\\n    return balance_deltas', \"deltas_m = getClustersBalanceDeltasByGroupsNpPar(MNC.blocks, MNC[S_MAP_A2C][''], MNC.group_size)\", 'get_ipython().run_line_magic(\\'time\\', \"deltas_m =...MNC.blocks, MNC[S_MAP_A2C][\\'\\'], MNC.group_size)\")', 'import multiprocessing as mp\\n\\ndef getClustersBal... g in blocks_by_groups]\\n    return balance_deltas', ...], 'MNC': <my_tools.CoinDataMgr object>, 'Out': {27: defaultdict(<function getClustersBalanceDeltasNp...00.0, 2358: 300000000000.0, 2359: 50000000000.0}), 28: [21, 46, 83, 100, 114, 111, 146, 73, 195, 76, 56, 53, 59, 138, 180, 156, 171, 122, 96, 94], 61: defaultdict(<function getClustersBalanceDeltasNp...0000000.0, 2558: 200000000.0, 2559: 200000000.0}), 62: ['__class__', '__contains__', '__copy__', '__delattr__', '__delitem__', '__dir__', '__doc__', '__eq__', '__format__', '__ge__', '__getattribute__', '__getitem__', '__gt__', '__hash__', '__init__', '__iter__', '__le__', '__len__', '__lt__', '__missing__', ...], 63: defaultdict(<function getClustersBalanceDeltasNp...0000000.0, 2558: 200000000.0, 2559: 200000000.0}), 65: defaultdict(<function <lambda> at 0x7f9c4c58fe18>, {'a': 5.0}), 67: defaultdict(<function <lambda> at 0x7f9c4c58fe18>, {'a': 5.0}), 71: [defaultdict(<function A.<locals>.<lambda> at 0x7f9c0411c048>, {'a': 5.0})], 72: [defaultdict(<function A.<locals>.<lambda> at 0x7f9c4c58f2f0>, {'a': 5.0})], 74: [defaultdict(<function A2.<locals>.<lambda> at 0x7f9c4c5cd9d8>, {}), defaultdict(<function A2.<locals>.<lambda> at 0x7f9c4c5cd268>, {}), defaultdict(<function A2.<locals>.<lambda> at 0x7f9c4c5cd2f0>, {})], ...}, 'Parallel': <class 'joblib.parallel.Parallel'>, ...})\n\n...........................................................................\n/usr/local/lib/python3.5/dist-packages/IPython/core/magic.py in <lambda>(f=<function ExecutionMagics.time>, *a=(<IPython.core.magics.execution.ExecutionMagics object>, \"deltas_par_m = getClustersBalanceDeltasByGroupsN...C.blocks[:1], MNC[S_MAP_A2C][''], MNC.group_size)\", None, {'A': <function A>, 'A2': <function A2>, 'B': <function B>, 'B2': <function B2>, 'CoinDataMgr': <class 'my_tools.CoinDataMgr'>, 'DataVersions': <class 'my_tools.DataVersions'>, 'In': ['', 'from my_tools import *', 'import multiprocessing as mp\\n\\ndef getClustersBal... g in blocks_by_groups]\\n    return balance_deltas', 'def sumClustersBalanceDeltas(clustersBalanceDelt...ce_sums += deltas[cl_idx]\\n    return balance_sums', '# Q_MINCOIN\\nMNC = CoinDataMgr(blocksci_path=\"/ho...500k_blocks\",\\n                  max_block=500000)', 'MNC[S_MAP_A2C].readAll()', \"deltas_m = getClustersBalanceDeltasByGroupsNpPar(MNC.blocks, MNC[S_MAP_A2C][''], MNC.group_size)\", 'import multiprocessing as mp\\n\\ndef getClustersBal... g in blocks_by_groups]\\n    return balance_deltas', 'import multiprocessing as mp\\n\\ndef getClustersBal... g in blocks_by_groups]\\n    return balance_deltas', \"deltas_m = getClustersBalanceDeltasByGroupsNpPar(MNC.blocks, MNC[S_MAP_A2C][''], MNC.group_size)\", 'import multiprocessing as mp\\n\\ndef getClustersBal... g in blocks_by_groups]\\n    return balance_deltas', \"deltas_m = getClustersBalanceDeltasByGroupsNpPar(MNC.blocks, MNC[S_MAP_A2C][''], MNC.group_size)\", 'import multiprocessing as mp\\n\\ndef getClustersBal... g in blocks_by_groups]\\n    return balance_deltas', \"deltas_m = getClustersBalanceDeltasByGroupsNpPar(MNC.blocks, MNC[S_MAP_A2C][''], MNC.group_size)\", 'import multiprocessing as mp\\n\\ndef getClustersBal... g in blocks_by_groups]\\n    return balance_deltas', \"deltas_m = getClustersBalanceDeltasByGroupsNpPar(MNC.blocks, MNC[S_MAP_A2C][''], MNC.group_size)\", 'import multiprocessing as mp\\n\\ndef getClustersBal... g in blocks_by_groups]\\n    return balance_deltas', \"deltas_m = getClustersBalanceDeltasByGroupsNpPar(MNC.blocks, MNC[S_MAP_A2C][''], MNC.group_size)\", 'get_ipython().run_line_magic(\\'time\\', \"deltas_m =...MNC.blocks, MNC[S_MAP_A2C][\\'\\'], MNC.group_size)\")', 'import multiprocessing as mp\\n\\ndef getClustersBal... g in blocks_by_groups]\\n    return balance_deltas', ...], 'MNC': <my_tools.CoinDataMgr object>, 'Out': {27: defaultdict(<function getClustersBalanceDeltasNp...00.0, 2358: 300000000000.0, 2359: 50000000000.0}), 28: [21, 46, 83, 100, 114, 111, 146, 73, 195, 76, 56, 53, 59, 138, 180, 156, 171, 122, 96, 94], 61: defaultdict(<function getClustersBalanceDeltasNp...0000000.0, 2558: 200000000.0, 2559: 200000000.0}), 62: ['__class__', '__contains__', '__copy__', '__delattr__', '__delitem__', '__dir__', '__doc__', '__eq__', '__format__', '__ge__', '__getattribute__', '__getitem__', '__gt__', '__hash__', '__init__', '__iter__', '__le__', '__len__', '__lt__', '__missing__', ...], 63: defaultdict(<function getClustersBalanceDeltasNp...0000000.0, 2558: 200000000.0, 2559: 200000000.0}), 65: defaultdict(<function <lambda> at 0x7f9c4c58fe18>, {'a': 5.0}), 67: defaultdict(<function <lambda> at 0x7f9c4c58fe18>, {'a': 5.0}), 71: [defaultdict(<function A.<locals>.<lambda> at 0x7f9c0411c048>, {'a': 5.0})], 72: [defaultdict(<function A.<locals>.<lambda> at 0x7f9c4c58f2f0>, {'a': 5.0})], 74: [defaultdict(<function A2.<locals>.<lambda> at 0x7f9c4c5cd9d8>, {}), defaultdict(<function A2.<locals>.<lambda> at 0x7f9c4c5cd268>, {}), defaultdict(<function A2.<locals>.<lambda> at 0x7f9c4c5cd2f0>, {})], ...}, 'Parallel': <class 'joblib.parallel.Parallel'>, ...}), **k={})\n    182     validate_type(magic_kind)\n    183 \n    184     # This is a closure to capture the magic_kind.  We could also use a class,\n    185     # but it's overkill for just that one bit of state.\n    186     def magic_deco(arg):\n--> 187         call = lambda f, *a, **k: f(*a, **k)\n        f = <function ExecutionMagics.time>\n        a = (<IPython.core.magics.execution.ExecutionMagics object>, \"deltas_par_m = getClustersBalanceDeltasByGroupsN...C.blocks[:1], MNC[S_MAP_A2C][''], MNC.group_size)\", None, {'A': <function A>, 'A2': <function A2>, 'B': <function B>, 'B2': <function B2>, 'CoinDataMgr': <class 'my_tools.CoinDataMgr'>, 'DataVersions': <class 'my_tools.DataVersions'>, 'In': ['', 'from my_tools import *', 'import multiprocessing as mp\\n\\ndef getClustersBal... g in blocks_by_groups]\\n    return balance_deltas', 'def sumClustersBalanceDeltas(clustersBalanceDelt...ce_sums += deltas[cl_idx]\\n    return balance_sums', '# Q_MINCOIN\\nMNC = CoinDataMgr(blocksci_path=\"/ho...500k_blocks\",\\n                  max_block=500000)', 'MNC[S_MAP_A2C].readAll()', \"deltas_m = getClustersBalanceDeltasByGroupsNpPar(MNC.blocks, MNC[S_MAP_A2C][''], MNC.group_size)\", 'import multiprocessing as mp\\n\\ndef getClustersBal... g in blocks_by_groups]\\n    return balance_deltas', 'import multiprocessing as mp\\n\\ndef getClustersBal... g in blocks_by_groups]\\n    return balance_deltas', \"deltas_m = getClustersBalanceDeltasByGroupsNpPar(MNC.blocks, MNC[S_MAP_A2C][''], MNC.group_size)\", 'import multiprocessing as mp\\n\\ndef getClustersBal... g in blocks_by_groups]\\n    return balance_deltas', \"deltas_m = getClustersBalanceDeltasByGroupsNpPar(MNC.blocks, MNC[S_MAP_A2C][''], MNC.group_size)\", 'import multiprocessing as mp\\n\\ndef getClustersBal... g in blocks_by_groups]\\n    return balance_deltas', \"deltas_m = getClustersBalanceDeltasByGroupsNpPar(MNC.blocks, MNC[S_MAP_A2C][''], MNC.group_size)\", 'import multiprocessing as mp\\n\\ndef getClustersBal... g in blocks_by_groups]\\n    return balance_deltas', \"deltas_m = getClustersBalanceDeltasByGroupsNpPar(MNC.blocks, MNC[S_MAP_A2C][''], MNC.group_size)\", 'import multiprocessing as mp\\n\\ndef getClustersBal... g in blocks_by_groups]\\n    return balance_deltas', \"deltas_m = getClustersBalanceDeltasByGroupsNpPar(MNC.blocks, MNC[S_MAP_A2C][''], MNC.group_size)\", 'get_ipython().run_line_magic(\\'time\\', \"deltas_m =...MNC.blocks, MNC[S_MAP_A2C][\\'\\'], MNC.group_size)\")', 'import multiprocessing as mp\\n\\ndef getClustersBal... g in blocks_by_groups]\\n    return balance_deltas', ...], 'MNC': <my_tools.CoinDataMgr object>, 'Out': {27: defaultdict(<function getClustersBalanceDeltasNp...00.0, 2358: 300000000000.0, 2359: 50000000000.0}), 28: [21, 46, 83, 100, 114, 111, 146, 73, 195, 76, 56, 53, 59, 138, 180, 156, 171, 122, 96, 94], 61: defaultdict(<function getClustersBalanceDeltasNp...0000000.0, 2558: 200000000.0, 2559: 200000000.0}), 62: ['__class__', '__contains__', '__copy__', '__delattr__', '__delitem__', '__dir__', '__doc__', '__eq__', '__format__', '__ge__', '__getattribute__', '__getitem__', '__gt__', '__hash__', '__init__', '__iter__', '__le__', '__len__', '__lt__', '__missing__', ...], 63: defaultdict(<function getClustersBalanceDeltasNp...0000000.0, 2558: 200000000.0, 2559: 200000000.0}), 65: defaultdict(<function <lambda> at 0x7f9c4c58fe18>, {'a': 5.0}), 67: defaultdict(<function <lambda> at 0x7f9c4c58fe18>, {'a': 5.0}), 71: [defaultdict(<function A.<locals>.<lambda> at 0x7f9c0411c048>, {'a': 5.0})], 72: [defaultdict(<function A.<locals>.<lambda> at 0x7f9c4c58f2f0>, {'a': 5.0})], 74: [defaultdict(<function A2.<locals>.<lambda> at 0x7f9c4c5cd9d8>, {}), defaultdict(<function A2.<locals>.<lambda> at 0x7f9c4c5cd268>, {}), defaultdict(<function A2.<locals>.<lambda> at 0x7f9c4c5cd2f0>, {})], ...}, 'Parallel': <class 'joblib.parallel.Parallel'>, ...})\n        k = {}\n    188 \n    189         if callable(arg):\n    190             # \"Naked\" decorator call (just @foo, no args)\n    191             func = arg\n\n...........................................................................\n/usr/local/lib/python3.5/dist-packages/IPython/core/magics/execution.py in time(self=<IPython.core.magics.execution.ExecutionMagics object>, line=\"deltas_par_m = getClustersBalanceDeltasByGroupsN...C.blocks[:1], MNC[S_MAP_A2C][''], MNC.group_size)\", cell=None, local_ns={'A': <function A>, 'A2': <function A2>, 'B': <function B>, 'B2': <function B2>, 'CoinDataMgr': <class 'my_tools.CoinDataMgr'>, 'DataVersions': <class 'my_tools.DataVersions'>, 'In': ['', 'from my_tools import *', 'import multiprocessing as mp\\n\\ndef getClustersBal... g in blocks_by_groups]\\n    return balance_deltas', 'def sumClustersBalanceDeltas(clustersBalanceDelt...ce_sums += deltas[cl_idx]\\n    return balance_sums', '# Q_MINCOIN\\nMNC = CoinDataMgr(blocksci_path=\"/ho...500k_blocks\",\\n                  max_block=500000)', 'MNC[S_MAP_A2C].readAll()', \"deltas_m = getClustersBalanceDeltasByGroupsNpPar(MNC.blocks, MNC[S_MAP_A2C][''], MNC.group_size)\", 'import multiprocessing as mp\\n\\ndef getClustersBal... g in blocks_by_groups]\\n    return balance_deltas', 'import multiprocessing as mp\\n\\ndef getClustersBal... g in blocks_by_groups]\\n    return balance_deltas', \"deltas_m = getClustersBalanceDeltasByGroupsNpPar(MNC.blocks, MNC[S_MAP_A2C][''], MNC.group_size)\", 'import multiprocessing as mp\\n\\ndef getClustersBal... g in blocks_by_groups]\\n    return balance_deltas', \"deltas_m = getClustersBalanceDeltasByGroupsNpPar(MNC.blocks, MNC[S_MAP_A2C][''], MNC.group_size)\", 'import multiprocessing as mp\\n\\ndef getClustersBal... g in blocks_by_groups]\\n    return balance_deltas', \"deltas_m = getClustersBalanceDeltasByGroupsNpPar(MNC.blocks, MNC[S_MAP_A2C][''], MNC.group_size)\", 'import multiprocessing as mp\\n\\ndef getClustersBal... g in blocks_by_groups]\\n    return balance_deltas', \"deltas_m = getClustersBalanceDeltasByGroupsNpPar(MNC.blocks, MNC[S_MAP_A2C][''], MNC.group_size)\", 'import multiprocessing as mp\\n\\ndef getClustersBal... g in blocks_by_groups]\\n    return balance_deltas', \"deltas_m = getClustersBalanceDeltasByGroupsNpPar(MNC.blocks, MNC[S_MAP_A2C][''], MNC.group_size)\", 'get_ipython().run_line_magic(\\'time\\', \"deltas_m =...MNC.blocks, MNC[S_MAP_A2C][\\'\\'], MNC.group_size)\")', 'import multiprocessing as mp\\n\\ndef getClustersBal... g in blocks_by_groups]\\n    return balance_deltas', ...], 'MNC': <my_tools.CoinDataMgr object>, 'Out': {27: defaultdict(<function getClustersBalanceDeltasNp...00.0, 2358: 300000000000.0, 2359: 50000000000.0}), 28: [21, 46, 83, 100, 114, 111, 146, 73, 195, 76, 56, 53, 59, 138, 180, 156, 171, 122, 96, 94], 61: defaultdict(<function getClustersBalanceDeltasNp...0000000.0, 2558: 200000000.0, 2559: 200000000.0}), 62: ['__class__', '__contains__', '__copy__', '__delattr__', '__delitem__', '__dir__', '__doc__', '__eq__', '__format__', '__ge__', '__getattribute__', '__getitem__', '__gt__', '__hash__', '__init__', '__iter__', '__le__', '__len__', '__lt__', '__missing__', ...], 63: defaultdict(<function getClustersBalanceDeltasNp...0000000.0, 2558: 200000000.0, 2559: 200000000.0}), 65: defaultdict(<function <lambda> at 0x7f9c4c58fe18>, {'a': 5.0}), 67: defaultdict(<function <lambda> at 0x7f9c4c58fe18>, {'a': 5.0}), 71: [defaultdict(<function A.<locals>.<lambda> at 0x7f9c0411c048>, {'a': 5.0})], 72: [defaultdict(<function A.<locals>.<lambda> at 0x7f9c4c58f2f0>, {'a': 5.0})], 74: [defaultdict(<function A2.<locals>.<lambda> at 0x7f9c4c5cd9d8>, {}), defaultdict(<function A2.<locals>.<lambda> at 0x7f9c4c5cd268>, {}), defaultdict(<function A2.<locals>.<lambda> at 0x7f9c4c5cd2f0>, {})], ...}, 'Parallel': <class 'joblib.parallel.Parallel'>, ...})\n   1233                 return\n   1234             end = clock2()\n   1235         else:\n   1236             st = clock2()\n   1237             try:\n-> 1238                 exec(code, glob, local_ns)\n        code = <code object <module> at 0x7f9aeb2d8d20, file \"<timed exec>\", line 1>\n        glob = {'A': <function A>, 'A2': <function A2>, 'B': <function B>, 'B2': <function B2>, 'CoinDataMgr': <class 'my_tools.CoinDataMgr'>, 'DataVersions': <class 'my_tools.DataVersions'>, 'In': ['', 'from my_tools import *', 'import multiprocessing as mp\\n\\ndef getClustersBal... g in blocks_by_groups]\\n    return balance_deltas', 'def sumClustersBalanceDeltas(clustersBalanceDelt...ce_sums += deltas[cl_idx]\\n    return balance_sums', '# Q_MINCOIN\\nMNC = CoinDataMgr(blocksci_path=\"/ho...500k_blocks\",\\n                  max_block=500000)', 'MNC[S_MAP_A2C].readAll()', \"deltas_m = getClustersBalanceDeltasByGroupsNpPar(MNC.blocks, MNC[S_MAP_A2C][''], MNC.group_size)\", 'import multiprocessing as mp\\n\\ndef getClustersBal... g in blocks_by_groups]\\n    return balance_deltas', 'import multiprocessing as mp\\n\\ndef getClustersBal... g in blocks_by_groups]\\n    return balance_deltas', \"deltas_m = getClustersBalanceDeltasByGroupsNpPar(MNC.blocks, MNC[S_MAP_A2C][''], MNC.group_size)\", 'import multiprocessing as mp\\n\\ndef getClustersBal... g in blocks_by_groups]\\n    return balance_deltas', \"deltas_m = getClustersBalanceDeltasByGroupsNpPar(MNC.blocks, MNC[S_MAP_A2C][''], MNC.group_size)\", 'import multiprocessing as mp\\n\\ndef getClustersBal... g in blocks_by_groups]\\n    return balance_deltas', \"deltas_m = getClustersBalanceDeltasByGroupsNpPar(MNC.blocks, MNC[S_MAP_A2C][''], MNC.group_size)\", 'import multiprocessing as mp\\n\\ndef getClustersBal... g in blocks_by_groups]\\n    return balance_deltas', \"deltas_m = getClustersBalanceDeltasByGroupsNpPar(MNC.blocks, MNC[S_MAP_A2C][''], MNC.group_size)\", 'import multiprocessing as mp\\n\\ndef getClustersBal... g in blocks_by_groups]\\n    return balance_deltas', \"deltas_m = getClustersBalanceDeltasByGroupsNpPar(MNC.blocks, MNC[S_MAP_A2C][''], MNC.group_size)\", 'get_ipython().run_line_magic(\\'time\\', \"deltas_m =...MNC.blocks, MNC[S_MAP_A2C][\\'\\'], MNC.group_size)\")', 'import multiprocessing as mp\\n\\ndef getClustersBal... g in blocks_by_groups]\\n    return balance_deltas', ...], 'MNC': <my_tools.CoinDataMgr object>, 'Out': {27: defaultdict(<function getClustersBalanceDeltasNp...00.0, 2358: 300000000000.0, 2359: 50000000000.0}), 28: [21, 46, 83, 100, 114, 111, 146, 73, 195, 76, 56, 53, 59, 138, 180, 156, 171, 122, 96, 94], 61: defaultdict(<function getClustersBalanceDeltasNp...0000000.0, 2558: 200000000.0, 2559: 200000000.0}), 62: ['__class__', '__contains__', '__copy__', '__delattr__', '__delitem__', '__dir__', '__doc__', '__eq__', '__format__', '__ge__', '__getattribute__', '__getitem__', '__gt__', '__hash__', '__init__', '__iter__', '__le__', '__len__', '__lt__', '__missing__', ...], 63: defaultdict(<function getClustersBalanceDeltasNp...0000000.0, 2558: 200000000.0, 2559: 200000000.0}), 65: defaultdict(<function <lambda> at 0x7f9c4c58fe18>, {'a': 5.0}), 67: defaultdict(<function <lambda> at 0x7f9c4c58fe18>, {'a': 5.0}), 71: [defaultdict(<function A.<locals>.<lambda> at 0x7f9c0411c048>, {'a': 5.0})], 72: [defaultdict(<function A.<locals>.<lambda> at 0x7f9c4c58f2f0>, {'a': 5.0})], 74: [defaultdict(<function A2.<locals>.<lambda> at 0x7f9c4c5cd9d8>, {}), defaultdict(<function A2.<locals>.<lambda> at 0x7f9c4c5cd268>, {}), defaultdict(<function A2.<locals>.<lambda> at 0x7f9c4c5cd2f0>, {})], ...}, 'Parallel': <class 'joblib.parallel.Parallel'>, ...}\n        local_ns = {'A': <function A>, 'A2': <function A2>, 'B': <function B>, 'B2': <function B2>, 'CoinDataMgr': <class 'my_tools.CoinDataMgr'>, 'DataVersions': <class 'my_tools.DataVersions'>, 'In': ['', 'from my_tools import *', 'import multiprocessing as mp\\n\\ndef getClustersBal... g in blocks_by_groups]\\n    return balance_deltas', 'def sumClustersBalanceDeltas(clustersBalanceDelt...ce_sums += deltas[cl_idx]\\n    return balance_sums', '# Q_MINCOIN\\nMNC = CoinDataMgr(blocksci_path=\"/ho...500k_blocks\",\\n                  max_block=500000)', 'MNC[S_MAP_A2C].readAll()', \"deltas_m = getClustersBalanceDeltasByGroupsNpPar(MNC.blocks, MNC[S_MAP_A2C][''], MNC.group_size)\", 'import multiprocessing as mp\\n\\ndef getClustersBal... g in blocks_by_groups]\\n    return balance_deltas', 'import multiprocessing as mp\\n\\ndef getClustersBal... g in blocks_by_groups]\\n    return balance_deltas', \"deltas_m = getClustersBalanceDeltasByGroupsNpPar(MNC.blocks, MNC[S_MAP_A2C][''], MNC.group_size)\", 'import multiprocessing as mp\\n\\ndef getClustersBal... g in blocks_by_groups]\\n    return balance_deltas', \"deltas_m = getClustersBalanceDeltasByGroupsNpPar(MNC.blocks, MNC[S_MAP_A2C][''], MNC.group_size)\", 'import multiprocessing as mp\\n\\ndef getClustersBal... g in blocks_by_groups]\\n    return balance_deltas', \"deltas_m = getClustersBalanceDeltasByGroupsNpPar(MNC.blocks, MNC[S_MAP_A2C][''], MNC.group_size)\", 'import multiprocessing as mp\\n\\ndef getClustersBal... g in blocks_by_groups]\\n    return balance_deltas', \"deltas_m = getClustersBalanceDeltasByGroupsNpPar(MNC.blocks, MNC[S_MAP_A2C][''], MNC.group_size)\", 'import multiprocessing as mp\\n\\ndef getClustersBal... g in blocks_by_groups]\\n    return balance_deltas', \"deltas_m = getClustersBalanceDeltasByGroupsNpPar(MNC.blocks, MNC[S_MAP_A2C][''], MNC.group_size)\", 'get_ipython().run_line_magic(\\'time\\', \"deltas_m =...MNC.blocks, MNC[S_MAP_A2C][\\'\\'], MNC.group_size)\")', 'import multiprocessing as mp\\n\\ndef getClustersBal... g in blocks_by_groups]\\n    return balance_deltas', ...], 'MNC': <my_tools.CoinDataMgr object>, 'Out': {27: defaultdict(<function getClustersBalanceDeltasNp...00.0, 2358: 300000000000.0, 2359: 50000000000.0}), 28: [21, 46, 83, 100, 114, 111, 146, 73, 195, 76, 56, 53, 59, 138, 180, 156, 171, 122, 96, 94], 61: defaultdict(<function getClustersBalanceDeltasNp...0000000.0, 2558: 200000000.0, 2559: 200000000.0}), 62: ['__class__', '__contains__', '__copy__', '__delattr__', '__delitem__', '__dir__', '__doc__', '__eq__', '__format__', '__ge__', '__getattribute__', '__getitem__', '__gt__', '__hash__', '__init__', '__iter__', '__le__', '__len__', '__lt__', '__missing__', ...], 63: defaultdict(<function getClustersBalanceDeltasNp...0000000.0, 2558: 200000000.0, 2559: 200000000.0}), 65: defaultdict(<function <lambda> at 0x7f9c4c58fe18>, {'a': 5.0}), 67: defaultdict(<function <lambda> at 0x7f9c4c58fe18>, {'a': 5.0}), 71: [defaultdict(<function A.<locals>.<lambda> at 0x7f9c0411c048>, {'a': 5.0})], 72: [defaultdict(<function A.<locals>.<lambda> at 0x7f9c4c58f2f0>, {'a': 5.0})], 74: [defaultdict(<function A2.<locals>.<lambda> at 0x7f9c4c5cd9d8>, {}), defaultdict(<function A2.<locals>.<lambda> at 0x7f9c4c5cd268>, {}), defaultdict(<function A2.<locals>.<lambda> at 0x7f9c4c5cd2f0>, {})], ...}, 'Parallel': <class 'joblib.parallel.Parallel'>, ...}\n   1239             except:\n   1240                 self.shell.showtraceback()\n   1241                 return\n   1242             end = clock2()\n\n...........................................................................\n/home/ubuntu/thesis_work/<timed exec> in <module>()\n\n...........................................................................\n/home/ubuntu/thesis_work/<ipython-input-161-addeb0ee4414> in getClustersBalanceDeltasByGroupsNpPar__2(blocks=<blocksci.BlockRange object>, map_address2cluster={address_type.nonstandard: array([2339,    0,    1, ...,    0,    0,    0], dtype=int32), address_type.pubkey: array([592053,   2339,   2340, ...,      0,      0,      0], dtype=int32), address_type.pubkeyhash: array([592053,   2339,   2340, ...,      0,      0,      0], dtype=int32), address_type.multisig_pubkey: array([592053,   2339,   2340, ...,      0,      0,      0], dtype=int32), address_type.scripthash: array([    1, 33625,     0, ...,     0,     0,     0], dtype=int32), address_type.multisig: array([0, 0, 0, ..., 0, 0, 0], dtype=int32), address_type.nulldata: array([56890, 33626, 33627, ...,     0,     0,     0], dtype=int32), address_type.witness_pubkeyhash: array([592053,   2339,   2340, ...,      0,      0,      0], dtype=int32), address_type.witness_scripthash: array([    1, 33625,     0, ...,     0,     0,     0], dtype=int32)}, interval=1000)\n     76 def getClustersBalanceDeltasByGroupsNpPar__2(blocks, map_address2cluster, interval):\n     77     blocks_by_groups = [parseBlocks2(blocks[i: i + interval]) for i in range(0, len(blocks), interval)]\n     78     #print(blocks_by_groups)\n     79     #pool = mp.Pool(processes=4)\n     80     \n---> 81     balance_deltas = Parallel(n_jobs=4, verbose=100)(delayed(getClustersBalanceDeltasNpDebug__2)(g, map_address2cluster) for g in blocks_by_groups)\n     82     #balance_deltas = [pool.apply(getClustersBalanceDeltasNp, (g, map_address2cluster))\n     83     #                  for g in blocks_by_groups]\n     84     return balance_deltas\n     85 \n\n...........................................................................\n/usr/local/lib/python3.5/dist-packages/joblib/parallel.py in __call__(self=Parallel(n_jobs=4), iterable=<generator object getClustersBalanceDeltasByGroupsNpPar__2.<locals>.<genexpr>>)\n    784             writer = sys.stderr.write\n    785         else:\n    786             writer = sys.stdout.write\n    787         msg = msg % msg_args\n    788         writer('[%s]: %s\\n' % (self, msg))\n--> 789 \n        self = Parallel(n_jobs=4)\n    790     def print_progress(self):\n    791         \"\"\"Display the process of the parallel execution only a fraction\n    792            of time, controlled by self.verbose.\n    793         \"\"\"\n\n---------------------------------------------------------------------------\nSub-process traceback:\n---------------------------------------------------------------------------\nTypeError                                          Sat Jun  9 02:40:28 2018\nPID: 23868                                   Python 3.5.2: /usr/bin/python3\n...........................................................................\n/usr/local/lib/python3.5/dist-packages/joblib/parallel.py in __call__(self=<joblib.parallel.BatchedCalls object>)\n    126     Alternatively backend can be passed directly as an instance.\n    127 \n    128     By default all available workers will be used (``n_jobs=-1``) unless the\n    129     caller passes an explicit value for the ``n_jobs`` parameter.\n    130 \n--> 131     This is an alternative to passing a ``backend='backend_name'`` argument to\n    132     the ``Parallel`` class constructor. It is particularly useful when calling\n    133     into library code that uses joblib internally but does not expose the\n    134     backend argument in its own API.\n    135 \n\n...........................................................................\n/usr/local/lib/python3.5/dist-packages/joblib/parallel.py in <listcomp>(.0=<list_iterator object>)\n    126     Alternatively backend can be passed directly as an instance.\n    127 \n    128     By default all available workers will be used (``n_jobs=-1``) unless the\n    129     caller passes an explicit value for the ``n_jobs`` parameter.\n    130 \n--> 131     This is an alternative to passing a ``backend='backend_name'`` argument to\n    132     the ``Parallel`` class constructor. It is particularly useful when calling\n    133     into library code that uses joblib internally but does not expose the\n    134     backend argument in its own API.\n    135 \n\n...........................................................................\n/home/ubuntu/thesis_work/<ipython-input-161-addeb0ee4414> in getClustersBalanceDeltasNpDebug__2(blocks=[[{'num': 1, 'type': address_type.pubkey, 'val': 5000000000}]], map_address2cluster={address_type.nonstandard: array([2339,    0,    1, ...,    0,    0,    0], dtype=int32), address_type.pubkey: memmap([592053,   2339,   2340, ...,      0,      0,      0], dtype=int32), address_type.pubkeyhash: memmap([592053,   2339,   2340, ...,      0,      0,      0], dtype=int32), address_type.multisig_pubkey: memmap([592053,   2339,   2340, ...,      0,      0,      0], dtype=int32), address_type.scripthash: array([    1, 33625,     0, ...,     0,     0,     0], dtype=int32), address_type.multisig: array([0, 0, 0, ..., 0, 0, 0], dtype=int32), address_type.nulldata: array([56890, 33626, 33627, ...,     0,     0,     0], dtype=int32), address_type.witness_pubkeyhash: memmap([592053,   2339,   2340, ...,      0,      0,      0], dtype=int32), address_type.witness_scripthash: array([    1, 33625,     0, ...,     0,     0,     0], dtype=int32)})\n     61     #        balance_deltas[cluster_idx] -= in_.value\n     62     #return balance_deltas\n     63     #print(len(blocks))\n     64     balance_deltas = collections.defaultdict(lambda: 0.)\n     65     for b in blocks:\n---> 66         for out in b['o']:\n     67             add = out.address\n     68             cluster_idx = map_address2cluster[add.type][add.address_num]\n     69             balance_deltas[cluster_idx] += out.value\n     70         for in_ in b['i']:\n\nTypeError: list indices must be integers or slices, not str\n___________________________________________________________________________"
     ]
    }
   ],
   "source": [
    "%time deltas_par_m = getClustersBalanceDeltasByGroupsNpPar__2(MNC.blocks[:1], MNC[S_MAP_A2C][''], MNC.group_size)"
   ]
  },
  {
   "cell_type": "code",
   "execution_count": 137,
   "metadata": {},
   "outputs": [
    {
     "name": "stdout",
     "output_type": "stream",
     "text": [
      "1000\n",
      "Pickling array (shape=(100000,), dtype=int32).\n",
      "Memmaping (shape=(600000,), dtype=int32) to new file /dev/shm/joblib_memmaping_pool_15936_140304774188280/15936-140303388715608-266b86af8f90c58c4d333c72aabccdbf.pkl\n",
      "Memmaping (shape=(600000,), dtype=int32) to old file /dev/shm/joblib_memmaping_pool_15936_140304774188280/15936-140303388715608-266b86af8f90c58c4d333c72aabccdbf.pkl\n",
      "Memmaping (shape=(600000,), dtype=int32) to old file /dev/shm/joblib_memmaping_pool_15936_140304774188280/15936-140303388715608-266b86af8f90c58c4d333c72aabccdbf.pkl\n",
      "Pickling array (shape=(100000,), dtype=int32).\n",
      "Pickling array (shape=(100000,), dtype=int32).\n",
      "Pickling array (shape=(100000,), dtype=int32).\n",
      "Memmaping (shape=(600000,), dtype=int32) to old file /dev/shm/joblib_memmaping_pool_15936_140304774188280/15936-140303388715608-266b86af8f90c58c4d333c72aabccdbf.pkl\n",
      "Pickling array (shape=(100000,), dtype=int32).\n",
      "[Parallel(n_jobs=4)]: Done   1 tasks      | elapsed:    0.0s\n",
      "[Parallel(n_jobs=4)]: Batch computation too fast (0.0443s.) Setting batch_size=8.\n",
      "[Parallel(n_jobs=4)]: Done   1 out of   1 | elapsed:    0.0s finished\n",
      "CPU times: user 228 ms, sys: 0 ns, total: 228 ms\n",
      "Wall time: 291 ms\n"
     ]
    }
   ],
   "source": [
    "%time deltas_par_m = getClustersBalanceDeltasByGroupsNpPar(MNC.blocks[:1000], MNC[S_MAP_A2C][''], MNC.group_size)"
   ]
  },
  {
   "cell_type": "code",
   "execution_count": 30,
   "metadata": {},
   "outputs": [
    {
     "name": "stdout",
     "output_type": "stream",
     "text": [
      "CPU times: user 17.7 s, sys: 0 ns, total: 17.7 s\n",
      "Wall time: 17.3 s\n"
     ]
    }
   ],
   "source": [
    "%time deltas_m = getClustersBalanceDeltasByGroupsNp(MNC.blocks, MNC[S_MAP_A2C][''], MNC.group_size)"
   ]
  },
  {
   "cell_type": "code",
   "execution_count": 86,
   "metadata": {},
   "outputs": [
    {
     "name": "stdout",
     "output_type": "stream",
     "text": [
      "CPU times: user 18.1 s, sys: 0 ns, total: 18.1 s\n",
      "Wall time: 17.4 s\n"
     ]
    }
   ],
   "source": [
    "%time deltas2_m = getClustersBalanceDeltasByGroupsNp(MNC.blocks, MNC[S_MAP_A2C][''], MNC.group_size)"
   ]
  },
  {
   "cell_type": "code",
   "execution_count": 87,
   "metadata": {},
   "outputs": [
    {
     "data": {
      "text/plain": [
       "{2339: 5000000000.0,\n",
       " 2340: 2500000000000.0,\n",
       " 2341: 11500000000000.0,\n",
       " 2342: 1000000000000.0,\n",
       " 2343: 150000000000.0,\n",
       " 2344: 250000000000.0,\n",
       " 2345: 2500000000000.0,\n",
       " 2346: 100000000000.0,\n",
       " 2347: 50000000000.0,\n",
       " 2348: 50000000000.0,\n",
       " 2349: 4250000000000.0,\n",
       " 2350: 1500000000000.0,\n",
       " 2351: 400000000000.0,\n",
       " 2352: 50000000000.0,\n",
       " 2353: 100000000000.0,\n",
       " 2354: 300000000000.0,\n",
       " 2355: 50000000000.0,\n",
       " 2356: 9450000000000.0,\n",
       " 2357: 15400000000000.0,\n",
       " 2358: 300000000000.0,\n",
       " 2359: 50000000000.0}"
      ]
     },
     "execution_count": 87,
     "metadata": {},
     "output_type": "execute_result"
    }
   ],
   "source": [
    "deltas2_m[0]"
   ]
  },
  {
   "cell_type": "code",
   "execution_count": 166,
   "metadata": {},
   "outputs": [
    {
     "name": "stdout",
     "output_type": "stream",
     "text": [
      "There is already np version of data, stop\n"
     ]
    }
   ],
   "source": [
    "LTC[S_MAP_A2C].read('np')"
   ]
  },
  {
   "cell_type": "code",
   "execution_count": null,
   "metadata": {},
   "outputs": [],
   "source": []
  },
  {
   "cell_type": "code",
   "execution_count": 63,
   "metadata": {},
   "outputs": [
    {
     "data": {
      "text/plain": [
       "defaultdict(<function __main__.getClustersBalanceDeltasNp.<locals>.<lambda>>,\n",
       "            {2341: 25131890000000.0,\n",
       "             2345: -2500000000000.0,\n",
       "             2356: 185600000000.0,\n",
       "             2357: -24997980000000.0,\n",
       "             2358: 23010000000.0,\n",
       "             2359: 5000000000.0,\n",
       "             2362: 20000000000.0,\n",
       "             2364: 25000000000.0,\n",
       "             2397: 10000000000.0,\n",
       "             2430: 15000000000.0,\n",
       "             2432: 5000000000.0,\n",
       "             2441: 5000000000.0,\n",
       "             2443: 52000000000.0,\n",
       "             2445: 5000000000.0,\n",
       "             2471: 90000000000.0,\n",
       "             2478: 122000000000.0,\n",
       "             2486: 367270000000.0,\n",
       "             2498: 800000000.0,\n",
       "             2532: 311000000000.0,\n",
       "             2546: 283800000000.0,\n",
       "             2547: 5000000000.0,\n",
       "             2548: 5000000000.0,\n",
       "             2549: 5000000000.0,\n",
       "             2550: 5000000000.0,\n",
       "             2551: 5000000000.0,\n",
       "             2552: 5000000000.0,\n",
       "             2553: 200000000.0,\n",
       "             2554: 200000000.0,\n",
       "             2555: 200000000.0,\n",
       "             2556: 200000000.0,\n",
       "             2557: 200000000.0,\n",
       "             2558: 200000000.0,\n",
       "             2559: 200000000.0,\n",
       "             2560: 200000000.0,\n",
       "             2561: 200000000.0,\n",
       "             2562: 200000000.0,\n",
       "             2563: 200000000.0,\n",
       "             2564: 200000000.0,\n",
       "             2565: 200000000.0,\n",
       "             2566: 0.0,\n",
       "             2567: 2501200000000.0,\n",
       "             2568: 200000000.0,\n",
       "             2569: 200000000.0,\n",
       "             2570: 200000000.0,\n",
       "             2571: 210000000.0,\n",
       "             2572: 200000000.0,\n",
       "             2573: 200000000.0,\n",
       "             2574: 200000000.0,\n",
       "             2575: 200000000.0,\n",
       "             2576: 200000000.0,\n",
       "             2577: 200000000.0,\n",
       "             2578: 200000000.0,\n",
       "             2579: 200000000.0,\n",
       "             2580: 12200000000.0,\n",
       "             2581: 200000000.0,\n",
       "             2582: 200000000.0,\n",
       "             2583: 200000000.0,\n",
       "             2584: 200000000.0,\n",
       "             2585: 1600000000.0,\n",
       "             2586: 1400000000.0,\n",
       "             2587: 3200000000.0,\n",
       "             2588: 1600000000.0,\n",
       "             2589: 1200000000.0,\n",
       "             2590: 2000000000.0,\n",
       "             2591: 800000000.0,\n",
       "             2592: 1800000000.0,\n",
       "             2593: 200000000.0,\n",
       "             2594: 200000000.0,\n",
       "             2595: 200000000.0,\n",
       "             2596: 200000000.0,\n",
       "             2597: 400000000.0,\n",
       "             2598: 400000000.0,\n",
       "             2599: 400000000.0,\n",
       "             2600: 200000000.0,\n",
       "             2601: 400000000.0,\n",
       "             2602: 200000000.0,\n",
       "             2603: 200000000.0,\n",
       "             2604: 200000000.0,\n",
       "             2605: 200000000.0,\n",
       "             2606: 400000000.0,\n",
       "             2607: 800000000.0,\n",
       "             2608: 200000000.0,\n",
       "             2609: 200000000.0,\n",
       "             2610: 200000000.0,\n",
       "             2611: 200000000.0,\n",
       "             2612: 200000000.0,\n",
       "             2613: 200000000.0,\n",
       "             2614: 1000000000.0,\n",
       "             2615: 200000000.0,\n",
       "             2616: 200000000.0,\n",
       "             2617: 200000000.0,\n",
       "             2618: 200000000.0,\n",
       "             2619: 200000000.0,\n",
       "             2620: 800000000.0,\n",
       "             2621: 200000000.0,\n",
       "             2622: 200000000.0,\n",
       "             2623: 200000000.0,\n",
       "             2624: 600000000.0,\n",
       "             2625: 400000000.0,\n",
       "             2626: 200000000.0,\n",
       "             2627: 200000000.0,\n",
       "             2628: 200000000.0,\n",
       "             2629: 400000000.0,\n",
       "             2630: 200000000.0,\n",
       "             2631: 200000000.0,\n",
       "             2632: 400000000.0,\n",
       "             2633: 400000000.0,\n",
       "             2634: 200000000.0,\n",
       "             2635: 200000000.0,\n",
       "             2636: 200000000.0,\n",
       "             2637: 200000000.0,\n",
       "             2638: 200000000.0,\n",
       "             2639: 200000000.0,\n",
       "             2640: 200000000.0})"
      ]
     },
     "execution_count": 63,
     "metadata": {},
     "output_type": "execute_result"
    }
   ],
   "source": [
    "deltas_m[4]"
   ]
  },
  {
   "cell_type": "code",
   "execution_count": 81,
   "metadata": {},
   "outputs": [],
   "source": [
    "d = dict(collections.defaultdict(lambda: 0.))"
   ]
  },
  {
   "cell_type": "code",
   "execution_count": 66,
   "metadata": {},
   "outputs": [],
   "source": [
    "d['a'] += 5"
   ]
  },
  {
   "cell_type": "code",
   "execution_count": 82,
   "metadata": {},
   "outputs": [
    {
     "data": {
      "text/plain": [
       "{}"
      ]
     },
     "execution_count": 82,
     "metadata": {},
     "output_type": "execute_result"
    }
   ],
   "source": [
    "d"
   ]
  },
  {
   "cell_type": "code",
   "execution_count": null,
   "metadata": {},
   "outputs": [],
   "source": []
  },
  {
   "cell_type": "code",
   "execution_count": 79,
   "metadata": {},
   "outputs": [
    {
     "name": "stdout",
     "output_type": "stream",
     "text": [
      "defaultdict(<function A2.<locals>.<lambda> at 0x7f9c0411cd90>, {})\n",
      "defaultdict(<function A2.<locals>.<lambda> at 0x7f9c0411cd90>, {})\n"
     ]
    },
    {
     "data": {
      "text/plain": [
       "defaultdict(<function __main__.A2.<locals>.<lambda>>, {})"
      ]
     },
     "execution_count": 79,
     "metadata": {},
     "output_type": "execute_result"
    }
   ],
   "source": [
    "def A2():\n",
    "    print(collections.defaultdict(lambda: 0.))\n",
    "    balance_deltas = collections.defaultdict(lambda: 0.)\n",
    "    print(balance_deltas)\n",
    "    return balance_deltas\n",
    "A2()"
   ]
  },
  {
   "cell_type": "code",
   "execution_count": 80,
   "metadata": {},
   "outputs": [
    {
     "name": "stdout",
     "output_type": "stream",
     "text": [
      "defaultdict(<function <lambda> at 0x7f9c0411ce18>, {})\n"
     ]
    }
   ],
   "source": [
    "print(collections.defaultdict(lambda: 0.))"
   ]
  },
  {
   "cell_type": "code",
   "execution_count": null,
   "metadata": {},
   "outputs": [],
   "source": []
  },
  {
   "cell_type": "code",
   "execution_count": null,
   "metadata": {},
   "outputs": [],
   "source": []
  },
  {
   "cell_type": "code",
   "execution_count": null,
   "metadata": {},
   "outputs": [],
   "source": []
  },
  {
   "cell_type": "code",
   "execution_count": 44,
   "metadata": {},
   "outputs": [
    {
     "name": "stdout",
     "output_type": "stream",
     "text": [
      "1\n",
      "[[Block(numTxes=1, height=0, header_hash=12a765e31ffd4059bada1e25190f6e98c99d9714d334efa41a195a7e7e04bfe2, version=1, timestamp=1317972665, bits=0, nonce=2084524493)]]\n"
     ]
    },
    {
     "ename": "MaybeEncodingError",
     "evalue": "Error sending result: 'defaultdict(<function getClustersBalanceDeltasNp.<locals>.<lambda> at 0x7f9c4c664e18>, {})'. Reason: 'AttributeError(\"Can't pickle local object 'getClustersBalanceDeltasNp.<locals>.<lambda>'\",)'",
     "output_type": "error",
     "traceback": [
      "\u001b[0;31m---------------------------------------------------------------------------\u001b[0m",
      "\u001b[0;31mMaybeEncodingError\u001b[0m                        Traceback (most recent call last)",
      "\u001b[0;32m<timed exec>\u001b[0m in \u001b[0;36m<module>\u001b[0;34m()\u001b[0m\n",
      "\u001b[0;32m<ipython-input-43-4c2e4ee1c84b>\u001b[0m in \u001b[0;36mgetClustersBalanceDeltasByGroupsNpParAsync\u001b[0;34m(blocks, map_address2cluster, interval)\u001b[0m\n\u001b[1;32m     33\u001b[0m     results = [pool.apply_async(getClustersBalanceDeltasNp, (g, map_address2cluster))\n\u001b[1;32m     34\u001b[0m                for g in blocks_by_groups]\n\u001b[0;32m---> 35\u001b[0;31m     \u001b[0mbalance_deltas\u001b[0m \u001b[0;34m=\u001b[0m \u001b[0;34m[\u001b[0m\u001b[0mp\u001b[0m\u001b[0;34m.\u001b[0m\u001b[0mget\u001b[0m\u001b[0;34m(\u001b[0m\u001b[0;34m)\u001b[0m \u001b[0;32mfor\u001b[0m \u001b[0mp\u001b[0m \u001b[0;32min\u001b[0m \u001b[0mresults\u001b[0m\u001b[0;34m]\u001b[0m\u001b[0;34m\u001b[0m\u001b[0m\n\u001b[0m\u001b[1;32m     36\u001b[0m     \u001b[0;32mreturn\u001b[0m \u001b[0mbalance_deltas\u001b[0m\u001b[0;34m\u001b[0m\u001b[0m\n",
      "\u001b[0;32m<ipython-input-43-4c2e4ee1c84b>\u001b[0m in \u001b[0;36m<listcomp>\u001b[0;34m(.0)\u001b[0m\n\u001b[1;32m     33\u001b[0m     results = [pool.apply_async(getClustersBalanceDeltasNp, (g, map_address2cluster))\n\u001b[1;32m     34\u001b[0m                for g in blocks_by_groups]\n\u001b[0;32m---> 35\u001b[0;31m     \u001b[0mbalance_deltas\u001b[0m \u001b[0;34m=\u001b[0m \u001b[0;34m[\u001b[0m\u001b[0mp\u001b[0m\u001b[0;34m.\u001b[0m\u001b[0mget\u001b[0m\u001b[0;34m(\u001b[0m\u001b[0;34m)\u001b[0m \u001b[0;32mfor\u001b[0m \u001b[0mp\u001b[0m \u001b[0;32min\u001b[0m \u001b[0mresults\u001b[0m\u001b[0;34m]\u001b[0m\u001b[0;34m\u001b[0m\u001b[0m\n\u001b[0m\u001b[1;32m     36\u001b[0m     \u001b[0;32mreturn\u001b[0m \u001b[0mbalance_deltas\u001b[0m\u001b[0;34m\u001b[0m\u001b[0m\n",
      "\u001b[0;32m/usr/lib/python3.5/multiprocessing/pool.py\u001b[0m in \u001b[0;36mget\u001b[0;34m(self, timeout)\u001b[0m\n\u001b[1;32m    606\u001b[0m             \u001b[0;32mreturn\u001b[0m \u001b[0mself\u001b[0m\u001b[0;34m.\u001b[0m\u001b[0m_value\u001b[0m\u001b[0;34m\u001b[0m\u001b[0m\n\u001b[1;32m    607\u001b[0m         \u001b[0;32melse\u001b[0m\u001b[0;34m:\u001b[0m\u001b[0;34m\u001b[0m\u001b[0m\n\u001b[0;32m--> 608\u001b[0;31m             \u001b[0;32mraise\u001b[0m \u001b[0mself\u001b[0m\u001b[0;34m.\u001b[0m\u001b[0m_value\u001b[0m\u001b[0;34m\u001b[0m\u001b[0m\n\u001b[0m\u001b[1;32m    609\u001b[0m \u001b[0;34m\u001b[0m\u001b[0m\n\u001b[1;32m    610\u001b[0m     \u001b[0;32mdef\u001b[0m \u001b[0m_set\u001b[0m\u001b[0;34m(\u001b[0m\u001b[0mself\u001b[0m\u001b[0;34m,\u001b[0m \u001b[0mi\u001b[0m\u001b[0;34m,\u001b[0m \u001b[0mobj\u001b[0m\u001b[0;34m)\u001b[0m\u001b[0;34m:\u001b[0m\u001b[0;34m\u001b[0m\u001b[0m\n",
      "\u001b[0;31mMaybeEncodingError\u001b[0m: Error sending result: 'defaultdict(<function getClustersBalanceDeltasNp.<locals>.<lambda> at 0x7f9c4c664e18>, {})'. Reason: 'AttributeError(\"Can't pickle local object 'getClustersBalanceDeltasNp.<locals>.<lambda>'\",)'"
     ]
    },
    {
     "name": "stderr",
     "output_type": "stream",
     "text": [
      "Process ForkPoolWorker-811:\n",
      "Process ForkPoolWorker-810:\n",
      "Process ForkPoolWorker-809:\n",
      "Process ForkPoolWorker-812:\n",
      "Process ForkPoolWorker-806:\n",
      "Process ForkPoolWorker-808:\n",
      "Process ForkPoolWorker-807:\n",
      "Traceback (most recent call last):\n",
      "Process ForkPoolWorker-805:\n",
      "Traceback (most recent call last):\n",
      "Traceback (most recent call last):\n",
      "Traceback (most recent call last):\n",
      "  File \"/usr/lib/python3.5/multiprocessing/process.py\", line 249, in _bootstrap\n",
      "    self.run()\n",
      "Traceback (most recent call last):\n",
      "Traceback (most recent call last):\n",
      "  File \"/usr/lib/python3.5/multiprocessing/process.py\", line 249, in _bootstrap\n",
      "    self.run()\n",
      "  File \"/usr/lib/python3.5/multiprocessing/process.py\", line 249, in _bootstrap\n",
      "    self.run()\n",
      "  File \"/usr/lib/python3.5/multiprocessing/process.py\", line 249, in _bootstrap\n",
      "    self.run()\n",
      "  File \"/usr/lib/python3.5/multiprocessing/process.py\", line 93, in run\n",
      "    self._target(*self._args, **self._kwargs)\n",
      "Traceback (most recent call last):\n",
      "  File \"/usr/lib/python3.5/multiprocessing/process.py\", line 249, in _bootstrap\n",
      "    self.run()\n",
      "  File \"/usr/lib/python3.5/multiprocessing/process.py\", line 93, in run\n",
      "    self._target(*self._args, **self._kwargs)\n",
      "Traceback (most recent call last):\n",
      "  File \"/usr/lib/python3.5/multiprocessing/pool.py\", line 108, in worker\n",
      "    task = get()\n",
      "  File \"/usr/lib/python3.5/multiprocessing/process.py\", line 249, in _bootstrap\n",
      "    self.run()\n",
      "  File \"/usr/lib/python3.5/multiprocessing/process.py\", line 249, in _bootstrap\n",
      "    self.run()\n",
      "  File \"/usr/lib/python3.5/multiprocessing/process.py\", line 93, in run\n",
      "    self._target(*self._args, **self._kwargs)\n",
      "  File \"/usr/lib/python3.5/multiprocessing/process.py\", line 93, in run\n",
      "    self._target(*self._args, **self._kwargs)\n",
      "  File \"/usr/lib/python3.5/multiprocessing/process.py\", line 93, in run\n",
      "    self._target(*self._args, **self._kwargs)\n",
      "  File \"/usr/lib/python3.5/multiprocessing/pool.py\", line 108, in worker\n",
      "    task = get()\n",
      "  File \"/usr/lib/python3.5/multiprocessing/process.py\", line 93, in run\n",
      "    self._target(*self._args, **self._kwargs)\n",
      "  File \"/usr/lib/python3.5/multiprocessing/pool.py\", line 108, in worker\n",
      "    task = get()\n",
      "  File \"/usr/lib/python3.5/multiprocessing/process.py\", line 249, in _bootstrap\n",
      "    self.run()\n",
      "  File \"/usr/lib/python3.5/multiprocessing/queues.py\", line 342, in get\n",
      "    with self._rlock:\n",
      "  File \"/usr/lib/python3.5/multiprocessing/pool.py\", line 108, in worker\n",
      "    task = get()\n",
      "  File \"/usr/lib/python3.5/multiprocessing/process.py\", line 93, in run\n",
      "    self._target(*self._args, **self._kwargs)\n",
      "  File \"/usr/lib/python3.5/multiprocessing/queues.py\", line 342, in get\n",
      "    with self._rlock:\n",
      "  File \"/usr/lib/python3.5/multiprocessing/queues.py\", line 342, in get\n",
      "    with self._rlock:\n",
      "  File \"/usr/lib/python3.5/multiprocessing/synchronize.py\", line 96, in __enter__\n",
      "    return self._semlock.__enter__()\n",
      "  File \"/usr/lib/python3.5/multiprocessing/synchronize.py\", line 96, in __enter__\n",
      "    return self._semlock.__enter__()\n",
      "  File \"/usr/lib/python3.5/multiprocessing/pool.py\", line 108, in worker\n",
      "    task = get()\n",
      "KeyboardInterrupt\n",
      "  File \"/usr/lib/python3.5/multiprocessing/pool.py\", line 108, in worker\n",
      "    task = get()\n",
      "  File \"/usr/lib/python3.5/multiprocessing/queues.py\", line 342, in get\n",
      "    with self._rlock:\n",
      "  File \"/usr/lib/python3.5/multiprocessing/synchronize.py\", line 96, in __enter__\n",
      "    return self._semlock.__enter__()\n",
      "KeyboardInterrupt\n",
      "  File \"/usr/lib/python3.5/multiprocessing/process.py\", line 93, in run\n",
      "    self._target(*self._args, **self._kwargs)\n",
      "  File \"/usr/lib/python3.5/multiprocessing/queues.py\", line 342, in get\n",
      "    with self._rlock:\n",
      "  File \"/usr/lib/python3.5/multiprocessing/synchronize.py\", line 96, in __enter__\n",
      "    return self._semlock.__enter__()\n",
      "KeyboardInterrupt\n",
      "  File \"/usr/lib/python3.5/multiprocessing/pool.py\", line 108, in worker\n",
      "    task = get()\n",
      "  File \"/usr/lib/python3.5/multiprocessing/queues.py\", line 343, in get\n",
      "    res = self._reader.recv_bytes()\n",
      "KeyboardInterrupt\n",
      "  File \"/usr/lib/python3.5/multiprocessing/connection.py\", line 216, in recv_bytes\n",
      "    buf = self._recv_bytes(maxlength)\n",
      "  File \"/usr/lib/python3.5/multiprocessing/pool.py\", line 108, in worker\n",
      "    task = get()\n",
      "  File \"/usr/lib/python3.5/multiprocessing/queues.py\", line 342, in get\n",
      "    with self._rlock:\n",
      "  File \"/usr/lib/python3.5/multiprocessing/synchronize.py\", line 96, in __enter__\n",
      "    return self._semlock.__enter__()\n",
      "  File \"/usr/lib/python3.5/multiprocessing/synchronize.py\", line 96, in __enter__\n",
      "    return self._semlock.__enter__()\n",
      "KeyboardInterrupt\n",
      "KeyboardInterrupt\n",
      "  File \"/usr/lib/python3.5/multiprocessing/queues.py\", line 342, in get\n",
      "    with self._rlock:\n",
      "  File \"/usr/lib/python3.5/multiprocessing/connection.py\", line 407, in _recv_bytes\n",
      "    buf = self._recv(4)\n",
      "  File \"/usr/lib/python3.5/multiprocessing/synchronize.py\", line 96, in __enter__\n",
      "    return self._semlock.__enter__()\n",
      "  File \"/usr/lib/python3.5/multiprocessing/connection.py\", line 379, in _recv\n",
      "    chunk = read(handle, remaining)\n",
      "KeyboardInterrupt\n",
      "KeyboardInterrupt\n"
     ]
    }
   ],
   "source": [
    "%time deltas_m = getClustersBalanceDeltasByGroupsNpParAsync(MNC.blocks[:1], MNC[S_MAP_A2C][''], MNC.group_size)"
   ]
  },
  {
   "cell_type": "code",
   "execution_count": null,
   "metadata": {},
   "outputs": [],
   "source": []
  },
  {
   "cell_type": "markdown",
   "metadata": {},
   "source": [
    "## Попытка проверить, что балансы начали \"правильно\" считаться после учёта комиссии"
   ]
  },
  {
   "cell_type": "code",
   "execution_count": null,
   "metadata": {},
   "outputs": [],
   "source": [
    "def getClustersBalanceDeltasNp(blocks, map_address2cluster):\n",
    "    balance_deltas = collections.defaultdict(lambda: 0)\n",
    "    for b in blocks:\n",
    "        for out in b.outputs:\n",
    "            add = out.address\n",
    "            cluster_idx = map_address2cluster[add.type][add.address_num]\n",
    "            balance_deltas[cluster_idx] += out.value\n",
    "        for in_ in b.inputs:\n",
    "            add = in_.address\n",
    "            cluster_idx = map_address2cluster[add.type][add.address_num]\n",
    "            balance_deltas[cluster_idx] -= in_.value\n",
    "    return balance_deltas\n",
    "\n",
    "def getClustersBalanceDeltasByGroupsNp(blocks, map_address2cluster, interval):\n",
    "    print('Eto ya :)')\n",
    "    blocks_by_groups = [blocks[i: i + interval] for i in range(0, len(blocks), interval)]\n",
    "    balance_deltas = [getClustersBalanceDeltasNp(g, map_address2cluster) for g in blocks_by_groups]\n",
    "    return balance_deltas\n",
    "\n",
    "def getClustersBalanceDeltasNpCorrect(blocks, map_address2cluster):\n",
    "    balance_deltas = collections.defaultdict(lambda: 0)\n",
    "    for b in blocks:\n",
    "        for out in b.outputs:\n",
    "            if out.tx.is_coinbase:\n",
    "                continue\n",
    "            add = out.address\n",
    "            cluster_idx = map_address2cluster[add.type][add.address_num]\n",
    "            balance_deltas[cluster_idx] += out.value\n",
    "        for in_ in b.inputs:\n",
    "            #if in_.tx.is_coinbase:\n",
    "            #    continue\n",
    "            add = in_.address\n",
    "            cluster_idx = map_address2cluster[add.type][add.address_num]\n",
    "            balance_deltas[cluster_idx] -= in_.value\n",
    "    return balance_deltas\n",
    "\n",
    "def getClustersBalanceDeltasByGroupsNpCorrect(blocks, map_address2cluster, interval):\n",
    "    print('Eto ya :)')\n",
    "    blocks_by_groups = [blocks[i: i + interval] for i in range(0, len(blocks), interval)]\n",
    "    balance_deltas = [getClustersBalanceDeltasNpCorrect(g, map_address2cluster) for g in blocks_by_groups]\n",
    "    return balance_deltas\n",
    "\n",
    "def getClustersBalanceDeltasNpCorrect2(blocks, map_address2cluster):\n",
    "    balance_deltas = collections.defaultdict(lambda: 0)\n",
    "    for b in blocks:\n",
    "        if b.fee > 0:\n",
    "            miner = guessMinerAdds3((b,))[0]\n",
    "            if miner != UNKNOWN:\n",
    "                cluster_idx = map_address2cluster[miner.type][miner.address_num]\n",
    "                balance_deltas[cluster_idx] += b.fee\n",
    "        for out in b.outputs:\n",
    "            if out.tx.is_coinbase:\n",
    "                continue\n",
    "            add = out.address\n",
    "            cluster_idx = map_address2cluster[add.type][add.address_num]\n",
    "            balance_deltas[cluster_idx] += out.value\n",
    "        for in_ in b.inputs:\n",
    "            #if in_.tx.is_coinbase:\n",
    "            #    continue\n",
    "            add = in_.address\n",
    "            cluster_idx = map_address2cluster[add.type][add.address_num]\n",
    "            balance_deltas[cluster_idx] -= in_.value\n",
    "    return balance_deltas\n",
    "\n",
    "def getClustersBalanceDeltasByGroupsNpCorrect2(blocks, map_address2cluster, interval):\n",
    "    print('Eto ya :)')\n",
    "    blocks_by_groups = [blocks[i: i + interval] for i in range(0, len(blocks), interval)]\n",
    "    balance_deltas = [getClustersBalanceDeltasNpCorrect2(g, map_address2cluster) for g in blocks_by_groups]\n",
    "    return balance_deltas"
   ]
  },
  {
   "cell_type": "code",
   "execution_count": null,
   "metadata": {},
   "outputs": [],
   "source": [
    "def getFlowAndIncomeVolumeBase(blocks, map_address2cluster):\n",
    "    balance_deltas = collections.defaultdict(lambda: 0)\n",
    "\n",
    "    for b in blocks:\n",
    "        for out in b.outputs:\n",
    "            if out.address.type == blocksci.address_type.nulldata:\n",
    "                continue\n",
    "            if out.tx.is_coinbase:\n",
    "                cluster_idx = 'income'\n",
    "            else:\n",
    "                add = out.address\n",
    "                cluster_idx = map_address2cluster[add.type][add.address_num]\n",
    "            balance_deltas[cluster_idx] += out.value\n",
    "        for in_ in b.inputs:\n",
    "            #if in_.tx.is_coinbase:\n",
    "            #    continue\n",
    "            add = in_.address\n",
    "            cluster_idx = map_address2cluster[add.type][add.address_num]\n",
    "            balance_deltas[cluster_idx] -= in_.value\n",
    "    \n",
    "    income = balance_deltas['income']\n",
    "    flow = sum([abs(delta) for delta in balance_deltas.values()]) - income\n",
    "    return flow, income\n",
    "\n",
    "def getFlowAndIncomeVolume(blocks, map_address2cluster, interval):\n",
    "    flows, incomes = [], []\n",
    "    for i in range(0, len(blocks), interval):\n",
    "        cur_blocks = blocks[i: i + interval]\n",
    "        f, i = getFlowAndIncomeVolumeBase(cur_blocks, map_address2cluster)\n",
    "        flows.append(f)\n",
    "        incomes.append(i)\n",
    "    return flows, incomes\n",
    "\n",
    "def getRelativeFlowVolumes_dedicated(flows, incomes):\n",
    "    relativeFlowVolumes = []\n",
    "    total_income = 0\n",
    "    for i in len(flows):\n",
    "        total_income += incomes[i]\n",
    "        relativeFlowVolumes.append(flows[i] / total_income)\n",
    "    return relativeFlowVolumes"
   ]
  },
  {
   "cell_type": "code",
   "execution_count": null,
   "metadata": {},
   "outputs": [],
   "source": [
    "%time flows_par_m, incomes_par_m = getFlowAndIncomeVolumePar(MNC.chain, MNC[S_MAP_A2C][''], MNC.group_size, end=500000)"
   ]
  },
  {
   "cell_type": "code",
   "execution_count": null,
   "metadata": {},
   "outputs": [],
   "source": [
    "def sumClustersBalanceDeltas(clustersBalanceDeltas, clusters_count):\n",
    "    balance_sums = np.zeros(clusters_count)\n",
    "    for deltas in clustersBalanceDeltas:\n",
    "        for cl_idx in deltas:\n",
    "            balance_sums += deltas[cl_idx]\n",
    "    return balance_sums"
   ]
  },
  {
   "cell_type": "code",
   "execution_count": null,
   "metadata": {},
   "outputs": [],
   "source": [
    "\n",
    "def checkFlowSum2(blocks):\n",
    "    flowSum = 0\n",
    "    for b in blocks:\n",
    "        for out in b.outputs:\n",
    "            if out.tx.is_coinbase:\n",
    "                continue\n",
    "            flowSum += out.value\n",
    "        for in_ in b.inputs:\n",
    "            if in_.tx.is_coinbase:\n",
    "                continue\n",
    "            flowSum -= in_.value\n",
    "        flowSum += b.fee\n",
    "    return flowSum"
   ]
  },
  {
   "cell_type": "code",
   "execution_count": null,
   "metadata": {},
   "outputs": [],
   "source": [
    "def getRelativeFlowVolumes(balance_deltas, map_address2cluster):\n",
    "    relativeFlowVolumes = []\n",
    "    overall_current_alive_coins = 0\n",
    "    \n",
    "    nulldata_map = map_address2cluster[blocksci.address_type.nulldata]\n",
    "    nulldata_cluster_ids = set(nulldata_map[1:nulldata_map[0]])\n",
    "    \n",
    "    for group_deltas in balance_deltas:\n",
    "        emitted_volume = sum(group_deltas.values())\n",
    "        normal_ids_balances = {group_deltas[cl_id] for cl_id in group_deltas\n",
    "                               if not cl_id in nulldata_cluster_ids}\n",
    "        summary_balances_change = sum([abs(bal) for bal in normal_ids_balances])\n",
    "        overall_current_alive_coins += sum(normal_ids_balances)\n",
    "        \n",
    "        relativeFlowVolumes.append((summary_balances_change - emitted_volume) / overall_current_alive_coins)\n",
    "    return relativeFlowVolumes"
   ]
  },
  {
   "cell_type": "code",
   "execution_count": null,
   "metadata": {},
   "outputs": [],
   "source": [
    "%time deltas_correct_m = getClustersBalanceDeltasByGroupsNpCorrect(MNC.blocks, MNC[S_MAP_A2C][''], MNC.group_size)"
   ]
  },
  {
   "cell_type": "code",
   "execution_count": null,
   "metadata": {},
   "outputs": [],
   "source": [
    "b = MNC.blocks[3804]\n",
    "f = 0\n",
    "for out in b.outputs:\n",
    "    #if out.tx.is_coinbase:\n",
    "    #    continue\n",
    "    f += out.value\n",
    "    #print(out.value, out.address)\n",
    "for in_ in b.inputs:\n",
    "    if in_.tx.is_coinbase:\n",
    "        continue\n",
    "    f -= in_.value\n",
    "    #print(-in_.value, in_.address)\n",
    "#f"
   ]
  },
  {
   "cell_type": "code",
   "execution_count": null,
   "metadata": {},
   "outputs": [],
   "source": [
    "bad_tx = MNC.chain.tx_with_index(3811)\n",
    "bad_tx.output_value - bad_tx.input_value"
   ]
  },
  {
   "cell_type": "code",
   "execution_count": null,
   "metadata": {},
   "outputs": [],
   "source": [
    "# SUKA 2.5h\n",
    "%time deltas_b = getClustersBalanceDeltasByGroupsNp(BTC.blocks, BTC[S_MAP_A2C][''], BTC.group_size)\n",
    "\n",
    "\n",
    "with open('allah_deltas_b' + '.json', 'w') as fout:\n",
    "    fout.write\n",
    "    for dd in deltas_b:\n",
    "        str_dict = {str(k):v for k,v in dd.items()}\n",
    "        fout.write(json.dumps(str_dict))\n",
    "        fout.write('\\n')\n",
    "\n",
    "        \n",
    "ind = 0\n",
    "with open('allah_deltas_b' + '.json', 'r') as fin:\n",
    "    for line in fin:\n",
    "        str_dict = json.loads(line)\n",
    "        if str_dict != {str(k):v for k,v in deltas_b[ind].items()}:\n",
    "            print('Fuck!')\n",
    "            break\n",
    "        ind += 1\n",
    "        #test_dict.append(str_dict)"
   ]
  },
  {
   "cell_type": "code",
   "execution_count": null,
   "metadata": {},
   "outputs": [],
   "source": []
  },
  {
   "cell_type": "code",
   "execution_count": null,
   "metadata": {},
   "outputs": [],
   "source": [
    "import pandas as pd\n",
    "prices_l_df = pd.read_csv('~/thesis_work/downloaded/ltc-usd-max.csv')\n",
    "prices_half_l_df = prices_l_df[pd.to_datetime(prices_l_df['snapped_at']) <= LTC.times[-1]]\n",
    "prices_half_l_df[:3]"
   ]
  },
  {
   "cell_type": "code",
   "execution_count": null,
   "metadata": {},
   "outputs": [],
   "source": [
    "prices_l_df_to_save = pd.DataFrame({'times': prices_half_l_df['snapped_at'],\n",
    "                                    'prices': prices_half_l_df['price']})\n",
    "prices_l_df_to_save[:1]"
   ]
  }
 ],
 "metadata": {
  "kernelspec": {
   "display_name": "Python 3",
   "language": "python",
   "name": "python3"
  },
  "language_info": {
   "codemirror_mode": {
    "name": "ipython",
    "version": 3
   },
   "file_extension": ".py",
   "mimetype": "text/x-python",
   "name": "python",
   "nbconvert_exporter": "python",
   "pygments_lexer": "ipython3",
   "version": "3.5.2"
  }
 },
 "nbformat": 4,
 "nbformat_minor": 2
}
