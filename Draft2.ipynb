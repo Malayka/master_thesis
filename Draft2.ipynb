{
 "cells": [
  {
   "cell_type": "code",
   "execution_count": 1,
   "metadata": {},
   "outputs": [
    {
     "data": {
      "text/plain": [
       "2"
      ]
     },
     "execution_count": 1,
     "metadata": {},
     "output_type": "execute_result"
    }
   ],
   "source": [
    "1 + 1"
   ]
  },
  {
   "cell_type": "code",
   "execution_count": 2,
   "metadata": {},
   "outputs": [],
   "source": [
    "from my_tools import *"
   ]
  },
  {
   "cell_type": "code",
   "execution_count": null,
   "metadata": {},
   "outputs": [],
   "source": []
  },
  {
   "cell_type": "code",
   "execution_count": 3,
   "metadata": {},
   "outputs": [
    {
     "name": "stdout",
     "output_type": "stream",
     "text": [
      "Got 500000 blocks\n",
      "Got 90517 clusters\n"
     ]
    }
   ],
   "source": [
    "# Q_MINCOIN\n",
    "MNC = CoinDataMgr(blocksci_path=\"/home/ubuntu/mincoin\",\n",
    "                  path_to_clusters=\"/home/ubuntu/~/clusters2\",\n",
    "                  folder_with_calculated=\"/home/ubuntu/thesis_work/calculated/mincoin_first_500k_blocks\",\n",
    "                  max_block=500000)"
   ]
  },
  {
   "cell_type": "code",
   "execution_count": 4,
   "metadata": {},
   "outputs": [
    {
     "name": "stdout",
     "output_type": "stream",
     "text": [
      "Reading folder '/home/ubuntu/thesis_work/calculated/mincoin_first_500k_blocks' with prefix 'int1000b_NacamotoCoefs'...\n",
      "  Got 'int1000b_NacamotoCoefs.json', key is ''\n",
      "Finish\n",
      "Reading folder '/home/ubuntu/thesis_work/calculated/mincoin_first_500k_blocks' with prefix 'int1000b_activeAddressesCounts'...\n",
      "  Got 'int1000b_activeAddressesCounts.json', key is ''\n",
      "Finish\n",
      "Reading folder '/home/ubuntu/thesis_work/calculated/mincoin_first_500k_blocks' with prefix 'int1000b_activeClustersCounts'...\n",
      "  Got 'int1000b_activeClustersCounts.json', key is ''\n",
      "Finish\n",
      "Reading folder '/home/ubuntu/thesis_work/calculated/mincoin_first_500k_blocks' with prefix 'int1000b_ginisOfClustersWealth'...\n",
      "  Got 'int1000b_ginisOfClustersWealth.json', key is ''\n",
      "  Got 'int1000b_ginisOfClustersWealth_oldQ.json', key is 'oldQ'\n",
      "Finish\n"
     ]
    }
   ],
   "source": [
    "MNC[S_NCS].readAll()\n",
    "MNC[S_ADDS_CNTS].readAll()\n",
    "MNC[S_CLS_CNTS].readAll()\n",
    "MNC[S_GINIS].readAll()"
   ]
  },
  {
   "cell_type": "code",
   "execution_count": 40,
   "metadata": {},
   "outputs": [
    {
     "data": {
      "text/plain": [
       "[21, 46, 83, 100, 114, 111, 146, 73, 195, 76]"
      ]
     },
     "execution_count": 40,
     "metadata": {},
     "output_type": "execute_result"
    }
   ],
   "source": [
    "MNC.d[S_CLS_CNTS].v[''][:10]"
   ]
  },
  {
   "cell_type": "code",
   "execution_count": 15,
   "metadata": {},
   "outputs": [
    {
     "name": "stdout",
     "output_type": "stream",
     "text": [
      "Work time 7.3s\n"
     ]
    }
   ],
   "source": [
    "MNC.guessMiners()"
   ]
  },
  {
   "cell_type": "code",
   "execution_count": 22,
   "metadata": {},
   "outputs": [],
   "source": [
    "kutak = getActiveAddressesCounts(MNC.blocks, MNC.group_size)"
   ]
  },
  {
   "cell_type": "code",
   "execution_count": 23,
   "metadata": {},
   "outputs": [
    {
     "data": {
      "text/plain": [
       "True"
      ]
     },
     "execution_count": 23,
     "metadata": {},
     "output_type": "execute_result"
    }
   ],
   "source": [
    "kutak == MNC[S_ADDS_CNTS]['']"
   ]
  },
  {
   "cell_type": "code",
   "execution_count": 405,
   "metadata": {},
   "outputs": [],
   "source": [
    "#MNC.showDataAndVersions()"
   ]
  },
  {
   "cell_type": "code",
   "execution_count": 406,
   "metadata": {},
   "outputs": [],
   "source": [
    "#MNC.gatherAllMetrics({S_NCS: '', S_GINIS: ''})"
   ]
  },
  {
   "cell_type": "code",
   "execution_count": 46,
   "metadata": {},
   "outputs": [
    {
     "name": "stdout",
     "output_type": "stream",
     "text": [
      "Work time 11.48s\n"
     ]
    }
   ],
   "source": [
    "MNC.getMapAddress2Cluster(key='np')"
   ]
  },
  {
   "cell_type": "code",
   "execution_count": null,
   "metadata": {},
   "outputs": [],
   "source": [
    "dictB[blocksci.address_type.nonstandard]"
   ]
  },
  {
   "cell_type": "code",
   "execution_count": 49,
   "metadata": {},
   "outputs": [
    {
     "name": "stdout",
     "output_type": "stream",
     "text": [
      "Work time 16.65s\n"
     ]
    }
   ],
   "source": [
    "MNC.getActiveClustersCounts(key='usingNpMap')"
   ]
  },
  {
   "cell_type": "code",
   "execution_count": 52,
   "metadata": {},
   "outputs": [
    {
     "data": {
      "text/plain": [
       "[21, 148, 172, 172, 51, 32, 42, 47, 323, 83, 132, 208, 279, 106, 54, 48, 39]"
      ]
     },
     "execution_count": 52,
     "metadata": {},
     "output_type": "execute_result"
    }
   ],
   "source": [
    "MNC[S_CLS_CNTS][''][::30]# == MNC[S_CLS_CNTS]['usingNpMap']"
   ]
  },
  {
   "cell_type": "code",
   "execution_count": null,
   "metadata": {},
   "outputs": [],
   "source": []
  },
  {
   "cell_type": "code",
   "execution_count": 410,
   "metadata": {},
   "outputs": [
    {
     "name": "stdout",
     "output_type": "stream",
     "text": [
      "90516\n",
      "Work time 21.72s\n"
     ]
    }
   ],
   "source": [
    "MNC.getGinis(key='usingNpMap')"
   ]
  },
  {
   "cell_type": "code",
   "execution_count": 413,
   "metadata": {},
   "outputs": [
    {
     "data": {
      "text/plain": [
       "True"
      ]
     },
     "execution_count": 413,
     "metadata": {},
     "output_type": "execute_result"
    }
   ],
   "source": [
    "MNC[S_GINIS][''] == MNC[S_GINIS]['usingNpMap']"
   ]
  },
  {
   "cell_type": "code",
   "execution_count": 415,
   "metadata": {},
   "outputs": [
    {
     "name": "stdout",
     "output_type": "stream",
     "text": [
      "Work time 16.79s\n"
     ]
    }
   ],
   "source": [
    "MNC.getActiveClustersCounts(key='usingNpMap')"
   ]
  },
  {
   "cell_type": "code",
   "execution_count": 417,
   "metadata": {},
   "outputs": [
    {
     "data": {
      "text/plain": [
       "dict_keys(['', 'usingNonSerMap', 'usingNpMap'])"
      ]
     },
     "execution_count": 417,
     "metadata": {},
     "output_type": "execute_result"
    }
   ],
   "source": [
    "MNC[S_CLS_CNTS].v.keys()"
   ]
  },
  {
   "cell_type": "code",
   "execution_count": null,
   "metadata": {},
   "outputs": [],
   "source": [
    "MNC.getActiveClustersCounts(key='usingNpMap')"
   ]
  },
  {
   "cell_type": "code",
   "execution_count": 309,
   "metadata": {},
   "outputs": [],
   "source": [
    "#f = MNC.drawGraph(metric_version_dict={S_NCS: '', S_GINIS: ''})"
   ]
  },
  {
   "cell_type": "code",
   "execution_count": 308,
   "metadata": {},
   "outputs": [],
   "source": [
    "#f = MNC.drawGraph(allMetrics_tag='ginisOfClustersWealth=_NacamotoCoefs=')"
   ]
  },
  {
   "cell_type": "code",
   "execution_count": 307,
   "metadata": {},
   "outputs": [],
   "source": [
    "#MNC.allMetrics.v['ginisOfClustersWealth=_NacamotoCoefs=']"
   ]
  },
  {
   "cell_type": "code",
   "execution_count": 71,
   "metadata": {},
   "outputs": [
    {
     "name": "stdout",
     "output_type": "stream",
     "text": [
      "Reading folder '/home/ubuntu/thesis_work/calculated/mincoin_first_500k_blocks' with prefix 'int1000b_map_add2cl'...\n",
      "  Got 'int1000b_map_add2cl.hdf5', key is ''\n",
      "Finish\n"
     ]
    }
   ],
   "source": [
    "MNC.map_address2cluster.readAll()"
   ]
  },
  {
   "cell_type": "code",
   "execution_count": null,
   "metadata": {},
   "outputs": [],
   "source": []
  },
  {
   "cell_type": "code",
   "execution_count": null,
   "metadata": {},
   "outputs": [],
   "source": []
  },
  {
   "cell_type": "code",
   "execution_count": null,
   "metadata": {},
   "outputs": [],
   "source": []
  },
  {
   "cell_type": "code",
   "execution_count": null,
   "metadata": {},
   "outputs": [],
   "source": []
  },
  {
   "cell_type": "code",
   "execution_count": 6,
   "metadata": {
    "scrolled": true
   },
   "outputs": [
    {
     "name": "stdout",
     "output_type": "stream",
     "text": [
      "Got 2000 blocks\n",
      "Got 9312234 clusters\n"
     ]
    }
   ],
   "source": [
    "# Q_LITECOIN\n",
    "LTC = CoinDataMgr(blocksci_path=\"/home/ubuntu/litecoin_disk3\",\n",
    "                  path_to_clusters=\"/home/ubuntu/~/clusters_l2\",\n",
    "                  folder_with_calculated=\"/home/ubuntu/thesis_work/calculated/litecoin\")"
   ]
  },
  {
   "cell_type": "code",
   "execution_count": 18,
   "metadata": {},
   "outputs": [
    {
     "name": "stdout",
     "output_type": "stream",
     "text": [
      "Reading folder '/home/ubuntu/thesis_work/calculated/litecoin_first_2k_blocks' with prefix 'int1000b_NacamotoCoefs'...\n",
      "Finish\n",
      "Reading folder '/home/ubuntu/thesis_work/calculated/litecoin_first_2k_blocks' with prefix 'int1000b_activeAddressesCounts'...\n",
      "Finish\n",
      "Reading folder '/home/ubuntu/thesis_work/calculated/litecoin_first_2k_blocks' with prefix 'int1000b_activeClustersCounts'...\n",
      "Finish\n",
      "Reading folder '/home/ubuntu/thesis_work/calculated/litecoin_first_2k_blocks' with prefix 'int1000b_ginisOfClustersWealth'...\n",
      "Finish\n"
     ]
    }
   ],
   "source": [
    "LTC[S_NCS].readAll()\n",
    "LTC[S_ADDS_CNTS].readAll()\n",
    "LTC[S_CLS_CNTS].readAll()\n",
    "LTC[S_GINIS].readAll()"
   ]
  },
  {
   "cell_type": "code",
   "execution_count": 20,
   "metadata": {},
   "outputs": [],
   "source": [
    "#LTC_2k.getMapAddress2Cluster(key='np')"
   ]
  },
  {
   "cell_type": "code",
   "execution_count": 31,
   "metadata": {},
   "outputs": [],
   "source": [
    "LTC[S_MAP_A2C].read('np')"
   ]
  },
  {
   "cell_type": "code",
   "execution_count": 46,
   "metadata": {},
   "outputs": [
    {
     "name": "stdout",
     "output_type": "stream",
     "text": [
      "Saving \"np\" version in \"/home/ubuntu/thesis_work/calculated/litecoin/int1000b_map_address2cluster_np\" file\n"
     ]
    }
   ],
   "source": [
    "#LTC.d[S_MAP_A2C].save('np', check=False)"
   ]
  },
  {
   "cell_type": "code",
   "execution_count": 23,
   "metadata": {},
   "outputs": [
    {
     "name": "stdout",
     "output_type": "stream",
     "text": [
      "Work time 0.05s\n"
     ]
    }
   ],
   "source": [
    "LTC.getActiveClustersCounts(key='usingNpMap')"
   ]
  },
  {
   "cell_type": "code",
   "execution_count": 62,
   "metadata": {},
   "outputs": [
    {
     "data": {
      "text/plain": [
       "1422"
      ]
     },
     "execution_count": 62,
     "metadata": {},
     "output_type": "execute_result"
    }
   ],
   "source": [
    "len(LTC[S_CLS_CNTS]['usingNpMap'])"
   ]
  },
  {
   "cell_type": "code",
   "execution_count": null,
   "metadata": {},
   "outputs": [],
   "source": []
  },
  {
   "cell_type": "code",
   "execution_count": null,
   "metadata": {},
   "outputs": [],
   "source": []
  },
  {
   "cell_type": "code",
   "execution_count": null,
   "metadata": {},
   "outputs": [],
   "source": []
  },
  {
   "cell_type": "code",
   "execution_count": null,
   "metadata": {},
   "outputs": [],
   "source": []
  },
  {
   "cell_type": "code",
   "execution_count": null,
   "metadata": {},
   "outputs": [],
   "source": []
  },
  {
   "cell_type": "code",
   "execution_count": 181,
   "metadata": {},
   "outputs": [
    {
     "data": {
      "text/plain": [
       "523426"
      ]
     },
     "execution_count": 181,
     "metadata": {},
     "output_type": "execute_result"
    }
   ],
   "source": [
    "# QW_BITCOIN\n",
    "chain_b = blocksci.Blockchain(\"/home/ubuntu/bitcoin\")\n",
    "blocks_b = chain_b[:]\n",
    "INTERVAL_B = 1000\n",
    "len(chain_b)"
   ]
  },
  {
   "cell_type": "code",
   "execution_count": 182,
   "metadata": {},
   "outputs": [
    {
     "data": {
      "text/plain": [
       "206433637"
      ]
     },
     "execution_count": 182,
     "metadata": {},
     "output_type": "execute_result"
    }
   ],
   "source": [
    "cl_mgr_b = blocksci.cluster.ClusterManager(\"~/clusters_b\", chain_b)\n",
    "#%time cl_mgr_b.create_clustering(location='~/clusters_b', chain=chain_b)\n",
    "all_clusters_b = cl_mgr_b.clusters()\n",
    "len(all_clusters_b)"
   ]
  },
  {
   "cell_type": "code",
   "execution_count": 6,
   "metadata": {},
   "outputs": [
    {
     "name": "stdout",
     "output_type": "stream",
     "text": [
      "CPU times: user 34min 18s, sys: 56 ms, total: 34min 18s\n",
      "Wall time: 34min 18s\n"
     ]
    }
   ],
   "source": [
    "%time adds_count_b = sum(1 for x in all_addresses_b)"
   ]
  },
  {
   "cell_type": "code",
   "execution_count": 7,
   "metadata": {},
   "outputs": [
    {
     "data": {
      "text/plain": [
       "1977628451"
      ]
     },
     "execution_count": 7,
     "metadata": {},
     "output_type": "execute_result"
    }
   ],
   "source": [
    "adds_count_b"
   ]
  },
  {
   "cell_type": "code",
   "execution_count": null,
   "metadata": {},
   "outputs": [],
   "source": []
  },
  {
   "cell_type": "code",
   "execution_count": 247,
   "metadata": {},
   "outputs": [],
   "source": [
    "# SAVE METRICS:\n",
    "import json\n",
    "prefix_b = 'calculated/bitcoin/int{}b_'.format(INTERVAL_B)\n",
    "#with open(prefix_b + 'NC', 'w') as fout:\n",
    "#    fout.write(json.dumps(NC_b))\n",
    "#with open(prefix_b + 'adds_counts', 'w') as fout:\n",
    "#    fout.write(json.dumps(adds_counts_b))\n",
    "with open(prefix_b + 'cur_clusters', 'w') as fout:\n",
    "    fout.write(json.dumps(cur_clusters_np_b))\n",
    "#with open(prefix_b + 'ginis', 'w') as fout:\n",
    "#    fout.write(json.dumps(ginis_np_b))"
   ]
  },
  {
   "cell_type": "code",
   "execution_count": null,
   "metadata": {},
   "outputs": [],
   "source": []
  },
  {
   "cell_type": "code",
   "execution_count": null,
   "metadata": {},
   "outputs": [],
   "source": []
  },
  {
   "cell_type": "code",
   "execution_count": null,
   "metadata": {},
   "outputs": [],
   "source": []
  },
  {
   "cell_type": "code",
   "execution_count": null,
   "metadata": {},
   "outputs": [],
   "source": []
  },
  {
   "cell_type": "code",
   "execution_count": null,
   "metadata": {},
   "outputs": [],
   "source": []
  },
  {
   "cell_type": "code",
   "execution_count": null,
   "metadata": {},
   "outputs": [],
   "source": []
  },
  {
   "cell_type": "code",
   "execution_count": null,
   "metadata": {},
   "outputs": [],
   "source": []
  },
  {
   "cell_type": "code",
   "execution_count": null,
   "metadata": {},
   "outputs": [],
   "source": []
  },
  {
   "cell_type": "code",
   "execution_count": null,
   "metadata": {},
   "outputs": [],
   "source": []
  },
  {
   "cell_type": "code",
   "execution_count": 9,
   "metadata": {},
   "outputs": [],
   "source": [
    "def foo():\n",
    "    f = plt.figure(figsize=(20, 3))\n",
    "    axes = f.subplots(2, 1, sharex=True)\n",
    "    axes[0].plot([1, 4, 3])\n",
    "    axes[0].set_title(\"Nakamoto coefficient\")\n",
    "    axes[1].plot([5, 3, 1])\n",
    "    axes[1].set_title(\"Active addresses count\")\n",
    "    return f"
   ]
  },
  {
   "cell_type": "code",
   "execution_count": 10,
   "metadata": {},
   "outputs": [
    {
     "data": {
      "image/png": "[encoded data removed]",
      "text/plain": [
       "<Figure size 1440x216 with 2 Axes>"
      ]
     },
     "metadata": {},
     "output_type": "display_data"
    }
   ],
   "source": [
    "f = foo()\n",
    "a = 4"
   ]
  },
  {
   "cell_type": "code",
   "execution_count": 176,
   "metadata": {},
   "outputs": [],
   "source": [
    "f.savefig(\"dfsdlv.png\")"
   ]
  },
  {
   "cell_type": "code",
   "execution_count": null,
   "metadata": {},
   "outputs": [],
   "source": []
  },
  {
   "cell_type": "code",
   "execution_count": 108,
   "metadata": {},
   "outputs": [
    {
     "name": "stdout",
     "output_type": "stream",
     "text": [
      "CPU times: user 3.93 s, sys: 0 ns, total: 3.93 s\n",
      "Wall time: 3.93 s\n"
     ]
    }
   ],
   "source": [
    "%time balance_np_0_m = getClustersBalanceChangeBlocksNp(blocks_m[:100000], the_map_new_np_m, np.zeros(len(all_clusters_m)))"
   ]
  },
  {
   "cell_type": "code",
   "execution_count": 109,
   "metadata": {},
   "outputs": [
    {
     "name": "stdout",
     "output_type": "stream",
     "text": [
      "CPU times: user 3.85 s, sys: 0 ns, total: 3.85 s\n",
      "Wall time: 3.85 s\n"
     ]
    }
   ],
   "source": [
    "%time balance_0_m = getClustersBalanceChangeBlocks(blocks_m[:100000], the_map_new_m, np.zeros(len(all_clusters_m)))"
   ]
  },
  {
   "cell_type": "code",
   "execution_count": 104,
   "metadata": {},
   "outputs": [
    {
     "data": {
      "text/plain": [
       "True"
      ]
     },
     "execution_count": 104,
     "metadata": {},
     "output_type": "execute_result"
    }
   ],
   "source": [
    "(balance_0_m == balance_np_0_m).all()"
   ]
  },
  {
   "cell_type": "code",
   "execution_count": 179,
   "metadata": {},
   "outputs": [],
   "source": [
    "import pandas as pd\n",
    "prices_l_df = pd.read_csv('~/thesis_work/downloaded/ltc-usd-max.csv')\n",
    "#prices_half_l_df = prices_l_df[pd.to_datetime(prices_l_df['snapped_at']) <= times_l[-1]]\n",
    "#prices_l_df[:3]"
   ]
  }
 ],
 "metadata": {
  "kernelspec": {
   "display_name": "Python 3",
   "language": "python",
   "name": "python3"
  },
  "language_info": {
   "codemirror_mode": {
    "name": "ipython",
    "version": 3
   },
   "file_extension": ".py",
   "mimetype": "text/x-python",
   "name": "python",
   "nbconvert_exporter": "python",
   "pygments_lexer": "ipython3",
   "version": "3.5.2"
  }
 },
 "nbformat": 4,
 "nbformat_minor": 2
}
