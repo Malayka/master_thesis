{
 "cells": [
  {
   "cell_type": "code",
   "execution_count": 1,
   "metadata": {},
   "outputs": [
    {
     "data": {
      "text/plain": [
       "2"
      ]
     },
     "execution_count": 1,
     "metadata": {},
     "output_type": "execute_result"
    }
   ],
   "source": [
    "1 + 1"
   ]
  },
  {
   "cell_type": "code",
   "execution_count": null,
   "metadata": {},
   "outputs": [],
   "source": [
    "import blocksci\n",
    "import matplotlib.pyplot as plt\n",
    "import matplotlib.ticker\n",
    "import collections\n",
    "import pandas as pd\n",
    "import numpy as np\n",
    "import datetime\n",
    "%matplotlib notebook"
   ]
  },
  {
   "cell_type": "code",
   "execution_count": 189,
   "metadata": {},
   "outputs": [],
   "source": [
    "# QW_METRICFUNCTIONS\n",
    "def getTimes(blocks, interval):\n",
    "    times = []\n",
    "    for i in range(0, len(blocks), interval):\n",
    "        times.append(blocks[min(i + interval -1, len(blocks) - 1)].time)\n",
    "    return times"
   ]
  },
  {
   "cell_type": "code",
   "execution_count": 190,
   "metadata": {},
   "outputs": [],
   "source": [
    "UNKNOWN = 'Unknown'\n",
    "def guessMinerAdds3(blocks):\n",
    "    first_block_h = blocks[0].height\n",
    "    result = [UNKNOWN,] * len(blocks)\n",
    "    \n",
    "    coinbase_outs = [b.coinbase_tx.outputs for b in blocks]\n",
    "    good_outs = [CO[0] for CO in coinbase_outs if len(CO) == 1]\n",
    "    for o in good_outs:\n",
    "        result[o.block.height - first_block_h] = o.address\n",
    "    \n",
    "    one_out_CO_adds = set([o.address for o in good_outs])\n",
    "    mult_out_COs = [CO for CO in coinbase_outs if len(CO) > 1]\n",
    "    \n",
    "    for CO in mult_out_COs:\n",
    "        out_with_main_prize = [out for out in CO if out.value > out.block.revenue * 0.6]\n",
    "        if len(out_with_main_prize) > 0:\n",
    "            candidate = out_with_main_prize[0]\n",
    "            \n",
    "            result[candidate.block.height - first_block_h] = candidate.address\n",
    "    return result"
   ]
  },
  {
   "cell_type": "code",
   "execution_count": null,
   "metadata": {},
   "outputs": [],
   "source": []
  },
  {
   "cell_type": "code",
   "execution_count": 191,
   "metadata": {},
   "outputs": [],
   "source": [
    "def calcNakamotoCoef2(miners, interval):\n",
    "    egoists = []\n",
    "    result = []\n",
    "    for ind in range(0, len(miners), interval):\n",
    "        cur_miners = miners[ind: ind + interval]\n",
    "        cur_miners_cnt = collections.Counter(cur_miners)\n",
    "        must_be_beaten = float(len(cur_miners)) * 0.51\n",
    "        \n",
    "        # Too much Unknown\n",
    "        if len(cur_miners) - cur_miners_cnt[UNKNOWN] <= must_be_beaten:\n",
    "            result.append(-1)\n",
    "        else:\n",
    "            what_we_got = 0.\n",
    "            i = 1\n",
    "            for miner, freq in cur_miners_cnt.most_common():\n",
    "                if miner == UNKNOWN:\n",
    "                    continue\n",
    "                what_we_got += float(freq)\n",
    "                if what_we_got > must_be_beaten:\n",
    "                    result.append(i)\n",
    "                    if i == 1:\n",
    "                        egoists.append((ind, cur_miners_cnt.most_common(1)))\n",
    "                    break\n",
    "                i += 1\n",
    "    return result, egoists"
   ]
  },
  {
   "cell_type": "code",
   "execution_count": 192,
   "metadata": {},
   "outputs": [],
   "source": [
    "def getAddresses(block):\n",
    "    addresses = set()\n",
    "    for in_ in block.inputs:\n",
    "        addresses.add(in_.address)\n",
    "    for out in block.outputs:\n",
    "        addresses.add(out.address)\n",
    "    return addresses\n",
    "\n",
    "def getAddressesOfBlocks(blocks):\n",
    "    addresses = set()\n",
    "    for b in blocks:\n",
    "        addresses |= getAddresses(b)\n",
    "    return addresses\n",
    "\n",
    "def getActiveAddressesCounts(blocks, interval):\n",
    "    adds_counts = []\n",
    "    for i in range(0, len(blocks), interval):\n",
    "        subchain = blocks[i: i + interval]\n",
    "        adds_counts.append(len(getAddressesOfBlocks(subchain)))\n",
    "    return adds_counts"
   ]
  },
  {
   "cell_type": "code",
   "execution_count": 193,
   "metadata": {},
   "outputs": [],
   "source": [
    "def prepareClusters(clusters):\n",
    "    clusters_dict = {}\n",
    "    for cl in clusters:\n",
    "        clusters_dict[cl] = set(cl.addresses)\n",
    "    return clusters_dict\n",
    "\n",
    "def getClustersOfBlocks(blocks, all_clusters):\n",
    "    clusters = set()\n",
    "    active_addresses = getAddressesOfBlocks(blocks)\n",
    "    for cl in all_clusters:\n",
    "        if len(active_addresses & all_clusters[cl]) > 0:\n",
    "            clusters.add(cl)\n",
    "    return clusters\n",
    "\n",
    "def getActiveClustersCounts(blocks, all_clusters, interval):\n",
    "    #all_clusters = prepareClusters(all_clusters)\n",
    "    clusters_counts = []\n",
    "    for i in range(0, len(blocks), interval):\n",
    "        subchain = blocks[i: i + interval]\n",
    "        clusters_counts.append(len(getClustersOfBlocks(subchain, all_clusters)))\n",
    "    return clusters_counts"
   ]
  },
  {
   "cell_type": "code",
   "execution_count": 243,
   "metadata": {},
   "outputs": [],
   "source": [
    "def getClusterIdsOfBlocks(blocks, map_address2cluster):\n",
    "    cluster_ids = set()\n",
    "    active_addresses = getAddressesOfBlocks(blocks)\n",
    "    for address in active_addresses:\n",
    "        #if address in map_address2cluster:\n",
    "        cluster_ids.add(map_address2cluster[address])\n",
    "    return cluster_ids\n",
    "\n",
    "def getActiveClustersCounts2(blocks, map_address2cluster, interval):\n",
    "    clusters_counts = []\n",
    "    for i in range(0, len(blocks), interval):\n",
    "        subchain = blocks[i: i + interval]\n",
    "        clusters_counts.append(len(getClusterIdsOfBlocks(subchain, map_address2cluster)))\n",
    "    return clusters_counts\n",
    "\n",
    "def getClusterIdsOfBlocksNp(blocks, map_address2cluster_dict):\n",
    "    cluster_ids = set()\n",
    "    active_addresses = getAddressesOfBlocks(blocks)\n",
    "    for address in active_addresses:\n",
    "        if address.type != blocksci.address_type.nulldata:\n",
    "            cluster_idx = map_address2cluster_dict[address.type][address.address_num]\n",
    "            cluster_ids.add(cluster_idx)\n",
    "    return cluster_ids\n",
    "\n",
    "def getActiveClustersCounts2Np(blocks, map_address2cluster, interval):\n",
    "    clusters_counts = []\n",
    "    for i in range(0, len(blocks), interval):\n",
    "        subchain = blocks[i: i + interval]\n",
    "        clusters_counts.append(len(getClusterIdsOfBlocksNp(subchain, map_address2cluster)))\n",
    "    return clusters_counts"
   ]
  },
  {
   "cell_type": "code",
   "execution_count": 281,
   "metadata": {},
   "outputs": [],
   "source": [
    "import numpy as np\n",
    "\n",
    "def my_gini(array):\n",
    "    array = np.sort(array)\n",
    "    n = array.shape[0]\n",
    "    index = np.arange(1, n + 1)\n",
    "    return ((np.sum((2 * index - n  - 1) * array)) / (n * np.sum(array)))\n",
    "\n",
    "def getMapAddress2Cluster2(cluster_manager, all_addresses):\n",
    "    map_address2cluster = {}\n",
    "    ind = 1\n",
    "    for address in all_addresses:\n",
    "        cluster = cluster_manager.cluster_with_address(address)\n",
    "        map_address2cluster[address] = cluster.index\n",
    "    return map_address2cluster\n",
    "\n",
    "def getClustersBalanceChange(block, map_address2cluster, cluster_balances_np):\n",
    "    for in_ in block.inputs:\n",
    "        if in_.address in  map_address2cluster:\n",
    "            cluster_idx = map_address2cluster[in_.address]\n",
    "            cluster_balances_np[cluster_idx] -= in_.value\n",
    "\n",
    "    for out in block.outputs:\n",
    "        if out.address in  map_address2cluster:\n",
    "            cluster_idx = map_address2cluster[out.address]\n",
    "            cluster_balances_np[cluster_idx] += out.value\n",
    "    return cluster_balances_np\n",
    "\n",
    "def getClustersBalanceChangeBlocks(blocks, map_address2cluster, cluster_balances_np):\n",
    "    for b in blocks:\n",
    "        cluster_balances_np = getClustersBalanceChange(b, map_address2cluster, cluster_balances_np)\n",
    "    return cluster_balances_np\n",
    "    \n",
    "def getGinisOfClusters(blocks, map_address2cluster, interval):\n",
    "    cluster_balances = np.zeros(max(map_address2cluster.values()) + 1)\n",
    "    ginis = []\n",
    "    for i in range(0, len(blocks), interval):\n",
    "        cur_blocks = blocks[i: i + interval]\n",
    "        cluster_balances = getClustersBalanceChangeBlocks(cur_blocks, map_address2cluster, cluster_balances)\n",
    "        ginis.append(my_gini(cluster_balances[cluster_balances.nonzero()]))\n",
    "    return ginis\n",
    "\n",
    "\n",
    "def getMapAddress2Cluster2Np(cluster_manager, all_addresses_dict):\n",
    "    buffer_size = 100000\n",
    "    \n",
    "    map_address2cluster = {}\n",
    "    for address_type in all_addresses_dict:\n",
    "        buffers_list = []\n",
    "        buffer = np.zeros(buffer_size, dtype=np.int32)\n",
    "        ind = 1\n",
    "        for address in all_addresses_dict[address_type]:\n",
    "            cluster = cluster_manager.cluster_with_address(address)\n",
    "            #if address.address_num != ind:\n",
    "            #    print('Huynya!', ind, address.address_num)\n",
    "            buffer[ind % buffer_size] = cluster.index\n",
    "            ind += 1\n",
    "            if ind % buffer_size == 0:\n",
    "                buffers_list.append(buffer)\n",
    "                buffer = np.zeros(buffer_size, dtype=np.int32)\n",
    "        \n",
    "        buffers_list.append(buffer)\n",
    "        map_array = np.array(buffers_list).flatten()\n",
    "        map_array[0] = ind - 1\n",
    "        map_address2cluster[address_type] = map_array\n",
    "        #if ind % 10000000 == 0:\n",
    "        #    print(\"  {}m  addresses are proceed\".format(ind / 1000000))\n",
    "        #ind += 1\n",
    "    return map_address2cluster\n",
    "\n",
    "def getClustersBalanceChangeNp(block, map_address2cluster_dict, cluster_balances_np):\n",
    "    for out in block.outputs:\n",
    "        add = out.address\n",
    "        cluster_idx = map_address2cluster_dict[add.type][add.address_num]\n",
    "        cluster_balances_np[cluster_idx] += out.value\n",
    "    for in_ in block.inputs:\n",
    "        add = in_.address\n",
    "        cluster_idx = map_address2cluster_dict[add.type][add.address_num]\n",
    "        cluster_balances_np[cluster_idx] -= in_.value\n",
    "    return cluster_balances_np\n",
    "\n",
    "def getClustersBalanceChangeBlocksNp(blocks, map_address2cluster, cluster_balances_np):\n",
    "    for b in blocks:\n",
    "        cluster_balances_np = getClustersBalanceChangeNp(b, map_address2cluster, cluster_balances_np)\n",
    "    return cluster_balances_np\n",
    "    \n",
    "def getGinisOfClustersNp(blocks, map_address2cluster, interval):\n",
    "    clusters_count = max(add2clustermap[1:].max() for add2clustermap in map_address2cluster.values()) + 1\n",
    "    print(clusters_count)\n",
    "    cluster_balances = np.zeros(clusters_count)\n",
    "    nulldata_map = the_map_new_np_m[blocksci.address_type.nulldata]\n",
    "    nulldata_cluster_ids = list(set(nulldata_map[1:nulldata_map[0]]))\n",
    "    ginis = []\n",
    "    for i in range(0, len(blocks), interval):\n",
    "        cur_blocks = blocks[i: i + interval]\n",
    "        cluster_balances = getClustersBalanceChangeBlocksNp(cur_blocks, map_address2cluster, cluster_balances)\n",
    "        cluster_balances[nulldata_cluster_ids] = 0.\n",
    "        ginis.append(my_gini(cluster_balances[cluster_balances.nonzero()]))\n",
    "    return ginis"
   ]
  },
  {
   "cell_type": "code",
   "execution_count": 196,
   "metadata": {},
   "outputs": [],
   "source": [
    "import h5py\n",
    "def saveMapNpInHdfs(the_map, filename):\n",
    "    with h5py.File(filename, 'w') as fout:\n",
    "        fout.create_dataset(name='nonstandard', data = the_map[blocksci.address_type.nonstandard])\n",
    "        fout.create_dataset(name='pubkey', data = the_map[blocksci.address_type.pubkey])\n",
    "        fout.create_dataset(name='pubkeyhash', data = the_map[blocksci.address_type.pubkeyhash])\n",
    "        fout.create_dataset(name='multisig_pubkey', data = the_map[blocksci.address_type.multisig_pubkey])\n",
    "        fout.create_dataset(name='scripthash', data = the_map[blocksci.address_type.scripthash])\n",
    "        fout.create_dataset(name='multisig', data = the_map[blocksci.address_type.multisig])\n",
    "        fout.create_dataset(name='nulldata', data = the_map[blocksci.address_type.nulldata])\n",
    "        fout.create_dataset(name='witness_pubkeyhash', data = the_map[blocksci.address_type.witness_pubkeyhash])\n",
    "        fout.create_dataset(name='witness_scripthash', data = the_map[blocksci.address_type.witness_scripthash])\n",
    "        \n",
    "def readMapNpFromHdfs(filename):\n",
    "    the_map = {}\n",
    "    with h5py.File(filename, 'r') as fin:\n",
    "        the_map[blocksci.address_type.nonstandard] = fin['nonstandard'][()]\n",
    "        the_map[blocksci.address_type.pubkey] = fin['pubkey'][()]\n",
    "        the_map[blocksci.address_type.pubkeyhash] = fin['pubkeyhash'][()]\n",
    "        the_map[blocksci.address_type.multisig_pubkey] = fin['multisig_pubkey'][()]\n",
    "        the_map[blocksci.address_type.scripthash] = fin['scripthash'][()]\n",
    "        the_map[blocksci.address_type.multisig] = fin['multisig'][()]\n",
    "        the_map[blocksci.address_type.nulldata] = fin['nulldata'][()]\n",
    "        the_map[blocksci.address_type.witness_pubkeyhash] = fin['witness_pubkeyhash'][()]\n",
    "        the_map[blocksci.address_type.witness_scripthash] = fin['witness_scripthash'][()]\n",
    "    return the_map"
   ]
  },
  {
   "cell_type": "code",
   "execution_count": 2,
   "metadata": {},
   "outputs": [],
   "source": []
  },
  {
   "cell_type": "code",
   "execution_count": null,
   "metadata": {},
   "outputs": [],
   "source": [
    "class CoinDataMgr:\n",
    "    def __init__(self, blocksci_path, max_block=None, group_size=1000):\n",
    "        self.chain = blocksci.Blockchain(blocksci_path)\n",
    "        self.blocks = self.chain[:max_block]\n",
    "        print(\"Got {} blocks\".format(len(self.blocks)))\n",
    "        \n",
    "    def getTimes(self):\n",
    "        self.times = getTimes(self.blocks, self.group_size)"
   ]
  },
  {
   "cell_type": "code",
   "execution_count": 4,
   "metadata": {},
   "outputs": [
    {
     "name": "stdout",
     "output_type": "stream",
     "text": [
      "allah\n",
      "CPU times: user 0 ns, sys: 0 ns, total: 0 ns\n",
      "Wall time: 74.1 µs\n"
     ]
    }
   ],
   "source": [
    "if True:\n",
    "    %time print('allah')"
   ]
  },
  {
   "cell_type": "code",
   "execution_count": 4,
   "metadata": {},
   "outputs": [
    {
     "data": {
      "text/plain": [
       "1797587"
      ]
     },
     "execution_count": 4,
     "metadata": {},
     "output_type": "execute_result"
    }
   ],
   "source": [
    "# QW_MINCOIN\n",
    "chain_m = blocksci.Blockchain(\"/home/ubuntu/mincoin\")\n",
    "blocks_m = chain_m[:500000]\n",
    "len(chain_m)"
   ]
  },
  {
   "cell_type": "code",
   "execution_count": 6,
   "metadata": {},
   "outputs": [
    {
     "data": {
      "text/plain": [
       "[address_type.nonstandard,\n",
       " address_type.pubkey,\n",
       " address_type.pubkeyhash,\n",
       " address_type.multisig_pubkey,\n",
       " address_type.scripthash,\n",
       " address_type.multisig,\n",
       " address_type.nulldata,\n",
       " address_type.witness_pubkeyhash,\n",
       " address_type.witness_scripthash]"
      ]
     },
     "execution_count": 6,
     "metadata": {},
     "output_type": "execute_result"
    }
   ],
   "source": [
    "add_dict_l = {}\n",
    "for t in blocksci.address_type.types:\n",
    "    add_dict_l[t] = list(chain_m.addresses(t))\n",
    "blocksci.address_type.types"
   ]
  },
  {
   "cell_type": "code",
   "execution_count": null,
   "metadata": {},
   "outputs": [],
   "source": [
    "chain_m.address_from_index(0, blocksci.address_type.pubkeyhash)"
   ]
  },
  {
   "cell_type": "code",
   "execution_count": 24,
   "metadata": {},
   "outputs": [],
   "source": [
    "INTERVAL_M = 1000\n",
    "times_m = getTimes(blocks_m, INTERVAL_M)"
   ]
  },
  {
   "cell_type": "code",
   "execution_count": 16,
   "metadata": {},
   "outputs": [
    {
     "ename": "NameError",
     "evalue": "name 'blocks_m' is not defined",
     "output_type": "error",
     "traceback": [
      "\u001b[0;31m---------------------------------------------------------------------------\u001b[0m",
      "\u001b[0;31mNameError\u001b[0m                                 Traceback (most recent call last)",
      "\u001b[0;32m<timed exec>\u001b[0m in \u001b[0;36m<module>\u001b[0;34m()\u001b[0m\n",
      "\u001b[0;31mNameError\u001b[0m: name 'blocks_m' is not defined"
     ]
    }
   ],
   "source": [
    "%time miners_m = guessMinerAdds3(blocks_m)"
   ]
  },
  {
   "cell_type": "code",
   "execution_count": 17,
   "metadata": {},
   "outputs": [
    {
     "ename": "NameError",
     "evalue": "name 'miners_m' is not defined",
     "output_type": "error",
     "traceback": [
      "\u001b[0;31m---------------------------------------------------------------------------\u001b[0m",
      "\u001b[0;31mNameError\u001b[0m                                 Traceback (most recent call last)",
      "\u001b[0;32m<timed exec>\u001b[0m in \u001b[0;36m<module>\u001b[0;34m()\u001b[0m\n",
      "\u001b[0;31mNameError\u001b[0m: name 'miners_m' is not defined"
     ]
    }
   ],
   "source": [
    "%time NC_m, egos = calcNakamotoCoef2(miners_m, INTERVAL)"
   ]
  },
  {
   "cell_type": "code",
   "execution_count": 20,
   "metadata": {},
   "outputs": [
    {
     "name": "stdout",
     "output_type": "stream",
     "text": [
      "CPU times: user 14.2 s, sys: 0 ns, total: 14.2 s\n",
      "Wall time: 14.2 s\n"
     ]
    }
   ],
   "source": [
    "%time adds_counts_m = getActiveAddressesCounts(blocks_m, INTERVAL)"
   ]
  },
  {
   "cell_type": "code",
   "execution_count": 267,
   "metadata": {},
   "outputs": [
    {
     "ename": "TypeError",
     "evalue": "'NoneType' object is not iterable",
     "output_type": "error",
     "traceback": [
      "\u001b[0;31m---------------------------------------------------------------------------\u001b[0m",
      "\u001b[0;31mTypeError\u001b[0m                                 Traceback (most recent call last)",
      "\u001b[0;32m<ipython-input-267-33c9a0c14c0d>\u001b[0m in \u001b[0;36m<module>\u001b[0;34m()\u001b[0m\n\u001b[0;32m----> 1\u001b[0;31m \u001b[0mb\u001b[0m \u001b[0;34m=\u001b[0m \u001b[0mlist\u001b[0m\u001b[0;34m(\u001b[0m\u001b[0mset\u001b[0m\u001b[0;34m(\u001b[0m\u001b[0;34m[\u001b[0m\u001b[0;36m2\u001b[0m \u001b[0;34m,\u001b[0m \u001b[0;36m4\u001b[0m \u001b[0;34m,\u001b[0m \u001b[0;36m6\u001b[0m\u001b[0;34m]\u001b[0m\u001b[0;34m)\u001b[0m\u001b[0;34m.\u001b[0m\u001b[0mremove\u001b[0m\u001b[0;34m(\u001b[0m\u001b[0;36m2\u001b[0m\u001b[0;34m)\u001b[0m\u001b[0;34m)\u001b[0m\u001b[0;34m\u001b[0m\u001b[0m\n\u001b[0m\u001b[1;32m      2\u001b[0m \u001b[0;34m\u001b[0m\u001b[0m\n\u001b[1;32m      3\u001b[0m \u001b[0;34m\u001b[0m\u001b[0m\n\u001b[1;32m      4\u001b[0m \u001b[0ma\u001b[0m \u001b[0;34m=\u001b[0m \u001b[0mnp\u001b[0m\u001b[0;34m.\u001b[0m\u001b[0marange\u001b[0m\u001b[0;34m(\u001b[0m\u001b[0;36m10\u001b[0m\u001b[0;34m)\u001b[0m\u001b[0;34m\u001b[0m\u001b[0m\n\u001b[1;32m      5\u001b[0m \u001b[0ma\u001b[0m\u001b[0;34m[\u001b[0m\u001b[0mb\u001b[0m\u001b[0;34m]\u001b[0m \u001b[0;34m=\u001b[0m \u001b[0;36m0\u001b[0m\u001b[0;34m\u001b[0m\u001b[0m\n",
      "\u001b[0;31mTypeError\u001b[0m: 'NoneType' object is not iterable"
     ]
    }
   ],
   "source": [
    "b = list(set([2 , 4 , 6]).remove(2))\n",
    "\n",
    "\n",
    "a = np.arange(10)\n",
    "a[b] = 0\n",
    "a"
   ]
  },
  {
   "cell_type": "code",
   "execution_count": 273,
   "metadata": {},
   "outputs": [
    {
     "name": "stdout",
     "output_type": "stream",
     "text": [
      "NonStandardScript(No input script, 7f11e7c5d9537ae783d9d689ec741708868e0150fc4a5dd045a537c296b6e3bb00000100)\n"
     ]
    }
   ],
   "source": [
    "for k in the_map_m:\n",
    "    if the_map_m[k] == 0:\n",
    "        print(k)"
   ]
  },
  {
   "cell_type": "code",
   "execution_count": 48,
   "metadata": {},
   "outputs": [
    {
     "data": {
      "text/plain": [
       "90517"
      ]
     },
     "execution_count": 48,
     "metadata": {},
     "output_type": "execute_result"
    }
   ],
   "source": [
    "cl_mgr_m = blocksci.cluster.ClusterManager(\"~/clusters2\", chain_m)\n",
    "#cl_mgr_m.create_clustering(location='~/clusters2', chain=chain_m)\n",
    "all_clusters_m = cl_mgr_m.clusters()\n",
    "len(all_clusters_m)"
   ]
  },
  {
   "cell_type": "code",
   "execution_count": 121,
   "metadata": {},
   "outputs": [
    {
     "name": "stdout",
     "output_type": "stream",
     "text": [
      "CPU times: user 13 s, sys: 4 ms, total: 13 s\n",
      "Wall time: 13 s\n"
     ]
    }
   ],
   "source": [
    "all_addresses_dict_m = {}\n",
    "for add_type in blocksci.address_type.types:\n",
    "    all_addresses_dict_m[add_type] = chain_m.addresses(add_type)\n",
    "    \n",
    "%time the_map_new_np_m = getMapAddress2Cluster2Np(cl_mgr_m, all_addresses_dict_m)\n",
    "#the_map_new_np_m"
   ]
  },
  {
   "cell_type": "code",
   "execution_count": 170,
   "metadata": {},
   "outputs": [],
   "source": [
    "safeMapNpInHdfs(the_map_new_np_m, 'mincoin_map_add2cl.hdf5')"
   ]
  },
  {
   "cell_type": "code",
   "execution_count": 237,
   "metadata": {},
   "outputs": [
    {
     "data": {
      "text/plain": [
       "2427443"
      ]
     },
     "execution_count": 237,
     "metadata": {},
     "output_type": "execute_result"
    }
   ],
   "source": [
    "len(list(all_addresses_m))"
   ]
  },
  {
   "cell_type": "code",
   "execution_count": 238,
   "metadata": {},
   "outputs": [],
   "source": [
    "for add in all_addresses_m:\n",
    "    if the_map_m[add] != the_map_new_np_m[add.type][add.address_num]:\n",
    "        print(add, the_map_m[add], the_map_new_np_m[add.type][add.address_num])"
   ]
  },
  {
   "cell_type": "code",
   "execution_count": 229,
   "metadata": {},
   "outputs": [
    {
     "name": "stdout",
     "output_type": "stream",
     "text": [
      "CPU times: user 56.4 s, sys: 0 ns, total: 56.4 s\n",
      "Wall time: 56.4 s\n"
     ]
    }
   ],
   "source": [
    "%time cur_clusters_old_m = getActiveClustersCounts(blocks_m, all_clusters_m_prepared, INTERVAL_M)"
   ]
  },
  {
   "cell_type": "code",
   "execution_count": 232,
   "metadata": {},
   "outputs": [
    {
     "name": "stdout",
     "output_type": "stream",
     "text": [
      "CPU times: user 17.2 s, sys: 0 ns, total: 17.2 s\n",
      "Wall time: 17.2 s\n"
     ]
    }
   ],
   "source": [
    "%time cur_clusters_2_old_m = getActiveClustersCounts2(blocks_m, the_map_m, INTERVAL_M)"
   ]
  },
  {
   "cell_type": "code",
   "execution_count": 240,
   "metadata": {},
   "outputs": [
    {
     "ename": "KeyError",
     "evalue": "NulldataAddressData()",
     "output_type": "error",
     "traceback": [
      "\u001b[0;31m---------------------------------------------------------------------------\u001b[0m",
      "\u001b[0;31mKeyError\u001b[0m                                  Traceback (most recent call last)",
      "\u001b[0;32m<timed exec>\u001b[0m in \u001b[0;36m<module>\u001b[0;34m()\u001b[0m\n",
      "\u001b[0;32m<ipython-input-239-4180ab6b6bd7>\u001b[0m in \u001b[0;36mgetActiveClustersCounts2\u001b[0;34m(blocks, map_address2cluster, interval)\u001b[0m\n\u001b[1;32m     11\u001b[0m     \u001b[0;32mfor\u001b[0m \u001b[0mi\u001b[0m \u001b[0;32min\u001b[0m \u001b[0mrange\u001b[0m\u001b[0;34m(\u001b[0m\u001b[0;36m0\u001b[0m\u001b[0;34m,\u001b[0m \u001b[0mlen\u001b[0m\u001b[0;34m(\u001b[0m\u001b[0mblocks\u001b[0m\u001b[0;34m)\u001b[0m\u001b[0;34m,\u001b[0m \u001b[0minterval\u001b[0m\u001b[0;34m)\u001b[0m\u001b[0;34m:\u001b[0m\u001b[0;34m\u001b[0m\u001b[0m\n\u001b[1;32m     12\u001b[0m         \u001b[0msubchain\u001b[0m \u001b[0;34m=\u001b[0m \u001b[0mblocks\u001b[0m\u001b[0;34m[\u001b[0m\u001b[0mi\u001b[0m\u001b[0;34m:\u001b[0m \u001b[0mi\u001b[0m \u001b[0;34m+\u001b[0m \u001b[0minterval\u001b[0m\u001b[0;34m]\u001b[0m\u001b[0;34m\u001b[0m\u001b[0m\n\u001b[0;32m---> 13\u001b[0;31m         \u001b[0mclusters_counts\u001b[0m\u001b[0;34m.\u001b[0m\u001b[0mappend\u001b[0m\u001b[0;34m(\u001b[0m\u001b[0mlen\u001b[0m\u001b[0;34m(\u001b[0m\u001b[0mgetClusterIdsOfBlocks\u001b[0m\u001b[0;34m(\u001b[0m\u001b[0msubchain\u001b[0m\u001b[0;34m,\u001b[0m \u001b[0mmap_address2cluster\u001b[0m\u001b[0;34m)\u001b[0m\u001b[0;34m)\u001b[0m\u001b[0;34m)\u001b[0m\u001b[0;34m\u001b[0m\u001b[0m\n\u001b[0m\u001b[1;32m     14\u001b[0m     \u001b[0;32mreturn\u001b[0m \u001b[0mclusters_counts\u001b[0m\u001b[0;34m\u001b[0m\u001b[0m\n\u001b[1;32m     15\u001b[0m \u001b[0;34m\u001b[0m\u001b[0m\n",
      "\u001b[0;32m<ipython-input-239-4180ab6b6bd7>\u001b[0m in \u001b[0;36mgetClusterIdsOfBlocks\u001b[0;34m(blocks, map_address2cluster)\u001b[0m\n\u001b[1;32m      4\u001b[0m     \u001b[0;32mfor\u001b[0m \u001b[0maddress\u001b[0m \u001b[0;32min\u001b[0m \u001b[0mactive_addresses\u001b[0m\u001b[0;34m:\u001b[0m\u001b[0;34m\u001b[0m\u001b[0m\n\u001b[1;32m      5\u001b[0m         \u001b[0;31m#if address in map_address2cluster:\u001b[0m\u001b[0;34m\u001b[0m\u001b[0;34m\u001b[0m\u001b[0m\n\u001b[0;32m----> 6\u001b[0;31m         \u001b[0mcluster_ids\u001b[0m\u001b[0;34m.\u001b[0m\u001b[0madd\u001b[0m\u001b[0;34m(\u001b[0m\u001b[0mmap_address2cluster\u001b[0m\u001b[0;34m[\u001b[0m\u001b[0maddress\u001b[0m\u001b[0;34m]\u001b[0m\u001b[0;34m)\u001b[0m\u001b[0;34m\u001b[0m\u001b[0m\n\u001b[0m\u001b[1;32m      7\u001b[0m     \u001b[0;32mreturn\u001b[0m \u001b[0mcluster_ids\u001b[0m\u001b[0;34m\u001b[0m\u001b[0m\n\u001b[1;32m      8\u001b[0m \u001b[0;34m\u001b[0m\u001b[0m\n",
      "\u001b[0;31mKeyError\u001b[0m: NulldataAddressData()"
     ]
    }
   ],
   "source": [
    "%time cur_clusters_2_old_m = getActiveClustersCounts2(blocks_m, the_map_m, INTERVAL_M)"
   ]
  },
  {
   "cell_type": "code",
   "execution_count": 228,
   "metadata": {},
   "outputs": [
    {
     "name": "stdout",
     "output_type": "stream",
     "text": [
      "CPU times: user 17.4 s, sys: 0 ns, total: 17.4 s\n",
      "Wall time: 17.4 s\n"
     ]
    }
   ],
   "source": [
    "%time cur_clusters_np_m = getActiveClustersCounts2Np(blocks_m, the_map_new_np_m, INTERVAL_M)"
   ]
  },
  {
   "cell_type": "code",
   "execution_count": 244,
   "metadata": {},
   "outputs": [
    {
     "name": "stdout",
     "output_type": "stream",
     "text": [
      "CPU times: user 18.1 s, sys: 4 ms, total: 18.1 s\n",
      "Wall time: 18.1 s\n"
     ]
    }
   ],
   "source": [
    "%time cur_clusters_np_m_2 = getActiveClustersCounts2Np(blocks_m, the_map_new_np_m, INTERVAL_M)"
   ]
  },
  {
   "cell_type": "code",
   "execution_count": 233,
   "metadata": {},
   "outputs": [
    {
     "data": {
      "text/plain": [
       "True"
      ]
     },
     "execution_count": 233,
     "metadata": {},
     "output_type": "execute_result"
    }
   ],
   "source": [
    "cur_clusters_2_old_m == cur_clusters_old_m"
   ]
  },
  {
   "cell_type": "code",
   "execution_count": 230,
   "metadata": {},
   "outputs": [
    {
     "data": {
      "text/plain": [
       "False"
      ]
     },
     "execution_count": 230,
     "metadata": {},
     "output_type": "execute_result"
    }
   ],
   "source": [
    "cur_clusters_np_m == cur_clusters_old_m"
   ]
  },
  {
   "cell_type": "code",
   "execution_count": 231,
   "metadata": {},
   "outputs": [
    {
     "data": {
      "text/plain": [
       "True"
      ]
     },
     "execution_count": 231,
     "metadata": {},
     "output_type": "execute_result"
    }
   ],
   "source": [
    "cur_clusters_m == cur_clusters_old_m"
   ]
  },
  {
   "cell_type": "code",
   "execution_count": 213,
   "metadata": {},
   "outputs": [
    {
     "data": {
      "text/plain": [
       "False"
      ]
     },
     "execution_count": 213,
     "metadata": {},
     "output_type": "execute_result"
    }
   ],
   "source": [
    "cur_clusters_np_m == cur_clusters_m"
   ]
  },
  {
   "cell_type": "code",
   "execution_count": 245,
   "metadata": {},
   "outputs": [
    {
     "data": {
      "text/plain": [
       "True"
      ]
     },
     "execution_count": 245,
     "metadata": {},
     "output_type": "execute_result"
    }
   ],
   "source": [
    "cur_clusters_np_m_2 == cur_clusters_m"
   ]
  },
  {
   "cell_type": "code",
   "execution_count": 248,
   "metadata": {},
   "outputs": [],
   "source": [
    "#for i in range(len(cur_clusters_m)):\n",
    "#    if cur_clusters_m[i] != cur_clusters_np_m[i]:\n",
    "#        print(i, cur_clusters_m[i], cur_clusters_np_m[i])"
   ]
  },
  {
   "cell_type": "code",
   "execution_count": 219,
   "metadata": {},
   "outputs": [
    {
     "data": {
      "text/plain": [
       "56"
      ]
     },
     "execution_count": 219,
     "metadata": {},
     "output_type": "execute_result"
    }
   ],
   "source": [
    "cur_clusters_m[-1]"
   ]
  },
  {
   "cell_type": "code",
   "execution_count": 221,
   "metadata": {},
   "outputs": [
    {
     "data": {
      "text/plain": [
       "89"
      ]
     },
     "execution_count": 221,
     "metadata": {},
     "output_type": "execute_result"
    }
   ],
   "source": [
    "cur_clusters_np_m[-1]"
   ]
  },
  {
   "cell_type": "code",
   "execution_count": 226,
   "metadata": {},
   "outputs": [
    {
     "name": "stdout",
     "output_type": "stream",
     "text": [
      "CPU times: user 8.7 s, sys: 168 ms, total: 8.86 s\n",
      "Wall time: 8.86 s\n"
     ]
    }
   ],
   "source": [
    "%time all_clusters_m_prepared = prepareClusters(all_clusters_m)"
   ]
  },
  {
   "cell_type": "code",
   "execution_count": 157,
   "metadata": {},
   "outputs": [],
   "source": []
  },
  {
   "cell_type": "code",
   "execution_count": 177,
   "metadata": {},
   "outputs": [],
   "source": [
    "the_map_new_np2_m = readMapNpFromHdfs('mincoin_map_add2cl.hdf5')"
   ]
  },
  {
   "cell_type": "code",
   "execution_count": 176,
   "metadata": {},
   "outputs": [],
   "source": []
  },
  {
   "cell_type": "code",
   "execution_count": null,
   "metadata": {},
   "outputs": [],
   "source": []
  },
  {
   "cell_type": "code",
   "execution_count": 162,
   "metadata": {},
   "outputs": [
    {
     "data": {
      "text/plain": [
       "[address_type.nonstandard,\n",
       " address_type.pubkey,\n",
       " address_type.pubkeyhash,\n",
       " address_type.multisig_pubkey,\n",
       " address_type.scripthash,\n",
       " address_type.multisig,\n",
       " address_type.nulldata,\n",
       " address_type.witness_pubkeyhash,\n",
       " address_type.witness_scripthash]"
      ]
     },
     "execution_count": 162,
     "metadata": {},
     "output_type": "execute_result"
    }
   ],
   "source": [
    "[t for t in blocksci.address_type.types]"
   ]
  },
  {
   "cell_type": "code",
   "execution_count": 108,
   "metadata": {},
   "outputs": [
    {
     "name": "stdout",
     "output_type": "stream",
     "text": [
      "CPU times: user 3.93 s, sys: 0 ns, total: 3.93 s\n",
      "Wall time: 3.93 s\n"
     ]
    }
   ],
   "source": [
    "%time balance_np_0_m = getClustersBalanceChangeBlocksNp(blocks_m[:100000], the_map_new_np_m, np.zeros(len(all_clusters_m)))"
   ]
  },
  {
   "cell_type": "code",
   "execution_count": 109,
   "metadata": {},
   "outputs": [
    {
     "name": "stdout",
     "output_type": "stream",
     "text": [
      "CPU times: user 3.85 s, sys: 0 ns, total: 3.85 s\n",
      "Wall time: 3.85 s\n"
     ]
    }
   ],
   "source": [
    "%time balance_0_m = getClustersBalanceChangeBlocks(blocks_m[:100000], the_map_new_m, np.zeros(len(all_clusters_m)))"
   ]
  },
  {
   "cell_type": "code",
   "execution_count": 104,
   "metadata": {},
   "outputs": [
    {
     "data": {
      "text/plain": [
       "True"
      ]
     },
     "execution_count": 104,
     "metadata": {},
     "output_type": "execute_result"
    }
   ],
   "source": [
    "(balance_0_m == balance_np_0_m).all()"
   ]
  },
  {
   "cell_type": "code",
   "execution_count": 145,
   "metadata": {},
   "outputs": [
    {
     "name": "stdout",
     "output_type": "stream",
     "text": [
      "CPU times: user 21.5 s, sys: 0 ns, total: 21.5 s\n",
      "Wall time: 21.5 s\n"
     ]
    }
   ],
   "source": [
    "%time ginis_old_m = getGinisOfClusters(blocks_m, the_map_new_m, 1000)"
   ]
  },
  {
   "cell_type": "code",
   "execution_count": 125,
   "metadata": {},
   "outputs": [
    {
     "name": "stdout",
     "output_type": "stream",
     "text": [
      "90516\n",
      "CPU times: user 21.9 s, sys: 20 ms, total: 21.9 s\n",
      "Wall time: 21.9 s\n"
     ]
    }
   ],
   "source": [
    "%time ginis_np_m = getGinisOfClustersNp(blocks_m, the_map_new_np_m, 1000)"
   ]
  },
  {
   "cell_type": "code",
   "execution_count": 282,
   "metadata": {},
   "outputs": [
    {
     "name": "stdout",
     "output_type": "stream",
     "text": [
      "90516\n",
      "CPU times: user 22.6 s, sys: 4 ms, total: 22.6 s\n",
      "Wall time: 22.6 s\n"
     ]
    }
   ],
   "source": [
    "%time ginis_np_WOnull_m = getGinisOfClustersNp(blocks_m, the_map_new_np_m, 1000)"
   ]
  },
  {
   "cell_type": "code",
   "execution_count": 275,
   "metadata": {},
   "outputs": [],
   "source": [
    "arr = the_map_new_np_m[blocksci.address_type.nulldata]\n",
    "set(arr[1:arr[0]])"
   ]
  },
  {
   "cell_type": "code",
   "execution_count": null,
   "metadata": {},
   "outputs": [],
   "source": []
  },
  {
   "cell_type": "code",
   "execution_count": 276,
   "metadata": {},
   "outputs": [],
   "source": [
    "#set(the_map_new_np_m[blocksci.address_type.nulldata])"
   ]
  },
  {
   "cell_type": "code",
   "execution_count": 146,
   "metadata": {},
   "outputs": [
    {
     "data": {
      "text/plain": [
       "True"
      ]
     },
     "execution_count": 146,
     "metadata": {},
     "output_type": "execute_result"
    }
   ],
   "source": [
    "ginis_old_m == ginis_np_m"
   ]
  },
  {
   "cell_type": "code",
   "execution_count": 129,
   "metadata": {},
   "outputs": [
    {
     "data": {
      "text/plain": [
       "False"
      ]
     },
     "execution_count": 129,
     "metadata": {},
     "output_type": "execute_result"
    }
   ],
   "source": [
    "ginis_np_m == ginis_m"
   ]
  },
  {
   "cell_type": "code",
   "execution_count": 252,
   "metadata": {},
   "outputs": [
    {
     "data": {
      "text/plain": [
       "False"
      ]
     },
     "execution_count": 252,
     "metadata": {},
     "output_type": "execute_result"
    }
   ],
   "source": [
    "ginis_old_m == ginis_m"
   ]
  },
  {
   "cell_type": "code",
   "execution_count": 284,
   "metadata": {},
   "outputs": [
    {
     "data": {
      "text/plain": [
       "False"
      ]
     },
     "execution_count": 284,
     "metadata": {},
     "output_type": "execute_result"
    }
   ],
   "source": [
    "ginis_np_WOnull_m == ginis_m"
   ]
  },
  {
   "cell_type": "code",
   "execution_count": 285,
   "metadata": {},
   "outputs": [
    {
     "data": {
      "text/plain": [
       "True"
      ]
     },
     "execution_count": 285,
     "metadata": {},
     "output_type": "execute_result"
    }
   ],
   "source": [
    "ginis_np_WOnull_m == ginis_np_m"
   ]
  },
  {
   "cell_type": "code",
   "execution_count": 255,
   "metadata": {},
   "outputs": [
    {
     "name": "stdout",
     "output_type": "stream",
     "text": [
      "0.757634251779\n",
      "0.757439134355275\n"
     ]
    }
   ],
   "source": [
    "print(ginis_np_WOnull_m[0])\n",
    "print(ginis_m[0])"
   ]
  },
  {
   "cell_type": "code",
   "execution_count": 130,
   "metadata": {},
   "outputs": [
    {
     "data": {
      "text/plain": [
       "0.75763425177898203"
      ]
     },
     "execution_count": 130,
     "metadata": {},
     "output_type": "execute_result"
    }
   ],
   "source": [
    "ginis_np_m[0]"
   ]
  },
  {
   "cell_type": "code",
   "execution_count": 131,
   "metadata": {},
   "outputs": [
    {
     "data": {
      "text/plain": [
       "0.757439134355275"
      ]
     },
     "execution_count": 131,
     "metadata": {},
     "output_type": "execute_result"
    }
   ],
   "source": [
    "ginis_m[0]"
   ]
  },
  {
   "cell_type": "code",
   "execution_count": null,
   "metadata": {},
   "outputs": [],
   "source": []
  },
  {
   "cell_type": "code",
   "execution_count": 148,
   "metadata": {},
   "outputs": [
    {
     "name": "stdout",
     "output_type": "stream",
     "text": [
      "CPU times: user 8.94 s, sys: 180 ms, total: 9.12 s\n",
      "Wall time: 11.7 s\n"
     ]
    }
   ],
   "source": [
    "%time the_map_m = getMapAddress2Cluster(all_clusters_m)"
   ]
  },
  {
   "cell_type": "code",
   "execution_count": 236,
   "metadata": {},
   "outputs": [
    {
     "name": "stdout",
     "output_type": "stream",
     "text": [
      "CPU times: user 0 ns, sys: 0 ns, total: 0 ns\n",
      "Wall time: 10.3 µs\n"
     ]
    }
   ],
   "source": [
    "all_addresses_dict_m = {}\n",
    "for add_type in blocksci.address_type.types:\n",
    "    all_addresses_dict_m[add_type] = chain_m.addresses(add_type)\n",
    "    \n",
    "import itertools\n",
    "%time all_addresses_m = itertools.chain(*all_addresses_dict_m.values())"
   ]
  },
  {
   "cell_type": "code",
   "execution_count": 92,
   "metadata": {},
   "outputs": [
    {
     "name": "stdout",
     "output_type": "stream",
     "text": [
      "CPU times: user 13.8 s, sys: 172 ms, total: 14 s\n",
      "Wall time: 14 s\n"
     ]
    }
   ],
   "source": [
    "%time the_map_new_m = getMapAddress2Cluster2(cl_mgr_m, all_addresses_m)"
   ]
  },
  {
   "cell_type": "code",
   "execution_count": 149,
   "metadata": {},
   "outputs": [
    {
     "name": "stdout",
     "output_type": "stream",
     "text": [
      "CPU times: user 21.6 s, sys: 4 ms, total: 21.6 s\n",
      "Wall time: 21.6 s\n"
     ]
    }
   ],
   "source": [
    "%time ginis2_m = getGinisOfClusters(blocks_m, the_map_m, INTERVAL_M)"
   ]
  },
  {
   "cell_type": "code",
   "execution_count": 152,
   "metadata": {},
   "outputs": [
    {
     "data": {
      "text/plain": [
       "500"
      ]
     },
     "execution_count": 152,
     "metadata": {},
     "output_type": "execute_result"
    }
   ],
   "source": [
    "len(ginis_m)"
   ]
  },
  {
   "cell_type": "code",
   "execution_count": 155,
   "metadata": {},
   "outputs": [
    {
     "data": {
      "text/plain": [
       "True"
      ]
     },
     "execution_count": 155,
     "metadata": {},
     "output_type": "execute_result"
    }
   ],
   "source": [
    "ginis_np_m == ginis2_m"
   ]
  },
  {
   "cell_type": "code",
   "execution_count": 25,
   "metadata": {},
   "outputs": [
    {
     "name": "stdout",
     "output_type": "stream",
     "text": [
      "CPU times: user 22.2 s, sys: 20 ms, total: 22.3 s\n",
      "Wall time: 22.3 s\n"
     ]
    }
   ],
   "source": [
    "%time ginis_m = getGinisOfClusters(blocks_m, the_map_m, INTERVAL_M)"
   ]
  },
  {
   "cell_type": "code",
   "execution_count": 26,
   "metadata": {},
   "outputs": [
    {
     "name": "stdout",
     "output_type": "stream",
     "text": [
      "CPU times: user 22.4 s, sys: 0 ns, total: 22.4 s\n",
      "Wall time: 22.4 s\n"
     ]
    }
   ],
   "source": [
    "%time ginis_new_m = getGinisOfClusters(blocks_m, the_map_new_m, INTERVAL_M)"
   ]
  },
  {
   "cell_type": "code",
   "execution_count": 27,
   "metadata": {},
   "outputs": [
    {
     "data": {
      "text/plain": [
       "True"
      ]
     },
     "execution_count": 27,
     "metadata": {},
     "output_type": "execute_result"
    }
   ],
   "source": [
    "ginis_m == ginis_new_m"
   ]
  },
  {
   "cell_type": "code",
   "execution_count": 34,
   "metadata": {},
   "outputs": [
    {
     "data": {
      "text/html": [
       "<div>\n",
       "<style scoped>\n",
       "    .dataframe tbody tr th:only-of-type {\n",
       "        vertical-align: middle;\n",
       "    }\n",
       "\n",
       "    .dataframe tbody tr th {\n",
       "        vertical-align: top;\n",
       "    }\n",
       "\n",
       "    .dataframe thead th {\n",
       "        text-align: right;\n",
       "    }\n",
       "</style>\n",
       "<table border=\"1\" class=\"dataframe\">\n",
       "  <thead>\n",
       "    <tr style=\"text-align: right;\">\n",
       "      <th></th>\n",
       "      <th>snapped_at</th>\n",
       "      <th>price</th>\n",
       "      <th>market_cap</th>\n",
       "      <th>total_volume</th>\n",
       "    </tr>\n",
       "  </thead>\n",
       "  <tbody>\n",
       "    <tr>\n",
       "      <th>0</th>\n",
       "      <td>2013-05-03 00:00:00 UTC</td>\n",
       "      <td>0.099005</td>\n",
       "      <td>100528.0</td>\n",
       "      <td>0.0</td>\n",
       "    </tr>\n",
       "    <tr>\n",
       "      <th>1</th>\n",
       "      <td>2013-05-04 00:00:00 UTC</td>\n",
       "      <td>0.193906</td>\n",
       "      <td>197809.0</td>\n",
       "      <td>0.0</td>\n",
       "    </tr>\n",
       "    <tr>\n",
       "      <th>2</th>\n",
       "      <td>2013-05-05 00:00:00 UTC</td>\n",
       "      <td>0.118000</td>\n",
       "      <td>120599.0</td>\n",
       "      <td>0.0</td>\n",
       "    </tr>\n",
       "  </tbody>\n",
       "</table>\n",
       "</div>"
      ],
      "text/plain": [
       "                snapped_at     price  market_cap  total_volume\n",
       "0  2013-05-03 00:00:00 UTC  0.099005    100528.0           0.0\n",
       "1  2013-05-04 00:00:00 UTC  0.193906    197809.0           0.0\n",
       "2  2013-05-05 00:00:00 UTC  0.118000    120599.0           0.0"
      ]
     },
     "execution_count": 34,
     "metadata": {},
     "output_type": "execute_result"
    }
   ],
   "source": [
    "import pandas as pd\n",
    "prices_m_df = pd.read_csv('~/downloaded/mnc-usd-max.csv')\n",
    "prices_half_m_df = prices_m_df[pd.to_datetime(prices_m_df['snapped_at']) <= times[-1]]\n",
    "prices_m_df[:3]"
   ]
  },
  {
   "cell_type": "code",
   "execution_count": 18,
   "metadata": {},
   "outputs": [
    {
     "data": {
      "image/png": "[encoded data removed]",
      "text/plain": [
       "<Figure size 1440x1440 with 3 Axes>"
      ]
     },
     "metadata": {},
     "output_type": "display_data"
    }
   ],
   "source": [
    "b, e = 10, None\n",
    "f, axes = plt.subplots(3, 1, sharex=True)\n",
    "f.set_size_inches(20, 20)\n",
    "axes[0].plot(times[b:e], NC_m[b:e])\n",
    "axes[0].set_title(\"Nakamoto coefficient\")\n",
    "axes[1].plot(times[b:e], adds_counts_m[b:e])\n",
    "axes[1].set_title(\"Active addresses count\")\n",
    "axes[2].plot(times[b:e], cur_clusters_m[b:e])\n",
    "axes[2].set_title(\"Active users count\")\n",
    "axes[1].plot(times[b:e], ginis_m[b:e])\n",
    "axes[1].set_title(\"Gini coefficient of users coins\")\n",
    "axes[2].plot(pd.to_datetime(prices_half_m_df['snapped_at'])[b:e], prices_half_m_df['price'][b:e])\n",
    "axes[2].set_title(\"Price (USD)\")\n",
    "plt.show()\n",
    "#plt.savefig('~/calculated/mincoin/first500blocks_interval1000blocks.png')\n",
    "#plt.savefig('mincaen.png')"
   ]
  },
  {
   "cell_type": "code",
   "execution_count": 156,
   "metadata": {},
   "outputs": [],
   "source": [
    "# SAVE METRICS:\n",
    "import json\n",
    "prefix = 'calculated/mincoin/lh{}_int{}b_'.format(500000, INTERVAL_M)\n",
    "#with open(prefix + 'NC', 'w') as fout:\n",
    "#    fout.write(json.dumps(NC_m))\n",
    "#with open(prefix + 'adds_counts', 'w') as fout:\n",
    "#    fout.write(json.dumps(adds_counts_m))\n",
    "#with open(prefix + 'cur_clusters', 'w') as fout:\n",
    "#    fout.write(json.dumps(cur_clusters_m))\n",
    "with open(prefix + 'ginis', 'w') as fout:\n",
    "    fout.write(json.dumps(ginis2_m))"
   ]
  },
  {
   "cell_type": "code",
   "execution_count": 212,
   "metadata": {},
   "outputs": [],
   "source": [
    "# READ METRICS:\n",
    "INTERVAL_M = 1000\n",
    "import json\n",
    "prefix = 'calculated/mincoin/lh{}_int{}b_'.format(500000, INTERVAL_M)\n",
    "#with open(prefix + 'NC', 'r') as fin:\n",
    "#    NC_m = json.loads(fin.read())\n",
    "#with open(prefix + 'adds_counts', 'r') as fin:\n",
    "#    adds_counts_m = json.loads(fin.read())\n",
    "with open(prefix + 'cur_clusters', 'r') as fin:\n",
    "    cur_clusters_m = json.loads(fin.read())\n",
    "#with open(prefix + 'ginis', 'r') as fin:\n",
    "#    ginis_m = json.loads(fin.read())"
   ]
  },
  {
   "cell_type": "code",
   "execution_count": null,
   "metadata": {},
   "outputs": [],
   "source": []
  },
  {
   "cell_type": "code",
   "execution_count": null,
   "metadata": {},
   "outputs": [],
   "source": []
  },
  {
   "cell_type": "code",
   "execution_count": 6,
   "metadata": {},
   "outputs": [],
   "source": [
    "def getMapAddressCluster(clusters):\n",
    "    map_address2cluster = {}\n",
    "    for cluster in clusters:\n",
    "        for address in cluster.addresses:\n",
    "            map_address2cluster[address] = cluster.index\n",
    "    return map_address2cluster"
   ]
  },
  {
   "cell_type": "code",
   "execution_count": 7,
   "metadata": {},
   "outputs": [
    {
     "name": "stdout",
     "output_type": "stream",
     "text": [
      "CPU times: user 9.71 s, sys: 200 ms, total: 9.91 s\n",
      "Wall time: 9.91 s\n"
     ]
    }
   ],
   "source": [
    "%time the_map = getMapAddressCluster(all_clusters_m)"
   ]
  },
  {
   "cell_type": "code",
   "execution_count": null,
   "metadata": {},
   "outputs": [],
   "source": [
    "np.zeros()"
   ]
  },
  {
   "cell_type": "code",
   "execution_count": 9,
   "metadata": {},
   "outputs": [],
   "source": [
    "max_cl_idx = 0\n",
    "for cl in all_clusters_m:\n",
    "    if cl.index > max_cl_idx:\n",
    "        max_cl_idx = cl.index"
   ]
  },
  {
   "cell_type": "code",
   "execution_count": 10,
   "metadata": {},
   "outputs": [
    {
     "data": {
      "text/plain": [
       "90516"
      ]
     },
     "execution_count": 10,
     "metadata": {},
     "output_type": "execute_result"
    }
   ],
   "source": [
    "max_cl_idx"
   ]
  },
  {
   "cell_type": "code",
   "execution_count": 21,
   "metadata": {},
   "outputs": [
    {
     "data": {
      "text/plain": [
       "594467"
      ]
     },
     "execution_count": 21,
     "metadata": {},
     "output_type": "execute_result"
    }
   ],
   "source": [
    "len(the_map)"
   ]
  },
  {
   "cell_type": "code",
   "execution_count": null,
   "metadata": {},
   "outputs": [],
   "source": [
    "chain_m"
   ]
  },
  {
   "cell_type": "code",
   "execution_count": 27,
   "metadata": {},
   "outputs": [],
   "source": [
    "balances = np.zeros(len(all_clusters_m))"
   ]
  },
  {
   "cell_type": "code",
   "execution_count": null,
   "metadata": {},
   "outputs": [],
   "source": []
  },
  {
   "cell_type": "code",
   "execution_count": null,
   "metadata": {},
   "outputs": [],
   "source": []
  },
  {
   "cell_type": "code",
   "execution_count": null,
   "metadata": {},
   "outputs": [],
   "source": []
  },
  {
   "cell_type": "code",
   "execution_count": null,
   "metadata": {},
   "outputs": [],
   "source": []
  },
  {
   "cell_type": "code",
   "execution_count": 27,
   "metadata": {},
   "outputs": [
    {
     "data": {
      "text/plain": [
       "1421537"
      ]
     },
     "execution_count": 27,
     "metadata": {},
     "output_type": "execute_result"
    }
   ],
   "source": [
    "# QW_LITECOIN\n",
    "chain_l = blocksci.Blockchain(\"/home/ubuntu/litecoin_disk3\")\n",
    "blocks_l = chain_l[:]\n",
    "INTERVAL_L = 1000\n",
    "len(chain_l)"
   ]
  },
  {
   "cell_type": "code",
   "execution_count": 28,
   "metadata": {},
   "outputs": [],
   "source": [
    "%time times_l = getTimes(blocks_l, INTERVAL_L)"
   ]
  },
  {
   "cell_type": "code",
   "execution_count": 21,
   "metadata": {},
   "outputs": [
    {
     "name": "stdout",
     "output_type": "stream",
     "text": [
      "CPU times: user 31.3 s, sys: 488 ms, total: 31.8 s\n",
      "Wall time: 31.8 s\n"
     ]
    }
   ],
   "source": [
    "%time miners_l = guessMinerAdds3(blocks_l)"
   ]
  },
  {
   "cell_type": "code",
   "execution_count": 22,
   "metadata": {},
   "outputs": [
    {
     "name": "stdout",
     "output_type": "stream",
     "text": [
      "CPU times: user 2.02 s, sys: 0 ns, total: 2.02 s\n",
      "Wall time: 2.02 s\n"
     ]
    }
   ],
   "source": [
    "%time NC_l, egos_l = calcNakamotoCoef2(miners_l, INTERVAL_L)"
   ]
  },
  {
   "cell_type": "code",
   "execution_count": 23,
   "metadata": {},
   "outputs": [
    {
     "name": "stdout",
     "output_type": "stream",
     "text": [
      "CPU times: user 8min 55s, sys: 64 ms, total: 8min 55s\n",
      "Wall time: 8min 55s\n"
     ]
    }
   ],
   "source": [
    "%time adds_counts_l = getActiveAddressesCounts(blocks_l, INTERVAL_L)"
   ]
  },
  {
   "cell_type": "code",
   "execution_count": 100,
   "metadata": {},
   "outputs": [
    {
     "data": {
      "text/plain": [
       "9312234"
      ]
     },
     "execution_count": 100,
     "metadata": {},
     "output_type": "execute_result"
    }
   ],
   "source": [
    "len(all_clusters_l)"
   ]
  },
  {
   "cell_type": "code",
   "execution_count": 29,
   "metadata": {},
   "outputs": [
    {
     "data": {
      "text/plain": [
       "9312234"
      ]
     },
     "execution_count": 29,
     "metadata": {},
     "output_type": "execute_result"
    }
   ],
   "source": [
    "cl_mgr_l = blocksci.cluster.ClusterManager(\"~/clusters_l2\", chain_l)\n",
    "#cl_mgr_l.create_clustering(location='~/clusters_l2', chain=chain_l)\n",
    "all_clusters_l = cl_mgr_l.clusters()\n",
    "len(all_clusters_l)"
   ]
  },
  {
   "cell_type": "code",
   "execution_count": 148,
   "metadata": {},
   "outputs": [
    {
     "data": {
      "text/plain": [
       "[]"
      ]
     },
     "execution_count": 148,
     "metadata": {},
     "output_type": "execute_result"
    }
   ],
   "source": [
    "cl_rand_add"
   ]
  },
  {
   "cell_type": "code",
   "execution_count": 16,
   "metadata": {},
   "outputs": [
    {
     "name": "stdout",
     "output_type": "stream",
     "text": [
      "CPU times: user 8min, sys: 15.8 s, total: 8min 15s\n",
      "Wall time: 8min 15s\n"
     ]
    }
   ],
   "source": [
    "%time all_clusters_l_prepared = prepareClusters(all_clusters_l)"
   ]
  },
  {
   "cell_type": "code",
   "execution_count": 17,
   "metadata": {},
   "outputs": [
    {
     "name": "stdout",
     "output_type": "stream",
     "text": [
      "CPU times: user 43min 2s, sys: 236 ms, total: 43min 2s\n",
      "Wall time: 43min 2s\n"
     ]
    }
   ],
   "source": [
    "%time cur_clusters_l_oldway = getActiveClustersCounts(blocks_l[:400000], all_clusters_l_prepared, INTERVAL_L)"
   ]
  },
  {
   "cell_type": "code",
   "execution_count": 21,
   "metadata": {},
   "outputs": [
    {
     "data": {
      "text/plain": [
       "True"
      ]
     },
     "execution_count": 21,
     "metadata": {},
     "output_type": "execute_result"
    }
   ],
   "source": [
    "cur_clusters_l_oldway == cur_clusters_l[:400]"
   ]
  },
  {
   "cell_type": "code",
   "execution_count": 39,
   "metadata": {},
   "outputs": [
    {
     "name": "stdout",
     "output_type": "stream",
     "text": [
      "CPU times: user 9min 19s, sys: 3.38 s, total: 9min 22s\n",
      "Wall time: 9min 22s\n"
     ]
    }
   ],
   "source": [
    "%time cur_clusters_l = getActiveClustersCounts2(blocks_l, the_map_l, INTERVAL_L)"
   ]
  },
  {
   "cell_type": "code",
   "execution_count": 244,
   "metadata": {},
   "outputs": [
    {
     "name": "stdout",
     "output_type": "stream",
     "text": [
      "CPU times: user 7min 40s, sys: 14 s, total: 7min 54s\n",
      "Wall time: 7min 54s\n"
     ]
    }
   ],
   "source": [
    "%time the_map_l = getMapAddress2Cluster(all_clusters_l)"
   ]
  },
  {
   "cell_type": "code",
   "execution_count": 141,
   "metadata": {},
   "outputs": [
    {
     "name": "stdout",
     "output_type": "stream",
     "text": [
      "CPU times: user 7min 37s, sys: 12.1 s, total: 7min 49s\n",
      "Wall time: 7min 49s\n"
     ]
    }
   ],
   "source": [
    "%time the_map_ser_l_new, first_cluster = getMapAddress2ClusterSerializable(all_clusters_l)"
   ]
  },
  {
   "cell_type": "code",
   "execution_count": 30,
   "metadata": {},
   "outputs": [],
   "source": [
    "all_addresses_dict_l = {}\n",
    "for add_type in blocksci.address_type.types:\n",
    "    all_addresses_dict_l[add_type] = chain_l.addresses(add_type)\n",
    "    \n",
    "#import itertools\n",
    "#%time all_addresses_l = itertools.chain(*all_addresses_dict_l.values())"
   ]
  },
  {
   "cell_type": "code",
   "execution_count": 57,
   "metadata": {},
   "outputs": [
    {
     "name": "stdout",
     "output_type": "stream",
     "text": [
      "CPU times: user 10min 14s, sys: 336 ms, total: 10min 15s\n",
      "Wall time: 10min 15s\n"
     ]
    }
   ],
   "source": [
    "%time the_map_new_np_l = getMapAddress2Cluster2Np(cl_mgr_l, all_addresses_dict_l)"
   ]
  },
  {
   "cell_type": "code",
   "execution_count": 59,
   "metadata": {},
   "outputs": [],
   "source": [
    "#the_map_new_np_l"
   ]
  },
  {
   "cell_type": "code",
   "execution_count": 195,
   "metadata": {},
   "outputs": [],
   "source": []
  },
  {
   "cell_type": "code",
   "execution_count": 199,
   "metadata": {},
   "outputs": [
    {
     "name": "stdout",
     "output_type": "stream",
     "text": [
      "CPU times: user 9min 41s, sys: 1.96 s, total: 9min 43s\n",
      "Wall time: 9min 43s\n"
     ]
    }
   ],
   "source": [
    "%time the_map_ser_l_new2 = getMapAddress2ClusterSerializable2(cl_mgr_l, all_addresses_l)"
   ]
  },
  {
   "cell_type": "code",
   "execution_count": 218,
   "metadata": {},
   "outputs": [
    {
     "name": "stdout",
     "output_type": "stream",
     "text": [
      "CPU times: user 13min 23s, sys: 6.33 s, total: 13min 29s\n",
      "Wall time: 13min 29s\n"
     ]
    }
   ],
   "source": [
    "%time the_map_l_new = getMapAddress2Cluster2(cl_mgr_l, all_addresses_l)"
   ]
  },
  {
   "cell_type": "code",
   "execution_count": 64,
   "metadata": {},
   "outputs": [
    {
     "data": {
      "text/plain": [
       "str"
      ]
     },
     "execution_count": 64,
     "metadata": {},
     "output_type": "execute_result"
    }
   ],
   "source": [
    "type(list(the_map_ser_l.keys())[0])"
   ]
  },
  {
   "cell_type": "code",
   "execution_count": 249,
   "metadata": {},
   "outputs": [],
   "source": [
    "#for i in the_map_ser_l:\n",
    "#    if the_map_ser_l[i] == 16957:\n",
    "#        print(i)"
   ]
  },
  {
   "cell_type": "code",
   "execution_count": 138,
   "metadata": {},
   "outputs": [],
   "source": [
    "balance_l = getClustersBalanceChangeBlocksSer(blocks_l[:1], the_map_ser_l, np.zeros(len(all_clusters_l)))"
   ]
  },
  {
   "cell_type": "code",
   "execution_count": 201,
   "metadata": {},
   "outputs": [],
   "source": [
    "balance_l_new2 = getClustersBalanceChangeBlocksSer(blocks_l[:1], the_map_ser_l_new2, np.zeros(len(all_clusters_l)))"
   ]
  },
  {
   "cell_type": "code",
   "execution_count": 242,
   "metadata": {},
   "outputs": [],
   "source": [
    "balance_l_new = getClustersBalanceChangeBlocks(blocks_l[:1], the_map_l_new, np.zeros(len(all_clusters_l)))"
   ]
  },
  {
   "cell_type": "code",
   "execution_count": 56,
   "metadata": {},
   "outputs": [
    {
     "data": {
      "text/plain": [
       "False"
      ]
     },
     "execution_count": 56,
     "metadata": {},
     "output_type": "execute_result"
    }
   ],
   "source": [
    "(balance_l == balance_l2).all()"
   ]
  },
  {
   "cell_type": "code",
   "execution_count": 29,
   "metadata": {},
   "outputs": [
    {
     "name": "stdout",
     "output_type": "stream",
     "text": [
      "CPU times: user 9min 16s, sys: 28 ms, total: 9min 16s\n",
      "Wall time: 9min 16s\n"
     ]
    }
   ],
   "source": [
    "%time ginis_l = getGinisOfClusters(blocks_l, the_map_l, INTERVAL_L)"
   ]
  },
  {
   "cell_type": "code",
   "execution_count": 67,
   "metadata": {},
   "outputs": [],
   "source": [
    "for v in the_map_new_np_l:\n",
    "    the_map_new_np_l[v] = the_map_new_np_l[v].flatten()"
   ]
  },
  {
   "cell_type": "code",
   "execution_count": 68,
   "metadata": {},
   "outputs": [
    {
     "data": {
      "text/plain": [
       "{address_type.nonstandard: array([18050, 18050, 18050, ..., 18050, 18050, 18050], dtype=int32),\n",
       " address_type.pubkey: array([30176469, 30176469, 30176469, ...,        0,        0,        0], dtype=int32),\n",
       " address_type.pubkeyhash: array([30176469, 30176469, 30176469, ...,        0,        0,        0], dtype=int32),\n",
       " address_type.multisig_pubkey: array([30176469, 30176469, 30176469, ...,        0,        0,        0], dtype=int32),\n",
       " address_type.scripthash: array([1198384, 1198384, 1198384, ...,   88564,   14953,   88564], dtype=int32),\n",
       " address_type.multisig: array([ 475807,  475807,  475807, ..., 5903570, 5620034, 6133261], dtype=int32),\n",
       " address_type.nulldata: array([222946, 222946, 222946, ...,  14953,  14953,  14953], dtype=int32),\n",
       " address_type.witness_pubkeyhash: array([30176469, 30176469, 30176469, ...,        0,        0,        0], dtype=int32),\n",
       " address_type.witness_scripthash: array([1198384, 1198384, 1198384, ...,   88564,   14953,   88564], dtype=int32)}"
      ]
     },
     "execution_count": 68,
     "metadata": {},
     "output_type": "execute_result"
    }
   ],
   "source": [
    "the_map_new_np_l"
   ]
  },
  {
   "cell_type": "code",
   "execution_count": 69,
   "metadata": {},
   "outputs": [
    {
     "name": "stdout",
     "output_type": "stream",
     "text": [
      "CPU times: user 23min 52s, sys: 2.16 s, total: 23min 54s\n",
      "Wall time: 23min 55s\n"
     ]
    }
   ],
   "source": [
    "%time ginis_np_l = getGinisOfClustersNp(blocks_l, the_map_new_np_l, INTERVAL_L)"
   ]
  },
  {
   "cell_type": "code",
   "execution_count": 77,
   "metadata": {},
   "outputs": [
    {
     "data": {
      "text/plain": [
       "0.99766504488017571"
      ]
     },
     "execution_count": 77,
     "metadata": {},
     "output_type": "execute_result"
    }
   ],
   "source": [
    "ginis_np_l[100]"
   ]
  },
  {
   "cell_type": "code",
   "execution_count": 78,
   "metadata": {},
   "outputs": [
    {
     "data": {
      "text/plain": [
       "0.9943040950462801"
      ]
     },
     "execution_count": 78,
     "metadata": {},
     "output_type": "execute_result"
    }
   ],
   "source": [
    "ginis_l[100]"
   ]
  },
  {
   "cell_type": "code",
   "execution_count": 38,
   "metadata": {},
   "outputs": [
    {
     "data": {
      "text/html": [
       "<div>\n",
       "<style scoped>\n",
       "    .dataframe tbody tr th:only-of-type {\n",
       "        vertical-align: middle;\n",
       "    }\n",
       "\n",
       "    .dataframe tbody tr th {\n",
       "        vertical-align: top;\n",
       "    }\n",
       "\n",
       "    .dataframe thead th {\n",
       "        text-align: right;\n",
       "    }\n",
       "</style>\n",
       "<table border=\"1\" class=\"dataframe\">\n",
       "  <thead>\n",
       "    <tr style=\"text-align: right;\">\n",
       "      <th></th>\n",
       "      <th>snapped_at</th>\n",
       "      <th>price</th>\n",
       "      <th>market_cap</th>\n",
       "      <th>total_volume</th>\n",
       "    </tr>\n",
       "  </thead>\n",
       "  <tbody>\n",
       "    <tr>\n",
       "      <th>0</th>\n",
       "      <td>2013-04-28 00:00:00 UTC</td>\n",
       "      <td>4.29983</td>\n",
       "      <td>73773387.0</td>\n",
       "      <td>0.0</td>\n",
       "    </tr>\n",
       "    <tr>\n",
       "      <th>1</th>\n",
       "      <td>2013-04-29 00:00:00 UTC</td>\n",
       "      <td>4.35940</td>\n",
       "      <td>74936909.0</td>\n",
       "      <td>0.0</td>\n",
       "    </tr>\n",
       "    <tr>\n",
       "      <th>2</th>\n",
       "      <td>2013-04-30 00:00:00 UTC</td>\n",
       "      <td>4.18295</td>\n",
       "      <td>72037636.0</td>\n",
       "      <td>0.0</td>\n",
       "    </tr>\n",
       "  </tbody>\n",
       "</table>\n",
       "</div>"
      ],
      "text/plain": [
       "                snapped_at    price  market_cap  total_volume\n",
       "0  2013-04-28 00:00:00 UTC  4.29983  73773387.0           0.0\n",
       "1  2013-04-29 00:00:00 UTC  4.35940  74936909.0           0.0\n",
       "2  2013-04-30 00:00:00 UTC  4.18295  72037636.0           0.0"
      ]
     },
     "execution_count": 38,
     "metadata": {},
     "output_type": "execute_result"
    }
   ],
   "source": [
    "import pandas as pd\n",
    "prices_l_df = pd.read_csv('~/downloaded/ltc-usd-max.csv')\n",
    "prices_half_l_df = prices_l_df[pd.to_datetime(prices_l_df['snapped_at']) <= times_l[-1]]\n",
    "prices_l_df[:3]"
   ]
  },
  {
   "cell_type": "code",
   "execution_count": 40,
   "metadata": {},
   "outputs": [
    {
     "data": {
      "image/png": "[encoded data removed]",
      "text/plain": [
       "<Figure size 1440x1440 with 5 Axes>"
      ]
     },
     "metadata": {},
     "output_type": "display_data"
    }
   ],
   "source": [
    "b, e = None, None\n",
    "f, axes = plt.subplots(5, 1, sharex=True)\n",
    "f.set_size_inches(20, 20)\n",
    "axes[0].plot(times_l[b:e], NC_l[b:e])\n",
    "axes[0].set_title(\"Nakamoto coefficient\")\n",
    "axes[1].plot(times_l[b:e], adds_counts_l[b:e])\n",
    "axes[1].set_title(\"Active addresses count\")\n",
    "axes[2].plot(times_l[b:e], cur_clusters_l[b:e])\n",
    "axes[2].set_title(\"Active users count\")\n",
    "axes[3].plot(times_l[b:e], ginis_l[b:e])\n",
    "axes[3].set_title(\"Gini coefficient of users coins\")\n",
    "axes[4].plot(pd.to_datetime(prices_half_l_df['snapped_at'])[b:e], prices_half_l_df['price'][b:e])\n",
    "axes[4].set_title(\"Price (USD)\")\n",
    "#plt.show()\n",
    "#plt.savefig('~/calculated/mincoin/first500blocks_interval1000blocks.png')\n",
    "plt.savefig('litecaen.png')"
   ]
  },
  {
   "cell_type": "code",
   "execution_count": null,
   "metadata": {},
   "outputs": [],
   "source": []
  },
  {
   "cell_type": "code",
   "execution_count": 297,
   "metadata": {},
   "outputs": [],
   "source": [
    "# SAVE METRICS:\n",
    "import json\n",
    "prefix_l = 'calculated/litecoin/int{}b_'.format(INTERVAL_L)\n",
    "#with open(prefix_l + 'NC', 'w') as fout:\n",
    "#    fout.write(json.dumps(NC_l))\n",
    "#with open(prefix_l + 'adds_counts', 'w') as fout:\n",
    "#    fout.write(json.dumps(adds_counts_l))\n",
    "#with open(prefix_l + 'cur_clusters', 'w') as fout:\n",
    "#    fout.write(json.dumps(cur_clusters_l))\n",
    "#with open(prefix_l + 'map_address2cluster', 'w') as fout:\n",
    "#    fout.write(json.dumps(the_map_ser_l))\n",
    "#with open(prefix_l + 'map_address2cluster_new2', 'w') as fout:\n",
    "#    fout.write(json.dumps(the_map_ser_l_new2))\n",
    "#with open(prefix_l + 'map_address2cluster_2', 'w') as fout:\n",
    "#    fout.write(json.dumps(the_map_ser_l_2))\n",
    "#with open(prefix_l + 'cur_clusters_oldway_400k', 'w') as fout:\n",
    "#    fout.write(json.dumps(cur_clusters_l_oldway))\n",
    "with open(prefix_l + 'ginis', 'w') as fout:\n",
    "    fout.write(json.dumps(ginis_l))"
   ]
  },
  {
   "cell_type": "code",
   "execution_count": 31,
   "metadata": {},
   "outputs": [
    {
     "data": {
      "text/plain": [
       "1799478"
      ]
     },
     "execution_count": 31,
     "metadata": {},
     "output_type": "execute_result"
    }
   ],
   "source": []
  },
  {
   "cell_type": "code",
   "execution_count": 71,
   "metadata": {},
   "outputs": [],
   "source": [
    "# READ METRICS:\n",
    "import json\n",
    "prefix_l = 'calculated/litecoin/int{}b_'.format(INTERVAL_L)\n",
    "#with open(prefix_l + 'NC', 'r') as fin:\n",
    "#    NC_l = json.loads(fin.read())\n",
    "#with open(prefix_l + 'adds_counts', 'r') as fin:\n",
    "#    adds_counts_l = json.loads(fin.read())\n",
    "#with open(prefix_l + 'cur_clusters', 'r') as fin:\n",
    "#    cur_clusters_l = json.loads(fin.read())\n",
    "with open(prefix_l + 'ginis', 'r') as fin:\n",
    "    ginis_l = json.loads(fin.read())\n",
    "#with open(prefix_l + 'map_address2cluster', 'r') as fin:\n",
    "#    the_map_ser_l = json.loads(fin.read())"
   ]
  },
  {
   "cell_type": "code",
   "execution_count": null,
   "metadata": {},
   "outputs": [],
   "source": []
  },
  {
   "cell_type": "code",
   "execution_count": null,
   "metadata": {},
   "outputs": [],
   "source": []
  },
  {
   "cell_type": "code",
   "execution_count": null,
   "metadata": {},
   "outputs": [],
   "source": []
  },
  {
   "cell_type": "code",
   "execution_count": null,
   "metadata": {},
   "outputs": [],
   "source": []
  },
  {
   "cell_type": "code",
   "execution_count": 181,
   "metadata": {},
   "outputs": [
    {
     "data": {
      "text/plain": [
       "523426"
      ]
     },
     "execution_count": 181,
     "metadata": {},
     "output_type": "execute_result"
    }
   ],
   "source": [
    "# QW_BITCOIN\n",
    "chain_b = blocksci.Blockchain(\"/home/ubuntu/bitcoin\")\n",
    "blocks_b = chain_b[:]\n",
    "INTERVAL_B = 1000\n",
    "len(chain_b)"
   ]
  },
  {
   "cell_type": "code",
   "execution_count": 198,
   "metadata": {},
   "outputs": [],
   "source": [
    "%time times_b = getTimes(blocks_b, INTERVAL_B)"
   ]
  },
  {
   "cell_type": "code",
   "execution_count": 300,
   "metadata": {},
   "outputs": [
    {
     "name": "stdout",
     "output_type": "stream",
     "text": [
      "CPU times: user 44.7 s, sys: 1.49 s, total: 46.2 s\n",
      "Wall time: 15min 56s\n"
     ]
    }
   ],
   "source": [
    "%time miners_b = guessMinerAdds3(blocks_b)"
   ]
  },
  {
   "cell_type": "code",
   "execution_count": 200,
   "metadata": {},
   "outputs": [
    {
     "ename": "NameError",
     "evalue": "name 'miners_b' is not defined",
     "output_type": "error",
     "traceback": [
      "\u001b[0;31m---------------------------------------------------------------------------\u001b[0m",
      "\u001b[0;31mNameError\u001b[0m                                 Traceback (most recent call last)",
      "\u001b[0;32m<timed exec>\u001b[0m in \u001b[0;36m<module>\u001b[0;34m()\u001b[0m\n",
      "\u001b[0;31mNameError\u001b[0m: name 'miners_b' is not defined"
     ]
    }
   ],
   "source": [
    "%time NC_b, egos_b = calcNakamotoCoef2(miners_b, INTERVAL_B)"
   ]
  },
  {
   "cell_type": "code",
   "execution_count": 306,
   "metadata": {},
   "outputs": [
    {
     "name": "stdout",
     "output_type": "stream",
     "text": [
      "CPU times: user 2h 12min 39s, sys: 58.2 s, total: 2h 13min 37s\n",
      "Wall time: 2h 14min 12s\n"
     ]
    }
   ],
   "source": [
    "%time adds_counts_b = getActiveAddressesCounts(blocks_b, INTERVAL_B)"
   ]
  },
  {
   "cell_type": "code",
   "execution_count": null,
   "metadata": {},
   "outputs": [],
   "source": []
  },
  {
   "cell_type": "code",
   "execution_count": 182,
   "metadata": {},
   "outputs": [
    {
     "data": {
      "text/plain": [
       "206433637"
      ]
     },
     "execution_count": 182,
     "metadata": {},
     "output_type": "execute_result"
    }
   ],
   "source": [
    "cl_mgr_b = blocksci.cluster.ClusterManager(\"~/clusters_b\", chain_b)\n",
    "#%time cl_mgr_b.create_clustering(location='~/clusters_b', chain=chain_b)\n",
    "all_clusters_b = cl_mgr_b.clusters()\n",
    "len(all_clusters_b)"
   ]
  },
  {
   "cell_type": "code",
   "execution_count": 183,
   "metadata": {},
   "outputs": [
    {
     "name": "stdout",
     "output_type": "stream",
     "text": [
      "CPU times: user 3h 3min 11s, sys: 8.37 s, total: 3h 3min 20s\n",
      "Wall time: 3h 3min 19s\n"
     ]
    }
   ],
   "source": [
    "all_addresses_dict_b = {}\n",
    "for add_type in blocksci.address_type.types:\n",
    "    all_addresses_dict_b[add_type] = chain_b.addresses(add_type)\n",
    "    \n",
    "%time the_map_np_b = getMapAddress2Cluster2Np(cl_mgr_b, all_addresses_dict_b)\n",
    "#the_map_new_np_m"
   ]
  },
  {
   "cell_type": "code",
   "execution_count": 184,
   "metadata": {},
   "outputs": [],
   "source": [
    "safeMapNpInHdfs(the_map_np_b, 'bitcoin_map_add2cl.hdf5')"
   ]
  },
  {
   "cell_type": "code",
   "execution_count": 246,
   "metadata": {},
   "outputs": [
    {
     "name": "stdout",
     "output_type": "stream",
     "text": [
      "CPU times: user 2h 41min 51s, sys: 32.3 s, total: 2h 42min 23s\n",
      "Wall time: 2h 42min 22s\n"
     ]
    }
   ],
   "source": [
    "%time cur_clusters_np_b = getActiveClustersCounts2Np(blocks_b, the_map_np_b, INTERVAL_B)"
   ]
  },
  {
   "cell_type": "code",
   "execution_count": 185,
   "metadata": {},
   "outputs": [
    {
     "name": "stdout",
     "output_type": "stream",
     "text": [
      "206433636\n",
      "CPU times: user 3h 40min, sys: 24.2 s, total: 3h 40min 24s\n",
      "Wall time: 3h 40min 53s\n"
     ]
    }
   ],
   "source": [
    "%time ginis_np_b = getGinisOfClustersNp(blocks_b, the_map_np_b, 1000)"
   ]
  },
  {
   "cell_type": "code",
   "execution_count": null,
   "metadata": {},
   "outputs": [
    {
     "name": "stdout",
     "output_type": "stream",
     "text": [
      "206433636\n"
     ]
    }
   ],
   "source": [
    "%time ginis_np_WOnuldata_b = getGinisOfClustersNp(blocks_b, the_map_np_b, 1000)"
   ]
  },
  {
   "cell_type": "code",
   "execution_count": null,
   "metadata": {},
   "outputs": [],
   "source": []
  },
  {
   "cell_type": "code",
   "execution_count": 6,
   "metadata": {},
   "outputs": [
    {
     "name": "stdout",
     "output_type": "stream",
     "text": [
      "CPU times: user 34min 18s, sys: 56 ms, total: 34min 18s\n",
      "Wall time: 34min 18s\n"
     ]
    }
   ],
   "source": [
    "%time adds_count_b = sum(1 for x in all_addresses_b)"
   ]
  },
  {
   "cell_type": "code",
   "execution_count": 7,
   "metadata": {},
   "outputs": [
    {
     "data": {
      "text/plain": [
       "1977628451"
      ]
     },
     "execution_count": 7,
     "metadata": {},
     "output_type": "execute_result"
    }
   ],
   "source": [
    "adds_count_b"
   ]
  },
  {
   "cell_type": "code",
   "execution_count": 28,
   "metadata": {},
   "outputs": [
    {
     "ename": "KeyboardInterrupt",
     "evalue": "",
     "output_type": "error",
     "traceback": [
      "\u001b[0;31m---------------------------------------------------------------------------\u001b[0m",
      "\u001b[0;31mKeyboardInterrupt\u001b[0m                         Traceback (most recent call last)",
      "\u001b[0;32m<timed exec>\u001b[0m in \u001b[0;36m<module>\u001b[0;34m()\u001b[0m\n",
      "\u001b[0;32m<ipython-input-14-20657a42ffc0>\u001b[0m in \u001b[0;36mgetMapAddress2Cluster2\u001b[0;34m(cluster_manager, all_addresses)\u001b[0m\n\u001b[1;32m     17\u001b[0m     \u001b[0mmap_address2cluster\u001b[0m \u001b[0;34m=\u001b[0m \u001b[0;34m{\u001b[0m\u001b[0;34m}\u001b[0m\u001b[0;34m\u001b[0m\u001b[0m\n\u001b[1;32m     18\u001b[0m     \u001b[0;32mfor\u001b[0m \u001b[0maddress\u001b[0m \u001b[0;32min\u001b[0m \u001b[0mall_addresses\u001b[0m\u001b[0;34m:\u001b[0m\u001b[0;34m\u001b[0m\u001b[0m\n\u001b[0;32m---> 19\u001b[0;31m         \u001b[0mcluster\u001b[0m \u001b[0;34m=\u001b[0m \u001b[0mcluster_manager\u001b[0m\u001b[0;34m.\u001b[0m\u001b[0mcluster_with_address\u001b[0m\u001b[0;34m(\u001b[0m\u001b[0maddress\u001b[0m\u001b[0;34m)\u001b[0m\u001b[0;34m\u001b[0m\u001b[0m\n\u001b[0m\u001b[1;32m     20\u001b[0m         \u001b[0mmap_address2cluster\u001b[0m\u001b[0;34m[\u001b[0m\u001b[0maddress\u001b[0m\u001b[0;34m]\u001b[0m \u001b[0;34m=\u001b[0m \u001b[0mcluster\u001b[0m\u001b[0;34m.\u001b[0m\u001b[0mindex\u001b[0m\u001b[0;34m\u001b[0m\u001b[0m\n\u001b[1;32m     21\u001b[0m     \u001b[0;32mreturn\u001b[0m \u001b[0mmap_address2cluster\u001b[0m\u001b[0;34m\u001b[0m\u001b[0m\n",
      "\u001b[0;31mKeyboardInterrupt\u001b[0m: "
     ]
    }
   ],
   "source": [
    "%time the_map_new_b = getMapAddress2Cluster2(cl_mgr_b, all_addresses_b)"
   ]
  },
  {
   "cell_type": "code",
   "execution_count": null,
   "metadata": {},
   "outputs": [],
   "source": [
    "%time ginis_b = getGinisOfClusters(blocks_b, the_map_new_b, INTERVAL_B)"
   ]
  },
  {
   "cell_type": "code",
   "execution_count": null,
   "metadata": {},
   "outputs": [],
   "source": []
  },
  {
   "cell_type": "code",
   "execution_count": 204,
   "metadata": {},
   "outputs": [
    {
     "data": {
      "text/html": [
       "<div>\n",
       "<style scoped>\n",
       "    .dataframe tbody tr th:only-of-type {\n",
       "        vertical-align: middle;\n",
       "    }\n",
       "\n",
       "    .dataframe tbody tr th {\n",
       "        vertical-align: top;\n",
       "    }\n",
       "\n",
       "    .dataframe thead th {\n",
       "        text-align: right;\n",
       "    }\n",
       "</style>\n",
       "<table border=\"1\" class=\"dataframe\">\n",
       "  <thead>\n",
       "    <tr style=\"text-align: right;\">\n",
       "      <th></th>\n",
       "      <th>snapped_at</th>\n",
       "      <th>price</th>\n",
       "      <th>market_cap</th>\n",
       "      <th>total_volume</th>\n",
       "    </tr>\n",
       "  </thead>\n",
       "  <tbody>\n",
       "    <tr>\n",
       "      <th>0</th>\n",
       "      <td>2013-04-28 00:00:00 UTC</td>\n",
       "      <td>135.30</td>\n",
       "      <td>1.500518e+09</td>\n",
       "      <td>0.0</td>\n",
       "    </tr>\n",
       "    <tr>\n",
       "      <th>1</th>\n",
       "      <td>2013-04-29 00:00:00 UTC</td>\n",
       "      <td>141.96</td>\n",
       "      <td>1.575032e+09</td>\n",
       "      <td>0.0</td>\n",
       "    </tr>\n",
       "    <tr>\n",
       "      <th>2</th>\n",
       "      <td>2013-04-30 00:00:00 UTC</td>\n",
       "      <td>135.30</td>\n",
       "      <td>1.501657e+09</td>\n",
       "      <td>0.0</td>\n",
       "    </tr>\n",
       "  </tbody>\n",
       "</table>\n",
       "</div>"
      ],
      "text/plain": [
       "                snapped_at   price    market_cap  total_volume\n",
       "0  2013-04-28 00:00:00 UTC  135.30  1.500518e+09           0.0\n",
       "1  2013-04-29 00:00:00 UTC  141.96  1.575032e+09           0.0\n",
       "2  2013-04-30 00:00:00 UTC  135.30  1.501657e+09           0.0"
      ]
     },
     "execution_count": 204,
     "metadata": {},
     "output_type": "execute_result"
    }
   ],
   "source": [
    "import pandas as pd\n",
    "prices_b_df = pd.read_csv('~/downloaded/btc-usd-max.csv')\n",
    "prices_half_b_df = prices_b_df[pd.to_datetime(prices_b_df['snapped_at']) <= times_b[-1]]\n",
    "prices_b_df[:3]"
   ]
  },
  {
   "cell_type": "code",
   "execution_count": 206,
   "metadata": {},
   "outputs": [
    {
     "data": {
      "image/png": "[encoded data removed]",
      "text/plain": [
       "<Figure size 1440x1440 with 5 Axes>"
      ]
     },
     "metadata": {},
     "output_type": "display_data"
    }
   ],
   "source": [
    "b, e = 200, None\n",
    "f, axes = plt.subplots(5, 1, sharex=True)\n",
    "f.set_size_inches(20, 20)\n",
    "#axes[0].plot(times_b[b:e], NC_b[b:e])\n",
    "#axes[0].set_title(\"Nakamoto coefficient\")\n",
    "#axes[1].plot(times_b[b:e], adds_counts_b[b:e])\n",
    "#axes[1].set_title(\"Active addresses count\")\n",
    "#axes[2].plot(times_b[b:e], cur_clusters_b[b:e])\n",
    "#axes[2].set_title(\"Active users count\")\n",
    "axes[3].plot(times_b[b:e], ginis_np_b[b:e])\n",
    "axes[3].set_title(\"Gini coefficient of users coins\")\n",
    "axes[4].plot(pd.to_datetime(prices_half_b_df['snapped_at'])[b:e], prices_half_b_df['price'][b:e])\n",
    "axes[4].set_title(\"Price (USD)\")\n",
    "plt.show()\n",
    "#plt.savefig('~/calculated/mincoin/first500blocks_interval1000blocks.png')\n",
    "#plt.savefig('litecaen.png')"
   ]
  },
  {
   "cell_type": "code",
   "execution_count": null,
   "metadata": {},
   "outputs": [],
   "source": []
  },
  {
   "cell_type": "code",
   "execution_count": 247,
   "metadata": {},
   "outputs": [],
   "source": [
    "# SAVE METRICS:\n",
    "import json\n",
    "prefix_b = 'calculated/bitcoin/int{}b_'.format(INTERVAL_B)\n",
    "#with open(prefix_b + 'NC', 'w') as fout:\n",
    "#    fout.write(json.dumps(NC_b))\n",
    "#with open(prefix_b + 'adds_counts', 'w') as fout:\n",
    "#    fout.write(json.dumps(adds_counts_b))\n",
    "with open(prefix_b + 'cur_clusters', 'w') as fout:\n",
    "    fout.write(json.dumps(cur_clusters_np_b))\n",
    "#with open(prefix_b + 'ginis', 'w') as fout:\n",
    "#    fout.write(json.dumps(ginis_np_b))"
   ]
  },
  {
   "cell_type": "code",
   "execution_count": 31,
   "metadata": {},
   "outputs": [
    {
     "data": {
      "text/plain": [
       "1799478"
      ]
     },
     "execution_count": 31,
     "metadata": {},
     "output_type": "execute_result"
    }
   ],
   "source": []
  },
  {
   "cell_type": "code",
   "execution_count": 46,
   "metadata": {},
   "outputs": [],
   "source": [
    "# READ METRICS:\n",
    "import json\n",
    "prefix_b = 'calculated/bitcoin/int{}b_'.format(INTERVAL_B)\n",
    "with open(prefix_b + 'NC', 'r') as fin:\n",
    "    NC_b = json.loads(fin.read())\n",
    "with open(prefix_b + 'adds_counts', 'r') as fin:\n",
    "    adds_counts_b = json.loads(fin.read())\n",
    "with open(prefix_b + 'cur_clusters', 'r') as fin:\n",
    "    cur_clusters_b = json.loads(fin.read())\n",
    "with open(prefix_b + 'ginis', 'r') as fin:\n",
    "    ginis_b = json.loads(fin.read())"
   ]
  },
  {
   "cell_type": "code",
   "execution_count": null,
   "metadata": {},
   "outputs": [],
   "source": []
  },
  {
   "cell_type": "code",
   "execution_count": null,
   "metadata": {},
   "outputs": [],
   "source": []
  },
  {
   "cell_type": "code",
   "execution_count": null,
   "metadata": {},
   "outputs": [],
   "source": []
  },
  {
   "cell_type": "code",
   "execution_count": null,
   "metadata": {},
   "outputs": [],
   "source": []
  },
  {
   "cell_type": "code",
   "execution_count": null,
   "metadata": {},
   "outputs": [],
   "source": []
  },
  {
   "cell_type": "code",
   "execution_count": null,
   "metadata": {},
   "outputs": [],
   "source": []
  },
  {
   "cell_type": "code",
   "execution_count": null,
   "metadata": {},
   "outputs": [],
   "source": []
  }
 ],
 "metadata": {
  "kernelspec": {
   "display_name": "Python 3",
   "language": "python",
   "name": "python3"
  },
  "language_info": {
   "codemirror_mode": {
    "name": "ipython",
    "version": 3
   },
   "file_extension": ".py",
   "mimetype": "text/x-python",
   "name": "python",
   "nbconvert_exporter": "python",
   "pygments_lexer": "ipython3",
   "version": "3.5.2"
  }
 },
 "nbformat": 4,
 "nbformat_minor": 2
}
