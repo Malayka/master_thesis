{
 "cells": [
  {
   "cell_type": "code",
   "execution_count": 21,
   "metadata": {},
   "outputs": [
    {
     "data": {
      "text/plain": [
       "2"
      ]
     },
     "execution_count": 21,
     "metadata": {},
     "output_type": "execute_result"
    }
   ],
   "source": [
    "1 + 1"
   ]
  },
  {
   "cell_type": "code",
   "execution_count": 138,
   "metadata": {},
   "outputs": [
    {
     "name": "stdout",
     "output_type": "stream",
     "text": [
      "The autoreload extension is already loaded. To reload it, use:\n",
      "  %reload_ext autoreload\n"
     ]
    }
   ],
   "source": [
    "%load_ext autoreload\n",
    "%autoreload 2"
   ]
  },
  {
   "cell_type": "code",
   "execution_count": 278,
   "metadata": {},
   "outputs": [
    {
     "data": {
      "text/plain": [
       "<module 'my_tools' from '/home/ubuntu/thesis_work/my_tools.py'>"
      ]
     },
     "execution_count": 278,
     "metadata": {},
     "output_type": "execute_result"
    }
   ],
   "source": [
    "import imp\n",
    "imp.reload(my_tools)"
   ]
  },
  {
   "cell_type": "code",
   "execution_count": 279,
   "metadata": {},
   "outputs": [],
   "source": [
    "from my_tools import *"
   ]
  },
  {
   "cell_type": "code",
   "execution_count": 254,
   "metadata": {},
   "outputs": [],
   "source": [
    "def getFlowAndIncomeVolumeForOneBlock(block, map_address2cluster):\n",
    "    balance_deltas = collections.defaultdict(lambda: 0)\n",
    "\n",
    "    for out in block.outputs:\n",
    "        if out.address.type == blocksci.address_type.nulldata:\n",
    "            continue\n",
    "        if out.tx.is_coinbase:\n",
    "            cluster_idx = 'income'\n",
    "        else:\n",
    "            add = out.address\n",
    "            cluster_idx = map_address2cluster[add.type][add.address_num]\n",
    "        balance_deltas[cluster_idx] += out.value\n",
    "    for in_ in block.inputs:\n",
    "        #if in_.tx.is_coinbase:\n",
    "        #    continue\n",
    "        add = in_.address\n",
    "        cluster_idx = map_address2cluster[add.type][add.address_num]\n",
    "        balance_deltas[cluster_idx] -= in_.value\n",
    "    \n",
    "    income = balance_deltas['income']\n",
    "    flow = sum([abs(delta) for delta in balance_deltas.values()]) - income\n",
    "    return flow, income\n",
    "\n",
    "class getFlowAndIncomeVolumeForOneBlock_classEdition:\n",
    "    def __init__(self, map_address2cluster):\n",
    "        self.map_address2cluster = map_address2cluster\n",
    "    def DO_IT(self, block):\n",
    "        return getFlowAndIncomeVolumeForOneBlock(block, self.map_address2cluster)\n",
    "\n",
    "def getFlowAndIncomeVolumePar(chain, map_address2cluster, interval, end=None):\n",
    "    helper = getFlowAndIncomeVolumeForOneBlock_classEdition(map_address2cluster)\n",
    "    flow_income_pairs = chain.map_blocks(helper.DO_IT, end=end)\n",
    "    \n",
    "    flows = []\n",
    "    incomes = []\n",
    "    for i in range(0, len(MNC.blocks), interval):\n",
    "        each_block_flows_incomes = list(zip(*flow_income_pairs[i: i + interval]))\n",
    "        flows.append(sum(each_block_flows_incomes[0]))\n",
    "        incomes.append(sum(each_block_flows_incomes[1]))\n",
    "    return flows, incomes\n",
    "\n",
    "def getRelativeFlowVolumes(flows, incomes):\n",
    "    relativeFlowVolumes = []\n",
    "    total_income = 0\n",
    "    for i in range(len(flows)):\n",
    "        total_income += incomes[i]\n",
    "        relativeFlowVolumes.append(flows[i] / total_income)\n",
    "    return relativeFlowVolumes"
   ]
  },
  {
   "cell_type": "code",
   "execution_count": 250,
   "metadata": {},
   "outputs": [
    {
     "name": "stdout",
     "output_type": "stream",
     "text": [
      "CPU times: user 4.85 s, sys: 1.28 s, total: 6.13 s\n",
      "Wall time: 8.21 s\n"
     ]
    }
   ],
   "source": [
    "%time flows_par_m, incomes_par_m = getFlowAndIncomeVolumePar(MNC.chain, MNC[S_MAP_A2C][''], MNC.group_size, end=500000)"
   ]
  },
  {
   "cell_type": "code",
   "execution_count": 252,
   "metadata": {},
   "outputs": [
    {
     "data": {
      "text/plain": [
       "[0,\n",
       " 0,\n",
       " 659800000000,\n",
       " 2159780002200,\n",
       " 55003470000000,\n",
       " 0,\n",
       " 0,\n",
       " 390000000,\n",
       " 0,\n",
       " 56803611979]"
      ]
     },
     "execution_count": 252,
     "metadata": {},
     "output_type": "execute_result"
    }
   ],
   "source": [
    "flows_par_m[:10]"
   ]
  },
  {
   "cell_type": "code",
   "execution_count": 255,
   "metadata": {},
   "outputs": [],
   "source": [
    "relativeFlowVolumes_par_m = getRelativeFlowVolumes(flows_par_m, incomes_par_m)"
   ]
  },
  {
   "cell_type": "code",
   "execution_count": 256,
   "metadata": {},
   "outputs": [
    {
     "data": {
      "text/plain": [
       "[<matplotlib.lines.Line2D at 0x7fda2440a978>]"
      ]
     },
     "execution_count": 256,
     "metadata": {},
     "output_type": "execute_result"
    },
    {
     "data": {
      "image/png": "[encoded data removed]",
      "text/plain": [
       "<Figure size 432x288 with 1 Axes>"
      ]
     },
     "metadata": {},
     "output_type": "display_data"
    }
   ],
   "source": [
    "plt.plot(relativeFlowVolumes_par_m)"
   ]
  },
  {
   "cell_type": "code",
   "execution_count": null,
   "metadata": {},
   "outputs": [],
   "source": []
  },
  {
   "cell_type": "code",
   "execution_count": null,
   "metadata": {},
   "outputs": [],
   "source": []
  },
  {
   "cell_type": "code",
   "execution_count": 258,
   "metadata": {},
   "outputs": [
    {
     "name": "stdout",
     "output_type": "stream",
     "text": [
      "CPU times: user 5min 19s, sys: 27.1 s, total: 5min 46s\n",
      "Wall time: 5min 45s\n"
     ]
    }
   ],
   "source": [
    "%time flows_par_l, incomes_par_l = getFlowAndIncomeVolumePar(LTC.chain, LTC[S_MAP_A2C]['np'], LTC.group_size)"
   ]
  },
  {
   "cell_type": "code",
   "execution_count": 260,
   "metadata": {},
   "outputs": [
    {
     "data": {
      "text/plain": [
       "[5000000000000,\n",
       " 5000000000000,\n",
       " 5000000000000,\n",
       " 5000000100000,\n",
       " 5000000000000,\n",
       " 5000000000000,\n",
       " 5000000000000,\n",
       " 5000000000000,\n",
       " 5000000000000,\n",
       " 5000000000000]"
      ]
     },
     "execution_count": 260,
     "metadata": {},
     "output_type": "execute_result"
    }
   ],
   "source": [
    "incomes_par_l[:10]"
   ]
  },
  {
   "cell_type": "code",
   "execution_count": 261,
   "metadata": {},
   "outputs": [
    {
     "name": "stdout",
     "output_type": "stream",
     "text": [
      "CPU times: user 0 ns, sys: 0 ns, total: 0 ns\n",
      "Wall time: 154 µs\n"
     ]
    }
   ],
   "source": [
    "%time relativeFlowVolumes_par_l = getRelativeFlowVolumes(flows_par_l, incomes_par_l)"
   ]
  },
  {
   "cell_type": "code",
   "execution_count": 262,
   "metadata": {},
   "outputs": [
    {
     "data": {
      "text/plain": [
       "[<matplotlib.lines.Line2D at 0x7fbb57252be0>]"
      ]
     },
     "execution_count": 262,
     "metadata": {},
     "output_type": "execute_result"
    },
    {
     "data": {
      "image/png": "[encoded data removed]",
      "text/plain": [
       "<Figure size 432x288 with 1 Axes>"
      ]
     },
     "metadata": {},
     "output_type": "display_data"
    }
   ],
   "source": [
    "plt.plot(relativeFlowVolumes_par_l)"
   ]
  },
  {
   "cell_type": "code",
   "execution_count": null,
   "metadata": {},
   "outputs": [],
   "source": []
  },
  {
   "cell_type": "code",
   "execution_count": null,
   "metadata": {},
   "outputs": [],
   "source": []
  },
  {
   "cell_type": "code",
   "execution_count": 205,
   "metadata": {},
   "outputs": [],
   "source": [
    "def getFlowAndIncomeVolumeBase(blocks, map_address2cluster):\n",
    "    balance_deltas = collections.defaultdict(lambda: 0)\n",
    "\n",
    "    for b in blocks:\n",
    "        for out in b.outputs:\n",
    "            if out.address.type == blocksci.address_type.nulldata:\n",
    "                continue\n",
    "            if out.tx.is_coinbase:\n",
    "                cluster_idx = 'income'\n",
    "            else:\n",
    "                add = out.address\n",
    "                cluster_idx = map_address2cluster[add.type][add.address_num]\n",
    "            balance_deltas[cluster_idx] += out.value\n",
    "        for in_ in b.inputs:\n",
    "            #if in_.tx.is_coinbase:\n",
    "            #    continue\n",
    "            add = in_.address\n",
    "            cluster_idx = map_address2cluster[add.type][add.address_num]\n",
    "            balance_deltas[cluster_idx] -= in_.value\n",
    "    \n",
    "    income = balance_deltas['income']\n",
    "    flow = sum([abs(delta) for delta in balance_deltas.values()]) - income\n",
    "    return flow, income\n",
    "\n",
    "def getFlowAndIncomeVolume(blocks, map_address2cluster, interval):\n",
    "    flows, incomes = [], []\n",
    "    for i in range(0, len(blocks), interval):\n",
    "        cur_blocks = blocks[i: i + interval]\n",
    "        f, i = getFlowAndIncomeVolumeBase(cur_blocks, map_address2cluster)\n",
    "        flows.append(f)\n",
    "        incomes.append(i)\n",
    "    return flows, incomes\n",
    "\n",
    "def getRelativeFlowVolumes_dedicated(flows, incomes):\n",
    "    relativeFlowVolumes = []\n",
    "    total_income = 0\n",
    "    for i in len(flows):\n",
    "        total_income += incomes[i]\n",
    "        relativeFlowVolumes.append(flows[i] / total_income)\n",
    "    return relativeFlowVolumes"
   ]
  },
  {
   "cell_type": "code",
   "execution_count": 120,
   "metadata": {},
   "outputs": [],
   "source": [
    "def checkFlowSum2(blocks):\n",
    "    flowSum = 0\n",
    "    for b in blocks:\n",
    "        for out in b.outputs:\n",
    "            if out.tx.is_coinbase:\n",
    "                continue\n",
    "            flowSum += out.value\n",
    "        for in_ in b.inputs:\n",
    "            if in_.tx.is_coinbase:\n",
    "                continue\n",
    "            flowSum -= in_.value\n",
    "        flowSum += b.fee\n",
    "    return flowSum"
   ]
  },
  {
   "cell_type": "code",
   "execution_count": 3,
   "metadata": {},
   "outputs": [],
   "source": [
    "def sumClustersBalanceDeltas(clustersBalanceDeltas, clusters_count):\n",
    "    balance_sums = np.zeros(clusters_count)\n",
    "    for deltas in clustersBalanceDeltas:\n",
    "        for cl_idx in deltas:\n",
    "            balance_sums += deltas[cl_idx]\n",
    "    return balance_sums"
   ]
  },
  {
   "cell_type": "code",
   "execution_count": null,
   "metadata": {},
   "outputs": [],
   "source": []
  },
  {
   "cell_type": "code",
   "execution_count": null,
   "metadata": {},
   "outputs": [],
   "source": []
  },
  {
   "cell_type": "code",
   "execution_count": 280,
   "metadata": {},
   "outputs": [
    {
     "name": "stdout",
     "output_type": "stream",
     "text": [
      "Got 500000 blocks\n",
      "Got 90517 clusters\n"
     ]
    }
   ],
   "source": [
    "# Q_MINCOIN\n",
    "MNC = CoinDataMgr(blocksci_path=\"/home/ubuntu/mincoin\",\n",
    "                  path_to_clusters=\"/home/ubuntu/~/clusters2\",\n",
    "                  folder_with_calculated=\"/home/ubuntu/thesis_work/calculated/mincoin_first_500k_blocks\",\n",
    "                  max_block=500000)"
   ]
  },
  {
   "cell_type": "code",
   "execution_count": 281,
   "metadata": {},
   "outputs": [
    {
     "name": "stdout",
     "output_type": "stream",
     "text": [
      "Reading folder '/home/ubuntu/thesis_work/calculated/mincoin_first_500k_blocks' with prefix 'int1000b_map_address2cluster'...\n",
      "  Got 'int1000b_map_address2cluster_np.hdf5', key is 'np'\n",
      "Finish\n"
     ]
    }
   ],
   "source": [
    "MNC[S_MAP_A2C].readAll()"
   ]
  },
  {
   "cell_type": "code",
   "execution_count": 282,
   "metadata": {},
   "outputs": [
    {
     "name": "stdout",
     "output_type": "stream",
     "text": [
      "Work time 6.67s\n"
     ]
    }
   ],
   "source": [
    "MNC.getRelativeFlowVolumes()"
   ]
  },
  {
   "cell_type": "code",
   "execution_count": null,
   "metadata": {},
   "outputs": [],
   "source": [
    "MNC[]"
   ]
  },
  {
   "cell_type": "code",
   "execution_count": 284,
   "metadata": {},
   "outputs": [
    {
     "data": {
      "image/png": "[encoded data removed]",
      "text/plain": [
       "<Figure size 1440x1080 with 1 Axes>"
      ]
     },
     "metadata": {},
     "output_type": "display_data"
    }
   ],
   "source": [
    "kukaybash = MNC.drawGraph({S_FLOWS: 'par'})"
   ]
  },
  {
   "cell_type": "code",
   "execution_count": null,
   "metadata": {},
   "outputs": [],
   "source": []
  },
  {
   "cell_type": "code",
   "execution_count": 75,
   "metadata": {},
   "outputs": [],
   "source": [
    "flowSum_m_500k = checkFlowSum(MNC.blocks)"
   ]
  },
  {
   "cell_type": "code",
   "execution_count": 100,
   "metadata": {},
   "outputs": [
    {
     "data": {
      "text/plain": [
       "-120000000"
      ]
     },
     "execution_count": 100,
     "metadata": {},
     "output_type": "execute_result"
    }
   ],
   "source": [
    "flowSum_m_10 = checkFlowSum(MNC.blocks[:3805])\n",
    "flowSum_m_10"
   ]
  },
  {
   "cell_type": "code",
   "execution_count": 122,
   "metadata": {},
   "outputs": [
    {
     "data": {
      "text/plain": [
       "0"
      ]
     },
     "execution_count": 122,
     "metadata": {},
     "output_type": "execute_result"
    }
   ],
   "source": [
    "flowSum2_m_10 = checkFlowSum2(MNC.blocks)\n",
    "flowSum2_m_10"
   ]
  },
  {
   "cell_type": "code",
   "execution_count": 111,
   "metadata": {},
   "outputs": [
    {
     "data": {
      "text/plain": [
       "4880000000"
      ]
     },
     "execution_count": 111,
     "metadata": {},
     "output_type": "execute_result"
    }
   ],
   "source": [
    "b.output_value - b.input_value"
   ]
  },
  {
   "cell_type": "code",
   "execution_count": 112,
   "metadata": {},
   "outputs": [
    {
     "name": "stdout",
     "output_type": "stream",
     "text": [
      "5000000000 Tx(len(txins)=0, len(txouts)=1, size_bytes=28, block_height=3804, tx_index=3810)\n",
      "-120000000 Tx(len(txins)=99, len(txouts)=2, size_bytes=2841, block_height=3804, tx_index=3811)\n"
     ]
    }
   ],
   "source": [
    "for tx in b.txes:\n",
    "    print(tx.output_value - tx.input_value, tx)"
   ]
  },
  {
   "cell_type": "code",
   "execution_count": 114,
   "metadata": {},
   "outputs": [],
   "source": [
    "bad_tx = MNC.chain.tx_with_index(3811)"
   ]
  },
  {
   "cell_type": "code",
   "execution_count": 115,
   "metadata": {},
   "outputs": [
    {
     "data": {
      "text/plain": [
       "-120000000"
      ]
     },
     "execution_count": 115,
     "metadata": {},
     "output_type": "execute_result"
    }
   ],
   "source": [
    "bad_tx.output_value - bad_tx.input_value"
   ]
  },
  {
   "cell_type": "code",
   "execution_count": 118,
   "metadata": {},
   "outputs": [
    {
     "data": {
      "text/plain": [
       "[TxOut(spending_tx_index=3816, address=PubkeyHashAddress(19mEys1mwRk3VeERv4vBhg7svrSCvNYadf), value=4880000000),\n",
       " TxOut(spending_tx_index=259337, address=PubkeyHashAddress(13pSoymL3nrJv1fwrRytcvQQjj7XeDqezV), value=500000000000)]"
      ]
     },
     "execution_count": 118,
     "metadata": {},
     "output_type": "execute_result"
    }
   ],
   "source": [
    "list(bad_tx.outputs)"
   ]
  },
  {
   "cell_type": "code",
   "execution_count": 119,
   "metadata": {},
   "outputs": [
    {
     "data": {
      "text/plain": [
       "120000000"
      ]
     },
     "execution_count": 119,
     "metadata": {},
     "output_type": "execute_result"
    }
   ],
   "source": [
    "bad_tx.fee"
   ]
  },
  {
   "cell_type": "code",
   "execution_count": null,
   "metadata": {},
   "outputs": [],
   "source": []
  },
  {
   "cell_type": "code",
   "execution_count": null,
   "metadata": {},
   "outputs": [],
   "source": []
  },
  {
   "cell_type": "code",
   "execution_count": 124,
   "metadata": {},
   "outputs": [
    {
     "data": {
      "text/plain": [
       "0"
      ]
     },
     "execution_count": 124,
     "metadata": {},
     "output_type": "execute_result"
    }
   ],
   "source": [
    "MNC.blocks[3805].fee"
   ]
  },
  {
   "cell_type": "code",
   "execution_count": 125,
   "metadata": {},
   "outputs": [],
   "source": [
    "b = MNC.blocks[3804]\n",
    "f = 0\n",
    "for out in b.outputs:\n",
    "    #if out.tx.is_coinbase:\n",
    "    #    continue\n",
    "    f += out.value\n",
    "    #print(out.value, out.address)\n",
    "for in_ in b.inputs:\n",
    "    if in_.tx.is_coinbase:\n",
    "        continue\n",
    "    f -= in_.value\n",
    "    #print(-in_.value, in_.address)\n",
    "#f"
   ]
  },
  {
   "cell_type": "code",
   "execution_count": 78,
   "metadata": {},
   "outputs": [],
   "source": [
    "cl_balances_native_m = []\n",
    "for i in range(20):\n",
    "    cl_balances_native_m.append(sum(MNC.cl_mgr.clusters().balance(i * 1000)))"
   ]
  },
  {
   "cell_type": "code",
   "execution_count": 79,
   "metadata": {},
   "outputs": [
    {
     "name": "stdout",
     "output_type": "stream",
     "text": [
      "50000000000000\n",
      "27560000000000\n",
      "9395000000000\n",
      "4999740000000\n",
      "1731200000000\n",
      "200000000000\n",
      "200000000000\n",
      "200000000000\n",
      "200000000000\n",
      "199999999999\n",
      "200000000001\n",
      "200000000000\n",
      "199999999999\n",
      "199999999995\n",
      "199999999997\n",
      "199999999998\n",
      "199999999986\n",
      "199999999997\n",
      "199999999997\n"
     ]
    }
   ],
   "source": [
    "for i in range(19):\n",
    "    print(cl_balances_native_m[i + 1] - cl_balances_native_m[i])"
   ]
  },
  {
   "cell_type": "code",
   "execution_count": 76,
   "metadata": {},
   "outputs": [
    {
     "data": {
      "text/plain": [
       "-1384841523164"
      ]
     },
     "execution_count": 76,
     "metadata": {},
     "output_type": "execute_result"
    }
   ],
   "source": [
    "flowSum_m"
   ]
  },
  {
   "cell_type": "code",
   "execution_count": 80,
   "metadata": {},
   "outputs": [
    {
     "data": {
      "text/plain": [
       "6.92420761582"
      ]
     },
     "execution_count": 80,
     "metadata": {},
     "output_type": "execute_result"
    }
   ],
   "source": [
    "1384841523164 / 200000000000"
   ]
  },
  {
   "cell_type": "code",
   "execution_count": 101,
   "metadata": {},
   "outputs": [
    {
     "data": {
      "text/plain": [
       "0.0006"
      ]
     },
     "execution_count": 101,
     "metadata": {},
     "output_type": "execute_result"
    }
   ],
   "source": [
    "120000000 / 200000000000"
   ]
  },
  {
   "cell_type": "code",
   "execution_count": 42,
   "metadata": {},
   "outputs": [
    {
     "name": "stdout",
     "output_type": "stream",
     "text": [
      "Eto ya :)\n",
      "CPU times: user 18.5 s, sys: 24 ms, total: 18.5 s\n",
      "Wall time: 18.5 s\n"
     ]
    }
   ],
   "source": [
    "%time deltas_m = getClustersBalanceDeltasByGroupsNp(MNC.blocks, MNC[S_MAP_A2C][''], MNC.group_size)"
   ]
  },
  {
   "cell_type": "code",
   "execution_count": 57,
   "metadata": {},
   "outputs": [
    {
     "name": "stdout",
     "output_type": "stream",
     "text": [
      "Eto ya :)\n",
      "CPU times: user 16.7 s, sys: 0 ns, total: 16.7 s\n",
      "Wall time: 16.7 s\n"
     ]
    }
   ],
   "source": [
    "%time deltas_correct_m = getClustersBalanceDeltasByGroupsNpCorrect(MNC.blocks, MNC[S_MAP_A2C][''], MNC.group_size)"
   ]
  },
  {
   "cell_type": "code",
   "execution_count": 44,
   "metadata": {},
   "outputs": [],
   "source": [
    "sums_m = [sum(dd.values()) for dd in deltas_m]"
   ]
  },
  {
   "cell_type": "code",
   "execution_count": 61,
   "metadata": {},
   "outputs": [],
   "source": [
    "correct_sums = [sum(dd.values()) for dd in deltas_correct_m]"
   ]
  },
  {
   "cell_type": "code",
   "execution_count": 72,
   "metadata": {},
   "outputs": [
    {
     "data": {
      "text/plain": [
       "True"
      ]
     },
     "execution_count": 72,
     "metadata": {},
     "output_type": "execute_result"
    }
   ],
   "source": [
    "correct_sums == correct_sums2"
   ]
  },
  {
   "cell_type": "code",
   "execution_count": 69,
   "metadata": {},
   "outputs": [
    {
     "data": {
      "text/plain": [
       "[(49955000000000, 0, 0),\n",
       " (27600000000000, 0, 0),\n",
       " (9400000000000, 0, 0),\n",
       " (4999740000000, -260000000, -260000000),\n",
       " (1736000000000, -890000000, -890000000),\n",
       " (200000000000, 0, 0),\n",
       " (200000000000, 0, 0),\n",
       " (200000000000, -10000000, -10000000),\n",
       " (200000000000, 0, 0),\n",
       " (199999999999, -10000001, -10000001),\n",
       " (200000000001, 1, 1),\n",
       " (200000000000, 0, 0),\n",
       " (199999999999, -1, -1),\n",
       " (199999999995, -610000005, -610000005),\n",
       " (199999999997, -160709557, -160709557),\n",
       " (199999999998, -52999999, -52999999),\n",
       " (199999999986, -342000010, -342000010),\n",
       " (199999999997, -260000003, -260000003),\n",
       " (199999999997, -90000002, -90000002),\n",
       " (199999999999, -181000000, -181000000),\n",
       " (199999999997, -210043172, -210043172),\n",
       " (199999999996, -740000002, -740000002),\n",
       " (199999999983, -1600210011, -1600210011),\n",
       " (199999999985, -1341400008, -1341400008),\n",
       " (199999999980, -1030200015, -1030200015),\n",
       " (199999999977, -1080000019, -1080000019),\n",
       " (199999999967, -860200030, -860200030),\n",
       " (199999999975, -1780100023, -1780100023),\n",
       " (199999999974, -990000026, -990000026),\n",
       " (199999999969, -970000032, -970000032),\n",
       " (199999999954, -1440000046, -1440000046),\n",
       " (199999999961, -1430042012, -1430042012),\n",
       " (199999999961, -1141000038, -1141000038),\n",
       " (199999999972, -590100028, -590100028),\n",
       " (199999999959, -1030100041, -1030100041),\n",
       " (199999999974, -770100026, -770100026),\n",
       " (199999999986, -3285401888, -3285401888),\n",
       " (199999999984, -548300014, -548300014),\n",
       " (199999999990, -3492600009, -3492600009),\n",
       " (199999999983, -1133300016, -1133300016),\n",
       " (200000000015, -563299984, -563299984),\n",
       " (200000000034, -432299965, -432299965),\n",
       " (199999999990, -510000010, -510000010),\n",
       " (199999999993, -1124500003, -1124500003),\n",
       " (199999999987, -1080300012, -1080300012),\n",
       " (199999999986, -1363100012, -1363100012),\n",
       " (200000000010, -2573309360, -2573309360),\n",
       " (199999999987, -4587699994, -4587699994),\n",
       " (199999999987, -2722874989, -2722874989),\n",
       " (199999999966, -4603440012, -4603440012),\n",
       " (199999999972, -1912700018, -1912700018),\n",
       " (199999999988, -4234149994, -4234149994),\n",
       " (199999999977, -2210463969, -2210463969),\n",
       " (199999999956, -4224210033, -4224210033),\n",
       " (199999999984, -1501300014, -1501300014),\n",
       " (199999999982, -2116838624, -2116838624),\n",
       " (199999999990, -742032366, -742032366),\n",
       " (199999999993, -3393230199, -3393230199),\n",
       " (200000000002, -2950199994, -2950199994),\n",
       " (200000000004, -2186914817, -2186914817),\n",
       " (199999999975, -1011441559, -1011441559),\n",
       " (199999999953, -1934400021, -1934400021),\n",
       " (199999999960, -2226898849, -2226898849),\n",
       " (199999999971, -1635375467, -1635375467),\n",
       " (199999999953, -1436080609, -1436080609),\n",
       " (199999999960, -2629867112, -2629867112),\n",
       " (200000000003, -1786182114, -1786182114),\n",
       " (199999999968, -1624827093, -1624827093),\n",
       " (199999999975, -2446407356, -2446407356),\n",
       " (199999999979, -4964774733, -4964774733),\n",
       " (199999999978, -2720405105, -2720405105),\n",
       " (199999999964, -1042612261, -1042612261),\n",
       " (199999999943, -3385367366, -3385367366),\n",
       " (199999999993, -5301057652, -5301057652),\n",
       " (199999999980, -723000006, -723000006),\n",
       " (199999999986, -1410623410, -1410623410),\n",
       " (199999999991, -830000008, -830000008),\n",
       " (199999999992, -870100007, -870100007),\n",
       " (199999999983, -1000998707, -1000998707),\n",
       " (199999999975, -1800165368, -1800165368),\n",
       " (199999999977, -1425000013, -1425000013),\n",
       " (199999999982, -1071000016, -1071000016),\n",
       " (199999999968, -3130000026, -3130000026),\n",
       " (199999999980, -1160000020, -1160000020),\n",
       " (199999999984, -1270100011, -1270100011),\n",
       " (199999999966, -1190868982, -1190868982),\n",
       " (199999999954, -1650309235, -1650309235),\n",
       " (199999999963, -2332000032, -2332000032),\n",
       " (199999999977, -950505602, -950505602),\n",
       " (199999999982, -3350200011, -3350200011),\n",
       " (199999999978, -1723800010, -1723800010),\n",
       " (199999999980, -1000906858, -1000906858),\n",
       " (199999999970, -1240500028, -1240500028),\n",
       " (199999999983, -970400012, -970400012),\n",
       " (199999999991, -3440500007, -3440500007),\n",
       " (199999999991, -1621038721, -1621038721),\n",
       " (199999999982, -1250000016, -1250000016),\n",
       " (199999999975, -1370000022, -1370000022),\n",
       " (199999999981, -1133000014, -1133000014),\n",
       " (199999999988, -1060000010, -1060000010),\n",
       " (199999999986, -1190000014, -1190000014),\n",
       " (199999999971, -1190268130, -1190268130),\n",
       " (199999999981, -1450000020, -1450000020),\n",
       " (200000000000, -890368710, -890368710),\n",
       " (199999999967, -940940678, -940940678),\n",
       " (199899999984, -791000012, -791000012),\n",
       " (199899999978, -881000020, -881000020),\n",
       " (199999999981, -3725005684, -3725005684),\n",
       " (199999999999, -1130918464, -1130918464),\n",
       " (199999999979, -1030000020, -1030000020),\n",
       " (199999999985, -880025119, -880025119),\n",
       " (199999999982, -1120022329, -1120022329),\n",
       " (199999999980, -1170000017, -1170000017),\n",
       " (199999999981, -550000016, -550000016),\n",
       " (199999999980, -750100017, -750100017),\n",
       " (199999999982, -890000017, -890000017),\n",
       " (199999999969, -1280000027, -1280000027),\n",
       " (199999999985, -4670000013, -4670000013),\n",
       " (199999999985, -1040000011, -1040000011),\n",
       " (199999999996, -1170302319, -1170302319),\n",
       " (199999999980, -1441297766, -1441297766),\n",
       " (199999999968, -3181100023, -3181100023),\n",
       " (199999999963, -2200000034, -2200000034),\n",
       " (199999999973, -3270568170, -3270568170),\n",
       " (199999999972, -2036400975, -2036400975),\n",
       " (199999999982, -1490000016, -1490000016),\n",
       " (199999999979, -1490000018, -1490000018),\n",
       " (199999999985, -1300000381, -1300000381),\n",
       " (199999999990, -1560200008, -1560200008),\n",
       " (199999999967, -1370100030, -1370100030),\n",
       " (199999999990, -826382066, -826382066),\n",
       " (199999999980, -1690000017, -1690000017),\n",
       " (199999999971, -3070207897, -3070207897),\n",
       " (199999999989, -1972003642, -1972003642),\n",
       " (199999999964, -2300000027, -2300000027),\n",
       " (199999999971, -1562207278, -1562207278),\n",
       " (199999999991, -2110000005, -2110000005),\n",
       " (199999999970, -1830796826, -1830796826),\n",
       " (199999999979, -1410832658, -1410832658),\n",
       " (199999999984, -1410000011, -1410000011),\n",
       " (199999999976, -1110000018, -1110000018),\n",
       " (199999999986, -1040007147, -1040007147),\n",
       " (199999999974, -730000026, -730000026),\n",
       " (199999999990, -1160000041, -1160000041),\n",
       " (199999999977, -870000021, -870000021),\n",
       " (199999999990, -1440000008, -1440000008),\n",
       " (199999999978, -3760000019, -3760000019),\n",
       " (200000000005, -3489999993, -3489999993),\n",
       " (200000000002, -959999995, -959999995),\n",
       " (199999999983, -1410000011, -1410000011),\n",
       " (199999999977, -1340000019, -1340000019),\n",
       " (200000000067, -2449999929, -2449999929),\n",
       " (200000000000, -1140000095, -1140000095),\n",
       " (200000000001, -2769999994, -2769999994),\n",
       " (199999999989, -2280100003, -2280100003),\n",
       " (199999999967, -1540000025, -1540000025),\n",
       " (199999999997, -2629999996, -2629999996),\n",
       " (200000000025, -2579999970, -2579999970),\n",
       " (200000000037, -2769999958, -2769999958),\n",
       " (200000000012, -5339999985, -5339999985),\n",
       " (199999999985, -1540100011, -1540100011),\n",
       " (199999999985, -3077100002, -3077100002),\n",
       " (199999999980, -1916000476, -1916000476),\n",
       " (199999999963, -2200872001, -2200872001),\n",
       " (199999999990, -2899999997, -2899999997),\n",
       " (199999999976, -2640000019, -2640000019),\n",
       " (199999999991, -1830000005, -1830000005),\n",
       " (199999999992, -2900099998, -2900099998),\n",
       " (200000000004, -1668099994, -1668099994),\n",
       " (199999999980, -1130000016, -1130000016),\n",
       " (199999999983, -2761000009, -2761000009),\n",
       " (199999999974, -1730100021, -1730100021),\n",
       " (199999999959, -1470000038, -1470000038),\n",
       " (199999999978, -1240000017, -1240000017),\n",
       " (199999999970, -1550000028, -1550000028),\n",
       " (199999999990, -558323244, -558323244),\n",
       " (199999999962, -1726000033, -1726000033),\n",
       " (199999999984, -1553000007, -1553000007),\n",
       " (199999999959, -2224000030, -2224000030),\n",
       " (199999999960, -2297000027, -2297000027),\n",
       " (199999999982, -5458100007, -5458100007),\n",
       " (199999999975, -2346000020, -2346000020),\n",
       " (199999999973, -2056000019, -2056000019),\n",
       " (199999999987, -2506000001, -2506000001),\n",
       " (200000000264, -7775999724, -7775999724),\n",
       " (199999999962, -4367000029, -4367000029),\n",
       " (199999999985, -2887000008, -2887000008),\n",
       " (199999999976, -2446000022, -2446000022),\n",
       " (199999999961, -2508000032, -2508000032),\n",
       " (200000000019, -2009999977, -2009999977),\n",
       " (199999999961, -2753000031, -2753000031),\n",
       " (200000000000, -3278999992, -3278999992),\n",
       " (199999999989, -2367623920, -2367623920),\n",
       " (200000000137, -5846999856, -5846999856),\n",
       " (199999999964, -3946500030, -3946500030),\n",
       " (199999999943, -2457000039, -2457000039),\n",
       " (199999999977, -2370196879, -2370196879),\n",
       " (199999999979, -3869842627, -3869842627),\n",
       " (200000000134, -5983999848, -5983999848),\n",
       " (199999999984, -3640000005, -3640000005),\n",
       " (199999999958, -4332100031, -4332100031),\n",
       " (199999999984, -4108000003, -4108000003),\n",
       " (199999999970, -2871000026, -2871000026),\n",
       " (200000000271, -7563199718, -7563199718),\n",
       " (200000000160, -6110499830, -6110499830),\n",
       " (200000000639, -13194399348, -13194399348),\n",
       " (199999999965, -4581014470, -4581014470),\n",
       " (199999999977, -3230051847, -3230051847),\n",
       " (199999999967, -3660000020, -3660000020),\n",
       " (200000000000, -4679999988, -4679999988),\n",
       " (200000000022, -5152099969, -5152099969),\n",
       " (199999999987, -3960863903, -3960863903),\n",
       " (199999999996, -2717787079, -2717787079),\n",
       " (199999999986, -3214605049, -3214605049),\n",
       " (199999999968, -2580000028, -2580000028),\n",
       " (200000000001, -3038999991, -3038999991),\n",
       " (199999999968, -3040610208, -3040610208),\n",
       " (199999999974, -3010075926, -3010075926),\n",
       " (199999999988, -2320000005, -2320000005),\n",
       " (200000000038, -5243099951, -5243099951),\n",
       " (200000000008, -5371999973, -5371999973),\n",
       " (200000000028, -4809999961, -4809999961),\n",
       " (200000000065, -4651022276, -4651022276),\n",
       " (199999999982, -4095500001, -4095500001),\n",
       " (200000000000, -4410046717, -4410046717),\n",
       " (199999999978, -3479999999, -3479999999),\n",
       " (199999999970, -2870167516, -2870167516),\n",
       " (199999999967, -3300000024, -3300000024),\n",
       " (200000000011, -3790101209, -3790101209),\n",
       " (200000000044, -3850519423, -3850519423),\n",
       " (200000000003, -2932804404, -2932804404),\n",
       " (199999999982, -4406000006, -4406000006),\n",
       " (199999999988, -3060000007, -3060000007),\n",
       " (200000000011, -4591999973, -4591999973),\n",
       " (200000000007, -3321823101, -3321823101),\n",
       " (199999999969, -3653719646, -3653719646),\n",
       " (200000000005, -4463339276, -4463339276),\n",
       " (199999999942, -5454671776, -5454671776),\n",
       " (199849999962, -6173000014, -6173000014),\n",
       " (199699999961, -10280449422, -10280449422),\n",
       " (199999999955, -5777202304, -5777202304),\n",
       " (199999999946, -4006000037, -4006000037),\n",
       " (199999999975, -2240971972, -2240971972),\n",
       " (199999999949, -2851100043, -2851100043),\n",
       " (199999999976, -2655000015, -2655000015),\n",
       " (199999999964, -3841618096, -3841618096),\n",
       " (199999999978, -2530005273, -2530005273),\n",
       " (199999999966, -2840000028, -2840000028),\n",
       " (199999999941, -2950100045, -2950100045),\n",
       " (199999999962, -2562942075, -2562942075),\n",
       " (199999999970, -2245120778, -2245120778),\n",
       " (199999999974, -1952014796, -1952014796),\n",
       " (199999999946, -2671000041, -2671000041),\n",
       " (199999999944, -2710303308, -2710303308),\n",
       " (199999999934, -2281500052, -2281500052),\n",
       " (199699999951, -1851000026, -1851000026),\n",
       " (199849999927, -2480431403, -2480431403),\n",
       " (199699999943, -2230138968, -2230138968),\n",
       " (199999999947, -1893803459, -1893803459),\n",
       " (199999999936, -2041000055, -2041000055),\n",
       " (199999999948, -4411600045, -4411600045),\n",
       " (199999999960, -1683685355, -1683685355),\n",
       " (199999999917, -3450049819, -3450049819),\n",
       " (199999999955, -2615969079, -2615969079),\n",
       " (199999999944, -2852000106, -2852000106),\n",
       " (199999999951, -2192418551, -2192418551),\n",
       " (199999999958, -2150000033, -2150000033),\n",
       " (199999999954, -2341000029, -2341000029),\n",
       " (199999999906, -1970000041, -1970000041),\n",
       " (199999999946, -2080000043, -2080000043),\n",
       " (199999999977, -1171307888, -1171307888),\n",
       " (199999999967, -1132000028, -1132000028),\n",
       " (199999999971, -1501032965, -1501032965),\n",
       " (199999999955, -1510994628, -1510994628),\n",
       " (199249999969, -1170227346, -1170227346),\n",
       " (198199999925, -1100000013, -1100000013),\n",
       " (199549999950, -1180000018, -1180000018),\n",
       " (199249999963, -1320389796, -1320389796),\n",
       " (199099999964, -1720097013, -1720097013),\n",
       " (199999999977, -1000175205, -1000175205),\n",
       " (199999999948, -2080600033, -2080600033),\n",
       " (199999999940, -2050544338, -2050544338),\n",
       " (199849999937, -2970100053, -2970100053),\n",
       " (199999999928, -2570000036, -2570000036),\n",
       " (199549999945, -1770000036, -1770000036),\n",
       " (199999999946, -1320000044, -1320000044),\n",
       " (199999999978, -1530978106, -1530978106),\n",
       " (199999999951, -1946000038, -1946000038),\n",
       " (199999999966, -2710000017, -2710000017),\n",
       " (199849999925, -3012161995, -3012161995),\n",
       " (199699999915, -3740901935, -3740901935),\n",
       " (199999999942, -3500000042, -3500000042),\n",
       " (199999999900, -3871100080, -3871100080),\n",
       " (199999999929, -3110000047, -3110000047),\n",
       " (199849999891, -3830000079, -3830000079),\n",
       " (199699999934, -6890042054, -6890042054),\n",
       " (199849999918, -2942554180, -2942554180),\n",
       " (199999999940, -4040089680, -4040089680),\n",
       " (199849999935, -4161000053, -4161000053),\n",
       " (199999999948, -6711020091, -6711020091),\n",
       " (199999999925, -5080965009, -5080965009),\n",
       " (199999999923, -4431083760, -4431083760),\n",
       " (199999999919, -3390010056, -3390010056),\n",
       " (199849999940, -3800689846, -3800689846),\n",
       " (199999999938, -3660000046, -3660000046),\n",
       " (199849999954, -2960000025, -2960000025),\n",
       " (199849999970, -3210000009, -3210000009),\n",
       " (199999999966, -4110012059, -4110012059),\n",
       " (200000000025, -5500096097, -5500096097),\n",
       " (199850000019, -5254099961, -5254099961),\n",
       " (200000000172, -7561076390, -7561076390),\n",
       " (199999999982, -8279009984, -8279009984),\n",
       " (199699999965, -3540100009, -3540100009),\n",
       " (199849999954, -3430010008, -3430010008),\n",
       " (200000000003, -3691155111, -3691155111),\n",
       " (199824999998, -5900009983, -5900009983),\n",
       " (199999999988, -3750105326, -3750105326),\n",
       " (199825000035, -7781300628, -7781300628),\n",
       " (199650000201, -8212162669, -8212162669),\n",
       " (199825000940, -13340499032, -13340499032),\n",
       " (199825000161, -4190509834, -4190509834),\n",
       " (199824999961, -3681010007, -3681010007),\n",
       " (199999999942, -4361046341, -4361046341),\n",
       " (199824999975, -5020000007, -5020000007),\n",
       " (199999999972, -3260505662, -3260505662),\n",
       " (199999999983, -3370510001, -3370510001),\n",
       " (199999999988, -1860010000, -1860010000),\n",
       " (199999999967, -4352261652, -4352261652),\n",
       " (199999999966, -7432574683, -7432574683),\n",
       " (199999999983, -4248510003, -4248510003),\n",
       " (199999999970, -6150010006, -6150010006),\n",
       " (200000001104, -24246058874, -24246058874),\n",
       " (200000000106, -10263809383, -10263809383),\n",
       " (200000000055, -5844009385, -5844009385),\n",
       " (199124999967, -5608029985, -5608029985),\n",
       " (198949999950, -3791040005, -3791040005),\n",
       " (199124999940, -4048901947, -4048901947),\n",
       " (199824999976, -6440583360, -6440583360),\n",
       " (199299999994, -4994519958, -4994519958),\n",
       " (199474999942, -5979030011, -5979030011),\n",
       " (198600000014, -8653199930, -8653199930),\n",
       " (199649999987, -7906103539, -7906103539),\n",
       " (199649999974, -7853353391, -7853353391),\n",
       " (199824999917, -7465969569, -7465969569),\n",
       " (199824999936, -6270407192, -6270407192),\n",
       " (199999999941, -4082000033, -4082000033),\n",
       " (199999999927, -3555314523, -3555314523),\n",
       " (199999999944, -4790300044, -4790300044),\n",
       " (199999999951, -4520238560, -4520238560),\n",
       " (200000000138, -7650754988, -7650754988),\n",
       " (200000000047, -6062338669, -6062338669),\n",
       " (199999999983, -6410578489, -6410578489),\n",
       " (199999999961, -3680393659, -3680393659),\n",
       " (199999999957, -3162346749, -3162346749),\n",
       " (199999999971, -4380314620, -4380314620),\n",
       " (199999999967, -4290020011, -4290020011),\n",
       " (200000000018, -3781039974, -3781039974),\n",
       " (200000000007, -3771181253, -3771181253),\n",
       " (199999999967, -3873000013, -3873000013),\n",
       " (200000000041, -3620392110, -3620392110),\n",
       " (199999999964, -3139719582, -3139719582),\n",
       " (199999999986, -2950019999, -2950019999),\n",
       " (199999999994, -3414791993, -3414791993),\n",
       " (199999999980, -2491040014, -2491040014),\n",
       " (199824999988, -2893099999, -2893099999),\n",
       " (199999999991, -2897040834, -2897040834),\n",
       " (199989999965, -3107000008, -3107000008),\n",
       " (199838999973, -4638859134, -4638859134),\n",
       " (199804999958, -3959247762, -3959247762),\n",
       " (199999999994, -4742999986, -4742999986),\n",
       " (200000000009, -4365041263, -4365041263),\n",
       " (199979999975, -3530633253, -3530633253),\n",
       " (199969999983, -4070020003, -4070020003),\n",
       " (199759999989, -3620299997, -3620299997),\n",
       " (199569999959, -3750020016, -3750020016),\n",
       " (199715000093, -5630857929, -5630857929),\n",
       " (199999999971, -3030022090, -3030022090),\n",
       " (199999999989, -3792072908, -3792072908),\n",
       " (199999999986, -3152020007, -3152020007),\n",
       " (199824999986, -3212000008, -3212000008),\n",
       " (199650000088, -5193229897, -5193229897),\n",
       " (199999999980, -3870020010, -3870020010),\n",
       " (199999999986, -2742240008, -2742240008),\n",
       " (199989999991, -2611105265, -2611105265),\n",
       " (199999999989, -2882100007, -2882100007),\n",
       " (199824999987, -2830020004, -2830020004),\n",
       " (199824999971, -2992020017, -2992020017),\n",
       " (199999999997, -2720099997, -2720099997),\n",
       " (199999999982, -2730060011, -2730060011),\n",
       " (199999999976, -2660000015, -2660000015),\n",
       " (199999999989, -2392268185, -2392268185),\n",
       " (199999999974, -2611303426, -2611303426),\n",
       " (199999999993, -2412000004, -2412000004),\n",
       " (199999999992, -2032523884, -2032523884),\n",
       " (199999999976, -2532000021, -2532000021),\n",
       " (199999999979, -2492000016, -2492000016),\n",
       " (199999999995, -2620000002, -2620000002),\n",
       " (199989999998, -2859999998, -2859999998),\n",
       " (199999999996, -2520110001, -2520110001),\n",
       " (199999999978, -2112601405, -2112601405),\n",
       " (199999999992, -2270274332, -2270274332),\n",
       " (199999999995, -1552100003, -1552100003),\n",
       " (199999999986, -1901140934, -1901140934),\n",
       " (199999999999, -2279999995, -2279999995),\n",
       " (199999999986, -1902010012, -1902010012),\n",
       " (200000000001, -2219999995, -2219999995),\n",
       " (199824999995, -2231999999, -2231999999),\n",
       " (199999999987, -1692006965, -1692006965),\n",
       " (199999999980, -1700000014, -1700000014),\n",
       " (199824999993, -2050068303, -2050068303),\n",
       " (199999999993, -1880000005, -1880000005),\n",
       " (199999999986, -1600952860, -1600952860),\n",
       " (199999999992, -1490000008, -1490000008),\n",
       " (199999999989, -1724100007, -1724100007),\n",
       " (199999999992, -1660000006, -1660000006),\n",
       " (199999999993, -1810000007, -1810000007),\n",
       " (199999999991, -2000000004, -2000000004),\n",
       " (199999999987, -2141200008, -2141200008),\n",
       " (200000000001, -2069999996, -2069999996),\n",
       " (199824999989, -1840200008, -1840200008),\n",
       " (199999999993, -1870427951, -1870427951),\n",
       " (199999999995, -2040000003, -2040000003),\n",
       " (199999999978, -1840100016, -1840100016),\n",
       " (199999999984, -2000300007, -2000300007),\n",
       " (199999999984, -1600100012, -1600100012),\n",
       " (199999999992, -2020515323, -2020515323),\n",
       " (199999999999, -2109999996, -2109999996),\n",
       " (199999999986, -1850428123, -1850428123),\n",
       " (199999999990, -1620000010, -1620000010),\n",
       " (199999999993, -1560100001, -1560100001),\n",
       " (200000000000, -1821257017, -1821257017),\n",
       " (199999999995, -1380166468, -1380166468),\n",
       " (199999999990, -2060000006, -2060000006),\n",
       " (199812499989, -2400010007, -2400010007),\n",
       " (200000000001, -2630099993, -2630099993),\n",
       " (199999999990, -1870000003, -1870000003),\n",
       " (199999999990, -2010010004, -2010010004),\n",
       " (199999999995, -2139999965, -2139999965),\n",
       " (199812499997, -1469999993, -1469999993),\n",
       " (199812499993, -1790000000, -1790000000),\n",
       " (199812500025, -1519999967, -1519999967),\n",
       " (199812500018, -1809999978, -1809999978),\n",
       " (199999999993, -1420642053, -1420642053),\n",
       " (200000000003, -2679999988, -2679999988),\n",
       " (199999999992, -1990499999, -1990499999),\n",
       " (199999999987, -2140000003, -2140000003),\n",
       " (200000000000, -3750251416, -3750251416),\n",
       " (199999999985, -2010010011, -2010010011),\n",
       " (199812500042, -5270590794, -5270590794),\n",
       " (199999999976, -2000000006, -2000000006),\n",
       " (199999999999, -2160502609, -2160502609),\n",
       " (199999999999, -2060399995, -2060399995),\n",
       " (199999999992, -1757000001, -1757000001),\n",
       " (199812499991, -1850800000, -1850800000),\n",
       " (199999999997, -2501299996, -2501299996),\n",
       " (199999999987, -1862900006, -1862900006),\n",
       " (199999999981, -1721700014, -1721700014),\n",
       " (199812499974, -1850800015, -1850800015),\n",
       " (199999999994, -2612499996, -2612499996),\n",
       " (199999999997, -2819999998, -2819999998),\n",
       " (199999999990, -1510500003, -1510500003),\n",
       " (199999999993, -1660000001, -1660000001),\n",
       " (199999999994, -1810000002, -1810000002),\n",
       " (199999999989, -1620010008, -1620010008),\n",
       " (199999999987, -1740506674, -1740506674),\n",
       " (199624999978, -3171300001, -3171300001),\n",
       " (199999999988, -2290696365, -2290696365),\n",
       " (199999999985, -1961073162, -1961073162),\n",
       " (199999999994, -2820399995, -2820399995),\n",
       " (199999999975, -2860400007, -2860400007),\n",
       " (199999999996, -3629999992, -3629999992),\n",
       " (199999999984, -1850000014, -1850000014),\n",
       " (199999999984, -2110010008, -2110010008),\n",
       " (199999999981, -1470000016, -1470000016),\n",
       " (199999999985, -2080000008, -2080000008),\n",
       " (199999999989, -2110035561, -2110035561),\n",
       " (199999999986, -1830000008, -1830000008),\n",
       " (199999999972, -2160000020, -2160000020),\n",
       " (199999999977, -1580000018, -1580000018),\n",
       " (199999999983, -1690000009, -1690000009),\n",
       " (199999999992, -2060000004, -2060000004),\n",
       " (199812499979, -1911000017, -1911000017),\n",
       " (200000000010, -2780460201, -2780460201),\n",
       " (199999999986, -1980000011, -1980000011),\n",
       " (199999999993, -1780134018, -1780134018),\n",
       " (199812499985, -1430019782, -1430019782),\n",
       " (199999999987, -1590000009, -1590000009),\n",
       " (199812499989, -1870000009, -1870000009),\n",
       " (199999999993, -2290000005, -2290000005),\n",
       " (199999999988, -1910000009, -1910000009),\n",
       " (199999999997, -2329999997, -2329999997),\n",
       " (200000000004, -2849999992, -2849999992),\n",
       " (200000000001, -1639999998, -1639999998),\n",
       " (200000000132, -5669999864, -5669999864),\n",
       " (200000000306, -14449999691, -14449999691),\n",
       " (200000000359, -10359999640, -10359999640),\n",
       " (199999999997, -1320070885, -1320070885),\n",
       " (200000000006, -2089999994, -2089999994),\n",
       " (199999999996, -2170000003, -2170000003),\n",
       " (199812500000, -1670001119, -1670001119)]"
      ]
     },
     "execution_count": 69,
     "metadata": {},
     "output_type": "execute_result"
    }
   ],
   "source": [
    "list(zip(sums_m, correct_sums, correct_sums2))"
   ]
  },
  {
   "cell_type": "code",
   "execution_count": 51,
   "metadata": {},
   "outputs": [],
   "source": [
    "def getRelativeFlowVolumes(balance_deltas, map_address2cluster):\n",
    "    relativeFlowVolumes = []\n",
    "    overall_current_alive_coins = 0\n",
    "    \n",
    "    nulldata_map = map_address2cluster[blocksci.address_type.nulldata]\n",
    "    nulldata_cluster_ids = set(nulldata_map[1:nulldata_map[0]])\n",
    "    \n",
    "    for group_deltas in balance_deltas:\n",
    "        emitted_volume = sum(group_deltas.values())\n",
    "        normal_ids_balances = {group_deltas[cl_id] for cl_id in group_deltas\n",
    "                               if not cl_id in nulldata_cluster_ids}\n",
    "        summary_balances_change = sum([abs(bal) for bal in normal_ids_balances])\n",
    "        overall_current_alive_coins += sum(normal_ids_balances)\n",
    "        \n",
    "        relativeFlowVolumes.append((summary_balances_change - emitted_volume) / overall_current_alive_coins)\n",
    "    return relativeFlowVolumes"
   ]
  },
  {
   "cell_type": "code",
   "execution_count": 51,
   "metadata": {},
   "outputs": [],
   "source": [
    "def getRelativeFlowVolumesCorrect(balance_deltas, balance_deltas_WO_coinbase, map_address2cluster):\n",
    "    relativeFlowVolumes = []\n",
    "    overall_current_alive_coins = 0\n",
    "    \n",
    "    nulldata_map = map_address2cluster[blocksci.address_type.nulldata]\n",
    "    nulldata_cluster_ids = set(nulldata_map[1:nulldata_map[0]])\n",
    "    \n",
    "    for group_deltas in balance_deltas:\n",
    "        emitted_volume = sum(group_deltas.values())\n",
    "        normal_ids_balances = {group_deltas[cl_id] for cl_id in group_deltas\n",
    "                               if not cl_id in nulldata_cluster_ids}\n",
    "        summary_balances_change = sum([abs(bal) for bal in normal_ids_balances])\n",
    "        overall_current_alive_coins += sum(normal_ids_balances)\n",
    "        \n",
    "        relativeFlowVolumes.append((summary_balances_change - emitted_volume) / overall_current_alive_coins)\n",
    "    return relativeFlowVolumes"
   ]
  },
  {
   "cell_type": "code",
   "execution_count": 52,
   "metadata": {},
   "outputs": [],
   "source": [
    "relativeFlowVolumes_m = getRelativeFlowVolumes(deltas_m, MNC[S_MAP_A2C][''])"
   ]
  },
  {
   "cell_type": "code",
   "execution_count": 52,
   "metadata": {},
   "outputs": [],
   "source": [
    "relativeFlowVolumes2_m = getRelativeFlowVolumes(deltas_m, MNC[S_MAP_A2C][''])"
   ]
  },
  {
   "cell_type": "code",
   "execution_count": 53,
   "metadata": {},
   "outputs": [
    {
     "data": {
      "text/plain": [
       "[<matplotlib.lines.Line2D at 0x7fbb522c0518>]"
      ]
     },
     "execution_count": 53,
     "metadata": {},
     "output_type": "execute_result"
    },
    {
     "data": {
      "image/png": "[encoded data removed]",
      "text/plain": [
       "<Figure size 432x288 with 1 Axes>"
      ]
     },
     "metadata": {},
     "output_type": "display_data"
    }
   ],
   "source": [
    "plt.plot(relativeFlowVolumes_m)"
   ]
  },
  {
   "cell_type": "code",
   "execution_count": 198,
   "metadata": {},
   "outputs": [
    {
     "name": "stdout",
     "output_type": "stream",
     "text": [
      "CPU times: user 1min 48s, sys: 0 ns, total: 1min 48s\n",
      "Wall time: 1min 48s\n"
     ]
    }
   ],
   "source": [
    "%time flows, incomes = getFlowAndIncomeVolume(MNC.blocks, MNC[S_MAP_A2C][''])"
   ]
  },
  {
   "cell_type": "code",
   "execution_count": 221,
   "metadata": {},
   "outputs": [
    {
     "name": "stdout",
     "output_type": "stream",
     "text": [
      "CPU times: user 21.2 s, sys: 16 ms, total: 21.2 s\n",
      "Wall time: 21.2 s\n"
     ]
    }
   ],
   "source": [
    "%time flows_eb, incomes_eb = getFlowAndIncomeVolume_eachBlock(MNC.blocks, MNC[S_MAP_A2C][''])"
   ]
  },
  {
   "cell_type": "code",
   "execution_count": 226,
   "metadata": {},
   "outputs": [],
   "source": [
    "flows_eb_grouped = []\n",
    "incomes_eb_grouped = []\n",
    "for i in range(0, len(MNC.blocks), 1000):\n",
    "    flows_eb_grouped.append(sum(flows_eb[i: i + 1000]))\n",
    "    incomes_eb_grouped.append(sum(incomes_eb[i: i + 1000]))"
   ]
  },
  {
   "cell_type": "code",
   "execution_count": 246,
   "metadata": {},
   "outputs": [],
   "source": [
    "flows_eb_grouped_par = []\n",
    "incomes_eb_grouped_par = []\n",
    "for i in range(0, len(MNC.blocks), 1000):\n",
    "    kutak_pizdec = list(zip(*pizdec_kutak[i: i + 1000]))\n",
    "    flows_eb_grouped_par.append(sum(kutak_pizdec[0]))\n",
    "    incomes_eb_grouped_par.append(sum(kutak_pizdec[1]))"
   ]
  },
  {
   "cell_type": "code",
   "execution_count": null,
   "metadata": {},
   "outputs": [],
   "source": []
  },
  {
   "cell_type": "code",
   "execution_count": null,
   "metadata": {},
   "outputs": [],
   "source": [
    "plt.plot()"
   ]
  },
  {
   "cell_type": "code",
   "execution_count": 227,
   "metadata": {},
   "outputs": [
    {
     "data": {
      "text/plain": [
       "[0, 0, 0, 0, 0, 0, 0, 0, 0, 0]"
      ]
     },
     "execution_count": 227,
     "metadata": {},
     "output_type": "execute_result"
    }
   ],
   "source": [
    "flows_eb[:10]"
   ]
  },
  {
   "cell_type": "code",
   "execution_count": 223,
   "metadata": {},
   "outputs": [
    {
     "data": {
      "text/plain": [
       "True"
      ]
     },
     "execution_count": 223,
     "metadata": {},
     "output_type": "execute_result"
    }
   ],
   "source": [
    "incomes_eb_grouped == incomes_m"
   ]
  },
  {
   "cell_type": "code",
   "execution_count": 247,
   "metadata": {},
   "outputs": [
    {
     "data": {
      "text/plain": [
       "True"
      ]
     },
     "execution_count": 247,
     "metadata": {},
     "output_type": "execute_result"
    }
   ],
   "source": [
    "incomes_eb_grouped_par == incomes_m"
   ]
  },
  {
   "cell_type": "code",
   "execution_count": 206,
   "metadata": {},
   "outputs": [
    {
     "name": "stdout",
     "output_type": "stream",
     "text": [
      "CPU times: user 19.2 s, sys: 0 ns, total: 19.2 s\n",
      "Wall time: 19.2 s\n"
     ]
    }
   ],
   "source": [
    "%time flows_m, incomes_m = getFlowAndIncomeVolume(MNC.blocks, MNC[S_MAP_A2C][''], MNC.group_size)"
   ]
  },
  {
   "cell_type": "code",
   "execution_count": 207,
   "metadata": {},
   "outputs": [
    {
     "data": {
      "text/plain": [
       "Counter({199299999938: 1,\n",
       "         200000000000: 6,\n",
       "         200010000000: 2,\n",
       "         200052999997: 1,\n",
       "         200089999999: 1,\n",
       "         200160709554: 1,\n",
       "         200180999999: 1,\n",
       "         200210043169: 1,\n",
       "         200260000000: 1,\n",
       "         200341999996: 1,\n",
       "         200420227315: 1,\n",
       "         200432299999: 1,\n",
       "         200510000000: 1,\n",
       "         200548299998: 1,\n",
       "         200549999997: 1,\n",
       "         200558323234: 1,\n",
       "         200563299999: 1,\n",
       "         200570389759: 1,\n",
       "         200590100000: 1,\n",
       "         200610000000: 1,\n",
       "         200690999996: 1,\n",
       "         200722999986: 1,\n",
       "         200729999968: 1,\n",
       "         200730000000: 1,\n",
       "         200739999998: 1,\n",
       "         200742032356: 1,\n",
       "         200750099997: 1,\n",
       "         200770100000: 1,\n",
       "         200780999998: 1,\n",
       "         200820096977: 1,\n",
       "         200826382056: 1,\n",
       "         200829999999: 1,\n",
       "         200860199997: 1,\n",
       "         200869999998: 1,\n",
       "         200870099999: 1,\n",
       "         200880025104: 1,\n",
       "         200889999999: 1,\n",
       "         200890368710: 1,\n",
       "         200940940645: 1,\n",
       "         200950505579: 1,\n",
       "         200959999997: 1,\n",
       "         200970000001: 1,\n",
       "         200970399995: 1,\n",
       "         200990000000: 1,\n",
       "         201000175182: 1,\n",
       "         201000906838: 1,\n",
       "         201000998690: 1,\n",
       "         201011441534: 1,\n",
       "         201029999999: 1,\n",
       "         201030100000: 1,\n",
       "         201030199995: 1,\n",
       "         201039999996: 1,\n",
       "         201040007133: 1,\n",
       "         201042612225: 1,\n",
       "         201059999998: 1,\n",
       "         201070999998: 1,\n",
       "         201079999996: 1,\n",
       "         201080299999: 1,\n",
       "         201109999994: 1,\n",
       "         201120022311: 1,\n",
       "         201124499996: 1,\n",
       "         201129999996: 1,\n",
       "         201130918463: 1,\n",
       "         201131999995: 1,\n",
       "         201132999995: 1,\n",
       "         201133299999: 1,\n",
       "         201140000095: 1,\n",
       "         201140999999: 1,\n",
       "         201160000000: 1,\n",
       "         201160000031: 1,\n",
       "         201169999997: 1,\n",
       "         201170302315: 1,\n",
       "         201171307865: 1,\n",
       "         201190000000: 1,\n",
       "         201190268101: 1,\n",
       "         201190868948: 1,\n",
       "         201239999995: 1,\n",
       "         201240499998: 1,\n",
       "         201242519767: 1,\n",
       "         201249999998: 1,\n",
       "         201270099995: 1,\n",
       "         201279999996: 1,\n",
       "         201282499990: 1,\n",
       "         201300000366: 1,\n",
       "         201319999981: 1,\n",
       "         201319999990: 1,\n",
       "         201320070882: 1,\n",
       "         201332499992: 1,\n",
       "         201339999996: 1,\n",
       "         201341399993: 1,\n",
       "         201363099998: 1,\n",
       "         201369999997: 1,\n",
       "         201370099997: 1,\n",
       "         201380166463: 1,\n",
       "         201409999994: 1,\n",
       "         201409999995: 1,\n",
       "         201410623396: 1,\n",
       "         201410832637: 1,\n",
       "         201420642046: 1,\n",
       "         201424999990: 1,\n",
       "         201430041973: 1,\n",
       "         201436080562: 1,\n",
       "         201439999998: 1,\n",
       "         201440000000: 1,\n",
       "         201441297746: 1,\n",
       "         201450000001: 1,\n",
       "         201469999997: 2,\n",
       "         201482501119: 1,\n",
       "         201489999997: 1,\n",
       "         201489999998: 1,\n",
       "         201490000000: 1,\n",
       "         201501032936: 1,\n",
       "         201501299998: 1,\n",
       "         201510499993: 1,\n",
       "         201510994583: 1,\n",
       "         201530978084: 1,\n",
       "         201539999992: 1,\n",
       "         201540099996: 1,\n",
       "         201549999998: 1,\n",
       "         201550999977: 1,\n",
       "         201552099998: 1,\n",
       "         201552999991: 1,\n",
       "         201560099994: 1,\n",
       "         201560199998: 1,\n",
       "         201562207249: 1,\n",
       "         201579999995: 1,\n",
       "         201589999996: 1,\n",
       "         201600099996: 1,\n",
       "         201600209994: 1,\n",
       "         201600952846: 1,\n",
       "         201602499993: 1,\n",
       "         201620000000: 1,\n",
       "         201620009997: 1,\n",
       "         201621038712: 1,\n",
       "         201622499996: 1,\n",
       "         201624827061: 1,\n",
       "         201635375438: 1,\n",
       "         201639999999: 1,\n",
       "         201650309189: 1,\n",
       "         201659999994: 1,\n",
       "         201659999998: 1,\n",
       "         201663299989: 1,\n",
       "         201663299991: 1,\n",
       "         201665199997: 1,\n",
       "         201668099998: 1,\n",
       "         201682499998: 1,\n",
       "         201683685315: 1,\n",
       "         201689999992: 1,\n",
       "         201689999997: 1,\n",
       "         201692006952: 1,\n",
       "         201699999994: 1,\n",
       "         201721699995: 1,\n",
       "         201723499996: 1,\n",
       "         201723799988: 1,\n",
       "         201724099996: 1,\n",
       "         201725999995: 1,\n",
       "         201730099995: 1,\n",
       "         201740506661: 1,\n",
       "         201756999993: 1,\n",
       "         201780099998: 1,\n",
       "         201780134011: 1,\n",
       "         201786182117: 1,\n",
       "         201800165343: 1,\n",
       "         201809999996: 1,\n",
       "         201810000000: 1,\n",
       "         201821257017: 1,\n",
       "         201829999994: 1,\n",
       "         201829999996: 1,\n",
       "         201830796796: 1,\n",
       "         201840099994: 1,\n",
       "         201849999998: 1,\n",
       "         201850428109: 1,\n",
       "         201860009988: 1,\n",
       "         201862899993: 1,\n",
       "         201869999993: 1,\n",
       "         201870427944: 1,\n",
       "         201875068296: 1,\n",
       "         201879999998: 1,\n",
       "         201893803406: 1,\n",
       "         201901140920: 1,\n",
       "         201902009998: 1,\n",
       "         201909999997: 1,\n",
       "         201912699990: 1,\n",
       "         201916000456: 1,\n",
       "         201930138911: 1,\n",
       "         201934399974: 1,\n",
       "         201945999989: 1,\n",
       "         201952014770: 1,\n",
       "         201961073147: 1,\n",
       "         201969999947: 1,\n",
       "         201972003631: 1,\n",
       "         201979999997: 1,\n",
       "         201990499991: 1,\n",
       "         201999999982: 1,\n",
       "         201999999995: 1,\n",
       "         202000299991: 1,\n",
       "         202009999996: 1,\n",
       "         202010009994: 1,\n",
       "         202010009996: 1,\n",
       "         202020515315: 1,\n",
       "         202032523876: 1,\n",
       "         202036400947: 1,\n",
       "         202039999998: 1,\n",
       "         202040999991: 1,\n",
       "         202050544278: 1,\n",
       "         202055999992: 1,\n",
       "         202056999994: 1,\n",
       "         202059999996: 2,\n",
       "         202060399994: 1,\n",
       "         202069999997: 1,\n",
       "         202079999989: 1,\n",
       "         202079999993: 1,\n",
       "         202080599981: 1,\n",
       "         202090000000: 1,\n",
       "         202109999995: 1,\n",
       "         202109999996: 1,\n",
       "         202110009992: 1,\n",
       "         202110035550: 1,\n",
       "         202112601383: 1,\n",
       "         202116838606: 1,\n",
       "         202139999960: 1,\n",
       "         202139999990: 1,\n",
       "         202141199995: 1,\n",
       "         202149999991: 1,\n",
       "         202159999992: 1,\n",
       "         202160502608: 1,\n",
       "         202169999999: 1,\n",
       "         202186914821: 1,\n",
       "         202192418502: 1,\n",
       "         202199999997: 1,\n",
       "         202200871964: 1,\n",
       "         202210463946: 1,\n",
       "         202212509996: 1,\n",
       "         202219999996: 1,\n",
       "         202223999989: 1,\n",
       "         202226898809: 1,\n",
       "         202240971947: 1,\n",
       "         202245120748: 1,\n",
       "         202270274324: 1,\n",
       "         202279999994: 1,\n",
       "         202280099992: 1,\n",
       "         202281499986: 1,\n",
       "         202289999998: 1,\n",
       "         202290696353: 1,\n",
       "         202296999987: 1,\n",
       "         202299999991: 1,\n",
       "         202319999993: 1,\n",
       "         202329999994: 1,\n",
       "         202330431330: 1,\n",
       "         202331999995: 1,\n",
       "         202340999983: 1,\n",
       "         202345999995: 1,\n",
       "         202367623909: 1,\n",
       "         202370196856: 1,\n",
       "         202392268174: 1,\n",
       "         202411999997: 1,\n",
       "         202445999998: 1,\n",
       "         202446407331: 1,\n",
       "         202449999996: 1,\n",
       "         202456999982: 1,\n",
       "         202491039994: 1,\n",
       "         202491999995: 1,\n",
       "         202501299993: 1,\n",
       "         202505999988: 1,\n",
       "         202507999993: 1,\n",
       "         202520109997: 1,\n",
       "         202530005251: 1,\n",
       "         202531999997: 1,\n",
       "         202562942037: 1,\n",
       "         202569999964: 1,\n",
       "         202573309370: 1,\n",
       "         202579999995: 1,\n",
       "         202579999996: 1,\n",
       "         202601105256: 1,\n",
       "         202611303400: 1,\n",
       "         202612499990: 1,\n",
       "         202615969034: 1,\n",
       "         202619999997: 1,\n",
       "         202629867072: 1,\n",
       "         202629999993: 1,\n",
       "         202630099994: 1,\n",
       "         202639999995: 1,\n",
       "         202654999991: 1,\n",
       "         202655019991: 1,\n",
       "         202659999991: 1,\n",
       "         202670999987: 1,\n",
       "         202679999991: 1,\n",
       "         202709999983: 1,\n",
       "         202710303252: 1,\n",
       "         202717787075: 1,\n",
       "         202718099987: 1,\n",
       "         202720099994: 1,\n",
       "         202720405083: 1,\n",
       "         202722874976: 1,\n",
       "         202730059993: 1,\n",
       "         202741039955: 1,\n",
       "         202742239994: 1,\n",
       "         202752999992: 1,\n",
       "         202760999992: 1,\n",
       "         202769999995: 2,\n",
       "         202780460211: 1,\n",
       "         202792554098: 1,\n",
       "         202796299979: 1,\n",
       "         202809999979: 1,\n",
       "         202817019988: 1,\n",
       "         202819999995: 1,\n",
       "         202820099990: 1,\n",
       "         202820399989: 1,\n",
       "         202839999994: 1,\n",
       "         202849999996: 2,\n",
       "         202851099992: 1,\n",
       "         202852000050: 1,\n",
       "         202860399982: 1,\n",
       "         202862161920: 1,\n",
       "         202870167486: 1,\n",
       "         202870999996: 1,\n",
       "         202882099996: 1,\n",
       "         202886999993: 1,\n",
       "         202897040825: 1,\n",
       "         202899999987: 1,\n",
       "         202900099990: 1,\n",
       "         202932804407: 1,\n",
       "         202950019985: 1,\n",
       "         202950099986: 1,\n",
       "         202950199996: 1,\n",
       "         203010075900: 1,\n",
       "         203030022061: 1,\n",
       "         203036999994: 1,\n",
       "         203038999992: 1,\n",
       "         203040610176: 1,\n",
       "         203059999979: 1,\n",
       "         203059999995: 1,\n",
       "         203070207868: 1,\n",
       "         203077099987: 1,\n",
       "         203096999973: 1,\n",
       "         203109999976: 1,\n",
       "         203129999994: 1,\n",
       "         203139719546: 1,\n",
       "         203152019993: 1,\n",
       "         203162346706: 1,\n",
       "         203173901887: 1,\n",
       "         203181099991: 1,\n",
       "         203214605035: 1,\n",
       "         203230051824: 1,\n",
       "         203240099974: 1,\n",
       "         203260505634: 1,\n",
       "         203270568143: 1,\n",
       "         203278999992: 1,\n",
       "         203280009962: 1,\n",
       "         203285401874: 1,\n",
       "         203299999991: 1,\n",
       "         203320019975: 1,\n",
       "         203321823108: 1,\n",
       "         203350199993: 1,\n",
       "         203370509984: 1,\n",
       "         203380299986: 1,\n",
       "         203385367309: 1,\n",
       "         203390009975: 1,\n",
       "         203393230192: 1,\n",
       "         203414791987: 1,\n",
       "         203440499998: 1,\n",
       "         203440901850: 1,\n",
       "         203450049736: 1,\n",
       "         203479999977: 1,\n",
       "         203489999998: 1,\n",
       "         203492599999: 1,\n",
       "         203499999984: 1,\n",
       "         203506009968: 1,\n",
       "         203510633228: 1,\n",
       "         203555314450: 1,\n",
       "         203620392151: 1,\n",
       "         203629999988: 1,\n",
       "         203639999989: 1,\n",
       "         203650689786: 1,\n",
       "         203653719615: 1,\n",
       "         203659999984: 1,\n",
       "         203659999987: 1,\n",
       "         203679999970: 1,\n",
       "         203680393620: 1,\n",
       "         203691155114: 1,\n",
       "         203725005665: 1,\n",
       "         203750105314: 1,\n",
       "         203750251416: 1,\n",
       "         203759999997: 1,\n",
       "         203764247720: 1,\n",
       "         203771181260: 1,\n",
       "         203781039992: 1,\n",
       "         203790101220: 1,\n",
       "         203792072897: 1,\n",
       "         203841618060: 1,\n",
       "         203850519467: 1,\n",
       "         203869842606: 1,\n",
       "         203870019990: 1,\n",
       "         203871099980: 1,\n",
       "         203872999980: 1,\n",
       "         203946499994: 1,\n",
       "         203960863890: 1,\n",
       "         204005999983: 1,\n",
       "         204010999988: 1,\n",
       "         204015509995: 1,\n",
       "         204040019986: 1,\n",
       "         204040089620: 1,\n",
       "         204081999974: 1,\n",
       "         204095499983: 1,\n",
       "         204107999987: 1,\n",
       "         204110012025: 1,\n",
       "         204224209989: 1,\n",
       "         204234149982: 1,\n",
       "         204248509986: 1,\n",
       "         204290019978: 1,\n",
       "         204294519952: 1,\n",
       "         204332099989: 1,\n",
       "         204352261619: 1,\n",
       "         204361046283: 1,\n",
       "         204365041272: 1,\n",
       "         204366999991: 1,\n",
       "         204380314591: 1,\n",
       "         204405999988: 1,\n",
       "         204410046717: 1,\n",
       "         204411599993: 1,\n",
       "         204431083683: 1,\n",
       "         204463339281: 1,\n",
       "         204477859107: 1,\n",
       "         204520238511: 1,\n",
       "         204581014435: 1,\n",
       "         204587699981: 1,\n",
       "         204591999984: 1,\n",
       "         204603439978: 1,\n",
       "         204651022341: 1,\n",
       "         204669999998: 1,\n",
       "         204679999988: 1,\n",
       "         204733029952: 1,\n",
       "         204742999980: 1,\n",
       "         204790299988: 1,\n",
       "         204809999989: 1,\n",
       "         204843229985: 1,\n",
       "         204844999982: 1,\n",
       "         204964774712: 1,\n",
       "         205080964934: 1,\n",
       "         205083090836: 1,\n",
       "         205104099980: 1,\n",
       "         205152099991: 1,\n",
       "         205243099989: 1,\n",
       "         205301057645: 1,\n",
       "         205339999997: 1,\n",
       "         205345858022: 1,\n",
       "         205371999981: 1,\n",
       "         205454029953: 1,\n",
       "         205454671718: 1,\n",
       "         205458099989: 1,\n",
       "         205500096122: 1,\n",
       "         205669999996: 1,\n",
       "         205725009981: 1,\n",
       "         205777202259: 1,\n",
       "         205844009440: 1,\n",
       "         205846999993: 1,\n",
       "         205983999982: 1,\n",
       "         206022999976: 1,\n",
       "         206062338716: 1,\n",
       "         206095407128: 1,\n",
       "         206110499990: 1,\n",
       "         206150009976: 1,\n",
       "         206265583336: 1,\n",
       "         206410578472: 1,\n",
       "         206590041988: 1,\n",
       "         206711020039: 1,\n",
       "         207253199944: 1,\n",
       "         207290969486: 1,\n",
       "         207432574649: 1,\n",
       "         207503353365: 1,\n",
       "         207556103526: 1,\n",
       "         207561076562: 1,\n",
       "         207563199989: 1,\n",
       "         207606300663: 1,\n",
       "         207650755126: 1,\n",
       "         207775999988: 1,\n",
       "         207862162870: 1,\n",
       "         208279009966: 1,\n",
       "         209980449383: 1,\n",
       "         210263809489: 1,\n",
       "         210359999999: 1,\n",
       "         213165499972: 1,\n",
       "         213194399987: 1,\n",
       "         214449999997: 1,\n",
       "         224246059978: 1,\n",
       "         1736890000000: 1,\n",
       "         5000000000000: 1,\n",
       "         9400000000000: 1,\n",
       "         27600000000000: 1,\n",
       "         49955000000000: 1})"
      ]
     },
     "execution_count": 207,
     "metadata": {},
     "output_type": "execute_result"
    }
   ],
   "source": [
    "collections.Counter(incomes_m)"
   ]
  },
  {
   "cell_type": "code",
   "execution_count": 204,
   "metadata": {},
   "outputs": [
    {
     "data": {
      "text/plain": [
       "Counter({5000100000: 500000})"
      ]
     },
     "execution_count": 204,
     "metadata": {},
     "output_type": "execute_result"
    }
   ],
   "source": [
    "c"
   ]
  },
  {
   "cell_type": "code",
   "execution_count": null,
   "metadata": {},
   "outputs": [],
   "source": [
    "%time relativeFlowVolumes_dedic_m = getRelativeFlowVolumes_dedicated(flows, incomes)"
   ]
  },
  {
   "cell_type": "code",
   "execution_count": null,
   "metadata": {},
   "outputs": [],
   "source": [
    "\n",
    "relativeFlowVolumes_dedicated_m = "
   ]
  },
  {
   "cell_type": "code",
   "execution_count": null,
   "metadata": {},
   "outputs": [],
   "source": [
    "def getFlowAndIncomeVolumePar(chain, map_address2cluster, interval, end=None)\n",
    "    helper = getFlowAndIncomeVolumeForOneBlock_classEdition(map_address2cluster)\n",
    "    flow_income_pairs = chain.map_blocks(helper.DO_IT, end=end)\n",
    "    \n",
    "    flows = []\n",
    "    incomes = []\n",
    "    for i in range(0, len(MNC.blocks), interval):\n",
    "        each_block_flows_incomes = list(zip(*flow_income_pairs[i: i + interval]))\n",
    "        flows.append(sum(each_block_flows_incomes[0]))\n",
    "        incomes.append(sum(each_block_flows_incomes[1]))\n",
    "    return flows, incomes"
   ]
  },
  {
   "cell_type": "code",
   "execution_count": 237,
   "metadata": {},
   "outputs": [],
   "source": [
    "zaipal = getFlowAndIncomeVolumeForOneBlock_classEdition(MNC[S_MAP_A2C][''])"
   ]
  },
  {
   "cell_type": "code",
   "execution_count": 238,
   "metadata": {},
   "outputs": [
    {
     "name": "stdout",
     "output_type": "stream",
     "text": [
      "CPU times: user 5.17 s, sys: 296 ms, total: 5.47 s\n",
      "Wall time: 6.49 s\n"
     ]
    }
   ],
   "source": [
    "%time pizdec_kutak = MNC.chain.map_blocks(zaipal.DO_IT, end=500000)"
   ]
  },
  {
   "cell_type": "code",
   "execution_count": 242,
   "metadata": {},
   "outputs": [],
   "source": [
    "pizdec_kutak2 = zip(*pizdec_kutak[:10])"
   ]
  },
  {
   "cell_type": "code",
   "execution_count": 244,
   "metadata": {},
   "outputs": [
    {
     "data": {
      "text/plain": [
       "[(0, 0, 0, 0, 0, 0, 0, 0, 0, 0),\n",
       " (5000000000,\n",
       "  50000000000,\n",
       "  50000000000,\n",
       "  50000000000,\n",
       "  50000000000,\n",
       "  50000000000,\n",
       "  50000000000,\n",
       "  50000000000,\n",
       "  50000000000,\n",
       "  50000000000)]"
      ]
     },
     "execution_count": 244,
     "metadata": {},
     "output_type": "execute_result"
    }
   ],
   "source": [
    "list(pizdec_kutak2)"
   ]
  },
  {
   "cell_type": "code",
   "execution_count": 234,
   "metadata": {},
   "outputs": [
    {
     "name": "stdout",
     "output_type": "stream",
     "text": [
      "CPU times: user 268 ms, sys: 216 ms, total: 484 ms\n",
      "Wall time: 882 ms\n"
     ]
    }
   ],
   "source": [
    "%time kutak = MNC.chain.map_blocks(height_Hitler, end=500000)"
   ]
  },
  {
   "cell_type": "code",
   "execution_count": 232,
   "metadata": {},
   "outputs": [
    {
     "name": "stdout",
     "output_type": "stream",
     "text": [
      "CPU times: user 616 ms, sys: 12 ms, total: 628 ms\n",
      "Wall time: 628 ms\n"
     ]
    }
   ],
   "source": [
    "%time kutak = [b.height for b in MNC.chain[:500000]]"
   ]
  },
  {
   "cell_type": "code",
   "execution_count": 166,
   "metadata": {},
   "outputs": [
    {
     "name": "stdout",
     "output_type": "stream",
     "text": [
      "There is already np version of data, stop\n"
     ]
    }
   ],
   "source": [
    "LTC[S_MAP_A2C].read('np')"
   ]
  },
  {
   "cell_type": "code",
   "execution_count": null,
   "metadata": {},
   "outputs": [],
   "source": []
  },
  {
   "cell_type": "code",
   "execution_count": null,
   "metadata": {},
   "outputs": [],
   "source": []
  },
  {
   "cell_type": "code",
   "execution_count": 79,
   "metadata": {},
   "outputs": [
    {
     "name": "stdout",
     "output_type": "stream",
     "text": [
      "defaultdict(<function A2.<locals>.<lambda> at 0x7f9c0411cd90>, {})\n",
      "defaultdict(<function A2.<locals>.<lambda> at 0x7f9c0411cd90>, {})\n"
     ]
    },
    {
     "data": {
      "text/plain": [
       "defaultdict(<function __main__.A2.<locals>.<lambda>>, {})"
      ]
     },
     "execution_count": 79,
     "metadata": {},
     "output_type": "execute_result"
    }
   ],
   "source": [
    "def A2():\n",
    "    print(collections.defaultdict(lambda: 0.))\n",
    "    balance_deltas = collections.defaultdict(lambda: 0.)\n",
    "    print(balance_deltas)\n",
    "    return balance_deltas\n",
    "A2()"
   ]
  },
  {
   "cell_type": "code",
   "execution_count": null,
   "metadata": {},
   "outputs": [],
   "source": []
  },
  {
   "cell_type": "code",
   "execution_count": null,
   "metadata": {},
   "outputs": [],
   "source": []
  },
  {
   "cell_type": "code",
   "execution_count": null,
   "metadata": {},
   "outputs": [],
   "source": []
  },
  {
   "cell_type": "code",
   "execution_count": 14,
   "metadata": {},
   "outputs": [
    {
     "name": "stdout",
     "output_type": "stream",
     "text": [
      "Reading folder '/home/ubuntu/thesis_work/calculated/mincoin_first_500k_blocks' with prefix 'int1000b_NacamotoCoefs'...\n",
      "  Got 'int1000b_NacamotoCoefs.json', key is ''\n",
      "Finish\n",
      "Reading folder '/home/ubuntu/thesis_work/calculated/mincoin_first_500k_blocks' with prefix 'int1000b_activeAddressesCounts'...\n",
      "  Got 'int1000b_activeAddressesCounts.json', key is ''\n",
      "Finish\n",
      "Reading folder '/home/ubuntu/thesis_work/calculated/mincoin_first_500k_blocks' with prefix 'int1000b_activeClustersCounts'...\n",
      "  Got 'int1000b_activeClustersCounts.json', key is ''\n",
      "Finish\n",
      "Reading folder '/home/ubuntu/thesis_work/calculated/mincoin_first_500k_blocks' with prefix 'int1000b_ginisOfClustersWealth'...\n",
      "  Got 'int1000b_ginisOfClustersWealth.json', key is ''\n",
      "  Got 'int1000b_ginisOfClustersWealth_oldQ.json', key is 'oldQ'\n",
      "Finish\n"
     ]
    }
   ],
   "source": [
    "MNC[S_NCS].readAll()\n",
    "MNC[S_ADDS_CNTS].readAll()\n",
    "MNC[S_CLS_CNTS].readAll()\n",
    "MNC[S_GINIS].readAll()"
   ]
  },
  {
   "cell_type": "code",
   "execution_count": 40,
   "metadata": {},
   "outputs": [
    {
     "data": {
      "text/plain": [
       "[21, 46, 83, 100, 114, 111, 146, 73, 195, 76]"
      ]
     },
     "execution_count": 40,
     "metadata": {},
     "output_type": "execute_result"
    }
   ],
   "source": [
    "MNC.d[S_CLS_CNTS].v[''][:10]"
   ]
  },
  {
   "cell_type": "code",
   "execution_count": 15,
   "metadata": {},
   "outputs": [
    {
     "name": "stdout",
     "output_type": "stream",
     "text": [
      "Work time 7.3s\n"
     ]
    }
   ],
   "source": [
    "MNC.guessMiners()"
   ]
  },
  {
   "cell_type": "code",
   "execution_count": 22,
   "metadata": {},
   "outputs": [],
   "source": [
    "kutak = getActiveAddressesCounts(MNC.blocks, MNC.group_size)"
   ]
  },
  {
   "cell_type": "code",
   "execution_count": 23,
   "metadata": {},
   "outputs": [
    {
     "data": {
      "text/plain": [
       "True"
      ]
     },
     "execution_count": 23,
     "metadata": {},
     "output_type": "execute_result"
    }
   ],
   "source": [
    "kutak == MNC[S_ADDS_CNTS]['']"
   ]
  },
  {
   "cell_type": "code",
   "execution_count": 405,
   "metadata": {},
   "outputs": [],
   "source": [
    "#MNC.showDataAndVersions()"
   ]
  },
  {
   "cell_type": "code",
   "execution_count": 406,
   "metadata": {},
   "outputs": [],
   "source": [
    "#MNC.gatherAllMetrics({S_NCS: '', S_GINIS: ''})"
   ]
  },
  {
   "cell_type": "code",
   "execution_count": 46,
   "metadata": {},
   "outputs": [
    {
     "name": "stdout",
     "output_type": "stream",
     "text": [
      "Work time 11.48s\n"
     ]
    }
   ],
   "source": [
    "MNC.getMapAddress2Cluster(key='np')"
   ]
  },
  {
   "cell_type": "code",
   "execution_count": null,
   "metadata": {},
   "outputs": [],
   "source": [
    "dictB[blocksci.address_type.nonstandard]"
   ]
  },
  {
   "cell_type": "code",
   "execution_count": 49,
   "metadata": {},
   "outputs": [
    {
     "name": "stdout",
     "output_type": "stream",
     "text": [
      "Work time 16.65s\n"
     ]
    }
   ],
   "source": [
    "MNC.getActiveClustersCounts(key='usingNpMap')"
   ]
  },
  {
   "cell_type": "code",
   "execution_count": 52,
   "metadata": {},
   "outputs": [
    {
     "data": {
      "text/plain": [
       "[21, 148, 172, 172, 51, 32, 42, 47, 323, 83, 132, 208, 279, 106, 54, 48, 39]"
      ]
     },
     "execution_count": 52,
     "metadata": {},
     "output_type": "execute_result"
    }
   ],
   "source": [
    "MNC[S_CLS_CNTS][''][::30]# == MNC[S_CLS_CNTS]['usingNpMap']"
   ]
  },
  {
   "cell_type": "code",
   "execution_count": null,
   "metadata": {},
   "outputs": [],
   "source": []
  },
  {
   "cell_type": "code",
   "execution_count": 410,
   "metadata": {},
   "outputs": [
    {
     "name": "stdout",
     "output_type": "stream",
     "text": [
      "90516\n",
      "Work time 21.72s\n"
     ]
    }
   ],
   "source": [
    "MNC.getGinis(key='usingNpMap')"
   ]
  },
  {
   "cell_type": "code",
   "execution_count": 413,
   "metadata": {},
   "outputs": [
    {
     "data": {
      "text/plain": [
       "True"
      ]
     },
     "execution_count": 413,
     "metadata": {},
     "output_type": "execute_result"
    }
   ],
   "source": [
    "MNC[S_GINIS][''] == MNC[S_GINIS]['usingNpMap']"
   ]
  },
  {
   "cell_type": "code",
   "execution_count": 415,
   "metadata": {},
   "outputs": [
    {
     "name": "stdout",
     "output_type": "stream",
     "text": [
      "Work time 16.79s\n"
     ]
    }
   ],
   "source": [
    "MNC.getActiveClustersCounts(key='usingNpMap')"
   ]
  },
  {
   "cell_type": "code",
   "execution_count": 417,
   "metadata": {},
   "outputs": [
    {
     "data": {
      "text/plain": [
       "dict_keys(['', 'usingNonSerMap', 'usingNpMap'])"
      ]
     },
     "execution_count": 417,
     "metadata": {},
     "output_type": "execute_result"
    }
   ],
   "source": [
    "MNC[S_CLS_CNTS].v.keys()"
   ]
  },
  {
   "cell_type": "code",
   "execution_count": null,
   "metadata": {},
   "outputs": [],
   "source": [
    "MNC.getActiveClustersCounts(key='usingNpMap')"
   ]
  },
  {
   "cell_type": "code",
   "execution_count": 309,
   "metadata": {},
   "outputs": [],
   "source": [
    "#f = MNC.drawGraph(metric_version_dict={S_NCS: '', S_GINIS: ''})"
   ]
  },
  {
   "cell_type": "code",
   "execution_count": 308,
   "metadata": {},
   "outputs": [],
   "source": [
    "#f = MNC.drawGraph(allMetrics_tag='ginisOfClustersWealth=_NacamotoCoefs=')"
   ]
  },
  {
   "cell_type": "code",
   "execution_count": 307,
   "metadata": {},
   "outputs": [],
   "source": [
    "#MNC.allMetrics.v['ginisOfClustersWealth=_NacamotoCoefs=']"
   ]
  },
  {
   "cell_type": "code",
   "execution_count": 71,
   "metadata": {},
   "outputs": [
    {
     "name": "stdout",
     "output_type": "stream",
     "text": [
      "Reading folder '/home/ubuntu/thesis_work/calculated/mincoin_first_500k_blocks' with prefix 'int1000b_map_add2cl'...\n",
      "  Got 'int1000b_map_add2cl.hdf5', key is ''\n",
      "Finish\n"
     ]
    }
   ],
   "source": [
    "MNC.map_address2cluster.readAll()"
   ]
  },
  {
   "cell_type": "code",
   "execution_count": null,
   "metadata": {},
   "outputs": [],
   "source": []
  },
  {
   "cell_type": "code",
   "execution_count": null,
   "metadata": {},
   "outputs": [],
   "source": []
  },
  {
   "cell_type": "code",
   "execution_count": 127,
   "metadata": {
    "scrolled": true
   },
   "outputs": [
    {
     "name": "stdout",
     "output_type": "stream",
     "text": [
      "Got 1421537 blocks\n",
      "Got 9312234 clusters\n"
     ]
    }
   ],
   "source": [
    "# Q_LITECOIN\n",
    "LTC = CoinDataMgr(blocksci_path=\"/home/ubuntu/litecoin_disk3\",\n",
    "                  path_to_clusters=\"/home/ubuntu/~/clusters_l2\",\n",
    "                  folder_with_calculated=\"/home/ubuntu/thesis_work/calculated/litecoin\")"
   ]
  },
  {
   "cell_type": "code",
   "execution_count": null,
   "metadata": {},
   "outputs": [],
   "source": []
  },
  {
   "cell_type": "code",
   "execution_count": 18,
   "metadata": {},
   "outputs": [
    {
     "name": "stdout",
     "output_type": "stream",
     "text": [
      "Reading folder '/home/ubuntu/thesis_work/calculated/litecoin_first_2k_blocks' with prefix 'int1000b_NacamotoCoefs'...\n",
      "Finish\n",
      "Reading folder '/home/ubuntu/thesis_work/calculated/litecoin_first_2k_blocks' with prefix 'int1000b_activeAddressesCounts'...\n",
      "Finish\n",
      "Reading folder '/home/ubuntu/thesis_work/calculated/litecoin_first_2k_blocks' with prefix 'int1000b_activeClustersCounts'...\n",
      "Finish\n",
      "Reading folder '/home/ubuntu/thesis_work/calculated/litecoin_first_2k_blocks' with prefix 'int1000b_ginisOfClustersWealth'...\n",
      "Finish\n"
     ]
    }
   ],
   "source": [
    "LTC[S_NCS].readAll()\n",
    "LTC[S_ADDS_CNTS].readAll()\n",
    "LTC[S_CLS_CNTS].readAll()\n",
    "LTC[S_GINIS].readAll()"
   ]
  },
  {
   "cell_type": "code",
   "execution_count": 20,
   "metadata": {},
   "outputs": [],
   "source": [
    "#LTC_2k.getMapAddress2Cluster(key='np')"
   ]
  },
  {
   "cell_type": "code",
   "execution_count": 129,
   "metadata": {},
   "outputs": [],
   "source": [
    "LTC[S_MAP_A2C].read('np')"
   ]
  },
  {
   "cell_type": "code",
   "execution_count": 46,
   "metadata": {},
   "outputs": [
    {
     "name": "stdout",
     "output_type": "stream",
     "text": [
      "Saving \"np\" version in \"/home/ubuntu/thesis_work/calculated/litecoin/int1000b_map_address2cluster_np\" file\n"
     ]
    }
   ],
   "source": [
    "#LTC.d[S_MAP_A2C].save('np', check=False)"
   ]
  },
  {
   "cell_type": "code",
   "execution_count": 23,
   "metadata": {},
   "outputs": [
    {
     "name": "stdout",
     "output_type": "stream",
     "text": [
      "Work time 0.05s\n"
     ]
    }
   ],
   "source": [
    "LTC.getActiveClustersCounts(key='usingNpMap')"
   ]
  },
  {
   "cell_type": "code",
   "execution_count": 62,
   "metadata": {},
   "outputs": [
    {
     "data": {
      "text/plain": [
       "1422"
      ]
     },
     "execution_count": 62,
     "metadata": {},
     "output_type": "execute_result"
    }
   ],
   "source": [
    "len(LTC[S_CLS_CNTS]['usingNpMap'])"
   ]
  },
  {
   "cell_type": "code",
   "execution_count": 128,
   "metadata": {},
   "outputs": [
    {
     "name": "stdout",
     "output_type": "stream",
     "text": [
      "CPU times: user 6min 35s, sys: 836 ms, total: 6min 36s\n",
      "Wall time: 6min 36s\n"
     ]
    },
    {
     "data": {
      "text/plain": [
       "0"
      ]
     },
     "execution_count": 128,
     "metadata": {},
     "output_type": "execute_result"
    }
   ],
   "source": [
    "%time flowSum2_l = checkFlowSum2(LTC.blocks)\n",
    "flowSum2_l"
   ]
  },
  {
   "cell_type": "code",
   "execution_count": 180,
   "metadata": {},
   "outputs": [
    {
     "name": "stdout",
     "output_type": "stream",
     "text": [
      "CPU times: user 7min 29s, sys: 11.4 s, total: 7min 40s\n",
      "Wall time: 7min 39s\n"
     ]
    }
   ],
   "source": [
    "%time balances_native_1m_l = LTC.cl_mgr.clusters().balance(1000000)"
   ]
  },
  {
   "cell_type": "code",
   "execution_count": 176,
   "metadata": {},
   "outputs": [
    {
     "name": "stdout",
     "output_type": "stream",
     "text": [
      "Et ya2!\n",
      "CPU times: user 6min 34s, sys: 44 ms, total: 6min 34s\n",
      "Wall time: 6min 34s\n"
     ]
    }
   ],
   "source": [
    "zero_bals = np.zeros(len(LTC.cl_mgr.clusters()))\n",
    "%time balances_np2_1m_l, bad_blocks = getClustersBalanceChangeBlocksNp2(LTC.blocks[:1000000], LTC[S_MAP_A2C]['np'], zero_bals)"
   ]
  },
  {
   "cell_type": "code",
   "execution_count": 190,
   "metadata": {},
   "outputs": [
    {
     "name": "stdout",
     "output_type": "stream",
     "text": [
      "CPU times: user 6min 6s, sys: 44 ms, total: 6min 6s\n",
      "Wall time: 6min 6s\n"
     ]
    }
   ],
   "source": [
    "zero_bals = np.zeros(len(LTC.cl_mgr.clusters()))\n",
    "%time balances_np_1m_l = getClustersBalanceChangeBlocksNp(LTC.blocks[:1000000], LTC[S_MAP_A2C]['np'], zero_bals)"
   ]
  },
  {
   "cell_type": "code",
   "execution_count": 181,
   "metadata": {},
   "outputs": [
    {
     "data": {
      "text/plain": [
       "False"
      ]
     },
     "execution_count": 181,
     "metadata": {},
     "output_type": "execute_result"
    }
   ],
   "source": [
    "(balances_native_1m_l == balances_np2_1m_l).all()"
   ]
  },
  {
   "cell_type": "code",
   "execution_count": 191,
   "metadata": {},
   "outputs": [
    {
     "data": {
      "text/plain": [
       "False"
      ]
     },
     "execution_count": 191,
     "metadata": {},
     "output_type": "execute_result"
    }
   ],
   "source": [
    "(balances_np_1m_l == balances_np2_1m_l).all()"
   ]
  },
  {
   "cell_type": "code",
   "execution_count": 185,
   "metadata": {},
   "outputs": [],
   "source": [
    "bal_diff = balances_native_1m_l - balances_np2_1m_l"
   ]
  },
  {
   "cell_type": "code",
   "execution_count": 189,
   "metadata": {},
   "outputs": [
    {
     "data": {
      "text/plain": [
       "325522"
      ]
     },
     "execution_count": 189,
     "metadata": {},
     "output_type": "execute_result"
    }
   ],
   "source": [
    "len(bal_diff[bal_diff != 0])"
   ]
  },
  {
   "cell_type": "code",
   "execution_count": 183,
   "metadata": {},
   "outputs": [
    {
     "data": {
      "text/plain": [
       "-3754480922219596.0"
      ]
     },
     "execution_count": 183,
     "metadata": {},
     "output_type": "execute_result"
    }
   ],
   "source": [
    "balances_native_1m_l.sum() - balances_np2_1m_l.sum()"
   ]
  },
  {
   "cell_type": "code",
   "execution_count": 192,
   "metadata": {},
   "outputs": [
    {
     "data": {
      "text/plain": [
       "-3743930089036942.0"
      ]
     },
     "execution_count": 192,
     "metadata": {},
     "output_type": "execute_result"
    }
   ],
   "source": [
    "balances_native_1m_l.sum() - balances_np_1m_l.sum()"
   ]
  },
  {
   "cell_type": "code",
   "execution_count": 193,
   "metadata": {},
   "outputs": [
    {
     "data": {
      "text/plain": [
       "10550833182654.0"
      ]
     },
     "execution_count": 193,
     "metadata": {},
     "output_type": "execute_result"
    }
   ],
   "source": [
    "balances_np2_1m_l.sum() - balances_np_1m_l.sum()"
   ]
  },
  {
   "cell_type": "code",
   "execution_count": 184,
   "metadata": {},
   "outputs": [
    {
     "data": {
      "text/plain": [
       "361404256767"
      ]
     },
     "execution_count": 184,
     "metadata": {},
     "output_type": "execute_result"
    }
   ],
   "source": [
    "sum(bad_blocks.values())"
   ]
  },
  {
   "cell_type": "code",
   "execution_count": 163,
   "metadata": {},
   "outputs": [],
   "source": [
    "multiCOs = []\n",
    "for b in LTC.blocks:\n",
    "    outs = b.coinbase_tx.outputs\n",
    "    if len(outs) > 1:\n",
    "        multiCOs = list(outs)\n",
    "        break\n",
    "#list(LTC.blocks[106].coinbase_tx.outputs)"
   ]
  },
  {
   "cell_type": "code",
   "execution_count": 166,
   "metadata": {},
   "outputs": [
    {
     "name": "stdout",
     "output_type": "stream",
     "text": [
      "18089\n",
      "19075\n",
      "17183\n",
      "20239\n",
      "20240\n",
      "16957\n"
     ]
    }
   ],
   "source": [
    "for CO in multiCOs:\n",
    "    add = CO.address\n",
    "    print(LTC[S_MAP_A2C]['np'][add.type][add.address_num])"
   ]
  },
  {
   "cell_type": "code",
   "execution_count": 164,
   "metadata": {},
   "outputs": [
    {
     "data": {
      "text/plain": [
       "[TxOut(spending_tx_index=477524, address=PubkeyHashAddress(LKU2QJFTZJ2eVb8UBdbXePn57cHDzJoZwt), value=725176292),\n",
       " TxOut(spending_tx_index=66361, address=PubkeyHashAddress(LXQSjwYzLtiJV6xvc7bPHNAwp8HTmtBJeD), value=745734844),\n",
       " TxOut(spending_tx_index=141868, address=PubkeyHashAddress(LdnKnkKmrXoFGsvbcJpFF19jbqo7iZtFLe), value=1423578960),\n",
       " TxOut(spending_tx_index=169761, address=PubkeyHashAddress(Lfn4zsw87arhBpd5S7fJzx8pZS8xGvAj7Z), value=894072318),\n",
       " TxOut(spending_tx_index=585777, address=PubkeyHashAddress(LiFSXnBuLUD1mMKDn1uvFxCLZq3tZt3SoK), value=183845918),\n",
       " TxOut(spending_tx_index=176939, address=PubkeyHashAddress(LYhRGZyYaoMwE6FKfsHYtKkWMqrahBKow8), value=1027691668)]"
      ]
     },
     "execution_count": 164,
     "metadata": {},
     "output_type": "execute_result"
    }
   ],
   "source": [
    "multiCOs"
   ]
  },
  {
   "cell_type": "code",
   "execution_count": null,
   "metadata": {},
   "outputs": [],
   "source": []
  },
  {
   "cell_type": "code",
   "execution_count": 2,
   "metadata": {
    "scrolled": true
   },
   "outputs": [
    {
     "name": "stdout",
     "output_type": "stream",
     "text": [
      "Got 523426 blocks\n",
      "Got 206433637 clusters\n"
     ]
    }
   ],
   "source": [
    "# Q_BITCOIN\n",
    "BTC = CoinDataMgr(blocksci_path=\"/home/ubuntu/bitcoin\",\n",
    "                  path_to_clusters=\"/home/ubuntu/~/clusters_b\",\n",
    "                  folder_with_calculated=\"/home/ubuntu/thesis_work/calculated/bitcoin\")"
   ]
  },
  {
   "cell_type": "code",
   "execution_count": 3,
   "metadata": {},
   "outputs": [
    {
     "name": "stdout",
     "output_type": "stream",
     "text": [
      "Reading folder '/home/ubuntu/thesis_work/calculated/bitcoin' with prefix 'int1000b_NacamotoCoefs'...\n",
      "  Got 'int1000b_NacamotoCoefs.json', key is ''\n",
      "Finish\n",
      "Reading folder '/home/ubuntu/thesis_work/calculated/bitcoin' with prefix 'int1000b_activeAddressesCounts'...\n",
      "  Got 'int1000b_activeAddressesCounts.json', key is ''\n",
      "Finish\n",
      "Reading folder '/home/ubuntu/thesis_work/calculated/bitcoin' with prefix 'int1000b_activeClustersCounts'...\n",
      "  Got 'int1000b_activeClustersCounts.json', key is ''\n",
      "Finish\n",
      "Reading folder '/home/ubuntu/thesis_work/calculated/bitcoin' with prefix 'int1000b_ginisOfClustersWealth'...\n",
      "  Got 'int1000b_ginisOfClustersWealth_need2recalculateWOnulldata.json', key is 'need2recalculateWOnulldata'\n",
      "  Got 'int1000b_ginisOfClustersWealth_WOnuldata.json', key is 'WOnuldata'\n",
      "Finish\n"
     ]
    }
   ],
   "source": [
    "BTC[S_NCS].readAll()\n",
    "BTC[S_ADDS_CNTS].readAll()\n",
    "BTC[S_CLS_CNTS].readAll()\n",
    "BTC[S_GINIS].readAll()"
   ]
  },
  {
   "cell_type": "code",
   "execution_count": 4,
   "metadata": {},
   "outputs": [
    {
     "name": "stdout",
     "output_type": "stream",
     "text": [
      "Reading folder '/home/ubuntu/thesis_work/calculated/bitcoin' with prefix 'int1000b_map_address2cluster'...\n",
      "  Got 'int1000b_map_address2cluster.hdf5', key is ''\n",
      "Finish\n"
     ]
    }
   ],
   "source": [
    "BTC[S_MAP_A2C].readAll()"
   ]
  },
  {
   "cell_type": "code",
   "execution_count": 9,
   "metadata": {},
   "outputs": [
    {
     "name": "stdout",
     "output_type": "stream",
     "text": [
      "Eto ya :)\n",
      "CPU times: user 2h 30min 16s, sys: 25.7 s, total: 2h 30min 42s\n",
      "Wall time: 2h 31min 6s\n"
     ]
    }
   ],
   "source": [
    "# SUKA\n",
    "%time deltas_b = getClustersBalanceDeltasByGroupsNp(BTC.blocks, BTC[S_MAP_A2C][''], BTC.group_size)"
   ]
  },
  {
   "cell_type": "code",
   "execution_count": 10,
   "metadata": {},
   "outputs": [
    {
     "ename": "TypeError",
     "evalue": "keys must be a string",
     "output_type": "error",
     "traceback": [
      "\u001b[0;31m---------------------------------------------------------------------------\u001b[0m",
      "\u001b[0;31mTypeError\u001b[0m                                 Traceback (most recent call last)",
      "\u001b[0;32m<ipython-input-10-7b358eaa4e34>\u001b[0m in \u001b[0;36m<module>\u001b[0;34m()\u001b[0m\n\u001b[0;32m----> 1\u001b[0;31m \u001b[0msaveJson\u001b[0m\u001b[0;34m(\u001b[0m\u001b[0mdeltas_b\u001b[0m\u001b[0;34m,\u001b[0m \u001b[0;34m'allah_deltas_b'\u001b[0m\u001b[0;34m)\u001b[0m\u001b[0;34m\u001b[0m\u001b[0m\n\u001b[0m",
      "\u001b[0;32m~/thesis_work/my_tools.py\u001b[0m in \u001b[0;36msaveJson\u001b[0;34m(data, path)\u001b[0m\n\u001b[1;32m    178\u001b[0m \u001b[0;32mdef\u001b[0m \u001b[0msaveJson\u001b[0m\u001b[0;34m(\u001b[0m\u001b[0mdata\u001b[0m\u001b[0;34m,\u001b[0m \u001b[0mpath\u001b[0m\u001b[0;34m)\u001b[0m\u001b[0;34m:\u001b[0m\u001b[0;34m\u001b[0m\u001b[0m\n\u001b[1;32m    179\u001b[0m     \u001b[0;32mwith\u001b[0m \u001b[0mopen\u001b[0m\u001b[0;34m(\u001b[0m\u001b[0mpath\u001b[0m \u001b[0;34m+\u001b[0m \u001b[0;34m'.json'\u001b[0m\u001b[0;34m,\u001b[0m \u001b[0;34m'w'\u001b[0m\u001b[0;34m)\u001b[0m \u001b[0;32mas\u001b[0m \u001b[0mfout\u001b[0m\u001b[0;34m:\u001b[0m\u001b[0;34m\u001b[0m\u001b[0m\n\u001b[0;32m--> 180\u001b[0;31m         \u001b[0mfout\u001b[0m\u001b[0;34m.\u001b[0m\u001b[0mwrite\u001b[0m\u001b[0;34m(\u001b[0m\u001b[0mjson\u001b[0m\u001b[0;34m.\u001b[0m\u001b[0mdumps\u001b[0m\u001b[0;34m(\u001b[0m\u001b[0mdata\u001b[0m\u001b[0;34m)\u001b[0m\u001b[0;34m)\u001b[0m\u001b[0;34m\u001b[0m\u001b[0m\n\u001b[0m\u001b[1;32m    181\u001b[0m \u001b[0;32mdef\u001b[0m \u001b[0mreadJson\u001b[0m\u001b[0;34m(\u001b[0m\u001b[0mpath\u001b[0m\u001b[0;34m)\u001b[0m\u001b[0;34m:\u001b[0m\u001b[0;34m\u001b[0m\u001b[0m\n\u001b[1;32m    182\u001b[0m     \u001b[0;32mwith\u001b[0m \u001b[0mopen\u001b[0m\u001b[0;34m(\u001b[0m\u001b[0mpath\u001b[0m \u001b[0;34m+\u001b[0m \u001b[0;34m'.json'\u001b[0m\u001b[0;34m,\u001b[0m \u001b[0;34m'r'\u001b[0m\u001b[0;34m)\u001b[0m \u001b[0;32mas\u001b[0m \u001b[0mfin\u001b[0m\u001b[0;34m:\u001b[0m\u001b[0;34m\u001b[0m\u001b[0m\n",
      "\u001b[0;32m/usr/lib/python3.5/json/__init__.py\u001b[0m in \u001b[0;36mdumps\u001b[0;34m(obj, skipkeys, ensure_ascii, check_circular, allow_nan, cls, indent, separators, default, sort_keys, **kw)\u001b[0m\n\u001b[1;32m    228\u001b[0m         \u001b[0mcls\u001b[0m \u001b[0;32mis\u001b[0m \u001b[0;32mNone\u001b[0m \u001b[0;32mand\u001b[0m \u001b[0mindent\u001b[0m \u001b[0;32mis\u001b[0m \u001b[0;32mNone\u001b[0m \u001b[0;32mand\u001b[0m \u001b[0mseparators\u001b[0m \u001b[0;32mis\u001b[0m \u001b[0;32mNone\u001b[0m \u001b[0;32mand\u001b[0m\u001b[0;34m\u001b[0m\u001b[0m\n\u001b[1;32m    229\u001b[0m         default is None and not sort_keys and not kw):\n\u001b[0;32m--> 230\u001b[0;31m         \u001b[0;32mreturn\u001b[0m \u001b[0m_default_encoder\u001b[0m\u001b[0;34m.\u001b[0m\u001b[0mencode\u001b[0m\u001b[0;34m(\u001b[0m\u001b[0mobj\u001b[0m\u001b[0;34m)\u001b[0m\u001b[0;34m\u001b[0m\u001b[0m\n\u001b[0m\u001b[1;32m    231\u001b[0m     \u001b[0;32mif\u001b[0m \u001b[0mcls\u001b[0m \u001b[0;32mis\u001b[0m \u001b[0;32mNone\u001b[0m\u001b[0;34m:\u001b[0m\u001b[0;34m\u001b[0m\u001b[0m\n\u001b[1;32m    232\u001b[0m         \u001b[0mcls\u001b[0m \u001b[0;34m=\u001b[0m \u001b[0mJSONEncoder\u001b[0m\u001b[0;34m\u001b[0m\u001b[0m\n",
      "\u001b[0;32m/usr/lib/python3.5/json/encoder.py\u001b[0m in \u001b[0;36mencode\u001b[0;34m(self, o)\u001b[0m\n\u001b[1;32m    196\u001b[0m         \u001b[0;31m# exceptions aren't as detailed.  The list call should be roughly\u001b[0m\u001b[0;34m\u001b[0m\u001b[0;34m\u001b[0m\u001b[0m\n\u001b[1;32m    197\u001b[0m         \u001b[0;31m# equivalent to the PySequence_Fast that ''.join() would do.\u001b[0m\u001b[0;34m\u001b[0m\u001b[0;34m\u001b[0m\u001b[0m\n\u001b[0;32m--> 198\u001b[0;31m         \u001b[0mchunks\u001b[0m \u001b[0;34m=\u001b[0m \u001b[0mself\u001b[0m\u001b[0;34m.\u001b[0m\u001b[0miterencode\u001b[0m\u001b[0;34m(\u001b[0m\u001b[0mo\u001b[0m\u001b[0;34m,\u001b[0m \u001b[0m_one_shot\u001b[0m\u001b[0;34m=\u001b[0m\u001b[0;32mTrue\u001b[0m\u001b[0;34m)\u001b[0m\u001b[0;34m\u001b[0m\u001b[0m\n\u001b[0m\u001b[1;32m    199\u001b[0m         \u001b[0;32mif\u001b[0m \u001b[0;32mnot\u001b[0m \u001b[0misinstance\u001b[0m\u001b[0;34m(\u001b[0m\u001b[0mchunks\u001b[0m\u001b[0;34m,\u001b[0m \u001b[0;34m(\u001b[0m\u001b[0mlist\u001b[0m\u001b[0;34m,\u001b[0m \u001b[0mtuple\u001b[0m\u001b[0;34m)\u001b[0m\u001b[0;34m)\u001b[0m\u001b[0;34m:\u001b[0m\u001b[0;34m\u001b[0m\u001b[0m\n\u001b[1;32m    200\u001b[0m             \u001b[0mchunks\u001b[0m \u001b[0;34m=\u001b[0m \u001b[0mlist\u001b[0m\u001b[0;34m(\u001b[0m\u001b[0mchunks\u001b[0m\u001b[0;34m)\u001b[0m\u001b[0;34m\u001b[0m\u001b[0m\n",
      "\u001b[0;32m/usr/lib/python3.5/json/encoder.py\u001b[0m in \u001b[0;36miterencode\u001b[0;34m(self, o, _one_shot)\u001b[0m\n\u001b[1;32m    254\u001b[0m                 \u001b[0mself\u001b[0m\u001b[0;34m.\u001b[0m\u001b[0mkey_separator\u001b[0m\u001b[0;34m,\u001b[0m \u001b[0mself\u001b[0m\u001b[0;34m.\u001b[0m\u001b[0mitem_separator\u001b[0m\u001b[0;34m,\u001b[0m \u001b[0mself\u001b[0m\u001b[0;34m.\u001b[0m\u001b[0msort_keys\u001b[0m\u001b[0;34m,\u001b[0m\u001b[0;34m\u001b[0m\u001b[0m\n\u001b[1;32m    255\u001b[0m                 self.skipkeys, _one_shot)\n\u001b[0;32m--> 256\u001b[0;31m         \u001b[0;32mreturn\u001b[0m \u001b[0m_iterencode\u001b[0m\u001b[0;34m(\u001b[0m\u001b[0mo\u001b[0m\u001b[0;34m,\u001b[0m \u001b[0;36m0\u001b[0m\u001b[0;34m)\u001b[0m\u001b[0;34m\u001b[0m\u001b[0m\n\u001b[0m\u001b[1;32m    257\u001b[0m \u001b[0;34m\u001b[0m\u001b[0m\n\u001b[1;32m    258\u001b[0m def _make_iterencode(markers, _default, _encoder, _indent, _floatstr,\n",
      "\u001b[0;31mTypeError\u001b[0m: keys must be a string"
     ]
    }
   ],
   "source": [
    "saveJson(deltas_b, 'allah_deltas_b')"
   ]
  },
  {
   "cell_type": "code",
   "execution_count": 18,
   "metadata": {},
   "outputs": [],
   "source": [
    "deltas_b_dicts = [dict(dd) for dd in deltas_b]"
   ]
  },
  {
   "cell_type": "code",
   "execution_count": 29,
   "metadata": {},
   "outputs": [],
   "source": [
    "with open('allah_deltas_b' + '.json', 'w') as fout:\n",
    "    fout.write\n",
    "    for dd in deltas_b:\n",
    "        str_dict = {str(k):v for k,v in dd.items()}\n",
    "        fout.write(json.dumps(str_dict))\n",
    "        fout.write('\\n')\n"
   ]
  },
  {
   "cell_type": "code",
   "execution_count": 36,
   "metadata": {},
   "outputs": [],
   "source": [
    "ind = 0\n",
    "with open('allah_deltas_b' + '.json', 'r') as fin:\n",
    "    for line in fin:\n",
    "        str_dict = json.loads(line)\n",
    "        if str_dict != {str(k):v for k,v in deltas_b[ind].items()}:\n",
    "            print('Fuck!')\n",
    "            break\n",
    "        ind += 1\n",
    "        #test_dict.append(str_dict)"
   ]
  },
  {
   "cell_type": "code",
   "execution_count": 35,
   "metadata": {},
   "outputs": [
    {
     "name": "stdout",
     "output_type": "stream",
     "text": [
      "{'141499': 5000000000.0, '141565': 5000000000.0, '141687': 5000000000.0, '141649': 5000000000.0, '141603': 5000000000.0, '141655': 5000000000.0, '140842': 5000000000.0, '140829': 5000000000.0, '141608': 5000000000.0, '141073': 5000000000.0, '141325': 5000000000.0, '141149': 5000000000.0, '140860': 5000000000.0, '141041': 5000000000.0, '140873': 5000000000.0, '141586': 5000000000.0, '140993': 5000000000.0, '141572': 5000000000.0, '140917': 5000000000.0, '141623': 5000000000.0, '141452': 5000000000.0, '141227': 5000000000.0, '141258': 5000000000.0, '141130': 5000000000.0, '141416': 5000000000.0, '141342': 5000000000.0, '140844': 5000000000.0, '141131': 5000000000.0, '141527': 5000000000.0, '141547': 5000000000.0, '141174': 5000000000.0, '141093': 5000000000.0, '140874': 5000000000.0, '141594': 5000000000.0, '141285': 5000000000.0, '141375': 5000000000.0, '141121': 5000000000.0, '141431': 5000000000.0, '141534': 5000000000.0, '141501': 5000000000.0, '141636': 5000000000.0, '141478': 5000000000.0, '141697': 5000000000.0, '140827': 5000000000.0, '141648': 5000000000.0, '141334': 5000000000.0, '141723': 5000000000.0, '141260': 5000000000.0, '141175': 5000000000.0, '141425': 5000000000.0, '141090': 0.0, '141407': 5000000000.0, '141087': 5000000000.0, '140910': 5000000000.0, '141633': 5000000000.0, '141581': 5000000000.0, '141688': 5000000000.0, '140921': 5000000000.0, '141251': 50000000000.0, '140890': 5000000000.0, '140906': 5000000000.0, '141632': 5000000000.0, '141617': 20000000000.0, '140828': 5000000000.0, '141717': 5000000000.0, '141159': 5000000000.0, '141451': 5000000000.0, '141125': 5000000000.0, '141695': 5000000000.0, '140941': 5000000000.0, '140849': 5000000000.0, '141571': 5000000000.0, '141193': 5000000000.0, '141544': 5000000000.0, '141295': 5000000000.0, '141569': 5000000000.0, '141194': 5000000000.0, '141191': 5000000000.0, '141009': 5000000000.0, '141531': 10000000000.0, '141535': 5000000000.0, '141510': 5000000000.0, '140839': 5000000000.0, '141249': 5000000000.0, '141585': 5000000000.0, '141668': 5000000000.0, '140881': 5000000000.0, '140826': 5000000000.0, '141414': 5000000000.0, '141140': 5000000000.0, '141475': 5000000000.0, '141017': 5000000000.0, '141741': 5000000000.0, '141323': 5000000000.0, '141356': 5000000000.0, '141314': 5000000000.0, '141653': 5000000000.0, '141432': 5000000000.0, '141177': 5000000000.0, '141652': 5000000000.0, '141384': 25000000000.0, '141030': 5000000000.0, '141540': 5000000000.0, '141064': 5000000000.0, '141276': 5000000000.0, '140953': 5000000000.0, '141392': 5000000000.0, '141274': 5000000000.0, '141306': 0.0, '141442': 5000000000.0, '141307': 5000000000.0, '140999': 5000000000.0, '140845': 5000000000.0, '140854': 5000000000.0, '141171': 5000000000.0, '141448': 5000000000.0, '140912': 5000000000.0, '140989': 5000000000.0, '141123': 5000000000.0, '141482': 5000000000.0, '140892': 5000000000.0, '141421': 5000000000.0, '141185': 5000000000.0, '141183': 5000000000.0, '141602': 5000000000.0, '140861': 5000000000.0, '141445': 5000000000.0, '141395': 5000000000.0, '141001': 5000000000.0, '141012': 5000000000.0, '141563': 5000000000.0, '140879': 5000000000.0, '141054': 5000000000.0, '141679': 5000000000.0, '141371': 5000000000.0, '141032': 5000000000.0, '141319': 5000000000.0, '141396': 5000000000.0, '141610': 5000000000.0, '140899': 55000000000.0, '141053': 5000000000.0, '141519': 5000000000.0, '141454': 5000000000.0, '141439': 5000000000.0, '141481': 5000000000.0, '141596': 5000000000.0, '141373': 5000000000.0, '141465': 5000000000.0, '141650': 5000000000.0, '141327': 5000000000.0, '140911': 5000000000.0, '141344': 5000000000.0, '141390': 5000000000.0, '141345': 5000000000.0, '141321': 5000000000.0, '141429': 5000000000.0, '141303': 5000000000.0, '141625': 5000000000.0, '141048': 5000000000.0, '141132': 5000000000.0, '141016': 5000000000.0, '141350': 5000000000.0, '141180': 5000000000.0, '141658': 5000000000.0, '141292': 5000000000.0, '140851': 5000000000.0, '141374': 5000000000.0, '141474': 5000000000.0, '140869': 5000000000.0, '141402': 5000000000.0, '141236': 5000000000.0, '141163': 5000000000.0, '141567': 5000000000.0, '141339': 5000000000.0, '141589': 5000000000.0, '141328': 5000000000.0, '141490': 5000000000.0, '141494': 5000000000.0, '141702': 5000000000.0, '140975': 5000000000.0, '141210': 5000000000.0, '141549': 5000000000.0, '141711': 5000000000.0, '141469': 5000000000.0, '140939': 5000000000.0, '140944': 5000000000.0, '140995': 5000000000.0, '141651': 5000000000.0, '141044': 5000000000.0, '141135': 5000000000.0, '141659': 5000000000.0, '141039': 5000000000.0, '140904': 5000000000.0, '141154': 5000000000.0, '141703': 15000000000.0, '141405': 5000000000.0, '141637': 5000000000.0, '140837': 5000000000.0, '141406': 5000000000.0, '141748': 5000000000.0, '141412': 5000000000.0, '141664': 5000000000.0, '141422': 5000000000.0, '140961': 5000000000.0, '141514': 5000000000.0, '141657': 5000000000.0, '141164': 5000000000.0, '140963': 5000000000.0, '141074': 5000000000.0, '141202': 5000000000.0, '141254': 5000000000.0, '141316': 5000000000.0, '141502': 5000000000.0, '141284': 5000000000.0, '141025': 5000000000.0, '141049': 5000000000.0, '141515': 5000000000.0, '141203': 5000000000.0, '141536': 5000000000.0, '141735': 5000000000.0, '141006': 5000000000.0, '141243': 5000000000.0, '141600': 5000000000.0, '141169': 5000000000.0, '141456': 5000000000.0, '141738': 5000000000.0, '141404': 5000000000.0, '141724': 5000000000.0, '141315': 5000000000.0, '140936': 5000000000.0, '141654': 5000000000.0, '141166': 5000000000.0, '141152': 5000000000.0, '141005': 5000000000.0, '141704': 5000000000.0, '141056': 5000000000.0, '140938': 5000000000.0, '141521': 5000000000.0, '141587': 5000000000.0, '140836': 5000000000.0, '141503': 5000000000.0, '141740': 5000000000.0, '141304': 5000000000.0, '141525': 5000000000.0, '141446': 5000000000.0, '141377': 5000000000.0, '141376': 5000000000.0, '141638': 5000000000.0, '141530': 5000000000.0, '141117': 5000000000.0, '141642': 5000000000.0, '140981': 5000000000.0, '140982': 5000000000.0, '140856': 5000000000.0, '141660': 5000000000.0, '141640': 5000000000.0, '141489': 5000000000.0, '141656': 5000000000.0, '141308': 5000000000.0, '141088': 5000000000.0, '141554': 5000000000.0, '141275': 5000000000.0, '141681': 5000000000.0, '141604': 5000000000.0, '141206': 5000000000.0, '141257': 5000000000.0, '141124': 5000000000.0, '141024': 5000000000.0, '141196': 5000000000.0, '141622': 5000000000.0, '141031': 5000000000.0, '141714': 5000000000.0, '141458': 5000000000.0, '141011': 5000000000.0, '140898': 5000000000.0, '141368': 5000000000.0, '141731': 5000000000.0, '141263': 5000000000.0, '141066': 5000000000.0, '141677': 5000000000.0, '141466': 5000000000.0, '141182': 5000000000.0, '140948': 5000000000.0, '141505': 5000000000.0, '141546': 5000000000.0, '141363': 5000000000.0, '141267': 5000000000.0, '141379': 5000000000.0, '141486': 5000000000.0, '141745': 5000000000.0, '141034': 5000000000.0, '140985': 5000000000.0, '140824': 5000000000.0, '141621': 5000000000.0, '140857': 5000000000.0, '141312': 5000000000.0, '141705': 5000000000.0, '141627': 5000000000.0, '141471': 5000000000.0, '141337': 5000000000.0, '140867': 5000000000.0, '141584': 5000000000.0, '141225': 5000000000.0, '141643': 5000000000.0, '141156': 5000000000.0, '140913': 5000000000.0, '141479': 5000000000.0, '140997': 5000000000.0, '141173': 5000000000.0, '141248': 5000000000.0, '141443': 5000000000.0, '141029': 5000000000.0, '140996': 5000000000.0, '141517': 5000000000.0, '141457': 5000000000.0, '141598': 5000000000.0, '141453': 5000000000.0, '141266': 5000000000.0, '141162': 5000000000.0, '140973': 5000000000.0, '141440': 5000000000.0, '141564': 5000000000.0, '141441': 5000000000.0, '141387': 5000000000.0, '141663': 5000000000.0, '141599': 5000000000.0, '141430': 5000000000.0, '141382': 5000000000.0, '141680': 5000000000.0, '141411': 5000000000.0, '141057': 5000000000.0, '141433': 5000000000.0, '140927': 5000000000.0, '141742': 5000000000.0, '141155': 5000000000.0, '141083': 5000000000.0, '141301': 6100000000.0, '140847': 5000000000.0, '140934': 5000000000.0, '140933': 5000000000.0, '141666': 5000000000.0, '140919': 5000000000.0, '141142': 5000000000.0, '141619': 5000000000.0, '141200': 5000000000.0, '141380': 5000000000.0, '141147': 5000000000.0, '141106': 5000000000.0, '141010': 5000000000.0, '141330': 5000000000.0, '140830': 53800000000.0, '141302': 5000000000.0, '141293': 5000000000.0, '141004': 5000000000.0, '141244': 5000000000.0, '141545': 5000000000.0, '141098': 5000000000.0, '140915': 5000000000.0, '140969': 5000000000.0, '140918': 5000000000.0, '141013': 5000000000.0, '141233': 5000000000.0, '141591': 15000000000.0, '141340': 5000000000.0, '141286': 5000000000.0, '141730': 5000000000.0, '141245': 5000000000.0, '141727': 5000000000.0, '141305': 5000000000.0, '140900': 5000000000.0, '141069': 5000000000.0, '140832': 5000000000.0, '141084': 5000000000.0, '141357': 5000000000.0, '141645': 5000000000.0, '141127': 5000000000.0, '141605': 5000000000.0, '141616': 5000000000.0, '141112': 5000000000.0, '141556': 5000000000.0, '141186': 5000000000.0, '141168': 5000000000.0, '141520': 5000000000.0, '141223': 5000000000.0, '141496': 5000000000.0, '141678': 5000000000.0, '141045': 5000000000.0, '141558': 5000000000.0, '140882': 5000000000.0, '140871': 5000000000.0, '140876': 5000000000.0, '141746': 5000000000.0, '140960': 5000000000.0, '140843': 5000000000.0, '141662': 5000000000.0, '141247': 5000000000.0, '140946': 5000000000.0, '141060': 5000000000.0, '141366': 5000000000.0, '141555': 5000000000.0, '141151': 5000000000.0, '141417': 5000000000.0, '141669': 5000000000.0, '141079': 5000000000.0, '141311': 5000000000.0, '141232': 5000000000.0, '140970': 5000000000.0, '141513': 5000000000.0, '140884': 5000000000.0, '141574': 5000000000.0, '141199': 5000000000.0, '141143': 5000000000.0, '140979': 5000000000.0, '141165': 5000000000.0, '141620': 5000000000.0, '141498': 5000000000.0, '141268': 5000000000.0, '141590': 5000000000.0, '141047': 5000000000.0, '141710': 5000000000.0, '140855': 5000000000.0, '140956': 5000000000.0, '141333': 5000000000.0, '141552': 5000000000.0, '140962': 5000000000.0, '141097': 5000000000.0, '141230': 5000000000.0, '141080': 5000000000.0, '141557': 5000000000.0, '141118': 5000000000.0, '32': 80000000000.0, '141300': 5000000000.0, '141399': 5000000000.0, '140872': 5000000000.0, '141317': 5000000000.0, '141497': 5000000000.0, '141488': 5000000000.0, '141250': 5000000000.0, '141113': 5000000000.0, '141362': 10000000000.0, '141398': 5000000000.0, '141419': 5000000000.0, '140823': 5000000000.0, '141086': 5000000000.0, '141543': 5000000000.0, '141455': 5000000000.0, '140835': 5000000000.0, '141631': 5000000000.0, '141358': 5000000000.0, '140930': 5000000000.0, '140972': 5000000000.0, '141204': 5000000000.0, '141476': 5000000000.0, '141593': 5000000000.0, '141559': 5000000000.0, '141238': 5000000000.0, '141491': 5000000000.0, '140862': 5000000000.0, '141022': 5000000000.0, '141144': 5000000000.0, '141262': 5000000000.0, '141126': 5000000000.0, '141582': 5000000000.0, '141235': 5000000000.0, '141187': 5000000000.0, '141682': 5000000000.0, '141542': 5000000000.0, '141683': 5000000000.0, '141027': 5000000000.0, '141014': 5000000000.0, '141318': 5000000000.0, '141213': 5000000000.0, '141729': 5000000000.0, '141670': 5000000000.0, '140888': 5000000000.0, '141111': 5000000000.0, '141641': 5000000000.0, '140971': 5000000000.0, '141095': 5000000000.0, '141160': 5000000000.0, '141509': 5000000000.0, '141686': 5000000000.0, '140905': 5000000000.0, '141134': 5000000000.0, '141694': 5000000000.0, '140825': 5000000000.0, '140901': 5000000000.0, '141170': 5000000000.0, '141269': 5000000000.0, '141096': 5000000000.0, '141224': 5000000000.0, '141647': 5000000000.0, '140991': 5000000000.0, '141176': 5000000000.0, '141609': 5000000000.0, '140990': 5000000000.0, '140852': 5000000000.0, '140983': 5000000000.0, '141219': 5000000000.0, '141749': 5000000000.0, '140841': 5000000000.0, '141428': 5000000000.0, '140935': 5000000000.0, '141427': 5000000000.0, '141716': 5000000000.0, '140986': 5000000000.0, '141583': 5000000000.0, '140920': 5000000000.0, '141728': 5000000000.0, '141063': 5000000000.0, '141713': 5000000000.0, '140896': 5000000000.0, '141512': 5000000000.0, '141007': 5000000000.0, '141507': 5000000000.0, '141336': 5000000000.0, '141529': 5000000000.0, '141504': 5000000000.0, '141116': 5000000000.0, '141058': 5000000000.0, '141256': 5000000000.0, '141508': 5000000000.0, '141675': 5000000000.0, '141709': 5000000000.0, '141461': 5000000000.0, '141434': 5000000000.0, '141197': 5000000000.0, '141192': 5000000000.0, '141684': 5000000000.0, '141639': 5000000000.0, '141220': 5000000000.0, '141607': 5000000000.0, '141361': 5000000000.0, '141294': 5000000000.0, '141242': 5000000000.0, '140863': 5000000000.0, '141038': 5000000000.0, '141217': 5000000000.0, '141473': 5000000000.0, '141561': 5000000000.0, '141495': 10000000000.0, '141150': 30000000000.0, '140929': 5000000000.0, '141449': 5000000000.0, '141528': 5000000000.0, '141110': 5000000000.0, '141538': 5000000000.0, '141347': 5000000000.0, '141226': 5000000000.0, '141141': 35000000000.0, '141282': 5000000000.0, '141157': 5000000000.0, '141158': 5000000000.0, '141409': 5000000000.0, '140866': 5000000000.0, '141075': 5000000000.0, '141335': 5000000000.0, '141280': 5000000000.0, '141190': 5000000000.0, '141487': 5000000000.0, '141008': 5000000000.0, '140968': 5000000000.0, '141076': 5000000000.0, '141329': 5000000000.0, '140893': 5000000000.0, '140974': 5000000000.0, '141661': 5000000000.0, '141601': 5000000000.0, '140998': 5000000000.0, '140931': 5000000000.0, '141562': 5000000000.0, '141575': 5000000000.0, '141072': 5000000000.0, '141611': 5000000000.0, '141101': 5000000000.0, '141324': 5000000000.0, '141296': 5000000000.0, '141721': 5000000000.0, '141573': 5000000000.0, '141541': 5000000000.0, '140984': 5000000000.0, '141560': 5000000000.0, '140848': 5000000000.0, '141691': 5000000000.0, '141299': 5000000000.0, '141279': 5000000000.0, '141320': 5000000000.0, '141606': 5000000000.0, '141483': 5000000000.0, '140864': 5000000000.0, '140878': 5000000000.0, '141211': 5000000000.0, '140928': 5000000000.0, '140907': 5000000000.0, '140914': 5000000000.0, '141139': 5000000000.0, '141246': 5000000000.0, '141326': 5000000000.0, '141108': 5000000000.0, '141354': 5000000000.0, '141189': 5000000000.0, '141532': 5000000000.0, '140859': 5000000000.0, '141023': 5000000000.0, '140891': 5000000000.0, '140945': 5000000000.0, '141218': 5000000000.0, '140987': 5000000000.0, '141690': 5000000000.0, '141255': 5000000000.0, '141178': 0.0, '141706': 5000000000.0, '141477': 5000000000.0, '141153': 5000000000.0, '141092': 5000000000.0, '141212': 40000000000.0, '141369': 5000000000.0, '141035': 5000000000.0, '140916': 5000000000.0, '141082': 5000000000.0, '140895': 5000000000.0, '140833': 5000000000.0, '141033': 5000000000.0, '141393': 5000000000.0, '141070': 5000000000.0, '140954': 5000000000.0, '141229': 5000000000.0, '141492': 5000000000.0, '141068': 5000000000.0, '141195': 5000000000.0, '141672': 5000000000.0, '141468': 5000000000.0, '141415': 5000000000.0, '141579': 5000000000.0, '141273': 5000000000.0, '140955': 5000000000.0, '141207': 5000000000.0, '141107': 5000000000.0, '141018': 5000000000.0, '141450': 5000000000.0, '141464': 5000000000.0, '140923': 5000000000.0, '141699': 5000000000.0, '141145': 5000000000.0, '141040': 5000000000.0, '141718': 5000000000.0, '141179': 5000000000.0, '141100': 5000000000.0, '141537': 5000000000.0, '141259': 5000000000.0, '141367': 5000000000.0, '140978': 5000000000.0, '141378': 5000000000.0, '141726': 5000000000.0, '141618': 5000000000.0, '141372': 5000000000.0, '141592': 5000000000.0, '141231': 5000000000.0, '141338': 5000000000.0, '141078': 5000000000.0, '141290': 5000000000.0, '141148': 5000000000.0, '141003': 5000000000.0, '141360': 5000000000.0, '141480': 5000000000.0, '140850': 5000000000.0, '140966': 5000000000.0, '140897': 5000000000.0, '141272': 5000000000.0, '141570': 5000000000.0, '141365': 5000000000.0, '141310': 5000000000.0, '141234': 5000000000.0, '141624': 5000000000.0, '141734': 5000000000.0, '141071': 5000000000.0, '140894': 5000000000.0, '141346': 5000000000.0, '141463': 5000000000.0, '141381': 5000000000.0, '141216': 5000000000.0, '141725': 5000000000.0, '141578': 5000000000.0, '141089': 5000000000.0, '140965': 5000000000.0, '141137': 5000000000.0, '141523': 5000000000.0, '141036': 5000000000.0, '141209': 5000000000.0, '140903': 5000000000.0, '141712': 5000000000.0, '141353': 5000000000.0, '141105': 5000000000.0, '141062': 5000000000.0, '141239': 5000000000.0, '141629': 5000000000.0, '140952': 5000000000.0, '141138': 0.0, '140886': 5000000000.0, '140909': 5000000000.0, '141506': 5000000000.0, '141737': 5000000000.0, '140980': 5000000000.0, '140926': 5000000000.0, '140840': 5000000000.0, '141550': 5000000000.0, '141264': 5000000000.0, '141522': 5000000000.0, '141518': 5000000000.0, '141615': 5000000000.0, '141115': 5000000000.0, '141122': 5000000000.0, '140858': 5000000000.0, '140831': 5000000000.0, '141524': 5000000000.0, '141470': 5000000000.0, '141146': 5000000000.0, '140950': 5000000000.0, '141287': 5000000000.0, '141309': 5000000000.0, '141120': 5000000000.0, '141205': 5000000000.0, '141526': 5000000000.0, '141577': 5000000000.0, '140958': 5000000000.0, '141516': 5000000000.0, '141208': 5000000000.0, '141161': 5000000000.0, '140880': 5000000000.0, '141386': 5000000000.0, '141355': 5000000000.0, '141665': 5000000000.0, '140883': 5000000000.0, '141401': 5000000000.0, '141500': 5000000000.0, '140887': 5000000000.0, '141349': 5000000000.0, '141553': 5000000000.0, '140865': 5000000000.0, '141052': 5000000000.0, '141114': 5000000000.0, '141288': 5000000000.0, '141277': 5000000000.0, '141708': 5000000000.0, '141351': 5000000000.0, '141364': 5000000000.0, '140959': 5000000000.0, '140977': 5000000000.0, '140925': 5000000000.0, '141065': 5000000000.0, '141588': 5000000000.0, '140821': 5000000000.0, '141109': 5000000000.0, '140937': 5000000000.0, '140838': 5000000000.0, '141644': 5000000000.0, '140885': 5000000000.0, '141408': 5000000000.0, '141692': 5000000000.0, '141671': 5000000000.0, '141370': 5000000000.0, '141635': 5000000000.0, '141051': 5000000000.0, '141103': 5000000000.0, '140922': 5000000000.0, '141291': 5000000000.0, '141133': 5000000000.0, '141732': 5000000000.0, '141042': 5000000000.0, '141701': 5000000000.0, '141172': 5000000000.0, '141188': 5000000000.0, '141696': 5000000000.0, '141201': 5000000000.0, '140877': 5000000000.0, '141289': 5000000000.0, '140853': 5000000000.0, '141298': 5000000000.0, '141467': 5000000000.0, '141722': 5000000000.0, '141403': 5000000000.0, '141297': 5000000000.0, '141037': 5000000000.0, '141424': 5000000000.0, '141020': 5000000000.0, '141743': 5000000000.0, '140951': 5000000000.0, '141000': 5000000000.0, '141313': 5000000000.0, '141283': 5000000000.0, '141462': 5000000000.0, '141322': 5000000000.0, '141493': 5000000000.0, '141484': 5000000000.0, '141067': 5000000000.0, '141271': 5000000000.0, '140940': 5000000000.0, '141736': 5000000000.0, '141081': 5000000000.0, '141184': 5000000000.0, '141689': 5000000000.0, '141551': 5000000000.0, '140924': 5000000000.0, '141341': 5000000000.0, '140932': 5000000000.0, '141413': 5000000000.0, '141128': 5000000000.0, '141261': 5000000000.0, '141673': 5000000000.0, '141580': 5000000000.0, '141568': 5000000000.0, '141548': 5000000000.0, '141389': 5000000000.0, '141059': 5000000000.0, '141198': 5000000000.0, '141085': 5000000000.0, '140942': 5000000000.0, '141630': 5000000000.0, '141626': 5000000000.0, '141348': 5000000000.0, '141253': 5000000000.0, '141241': 5000000000.0, '141739': 5000000000.0, '140964': 5000000000.0, '140957': 5000000000.0, '141094': 5000000000.0, '141002': 5000000000.0, '141715': 5000000000.0, '141460': 5000000000.0, '141391': 5000000000.0, '141674': 5000000000.0, '141129': 5000000000.0, '140908': 5000000000.0, '140949': 5000000000.0, '141597': 5000000000.0, '141400': 5000000000.0, '140976': 5000000000.0, '141418': 5000000000.0, '141015': 5000000000.0, '141698': 5000000000.0, '141359': 5000000000.0, '140822': 5000000000.0, '140868': 5000000000.0, '140889': 5000000000.0, '141472': 5000000000.0, '141332': 5000000000.0, '141270': 5000000000.0, '141265': 5000000000.0, '141099': 5000000000.0, '141061': 5000000000.0, '141331': 5000000000.0, '141720': 5000000000.0, '141181': 5000000000.0, '141215': 5000000000.0, '141077': 5000000000.0, '141119': 5000000000.0, '140994': 5000000000.0, '141576': 5000000000.0, '141436': 5000000000.0, '141612': 5000000000.0, '141744': 5000000000.0, '141136': 5000000000.0, '141566': 5000000000.0, '141685': 5000000000.0, '141050': 5000000000.0, '140902': 5000000000.0, '141426': 5000000000.0, '141091': 5000000000.0, '141533': 5000000000.0, '141410': 5000000000.0, '141228': 5000000000.0, '140846': 5000000000.0, '141019': 5000000000.0, '141167': 5000000000.0, '141435': 5000000000.0, '141614': 5000000000.0, '141707': 5000000000.0, '141485': 5000000000.0, '141719': 5000000000.0, '141394': 0.0, '140947': 5000000000.0, '141383': 5000000000.0, '141385': 5000000000.0, '141747': 5000000000.0, '140988': 5000000000.0, '141352': 5000000000.0, '141733': 5000000000.0, 'type': 0.0, '141252': 5000000000.0, '141420': 5000000000.0, '141667': 5000000000.0, '141628': 5000000000.0, '141438': 5000000000.0, '140870': 5000000000.0, '141437': 5000000000.0, '141028': 5000000000.0, '141102': 5000000000.0, '141214': 5000000000.0, '141026': 5000000000.0, '141388': 5000000000.0, '141676': 5000000000.0, '141046': 5000000000.0, '141447': 5000000000.0, '140875': 5000000000.0, '141595': 5000000000.0, '141444': 5000000000.0, '140992': 5000000000.0, '141343': 5000000000.0, '141693': 5000000000.0, '141237': 5000000000.0, '141222': 5000000000.0, '141240': 5000000000.0, '141634': 5000000000.0, '141646': 5000000000.0, '140967': 5000000000.0, '141043': 100000000.0, '141613': 5000000000.0, '141281': 5000000000.0, '141055': 5000000000.0, '140943': 5000000000.0, '141539': 5000000000.0, '140834': 5000000000.0, '141459': 5000000000.0, '141104': 5000000000.0, '141511': 5000000000.0, '141397': 5000000000.0, '141423': 5000000000.0, '141278': 5000000000.0, '141221': 5000000000.0, '141700': 5000000000.0, '141021': 5000000000.0}\n"
     ]
    }
   ],
   "source": [
    "with open('allah_deltas_b' + '.json', 'r') as fin:\n",
    "    for line in fin:\n",
    "        str_dict = json.loads(line)\n",
    "        break\n",
    "    print(str_dict)\n",
    "    #str_dict == deltas_b.rstrip('\\n')[0]"
   ]
  },
  {
   "cell_type": "code",
   "execution_count": 37,
   "metadata": {},
   "outputs": [],
   "source": [
    "deltas_sum = []\n",
    "for dd in deltas_b:\n",
    "    deltas_sum.append(sum(dd.values()))"
   ]
  },
  {
   "cell_type": "code",
   "execution_count": 38,
   "metadata": {},
   "outputs": [
    {
     "data": {
      "text/plain": [
       "[5000000000000.0,\n",
       " 5000000000000.0,\n",
       " 5000000000000.0,\n",
       " 5000000000000.0,\n",
       " 5000000000000.0,\n",
       " 5000000000000.0,\n",
       " 5000000000000.0,\n",
       " 5000000000000.0,\n",
       " 5000000000000.0,\n",
       " 5000000000000.0,\n",
       " 5000000000000.0,\n",
       " 5000000000000.0,\n",
       " 5000000000000.0,\n",
       " 5000000000000.0,\n",
       " 5000000000000.0,\n",
       " 5000000000000.0,\n",
       " 5000000000000.0,\n",
       " 5000000000000.0,\n",
       " 5000000000000.0,\n",
       " 5000000000000.0,\n",
       " 5000000000000.0,\n",
       " 5000000000000.0,\n",
       " 5000000000000.0,\n",
       " 5000000000000.0,\n",
       " 5000000000000.0,\n",
       " 5000000000000.0,\n",
       " 5000000000000.0,\n",
       " 5000000000000.0,\n",
       " 5000000000000.0,\n",
       " 5000000000000.0,\n",
       " 5000000000000.0,\n",
       " 5000000000000.0,\n",
       " 5000000000000.0,\n",
       " 5000000000000.0,\n",
       " 5000000000000.0,\n",
       " 5000000000000.0,\n",
       " 5000000000000.0,\n",
       " 5000000000000.0,\n",
       " 5000000000000.0,\n",
       " 5000000000000.0,\n",
       " 5000000000000.0,\n",
       " 5000000000000.0,\n",
       " 5000000000000.0,\n",
       " 5000000000000.0,\n",
       " 5000000000000.0,\n",
       " 5000000000000.0,\n",
       " 5000000000000.0,\n",
       " 5000000000000.0,\n",
       " 5000000000000.0,\n",
       " 5000000000000.0,\n",
       " 5000000000000.0,\n",
       " 5000000000000.0,\n",
       " 5000000000000.0,\n",
       " 5000000000000.0,\n",
       " 5000000000000.0,\n",
       " 5000000000000.0,\n",
       " 5000000000000.0,\n",
       " 5000000000000.0,\n",
       " 5000000000000.0,\n",
       " 5000000000000.0,\n",
       " 5000000000000.0,\n",
       " 5000000000000.0,\n",
       " 5000000000000.0,\n",
       " 5000000000000.0,\n",
       " 5000000000000.0,\n",
       " 5000000000000.0,\n",
       " 5000000000000.0,\n",
       " 5000000000000.0,\n",
       " 5000000000000.0,\n",
       " 5000000000000.0,\n",
       " 5000000000000.0,\n",
       " 5000000000000.0,\n",
       " 5000000000000.0,\n",
       " 5000000000000.0,\n",
       " 5000000000000.0,\n",
       " 5000000000000.0,\n",
       " 5000000000000.0,\n",
       " 5000000000000.0,\n",
       " 5000000000000.0,\n",
       " 5000000000000.0,\n",
       " 5000000000000.0,\n",
       " 5000000000000.0,\n",
       " 5000000000000.0,\n",
       " 5000000000000.0,\n",
       " 5000000000000.0,\n",
       " 5000000000000.0,\n",
       " 5000000000000.0,\n",
       " 5000000000000.0,\n",
       " 5000000000000.0,\n",
       " 5000000000000.0,\n",
       " 5000000000000.0,\n",
       " 5000000000000.0,\n",
       " 5000000000000.0,\n",
       " 5000000000000.0,\n",
       " 5000000000000.0,\n",
       " 5000000000000.0,\n",
       " 5000000000000.0,\n",
       " 5000000000000.0,\n",
       " 5000000000000.0,\n",
       " 5000000000000.0,\n",
       " 5000000000000.0,\n",
       " 5000000000000.0,\n",
       " 5000000000000.0,\n",
       " 5000000000000.0,\n",
       " 5000000000000.0,\n",
       " 5000000000000.0,\n",
       " 5000000000000.0,\n",
       " 5000000000000.0,\n",
       " 5000000000000.0,\n",
       " 5000000000000.0,\n",
       " 5000000000000.0,\n",
       " 5000000000000.0,\n",
       " 5000000000000.0,\n",
       " 5000000000000.0,\n",
       " 5000000000000.0,\n",
       " 5000000000000.0,\n",
       " 5000000000000.0,\n",
       " 5000000000000.0,\n",
       " 5000000000000.0,\n",
       " 5000000000000.0,\n",
       " 5000000000000.0,\n",
       " 5000000000000.0,\n",
       " 5000000000000.0,\n",
       " 5000000000000.0,\n",
       " 4999998999999.0,\n",
       " 5000000000000.0,\n",
       " 5000000000000.0,\n",
       " 5000000000000.0,\n",
       " 5000000000000.0,\n",
       " 5000000000000.0,\n",
       " 5000000000000.0,\n",
       " 5000000000000.0,\n",
       " 5000000000000.0,\n",
       " 5000000000000.0,\n",
       " 5000000000000.0,\n",
       " 5000000000000.0,\n",
       " 5000000000000.0,\n",
       " 5000000000000.0,\n",
       " 5000000000000.0,\n",
       " 5000000000000.0,\n",
       " 5000000000000.0,\n",
       " 5000000000000.0,\n",
       " 5000000000000.0,\n",
       " 5000000000000.0,\n",
       " 5000000000000.0,\n",
       " 5000000000000.0,\n",
       " 5000000000000.0,\n",
       " 5000000000000.0,\n",
       " 5000000000000.0,\n",
       " 5000000000000.0,\n",
       " 5000000000000.0,\n",
       " 5000000000000.0,\n",
       " 5000000000000.0,\n",
       " 5000000000000.0,\n",
       " 5000000000000.0,\n",
       " 5000000000000.0,\n",
       " 5000000000000.0,\n",
       " 5000000000000.0,\n",
       " 5000000000000.0,\n",
       " 5000000000000.0,\n",
       " 5000000000000.0,\n",
       " 5000000000000.0,\n",
       " 4999970960547.0,\n",
       " 4999698270657.0,\n",
       " 4999432334238.0,\n",
       " 4999975034496.0,\n",
       " 4999981209040.0,\n",
       " 4999984916399.0,\n",
       " 4999999350000.0,\n",
       " 4999991740000.0,\n",
       " 5000000000000.0,\n",
       " 5000000000000.0,\n",
       " 5000000000000.0,\n",
       " 5000000000000.0,\n",
       " 5000000000000.0,\n",
       " 5000000000000.0,\n",
       " 5000000000000.0,\n",
       " 5000000000000.0,\n",
       " 5000000000000.0,\n",
       " 5000000000000.0,\n",
       " 4999998197500.0,\n",
       " 4999998749000.0,\n",
       " 4999998840000.0,\n",
       " 4999999040000.0,\n",
       " 4999997550000.0,\n",
       " 4999998200000.0,\n",
       " 4999997490000.0,\n",
       " 4999997400000.0,\n",
       " 4999998130000.0,\n",
       " 4999996683500.0,\n",
       " 4999997900000.0,\n",
       " 4999998497500.0,\n",
       " 4999998320000.0,\n",
       " 4999998048990.0,\n",
       " 4999998950000.0,\n",
       " 4999999140000.0,\n",
       " 4999997750000.0,\n",
       " 4999997920000.0,\n",
       " 4999999289317.0,\n",
       " 4999999450000.0,\n",
       " 4999999900000.0,\n",
       " 5000000000000.0,\n",
       " 4999999650000.0,\n",
       " 4999999650000.0,\n",
       " 4999998940000.0,\n",
       " 4999999400000.0,\n",
       " 4999999450000.0,\n",
       " 4999999500000.0,\n",
       " 4999999600000.0,\n",
       " 4999999900000.0,\n",
       " 2499999450000.0,\n",
       " 2499999500000.0,\n",
       " 2499999450000.0,\n",
       " 2499999550000.0,\n",
       " 2499998500000.0,\n",
       " 2499998700000.0,\n",
       " 2499998900000.0,\n",
       " 2499998650000.0,\n",
       " 2499998300000.0,\n",
       " 2499999100000.0,\n",
       " 2499999400000.0,\n",
       " 2499998800000.0,\n",
       " 2499999450000.0,\n",
       " 2499999350000.0,\n",
       " 2499999650000.0,\n",
       " 2499999750000.0,\n",
       " 2500000000000.0,\n",
       " 2499999900000.0,\n",
       " 2499999900000.0,\n",
       " 2499999850000.0,\n",
       " 2500000000000.0,\n",
       " 2500000000000.0,\n",
       " 2500000000000.0,\n",
       " 2499999880000.0,\n",
       " 2500000000000.0,\n",
       " 2500000000000.0,\n",
       " 2499999950000.0,\n",
       " 2500000000000.0,\n",
       " 2500000000000.0,\n",
       " 2500000000000.0,\n",
       " 2500000000000.0,\n",
       " 2500000000000.0,\n",
       " 2500000000000.0,\n",
       " 2500000000000.0,\n",
       " 2500000000000.0,\n",
       " 2500000000000.0,\n",
       " 2500000000000.0,\n",
       " 2500000000000.0,\n",
       " 2500000000000.0,\n",
       " 2499999900000.0,\n",
       " 2500000000000.0,\n",
       " 2500000000000.0,\n",
       " 2500000000000.0,\n",
       " 2500000000000.0,\n",
       " 2500000000000.0,\n",
       " 2500000000000.0,\n",
       " 2500000000000.0,\n",
       " 2500000000000.0,\n",
       " 2500000000000.0,\n",
       " 2500000000000.0,\n",
       " 2500000000000.0,\n",
       " 2500000000000.0,\n",
       " 2500000000000.0,\n",
       " 2500000000000.0,\n",
       " 2500000000000.0,\n",
       " 2500000000000.0,\n",
       " 2500000000000.0,\n",
       " 2500000000000.0,\n",
       " 2500000000000.0,\n",
       " 2500000000000.0,\n",
       " 2500000000000.0,\n",
       " 2500000000000.0,\n",
       " 2500000000000.0,\n",
       " 2500000000000.0,\n",
       " 2500000000000.0,\n",
       " 2500000000000.0,\n",
       " 2500000000000.0,\n",
       " 2500000000000.0,\n",
       " 2500000000000.0,\n",
       " 2500000000000.0,\n",
       " 2500000000000.0,\n",
       " 2500000000000.0,\n",
       " 2500000000000.0,\n",
       " 2500000000000.0,\n",
       " 2500000000000.0,\n",
       " 2500000000000.0,\n",
       " 2500000000000.0,\n",
       " 2500000000000.0,\n",
       " 2500000000000.0,\n",
       " 2500000000000.0,\n",
       " 2500000000000.0,\n",
       " 2500000000000.0,\n",
       " 2500000000000.0,\n",
       " 2500000000000.0,\n",
       " 2500000000000.0,\n",
       " 2500000000000.0,\n",
       " 2500000000000.0,\n",
       " 2500000000000.0,\n",
       " 2500000000000.0,\n",
       " 2500000000000.0,\n",
       " 2500000000000.0,\n",
       " 2500000000000.0,\n",
       " 2500000000000.0,\n",
       " 2500000000000.0,\n",
       " 2500000000000.0,\n",
       " 2500000000000.0,\n",
       " 2500000000000.0,\n",
       " 2500000000000.0,\n",
       " 2500000000000.0,\n",
       " 2500000000000.0,\n",
       " 2500000000000.0,\n",
       " 2500000000000.0,\n",
       " 2500000000000.0,\n",
       " 2500000000000.0,\n",
       " 2500000000000.0,\n",
       " 2500000000000.0,\n",
       " 2500000000000.0,\n",
       " 2500000000000.0,\n",
       " 2500000000000.0,\n",
       " 2500000000000.0,\n",
       " 2500000000000.0,\n",
       " 2500000000000.0,\n",
       " 2500000000000.0,\n",
       " 2500000000000.0,\n",
       " 2500000000000.0,\n",
       " 2500000000000.0,\n",
       " 2500000000000.0,\n",
       " 2500000000000.0,\n",
       " 2500000000000.0,\n",
       " 2500000000000.0,\n",
       " 2500000000000.0,\n",
       " 2500000000000.0,\n",
       " 2500000000000.0,\n",
       " 2500000000000.0,\n",
       " 2500000000000.0,\n",
       " 2500000000000.0,\n",
       " 2500000000000.0,\n",
       " 2500000000000.0,\n",
       " 2500000000000.0,\n",
       " 2500000000000.0,\n",
       " 2500000000000.0,\n",
       " 2500000000000.0,\n",
       " 2500000000000.0,\n",
       " 2500000000000.0,\n",
       " 2500000000000.0,\n",
       " 2500000000000.0,\n",
       " 2500000000000.0,\n",
       " 2500000000000.0,\n",
       " 2500000000000.0,\n",
       " 2500000000000.0,\n",
       " 2500000000000.0,\n",
       " 2500000000000.0,\n",
       " 2500000000000.0,\n",
       " 2500000000000.0,\n",
       " 2500000000000.0,\n",
       " 2500000000000.0,\n",
       " 2500000000000.0,\n",
       " 2500000000000.0,\n",
       " 2500000000000.0,\n",
       " 2500000000000.0,\n",
       " 2500000000000.0,\n",
       " 2500000000000.0,\n",
       " 2500000000000.0,\n",
       " 2500000000000.0,\n",
       " 2500000000000.0,\n",
       " 2500000000000.0,\n",
       " 2500000000000.0,\n",
       " 2500000000000.0,\n",
       " 2500000000000.0,\n",
       " 2500000000000.0,\n",
       " 2499999999999.0,\n",
       " 2500000000000.0,\n",
       " 2500000000000.0,\n",
       " 2500000000000.0,\n",
       " 2500000000000.0,\n",
       " 2500000000000.0,\n",
       " 2500000000000.0,\n",
       " 2500000000000.0,\n",
       " 2500000000000.0,\n",
       " 2500000000000.0,\n",
       " 2500000000000.0,\n",
       " 2500000000000.0,\n",
       " 2500000000000.0,\n",
       " 2500000000000.0,\n",
       " 2500000000000.0,\n",
       " 2500000000000.0,\n",
       " 2500000000000.0,\n",
       " 2500000000000.0,\n",
       " 2500000000000.0,\n",
       " 2500000000000.0,\n",
       " 2500000000000.0,\n",
       " 2500000000000.0,\n",
       " 2500000000000.0,\n",
       " 2500000000000.0,\n",
       " 2500000000000.0,\n",
       " 2500000000000.0,\n",
       " 2500000000000.0,\n",
       " 2500000000000.0,\n",
       " 2500000000000.0,\n",
       " 2500000000000.0,\n",
       " 2500000000000.0,\n",
       " 2500000000000.0,\n",
       " 2500000000000.0,\n",
       " 2500000000000.0,\n",
       " 2499999752775.0,\n",
       " 2500000000000.0,\n",
       " 2500000000000.0,\n",
       " 2499999823924.0,\n",
       " 2499999917564.0,\n",
       " 2500000000000.0,\n",
       " 2499999804871.0,\n",
       " 2500000000000.0,\n",
       " 2500000000000.0,\n",
       " 2500000000000.0,\n",
       " 2500000000000.0,\n",
       " 2500000000000.0,\n",
       " 2500000000000.0,\n",
       " 2500000000000.0,\n",
       " 2500000000000.0,\n",
       " 2500000000000.0,\n",
       " 1250000000000.0,\n",
       " 1250000000000.0,\n",
       " 1250000000000.0,\n",
       " 1250000000000.0,\n",
       " 1250000000000.0,\n",
       " 1250000000000.0,\n",
       " 1250000000000.0,\n",
       " 1250000000000.0,\n",
       " 1250000000000.0,\n",
       " 1250000000000.0,\n",
       " 1250000000000.0,\n",
       " 1250000000000.0,\n",
       " 1250000000000.0,\n",
       " 1250000000000.0,\n",
       " 1250000000000.0,\n",
       " 1250000000000.0,\n",
       " 1250000000000.0,\n",
       " 1250000000000.0,\n",
       " 1250000000000.0,\n",
       " 1250000000000.0,\n",
       " 1250000000000.0,\n",
       " 1250000000000.0,\n",
       " 1250000000000.0,\n",
       " 1250000000000.0,\n",
       " 1250000000000.0,\n",
       " 1250000000000.0,\n",
       " 1250000000000.0,\n",
       " 1250000000000.0,\n",
       " 1250000000000.0,\n",
       " 1250000000000.0,\n",
       " 1250000000000.0,\n",
       " 1250000000000.0,\n",
       " 1250000000000.0,\n",
       " 1250000000000.0,\n",
       " 1250000000000.0,\n",
       " 1250000000000.0,\n",
       " 1250000000000.0,\n",
       " 1250000000000.0,\n",
       " 1250000000000.0,\n",
       " 1250000000000.0,\n",
       " 1250000000000.0,\n",
       " 1250000000000.0,\n",
       " 1250000000000.0,\n",
       " 1250000000000.0,\n",
       " 1250000000000.0,\n",
       " 1250000000000.0,\n",
       " 1250000000000.0,\n",
       " 1250000000000.0,\n",
       " 1250000000000.0,\n",
       " 1250000000000.0,\n",
       " 1250000000000.0,\n",
       " 1250000000000.0,\n",
       " 1250000000000.0,\n",
       " 1250000000000.0,\n",
       " 1250000000000.0,\n",
       " 1250000000000.0,\n",
       " 1250000000000.0,\n",
       " 1250000000000.0,\n",
       " 1250000000000.0,\n",
       " 1250000000000.0,\n",
       " 1250000000000.0,\n",
       " 1249999999924.0,\n",
       " 1250000000000.0,\n",
       " 1250000000000.0,\n",
       " 1250000000000.0,\n",
       " 1250000000000.0,\n",
       " 1250000000000.0,\n",
       " 1250000000000.0,\n",
       " 1250000000000.0,\n",
       " 1250000000000.0,\n",
       " 1250000000000.0,\n",
       " 1250000000000.0,\n",
       " 1250000000000.0,\n",
       " 1250000000000.0,\n",
       " 1250000000000.0,\n",
       " 1250000000000.0,\n",
       " 1249999999928.0,\n",
       " 1250000000000.0,\n",
       " 1250000000000.0,\n",
       " 1249999999921.0,\n",
       " 1250000000000.0,\n",
       " 1248750000000.0,\n",
       " 1249999999925.0,\n",
       " 1250000000000.0,\n",
       " 1250000000000.0,\n",
       " 1250000000000.0,\n",
       " 1250000000000.0,\n",
       " 1249999999924.0,\n",
       " 1250000000000.0,\n",
       " 1250000000000.0,\n",
       " 1250000000000.0,\n",
       " 1249999999927.0,\n",
       " 1250000000000.0,\n",
       " 1250000000000.0,\n",
       " 1249999999856.0,\n",
       " 1250000000000.0,\n",
       " 1250000000000.0,\n",
       " 1250000000000.0,\n",
       " 1250000000000.0,\n",
       " 1250000000000.0,\n",
       " 1250000000000.0,\n",
       " 1249999999926.0,\n",
       " 1250000000000.0,\n",
       " 532500000000.0]"
      ]
     },
     "execution_count": 38,
     "metadata": {},
     "output_type": "execute_result"
    }
   ],
   "source": [
    "deltas_sum"
   ]
  },
  {
   "cell_type": "code",
   "execution_count": 25,
   "metadata": {},
   "outputs": [
    {
     "name": "stdout",
     "output_type": "stream",
     "text": [
      "Fuck 0 <class 'str'>\n"
     ]
    }
   ],
   "source": [
    "fucks = []\n",
    "i = 0\n",
    "for dd in deltas_b:\n",
    "    for k in dd.keys():\n",
    "        if type(k) != np.int32:\n",
    "            print('Fuck', i, type(k))\n",
    "            #fucks.append(k)\n",
    "            break\n",
    "    i += 1"
   ]
  },
  {
   "cell_type": "code",
   "execution_count": 26,
   "metadata": {},
   "outputs": [
    {
     "data": {
      "text/plain": [
       "0.0"
      ]
     },
     "execution_count": 26,
     "metadata": {},
     "output_type": "execute_result"
    }
   ],
   "source": [
    "deltas_b[0]['type']"
   ]
  },
  {
   "cell_type": "code",
   "execution_count": 20,
   "metadata": {},
   "outputs": [
    {
     "ename": "SyntaxError",
     "evalue": "unexpected EOF while parsing (<ipython-input-20-78b4c660f76f>, line 2)",
     "output_type": "error",
     "traceback": [
      "\u001b[0;36m  File \u001b[0;32m\"<ipython-input-20-78b4c660f76f>\"\u001b[0;36m, line \u001b[0;32m2\u001b[0m\n\u001b[0;31m    for k, v in deltas_b_dicts.items():\u001b[0m\n\u001b[0m                                       ^\u001b[0m\n\u001b[0;31mSyntaxError\u001b[0m\u001b[0;31m:\u001b[0m unexpected EOF while parsing\n"
     ]
    }
   ],
   "source": [
    "\n",
    "    with open(path + '.json', 'w') as fout:\n",
    "        fout.write(json.dumps(data))"
   ]
  },
  {
   "cell_type": "code",
   "execution_count": 19,
   "metadata": {},
   "outputs": [
    {
     "data": {
      "text/plain": [
       "numpy.int32"
      ]
     },
     "execution_count": 19,
     "metadata": {},
     "output_type": "execute_result"
    }
   ],
   "source": [
    "type(list(deltas_b_dicts[0].keys())[0])"
   ]
  },
  {
   "cell_type": "code",
   "execution_count": 17,
   "metadata": {},
   "outputs": [
    {
     "data": {
      "text/plain": [
       "0.0"
      ]
     },
     "execution_count": 17,
     "metadata": {},
     "output_type": "execute_result"
    }
   ],
   "source": [
    "deltas_b[0]['type']"
   ]
  },
  {
   "cell_type": "code",
   "execution_count": null,
   "metadata": {},
   "outputs": [],
   "source": []
  },
  {
   "cell_type": "code",
   "execution_count": null,
   "metadata": {},
   "outputs": [],
   "source": []
  },
  {
   "cell_type": "code",
   "execution_count": null,
   "metadata": {},
   "outputs": [],
   "source": []
  },
  {
   "cell_type": "code",
   "execution_count": null,
   "metadata": {},
   "outputs": [],
   "source": []
  },
  {
   "cell_type": "code",
   "execution_count": null,
   "metadata": {},
   "outputs": [],
   "source": []
  },
  {
   "cell_type": "code",
   "execution_count": null,
   "metadata": {},
   "outputs": [],
   "source": []
  },
  {
   "cell_type": "code",
   "execution_count": 181,
   "metadata": {},
   "outputs": [
    {
     "data": {
      "text/plain": [
       "523426"
      ]
     },
     "execution_count": 181,
     "metadata": {},
     "output_type": "execute_result"
    }
   ],
   "source": [
    "# QW_BITCOIN\n",
    "chain_b = blocksci.Blockchain(\"/home/ubuntu/bitcoin\")\n",
    "blocks_b = chain_b[:]\n",
    "INTERVAL_B = 1000\n",
    "len(chain_b)"
   ]
  },
  {
   "cell_type": "code",
   "execution_count": 182,
   "metadata": {},
   "outputs": [
    {
     "data": {
      "text/plain": [
       "206433637"
      ]
     },
     "execution_count": 182,
     "metadata": {},
     "output_type": "execute_result"
    }
   ],
   "source": [
    "cl_mgr_b = blocksci.cluster.ClusterManager(\"~/clusters_b\", chain_b)\n",
    "#%time cl_mgr_b.create_clustering(location='~/clusters_b', chain=chain_b)\n",
    "all_clusters_b = cl_mgr_b.clusters()\n",
    "len(all_clusters_b)"
   ]
  },
  {
   "cell_type": "code",
   "execution_count": 6,
   "metadata": {},
   "outputs": [
    {
     "name": "stdout",
     "output_type": "stream",
     "text": [
      "CPU times: user 34min 18s, sys: 56 ms, total: 34min 18s\n",
      "Wall time: 34min 18s\n"
     ]
    }
   ],
   "source": [
    "%time adds_count_b = sum(1 for x in all_addresses_b)"
   ]
  },
  {
   "cell_type": "code",
   "execution_count": 7,
   "metadata": {},
   "outputs": [
    {
     "data": {
      "text/plain": [
       "1977628451"
      ]
     },
     "execution_count": 7,
     "metadata": {},
     "output_type": "execute_result"
    }
   ],
   "source": [
    "adds_count_b"
   ]
  },
  {
   "cell_type": "code",
   "execution_count": null,
   "metadata": {},
   "outputs": [],
   "source": []
  },
  {
   "cell_type": "code",
   "execution_count": 247,
   "metadata": {},
   "outputs": [],
   "source": [
    "# SAVE METRICS:\n",
    "import json\n",
    "prefix_b = 'calculated/bitcoin/int{}b_'.format(INTERVAL_B)\n",
    "#with open(prefix_b + 'NC', 'w') as fout:\n",
    "#    fout.write(json.dumps(NC_b))\n",
    "#with open(prefix_b + 'adds_counts', 'w') as fout:\n",
    "#    fout.write(json.dumps(adds_counts_b))\n",
    "with open(prefix_b + 'cur_clusters', 'w') as fout:\n",
    "    fout.write(json.dumps(cur_clusters_np_b))\n",
    "#with open(prefix_b + 'ginis', 'w') as fout:\n",
    "#    fout.write(json.dumps(ginis_np_b))"
   ]
  },
  {
   "cell_type": "code",
   "execution_count": null,
   "metadata": {},
   "outputs": [],
   "source": []
  },
  {
   "cell_type": "code",
   "execution_count": null,
   "metadata": {},
   "outputs": [],
   "source": []
  },
  {
   "cell_type": "code",
   "execution_count": null,
   "metadata": {},
   "outputs": [],
   "source": []
  },
  {
   "cell_type": "code",
   "execution_count": null,
   "metadata": {},
   "outputs": [],
   "source": []
  },
  {
   "cell_type": "code",
   "execution_count": null,
   "metadata": {},
   "outputs": [],
   "source": []
  },
  {
   "cell_type": "code",
   "execution_count": null,
   "metadata": {},
   "outputs": [],
   "source": []
  },
  {
   "cell_type": "code",
   "execution_count": null,
   "metadata": {},
   "outputs": [],
   "source": []
  },
  {
   "cell_type": "code",
   "execution_count": null,
   "metadata": {},
   "outputs": [],
   "source": []
  },
  {
   "cell_type": "code",
   "execution_count": null,
   "metadata": {},
   "outputs": [],
   "source": []
  },
  {
   "cell_type": "code",
   "execution_count": 9,
   "metadata": {},
   "outputs": [],
   "source": [
    "def foo():\n",
    "    f = plt.figure(figsize=(20, 3))\n",
    "    axes = f.subplots(2, 1, sharex=True)\n",
    "    axes[0].plot([1, 4, 3])\n",
    "    axes[0].set_title(\"Nakamoto coefficient\")\n",
    "    axes[1].plot([5, 3, 1])\n",
    "    axes[1].set_title(\"Active addresses count\")\n",
    "    return f"
   ]
  },
  {
   "cell_type": "code",
   "execution_count": 10,
   "metadata": {},
   "outputs": [
    {
     "data": {
      "image/png": "[encoded data removed]",
      "text/plain": [
       "<Figure size 1440x216 with 2 Axes>"
      ]
     },
     "metadata": {},
     "output_type": "display_data"
    }
   ],
   "source": [
    "f = foo()\n",
    "a = 4"
   ]
  },
  {
   "cell_type": "code",
   "execution_count": 176,
   "metadata": {},
   "outputs": [],
   "source": [
    "f.savefig(\"dfsdlv.png\")"
   ]
  },
  {
   "cell_type": "code",
   "execution_count": null,
   "metadata": {},
   "outputs": [],
   "source": []
  },
  {
   "cell_type": "code",
   "execution_count": 108,
   "metadata": {},
   "outputs": [
    {
     "name": "stdout",
     "output_type": "stream",
     "text": [
      "CPU times: user 3.93 s, sys: 0 ns, total: 3.93 s\n",
      "Wall time: 3.93 s\n"
     ]
    }
   ],
   "source": [
    "%time balance_np_0_m = getClustersBalanceChangeBlocksNp(blocks_m[:100000], the_map_new_np_m, np.zeros(len(all_clusters_m)))"
   ]
  },
  {
   "cell_type": "code",
   "execution_count": 109,
   "metadata": {},
   "outputs": [
    {
     "name": "stdout",
     "output_type": "stream",
     "text": [
      "CPU times: user 3.85 s, sys: 0 ns, total: 3.85 s\n",
      "Wall time: 3.85 s\n"
     ]
    }
   ],
   "source": [
    "%time balance_0_m = getClustersBalanceChangeBlocks(blocks_m[:100000], the_map_new_m, np.zeros(len(all_clusters_m)))"
   ]
  },
  {
   "cell_type": "code",
   "execution_count": 104,
   "metadata": {},
   "outputs": [
    {
     "data": {
      "text/plain": [
       "True"
      ]
     },
     "execution_count": 104,
     "metadata": {},
     "output_type": "execute_result"
    }
   ],
   "source": [
    "(balance_0_m == balance_np_0_m).all()"
   ]
  },
  {
   "cell_type": "code",
   "execution_count": 179,
   "metadata": {},
   "outputs": [],
   "source": [
    "import pandas as pd\n",
    "prices_l_df = pd.read_csv('~/thesis_work/downloaded/ltc-usd-max.csv')\n",
    "#prices_half_l_df = prices_l_df[pd.to_datetime(prices_l_df['snapped_at']) <= times_l[-1]]\n",
    "#prices_l_df[:3]"
   ]
  },
  {
   "cell_type": "code",
   "execution_count": 33,
   "metadata": {},
   "outputs": [
    {
     "name": "stdout",
     "output_type": "stream",
     "text": [
      "[1, 8, 27, 64, 125, 216]\n"
     ]
    },
    {
     "name": "stderr",
     "output_type": "stream",
     "text": [
      "Process ForkPoolWorker-690:\n",
      "Process ForkPoolWorker-691:\n",
      "Process ForkPoolWorker-692:\n",
      "Process ForkPoolWorker-689:\n",
      "Traceback (most recent call last):\n",
      "Traceback (most recent call last):\n",
      "Traceback (most recent call last):\n",
      "Traceback (most recent call last):\n",
      "  File \"/usr/lib/python3.5/multiprocessing/process.py\", line 249, in _bootstrap\n",
      "    self.run()\n",
      "  File \"/usr/lib/python3.5/multiprocessing/process.py\", line 249, in _bootstrap\n",
      "    self.run()\n",
      "  File \"/usr/lib/python3.5/multiprocessing/process.py\", line 249, in _bootstrap\n",
      "    self.run()\n",
      "  File \"/usr/lib/python3.5/multiprocessing/process.py\", line 249, in _bootstrap\n",
      "    self.run()\n",
      "  File \"/usr/lib/python3.5/multiprocessing/process.py\", line 93, in run\n",
      "    self._target(*self._args, **self._kwargs)\n",
      "  File \"/usr/lib/python3.5/multiprocessing/process.py\", line 93, in run\n",
      "    self._target(*self._args, **self._kwargs)\n",
      "  File \"/usr/lib/python3.5/multiprocessing/process.py\", line 93, in run\n",
      "    self._target(*self._args, **self._kwargs)\n",
      "  File \"/usr/lib/python3.5/multiprocessing/process.py\", line 93, in run\n",
      "    self._target(*self._args, **self._kwargs)\n",
      "  File \"/usr/lib/python3.5/multiprocessing/pool.py\", line 108, in worker\n",
      "    task = get()\n",
      "  File \"/usr/lib/python3.5/multiprocessing/pool.py\", line 108, in worker\n",
      "    task = get()\n",
      "  File \"/usr/lib/python3.5/multiprocessing/queues.py\", line 342, in get\n",
      "    with self._rlock:\n",
      "  File \"/usr/lib/python3.5/multiprocessing/pool.py\", line 108, in worker\n",
      "    task = get()\n",
      "  File \"/usr/lib/python3.5/multiprocessing/pool.py\", line 108, in worker\n",
      "    task = get()\n",
      "  File \"/usr/lib/python3.5/multiprocessing/queues.py\", line 342, in get\n",
      "    with self._rlock:\n",
      "  File \"/usr/lib/python3.5/multiprocessing/synchronize.py\", line 96, in __enter__\n",
      "    return self._semlock.__enter__()\n",
      "  File \"/usr/lib/python3.5/multiprocessing/queues.py\", line 343, in get\n",
      "    res = self._reader.recv_bytes()\n",
      "  File \"/usr/lib/python3.5/multiprocessing/queues.py\", line 342, in get\n",
      "    with self._rlock:\n",
      "  File \"/usr/lib/python3.5/multiprocessing/synchronize.py\", line 96, in __enter__\n",
      "    return self._semlock.__enter__()\n",
      "KeyboardInterrupt\n",
      "  File \"/usr/lib/python3.5/multiprocessing/synchronize.py\", line 96, in __enter__\n",
      "    return self._semlock.__enter__()\n",
      "  File \"/usr/lib/python3.5/multiprocessing/connection.py\", line 216, in recv_bytes\n",
      "    buf = self._recv_bytes(maxlength)\n",
      "KeyboardInterrupt\n",
      "KeyboardInterrupt\n",
      "  File \"/usr/lib/python3.5/multiprocessing/connection.py\", line 407, in _recv_bytes\n",
      "    buf = self._recv(4)\n",
      "  File \"/usr/lib/python3.5/multiprocessing/connection.py\", line 379, in _recv\n",
      "    chunk = read(handle, remaining)\n",
      "KeyboardInterrupt\n"
     ]
    }
   ],
   "source": [
    "def cube(x):\n",
    "    return x**3\n",
    "\n",
    "pool = mp.Pool(processes=4)\n",
    "results = [pool.apply_async(cube, args=(x,)) for x in range(1,7)]\n",
    "output = [p.get() for p in results]\n",
    "print(output)"
   ]
  },
  {
   "cell_type": "code",
   "execution_count": null,
   "metadata": {},
   "outputs": [],
   "source": []
  }
 ],
 "metadata": {
  "kernelspec": {
   "display_name": "Python 3",
   "language": "python",
   "name": "python3"
  },
  "language_info": {
   "codemirror_mode": {
    "name": "ipython",
    "version": 3
   },
   "file_extension": ".py",
   "mimetype": "text/x-python",
   "name": "python",
   "nbconvert_exporter": "python",
   "pygments_lexer": "ipython3",
   "version": "3.5.2"
  }
 },
 "nbformat": 4,
 "nbformat_minor": 2
}
