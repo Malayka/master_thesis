{
 "cells": [
  {
   "cell_type": "code",
   "execution_count": 20,
   "metadata": {},
   "outputs": [
    {
     "data": {
      "text/plain": [
       "<module 'my_tools' from '/home/ubuntu/thesis_work/my_tools.py'>"
      ]
     },
     "execution_count": 20,
     "metadata": {},
     "output_type": "execute_result"
    }
   ],
   "source": [
    "import imp\n",
    "import my_tools\n",
    "imp.reload(my_tools)"
   ]
  },
  {
   "cell_type": "code",
   "execution_count": 21,
   "metadata": {},
   "outputs": [],
   "source": [
    "from my_tools import *"
   ]
  },
  {
   "cell_type": "code",
   "execution_count": 3,
   "metadata": {},
   "outputs": [
    {
     "name": "stdout",
     "output_type": "stream",
     "text": [
      "Got 523426 blocks\n",
      "Got 206433637 clusters\n"
     ]
    }
   ],
   "source": [
    "# Q_BITCOIN\n",
    "BTC = CoinDataMgr(blocksci_path=\"/home/ubuntu/bitcoin\",\n",
    "                  path_to_clusters=\"/home/ubuntu/~/clusters_b\",\n",
    "                  folder_with_calculated=\"/home/ubuntu/thesis_work/calculated/bitcoin\")"
   ]
  },
  {
   "cell_type": "code",
   "execution_count": 4,
   "metadata": {
    "scrolled": true
   },
   "outputs": [
    {
     "name": "stdout",
     "output_type": "stream",
     "text": [
      "Reading folder '/home/ubuntu/thesis_work/calculated/bitcoin' with prefix 'int1000b_ginisOfClustersWealth'...\n",
      "  Got 'int1000b_ginisOfClustersWealth_need2recalculateWOnulldata.json', key is 'need2recalculateWOnulldata'\n",
      "  Got 'int1000b_ginisOfClustersWealth_log21.json', key is 'log21'\n",
      "  Got 'int1000b_ginisOfClustersWealth_WOnuldata.json', key is 'WOnuldata'\n",
      "Finish\n",
      "Reading folder '/home/ubuntu/thesis_work/calculated/bitcoin' with prefix 'int1000b_relativeFlowVolumes'...\n",
      "  Got 'int1000b_relativeFlowVolumes_log.json', key is 'log'\n",
      "  Got 'int1000b_relativeFlowVolumes_nonPar.json', key is 'nonPar'\n",
      "Finish\n",
      "Reading folder '/home/ubuntu/thesis_work/calculated/bitcoin' with prefix 'int1000b_fees'...\n",
      "  Got 'int1000b_fees_log.json', key is 'log'\n",
      "  Got 'int1000b_fees_nonPar.json', key is 'nonPar'\n",
      "Finish\n",
      "Reading folder '/home/ubuntu/thesis_work/calculated/bitcoin' with prefix 'int1000b_NacamotoCoefs'...\n",
      "  Got 'int1000b_NacamotoCoefs.json', key is ''\n",
      "Finish\n",
      "Reading folder '/home/ubuntu/thesis_work/calculated/bitcoin' with prefix 'int1000b_unspents'...\n",
      "  Got 'int1000b_unspents_log.json', key is 'log'\n",
      "  Got 'int1000b_unspents_par.json', key is 'par'\n",
      "Finish\n",
      "Reading folder '/home/ubuntu/thesis_work/calculated/bitcoin' with prefix 'int1000b_nonEmptyClustersCounts'...\n",
      "  Got 'int1000b_nonEmptyClustersCounts_nonPar_filteringUnspents.json', key is 'nonPar_filteringUnspents'\n",
      "  Got 'int1000b_nonEmptyClustersCounts_log.json', key is 'log'\n",
      "  Got 'int1000b_nonEmptyClustersCounts_nonPar.json', key is 'nonPar'\n",
      "Finish\n",
      "Reading folder '/home/ubuntu/thesis_work/calculated/bitcoin' with prefix 'int1000b_activeClustersCounts'...\n",
      "  Got 'int1000b_activeClustersCounts_log.json', key is 'log'\n",
      "  Got 'int1000b_activeClustersCounts.json', key is ''\n",
      "Finish\n",
      "Reading folder '/home/ubuntu/thesis_work/calculated/bitcoin' with prefix 'int1000b_synchronizedPrices'...\n",
      "  Got 'int1000b_synchronizedPrices_c_byDay.json', key is 'c_byDay'\n",
      "  Got 'int1000b_synchronizedPrices_log.json', key is 'log'\n",
      "Finish\n",
      "Reading folder '/home/ubuntu/thesis_work/calculated/bitcoin' with prefix 'int1000b_prices'...\n",
      "  Got 'int1000b_prices_btc_info.csv', key is 'btc_info'\n",
      "  Got 'int1000b_prices_coingecko.csv', key is 'coingecko'\n",
      "Finish\n"
     ]
    }
   ],
   "source": [
    "BTC[S_GINIS].readAll()\n",
    "BTC[S_REL_FLOWS].readAll()\n",
    "BTC[S_FEES].readAll()\n",
    "BTC[S_NCS].readAll()\n",
    "BTC[S_UNSPENTS].readAll()\n",
    "BTC[S_NONEMPTY_CLS].readAll()\n",
    "BTC[S_CLS_CNTS].readAll()\n",
    "BTC[S_SYNC_PRICES].readAll()\n",
    "BTC.prices.readAll()"
   ]
  },
  {
   "cell_type": "code",
   "execution_count": 5,
   "metadata": {},
   "outputs": [
    {
     "name": "stdout",
     "output_type": "stream",
     "text": [
      "Gathered under tag 'ginisOfClustersWealth=log21_relativeFlowVolumes=log_nonEmptyClustersCounts=log_synchronizedPrices=log_NacamotoCoefs=_unspents=log_activeClustersCounts=_fees=log'\n"
     ]
    },
    {
     "name": "stderr",
     "output_type": "stream",
     "text": [
      "/home/ubuntu/thesis_work/my_tools.py:1118: FutureWarning: pd.rolling_mean is deprecated for Series and will be removed in a future version, replace with \n",
      "\tSeries.rolling(window=5,center=True).mean()\n",
      "  col_after_rolling = pd.rolling_mean(pd_df[col], window=window, center=True)\n"
     ]
    }
   ],
   "source": [
    "tag_b = BTC.gatherAllMetrics({S_NCS:'', S_GINIS:'log21', S_REL_FLOWS:'log', S_FEES:'log',\n",
    "                              S_UNSPENTS:'log', S_NONEMPTY_CLS:'log', S_SYNC_PRICES: 'log', S_CLS_CNTS: ''})\n",
    "tag_mean = BTC.rollingMeanAllMetrics(allMetrics_tag=tag_b, common_win=5)"
   ]
  },
  {
   "cell_type": "code",
   "execution_count": 23,
   "metadata": {},
   "outputs": [],
   "source": [
    "bdf = BTC.allMetrics[tag_mean].copy()\n",
    "bdf.dropna(inplace=True)\n",
    "\n",
    "ddf = pd.DataFrame()\n",
    "for col in bdf:\n",
    "    ddf[col] = getDiff(bdf[col])\n",
    "ddf.dropna(inplace=True)"
   ]
  },
  {
   "cell_type": "code",
   "execution_count": 19,
   "metadata": {},
   "outputs": [
    {
     "data": {
      "text/html": [
       "<div>\n",
       "<style scoped>\n",
       "    .dataframe tbody tr th:only-of-type {\n",
       "        vertical-align: middle;\n",
       "    }\n",
       "\n",
       "    .dataframe tbody tr th {\n",
       "        vertical-align: top;\n",
       "    }\n",
       "\n",
       "    .dataframe thead th {\n",
       "        text-align: right;\n",
       "    }\n",
       "</style>\n",
       "<table border=\"1\" class=\"dataframe\">\n",
       "  <thead>\n",
       "    <tr style=\"text-align: right;\">\n",
       "      <th></th>\n",
       "      <th>NacamotoCoefs</th>\n",
       "      <th>activeClustersCounts</th>\n",
       "      <th>fees</th>\n",
       "      <th>ginisOfClustersWealth</th>\n",
       "      <th>nonEmptyClustersCounts</th>\n",
       "      <th>relativeFlowVolumes</th>\n",
       "      <th>synchronizedPrices</th>\n",
       "      <th>unspents</th>\n",
       "    </tr>\n",
       "  </thead>\n",
       "  <tbody>\n",
       "    <tr>\n",
       "      <th>NacamotoCoefs</th>\n",
       "      <td>1.000000</td>\n",
       "      <td>0.642472</td>\n",
       "      <td>0.584518</td>\n",
       "      <td>-0.741625</td>\n",
       "      <td>0.712510</td>\n",
       "      <td>0.482283</td>\n",
       "      <td>0.365176</td>\n",
       "      <td>0.337781</td>\n",
       "    </tr>\n",
       "    <tr>\n",
       "      <th>activeClustersCounts</th>\n",
       "      <td>0.642472</td>\n",
       "      <td>1.000000</td>\n",
       "      <td>0.922760</td>\n",
       "      <td>-0.779540</td>\n",
       "      <td>0.945163</td>\n",
       "      <td>0.731615</td>\n",
       "      <td>0.852285</td>\n",
       "      <td>0.814007</td>\n",
       "    </tr>\n",
       "    <tr>\n",
       "      <th>fees</th>\n",
       "      <td>0.584518</td>\n",
       "      <td>0.922760</td>\n",
       "      <td>1.000000</td>\n",
       "      <td>-0.708264</td>\n",
       "      <td>0.847089</td>\n",
       "      <td>0.753392</td>\n",
       "      <td>0.707865</td>\n",
       "      <td>0.754641</td>\n",
       "    </tr>\n",
       "    <tr>\n",
       "      <th>ginisOfClustersWealth</th>\n",
       "      <td>-0.741625</td>\n",
       "      <td>-0.779540</td>\n",
       "      <td>-0.708264</td>\n",
       "      <td>1.000000</td>\n",
       "      <td>-0.910541</td>\n",
       "      <td>-0.755910</td>\n",
       "      <td>-0.506947</td>\n",
       "      <td>-0.438279</td>\n",
       "    </tr>\n",
       "    <tr>\n",
       "      <th>nonEmptyClustersCounts</th>\n",
       "      <td>0.712510</td>\n",
       "      <td>0.945163</td>\n",
       "      <td>0.847089</td>\n",
       "      <td>-0.910541</td>\n",
       "      <td>1.000000</td>\n",
       "      <td>0.739532</td>\n",
       "      <td>0.788087</td>\n",
       "      <td>0.724822</td>\n",
       "    </tr>\n",
       "    <tr>\n",
       "      <th>relativeFlowVolumes</th>\n",
       "      <td>0.482283</td>\n",
       "      <td>0.731615</td>\n",
       "      <td>0.753392</td>\n",
       "      <td>-0.755910</td>\n",
       "      <td>0.739532</td>\n",
       "      <td>1.000000</td>\n",
       "      <td>0.545088</td>\n",
       "      <td>0.600473</td>\n",
       "    </tr>\n",
       "    <tr>\n",
       "      <th>synchronizedPrices</th>\n",
       "      <td>0.365176</td>\n",
       "      <td>0.852285</td>\n",
       "      <td>0.707865</td>\n",
       "      <td>-0.506947</td>\n",
       "      <td>0.788087</td>\n",
       "      <td>0.545088</td>\n",
       "      <td>1.000000</td>\n",
       "      <td>0.910435</td>\n",
       "    </tr>\n",
       "    <tr>\n",
       "      <th>unspents</th>\n",
       "      <td>0.337781</td>\n",
       "      <td>0.814007</td>\n",
       "      <td>0.754641</td>\n",
       "      <td>-0.438279</td>\n",
       "      <td>0.724822</td>\n",
       "      <td>0.600473</td>\n",
       "      <td>0.910435</td>\n",
       "      <td>1.000000</td>\n",
       "    </tr>\n",
       "  </tbody>\n",
       "</table>\n",
       "</div>"
      ],
      "text/plain": [
       "                        NacamotoCoefs  activeClustersCounts      fees  \\\n",
       "NacamotoCoefs                1.000000              0.642472  0.584518   \n",
       "activeClustersCounts         0.642472              1.000000  0.922760   \n",
       "fees                         0.584518              0.922760  1.000000   \n",
       "ginisOfClustersWealth       -0.741625             -0.779540 -0.708264   \n",
       "nonEmptyClustersCounts       0.712510              0.945163  0.847089   \n",
       "relativeFlowVolumes          0.482283              0.731615  0.753392   \n",
       "synchronizedPrices           0.365176              0.852285  0.707865   \n",
       "unspents                     0.337781              0.814007  0.754641   \n",
       "\n",
       "                        ginisOfClustersWealth  nonEmptyClustersCounts  \\\n",
       "NacamotoCoefs                       -0.741625                0.712510   \n",
       "activeClustersCounts                -0.779540                0.945163   \n",
       "fees                                -0.708264                0.847089   \n",
       "ginisOfClustersWealth                1.000000               -0.910541   \n",
       "nonEmptyClustersCounts              -0.910541                1.000000   \n",
       "relativeFlowVolumes                 -0.755910                0.739532   \n",
       "synchronizedPrices                  -0.506947                0.788087   \n",
       "unspents                            -0.438279                0.724822   \n",
       "\n",
       "                        relativeFlowVolumes  synchronizedPrices  unspents  \n",
       "NacamotoCoefs                      0.482283            0.365176  0.337781  \n",
       "activeClustersCounts               0.731615            0.852285  0.814007  \n",
       "fees                               0.753392            0.707865  0.754641  \n",
       "ginisOfClustersWealth             -0.755910           -0.506947 -0.438279  \n",
       "nonEmptyClustersCounts             0.739532            0.788087  0.724822  \n",
       "relativeFlowVolumes                1.000000            0.545088  0.600473  \n",
       "synchronizedPrices                 0.545088            1.000000  0.910435  \n",
       "unspents                           0.600473            0.910435  1.000000  "
      ]
     },
     "execution_count": 19,
     "metadata": {},
     "output_type": "execute_result"
    }
   ],
   "source": [
    "bdf.corr()"
   ]
  },
  {
   "cell_type": "code",
   "execution_count": 25,
   "metadata": {},
   "outputs": [],
   "source": [
    "corr = bdf.corr()"
   ]
  },
  {
   "cell_type": "code",
   "execution_count": 28,
   "metadata": {},
   "outputs": [
    {
     "data": {
      "text/plain": [
       "Index(['NacamotoCoefs', 'activeClustersCounts', 'fees',\n",
       "       'ginisOfClustersWealth', 'nonEmptyClustersCounts',\n",
       "       'relativeFlowVolumes', 'synchronizedPrices', 'unspents'],\n",
       "      dtype='object')"
      ]
     },
     "execution_count": 28,
     "metadata": {},
     "output_type": "execute_result"
    }
   ],
   "source": [
    "corr.index"
   ]
  },
  {
   "cell_type": "code",
   "execution_count": null,
   "metadata": {},
   "outputs": [],
   "source": [
    "def todaYamamotoDf(df, verbose=0):\n",
    "    ty_df = df.corr().copy()\n",
    "    for col in ty_df.columns:\n",
    "        for ind in ty_df.index:\n",
    "            if verbose >= 1:\n",
    "                print('y={},   x={}'.format(col, ind))\n",
    "            ty_df[col][ind], ty_df[col][ind] = todaYamamoto(df[col], df[ind], verbose=verbose)\n",
    "            if verbose >= 1:\n",
    "                print('-------------------------------')"
   ]
  },
  {
   "cell_type": "code",
   "execution_count": 30,
   "metadata": {},
   "outputs": [],
   "source": [
    "df = pd.DataFrame(columns=corr.index, index=corr.index)\n",
    "#df.columns = corr.index\n",
    "#df.index = corr.index"
   ]
  },
  {
   "cell_type": "code",
   "execution_count": 34,
   "metadata": {},
   "outputs": [],
   "source": [
    "df[S_NCS][S_FEES] = 1"
   ]
  },
  {
   "cell_type": "code",
   "execution_count": 35,
   "metadata": {},
   "outputs": [
    {
     "data": {
      "text/html": [
       "<div>\n",
       "<style scoped>\n",
       "    .dataframe tbody tr th:only-of-type {\n",
       "        vertical-align: middle;\n",
       "    }\n",
       "\n",
       "    .dataframe tbody tr th {\n",
       "        vertical-align: top;\n",
       "    }\n",
       "\n",
       "    .dataframe thead th {\n",
       "        text-align: right;\n",
       "    }\n",
       "</style>\n",
       "<table border=\"1\" class=\"dataframe\">\n",
       "  <thead>\n",
       "    <tr style=\"text-align: right;\">\n",
       "      <th></th>\n",
       "      <th>NacamotoCoefs</th>\n",
       "      <th>activeClustersCounts</th>\n",
       "      <th>fees</th>\n",
       "      <th>ginisOfClustersWealth</th>\n",
       "      <th>nonEmptyClustersCounts</th>\n",
       "      <th>relativeFlowVolumes</th>\n",
       "      <th>synchronizedPrices</th>\n",
       "      <th>unspents</th>\n",
       "    </tr>\n",
       "  </thead>\n",
       "  <tbody>\n",
       "    <tr>\n",
       "      <th>NacamotoCoefs</th>\n",
       "      <td>1</td>\n",
       "      <td>NaN</td>\n",
       "      <td>NaN</td>\n",
       "      <td>NaN</td>\n",
       "      <td>NaN</td>\n",
       "      <td>NaN</td>\n",
       "      <td>NaN</td>\n",
       "      <td>NaN</td>\n",
       "    </tr>\n",
       "    <tr>\n",
       "      <th>activeClustersCounts</th>\n",
       "      <td>NaN</td>\n",
       "      <td>NaN</td>\n",
       "      <td>NaN</td>\n",
       "      <td>NaN</td>\n",
       "      <td>NaN</td>\n",
       "      <td>NaN</td>\n",
       "      <td>NaN</td>\n",
       "      <td>NaN</td>\n",
       "    </tr>\n",
       "    <tr>\n",
       "      <th>fees</th>\n",
       "      <td>1</td>\n",
       "      <td>NaN</td>\n",
       "      <td>NaN</td>\n",
       "      <td>NaN</td>\n",
       "      <td>NaN</td>\n",
       "      <td>NaN</td>\n",
       "      <td>NaN</td>\n",
       "      <td>NaN</td>\n",
       "    </tr>\n",
       "    <tr>\n",
       "      <th>ginisOfClustersWealth</th>\n",
       "      <td>NaN</td>\n",
       "      <td>NaN</td>\n",
       "      <td>NaN</td>\n",
       "      <td>NaN</td>\n",
       "      <td>NaN</td>\n",
       "      <td>NaN</td>\n",
       "      <td>NaN</td>\n",
       "      <td>NaN</td>\n",
       "    </tr>\n",
       "    <tr>\n",
       "      <th>nonEmptyClustersCounts</th>\n",
       "      <td>NaN</td>\n",
       "      <td>NaN</td>\n",
       "      <td>NaN</td>\n",
       "      <td>NaN</td>\n",
       "      <td>NaN</td>\n",
       "      <td>NaN</td>\n",
       "      <td>NaN</td>\n",
       "      <td>NaN</td>\n",
       "    </tr>\n",
       "    <tr>\n",
       "      <th>relativeFlowVolumes</th>\n",
       "      <td>NaN</td>\n",
       "      <td>NaN</td>\n",
       "      <td>NaN</td>\n",
       "      <td>NaN</td>\n",
       "      <td>NaN</td>\n",
       "      <td>NaN</td>\n",
       "      <td>NaN</td>\n",
       "      <td>NaN</td>\n",
       "    </tr>\n",
       "    <tr>\n",
       "      <th>synchronizedPrices</th>\n",
       "      <td>NaN</td>\n",
       "      <td>NaN</td>\n",
       "      <td>NaN</td>\n",
       "      <td>NaN</td>\n",
       "      <td>NaN</td>\n",
       "      <td>NaN</td>\n",
       "      <td>NaN</td>\n",
       "      <td>NaN</td>\n",
       "    </tr>\n",
       "    <tr>\n",
       "      <th>unspents</th>\n",
       "      <td>NaN</td>\n",
       "      <td>NaN</td>\n",
       "      <td>NaN</td>\n",
       "      <td>NaN</td>\n",
       "      <td>NaN</td>\n",
       "      <td>NaN</td>\n",
       "      <td>NaN</td>\n",
       "      <td>NaN</td>\n",
       "    </tr>\n",
       "  </tbody>\n",
       "</table>\n",
       "</div>"
      ],
      "text/plain": [
       "                       NacamotoCoefs activeClustersCounts fees  \\\n",
       "NacamotoCoefs                      1                  NaN  NaN   \n",
       "activeClustersCounts             NaN                  NaN  NaN   \n",
       "fees                               1                  NaN  NaN   \n",
       "ginisOfClustersWealth            NaN                  NaN  NaN   \n",
       "nonEmptyClustersCounts           NaN                  NaN  NaN   \n",
       "relativeFlowVolumes              NaN                  NaN  NaN   \n",
       "synchronizedPrices               NaN                  NaN  NaN   \n",
       "unspents                         NaN                  NaN  NaN   \n",
       "\n",
       "                       ginisOfClustersWealth nonEmptyClustersCounts  \\\n",
       "NacamotoCoefs                            NaN                    NaN   \n",
       "activeClustersCounts                     NaN                    NaN   \n",
       "fees                                     NaN                    NaN   \n",
       "ginisOfClustersWealth                    NaN                    NaN   \n",
       "nonEmptyClustersCounts                   NaN                    NaN   \n",
       "relativeFlowVolumes                      NaN                    NaN   \n",
       "synchronizedPrices                       NaN                    NaN   \n",
       "unspents                                 NaN                    NaN   \n",
       "\n",
       "                       relativeFlowVolumes synchronizedPrices unspents  \n",
       "NacamotoCoefs                          NaN                NaN      NaN  \n",
       "activeClustersCounts                   NaN                NaN      NaN  \n",
       "fees                                   NaN                NaN      NaN  \n",
       "ginisOfClustersWealth                  NaN                NaN      NaN  \n",
       "nonEmptyClustersCounts                 NaN                NaN      NaN  \n",
       "relativeFlowVolumes                    NaN                NaN      NaN  \n",
       "synchronizedPrices                     NaN                NaN      NaN  \n",
       "unspents                               NaN                NaN      NaN  "
      ]
     },
     "execution_count": 35,
     "metadata": {},
     "output_type": "execute_result"
    }
   ],
   "source": [
    "df"
   ]
  },
  {
   "cell_type": "code",
   "execution_count": 22,
   "metadata": {},
   "outputs": [
    {
     "name": "stdout",
     "output_type": "stream",
     "text": [
      "NacamotoCoefs\n",
      "prob if stationary: 0.01\n",
      "prob if NOT stationary: 0.274330948577\n",
      "activeClustersCounts\n",
      "prob if stationary: 0.01\n",
      "prob if NOT stationary: 0.994508645184\n",
      "fees\n",
      "prob if stationary: 0.01\n",
      "prob if NOT stationary: 0.901699156497\n",
      "ginisOfClustersWealth\n",
      "prob if stationary: 0.01\n",
      "prob if NOT stationary: 0.55660045987\n",
      "nonEmptyClustersCounts\n",
      "prob if stationary: 0.01\n",
      "prob if NOT stationary: 0.998918676954\n",
      "relativeFlowVolumes\n",
      "prob if stationary: 0.01\n",
      "prob if NOT stationary: 0.484578997941\n",
      "synchronizedPrices\n",
      "prob if stationary: 0.01\n",
      "prob if NOT stationary: 0.856649303296\n",
      "unspents\n",
      "prob if stationary: 0.01\n",
      "prob if NOT stationary: 0.996564941859\n"
     ]
    },
    {
     "name": "stderr",
     "output_type": "stream",
     "text": [
      "/usr/local/lib/python3.5/dist-packages/statsmodels/tsa/stattools.py:1276: InterpolationWarning: p-value is smaller than the indicated p-value\n",
      "  warn(\"p-value is smaller than the indicated p-value\", InterpolationWarning)\n",
      "/usr/local/lib/python3.5/dist-packages/statsmodels/tsa/stattools.py:1276: InterpolationWarning: p-value is smaller than the indicated p-value\n",
      "  warn(\"p-value is smaller than the indicated p-value\", InterpolationWarning)\n",
      "/usr/local/lib/python3.5/dist-packages/statsmodels/tsa/stattools.py:1276: InterpolationWarning: p-value is smaller than the indicated p-value\n",
      "  warn(\"p-value is smaller than the indicated p-value\", InterpolationWarning)\n",
      "/usr/local/lib/python3.5/dist-packages/statsmodels/tsa/stattools.py:1276: InterpolationWarning: p-value is smaller than the indicated p-value\n",
      "  warn(\"p-value is smaller than the indicated p-value\", InterpolationWarning)\n",
      "/usr/local/lib/python3.5/dist-packages/statsmodels/tsa/stattools.py:1276: InterpolationWarning: p-value is smaller than the indicated p-value\n",
      "  warn(\"p-value is smaller than the indicated p-value\", InterpolationWarning)\n",
      "/usr/local/lib/python3.5/dist-packages/statsmodels/tsa/stattools.py:1276: InterpolationWarning: p-value is smaller than the indicated p-value\n",
      "  warn(\"p-value is smaller than the indicated p-value\", InterpolationWarning)\n",
      "/usr/local/lib/python3.5/dist-packages/statsmodels/tsa/stattools.py:1276: InterpolationWarning: p-value is smaller than the indicated p-value\n",
      "  warn(\"p-value is smaller than the indicated p-value\", InterpolationWarning)\n",
      "/usr/local/lib/python3.5/dist-packages/statsmodels/tsa/stattools.py:1276: InterpolationWarning: p-value is smaller than the indicated p-value\n",
      "  warn(\"p-value is smaller than the indicated p-value\", InterpolationWarning)\n"
     ]
    }
   ],
   "source": [
    "checkStationarities(bdf)"
   ]
  },
  {
   "cell_type": "code",
   "execution_count": 24,
   "metadata": {},
   "outputs": [
    {
     "name": "stdout",
     "output_type": "stream",
     "text": [
      "NacamotoCoefs\n",
      "prob if stationary: 0.1\n",
      "prob if NOT stationary: 0.037340890654\n",
      "activeClustersCounts\n",
      "prob if stationary: 0.1\n",
      "prob if NOT stationary: 0.000175172505866\n",
      "fees\n",
      "prob if stationary: 0.1\n",
      "prob if NOT stationary: 0.00656296705872\n",
      "ginisOfClustersWealth\n",
      "prob if stationary: 0.010516020444121539\n",
      "prob if NOT stationary: 0.56849349117\n",
      "nonEmptyClustersCounts\n",
      "prob if stationary: 0.016121815369597732\n",
      "prob if NOT stationary: 0.028801468199\n",
      "relativeFlowVolumes\n",
      "prob if stationary: 0.1\n",
      "prob if NOT stationary: 0.00429694202388\n",
      "synchronizedPrices\n",
      "prob if stationary: 0.1\n",
      "prob if NOT stationary: 0.0614571010647\n",
      "unspents\n",
      "prob if stationary: 0.1\n",
      "prob if NOT stationary: 1.47317960935e-07\n"
     ]
    },
    {
     "name": "stderr",
     "output_type": "stream",
     "text": [
      "/usr/local/lib/python3.5/dist-packages/statsmodels/tsa/stattools.py:1278: InterpolationWarning: p-value is greater than the indicated p-value\n",
      "  warn(\"p-value is greater than the indicated p-value\", InterpolationWarning)\n",
      "/usr/local/lib/python3.5/dist-packages/statsmodels/tsa/stattools.py:1278: InterpolationWarning: p-value is greater than the indicated p-value\n",
      "  warn(\"p-value is greater than the indicated p-value\", InterpolationWarning)\n",
      "/usr/local/lib/python3.5/dist-packages/statsmodels/tsa/stattools.py:1278: InterpolationWarning: p-value is greater than the indicated p-value\n",
      "  warn(\"p-value is greater than the indicated p-value\", InterpolationWarning)\n",
      "/usr/local/lib/python3.5/dist-packages/statsmodels/tsa/stattools.py:1278: InterpolationWarning: p-value is greater than the indicated p-value\n",
      "  warn(\"p-value is greater than the indicated p-value\", InterpolationWarning)\n",
      "/usr/local/lib/python3.5/dist-packages/statsmodels/tsa/stattools.py:1278: InterpolationWarning: p-value is greater than the indicated p-value\n",
      "  warn(\"p-value is greater than the indicated p-value\", InterpolationWarning)\n",
      "/usr/local/lib/python3.5/dist-packages/statsmodels/tsa/stattools.py:1278: InterpolationWarning: p-value is greater than the indicated p-value\n",
      "  warn(\"p-value is greater than the indicated p-value\", InterpolationWarning)\n"
     ]
    }
   ],
   "source": [
    "checkStationarities(ddf)"
   ]
  },
  {
   "cell_type": "code",
   "execution_count": null,
   "metadata": {},
   "outputs": [],
   "source": []
  },
  {
   "cell_type": "code",
   "execution_count": null,
   "metadata": {},
   "outputs": [],
   "source": []
  },
  {
   "cell_type": "code",
   "execution_count": null,
   "metadata": {},
   "outputs": [],
   "source": []
  },
  {
   "cell_type": "code",
   "execution_count": null,
   "metadata": {},
   "outputs": [],
   "source": []
  },
  {
   "cell_type": "code",
   "execution_count": null,
   "metadata": {},
   "outputs": [],
   "source": []
  },
  {
   "cell_type": "code",
   "execution_count": null,
   "metadata": {},
   "outputs": [],
   "source": []
  },
  {
   "cell_type": "code",
   "execution_count": null,
   "metadata": {},
   "outputs": [],
   "source": []
  },
  {
   "cell_type": "code",
   "execution_count": null,
   "metadata": {},
   "outputs": [],
   "source": []
  },
  {
   "cell_type": "code",
   "execution_count": null,
   "metadata": {},
   "outputs": [],
   "source": []
  },
  {
   "cell_type": "code",
   "execution_count": 375,
   "metadata": {},
   "outputs": [
    {
     "name": "stdout",
     "output_type": "stream",
     "text": [
      "Got 1421537 blocks\n",
      "Got 9312234 clusters\n"
     ]
    }
   ],
   "source": [
    "# Q_LITECOIN\n",
    "LTC = CoinDataMgr(blocksci_path=\"/home/ubuntu/litecoin_disk3\",\n",
    "                  path_to_clusters=\"/home/ubuntu/~/clusters_l2\",\n",
    "                  folder_with_calculated=\"/home/ubuntu/thesis_work/calculated/litecoin\")"
   ]
  },
  {
   "cell_type": "code",
   "execution_count": 376,
   "metadata": {
    "scrolled": true
   },
   "outputs": [
    {
     "name": "stdout",
     "output_type": "stream",
     "text": [
      "Reading folder '/home/ubuntu/thesis_work/calculated/litecoin' with prefix 'int1000b_ginisOfClustersWealth'...\n",
      "  Got 'int1000b_ginisOfClustersWealth.json', key is ''\n",
      "  Got 'int1000b_ginisOfClustersWealth_log21.json', key is 'log21'\n",
      "Finish\n",
      "Reading folder '/home/ubuntu/thesis_work/calculated/litecoin' with prefix 'int1000b_relativeFlowVolumes'...\n",
      "  Got 'int1000b_relativeFlowVolumes_log.json', key is 'log'\n",
      "  Got 'int1000b_relativeFlowVolumes_par.json', key is 'par'\n",
      "  Got 'int1000b_relativeFlowVolumes_par_cutTop1.5.json', key is 'par_cutTop1.5'\n",
      "Finish\n",
      "Reading folder '/home/ubuntu/thesis_work/calculated/litecoin' with prefix 'int1000b_fees'...\n",
      "  Got 'int1000b_fees_log.json', key is 'log'\n",
      "  Got 'int1000b_fees_par.json', key is 'par'\n",
      "Finish\n",
      "Reading folder '/home/ubuntu/thesis_work/calculated/litecoin' with prefix 'int1000b_NacamotoCoefs'...\n",
      "  Got 'int1000b_NacamotoCoefs.json', key is ''\n",
      "Finish\n",
      "Reading folder '/home/ubuntu/thesis_work/calculated/litecoin' with prefix 'int1000b_unspents'...\n",
      "  Got 'int1000b_unspents_par.json', key is 'par'\n",
      "Finish\n",
      "Reading folder '/home/ubuntu/thesis_work/calculated/litecoin' with prefix 'int1000b_nonEmptyClustersCounts'...\n",
      "  Got 'int1000b_nonEmptyClustersCounts_par.json', key is 'par'\n",
      "  Got 'int1000b_nonEmptyClustersCounts_par_filteringUnspents.json', key is 'par_filteringUnspents'\n",
      "  Got 'int1000b_nonEmptyClustersCounts_par_filtering.json', key is 'par_filtering'\n",
      "  Got 'int1000b_nonEmptyClustersCounts_log.json', key is 'log'\n",
      "  Got 'int1000b_nonEmptyClustersCounts_par_filteringTxes.json', key is 'par_filteringTxes'\n",
      "Finish\n",
      "Reading folder '/home/ubuntu/thesis_work/calculated/litecoin' with prefix 'int1000b_activeClustersCounts'...\n",
      "  Got 'int1000b_activeClustersCounts_oldway_400k.json', key is 'oldway_400k'\n",
      "  Got 'int1000b_activeClustersCounts_oldway.json', key is 'oldway'\n",
      "  Got 'int1000b_activeClustersCounts_usingNpMap.json', key is 'usingNpMap'\n",
      "Finish\n",
      "Reading folder '/home/ubuntu/thesis_work/calculated/litecoin' with prefix 'int1000b_prices'...\n",
      "  Got 'int1000b_prices_coingecko.csv', key is 'coingecko'\n",
      "Finish\n"
     ]
    }
   ],
   "source": [
    "LTC[S_GINIS].readAll()\n",
    "LTC[S_REL_FLOWS].readAll()\n",
    "LTC[S_FEES].readAll()\n",
    "LTC[S_NCS].readAll()\n",
    "LTC[S_UNSPENTS].readAll()\n",
    "LTC[S_NONEMPTY_CLS].readAll()\n",
    "LTC[S_CLS_CNTS].readAll()\n",
    "LTC.prices.readAll()"
   ]
  },
  {
   "cell_type": "code",
   "execution_count": 383,
   "metadata": {},
   "outputs": [
    {
     "name": "stdout",
     "output_type": "stream",
     "text": [
      "Gathered under tag 'relativeFlowVolumes=log_activeClustersCounts=usingNpMap_fees=par_NacamotoCoefs=_nonEmptyClustersCounts=log_unspents=par_ginisOfClustersWealth=log21'\n",
      "There is already relativeFlowVolumes=log_activeClustersCounts=usingNpMap_fees=par_NacamotoCoefs=_nonEmptyClustersCounts=log_unspents=par_ginisOfClustersWealth=log21 version of data, stop\n",
      "There is already relativeFlowVolumes=log_activeClustersCounts=usingNpMap_fees=par_NacamotoCoefs=_nonEmptyClustersCounts=log_unspents=par_ginisOfClustersWealth=log21_rolledMeanComWnd=5 version of data, stop\n"
     ]
    },
    {
     "name": "stderr",
     "output_type": "stream",
     "text": [
      "/home/ubuntu/thesis_work/my_tools.py:1118: FutureWarning: pd.rolling_mean is deprecated for Series and will be removed in a future version, replace with \n",
      "\tSeries.rolling(window=5,center=True).mean()\n",
      "  col_after_rolling = pd.rolling_mean(pd_df[col], window=window, center=True)\n"
     ]
    }
   ],
   "source": [
    "tag_l = LTC.gatherAllMetrics({S_NCS:'', S_GINIS:'log21', S_REL_FLOWS:'log', S_FEES:'par',\n",
    "                              S_UNSPENTS:'par', S_NONEMPTY_CLS:'log', S_CLS_CNTS: 'usingNpMap'})\n",
    "tag_chart1 = LTC.rollingMeanAllMetrics(allMetrics_tag=tag_l, common_win=5)"
   ]
  },
  {
   "cell_type": "code",
   "execution_count": 386,
   "metadata": {},
   "outputs": [
    {
     "name": "stdout",
     "output_type": "stream",
     "text": [
      "Gathered under tag 'relativeFlowVolumes=log_fees=par_NacamotoCoefs=_ginisOfClustersWealth=log21'\n",
      "There is already relativeFlowVolumes=log_fees=par_NacamotoCoefs=_ginisOfClustersWealth=log21 version of data, stop\n",
      "There is already relativeFlowVolumes=log_fees=par_NacamotoCoefs=_ginisOfClustersWealth=log21_rolledMeanComWnd=20 version of data, stop\n"
     ]
    },
    {
     "name": "stderr",
     "output_type": "stream",
     "text": [
      "/home/ubuntu/thesis_work/my_tools.py:1118: FutureWarning: pd.rolling_mean is deprecated for Series and will be removed in a future version, replace with \n",
      "\tSeries.rolling(window=20,center=True).mean()\n",
      "  col_after_rolling = pd.rolling_mean(pd_df[col], window=window, center=True)\n"
     ]
    }
   ],
   "source": [
    "tag_l1 = LTC.gatherAllMetrics({S_NCS:'', S_GINIS:'log21', S_REL_FLOWS:'log', S_FEES:'par'})\n",
    "tag_chart1 = LTC.rollingMeanAllMetrics(allMetrics_tag=tag_l1, common_win=20)"
   ]
  },
  {
   "cell_type": "code",
   "execution_count": 389,
   "metadata": {
    "scrolled": false
   },
   "outputs": [
    {
     "data": {
      "image/png": "[encoded data removed]",
      "text/plain": [
       "<Figure size 1440x1728 with 4 Axes>"
      ]
     },
     "metadata": {},
     "output_type": "display_data"
    }
   ],
   "source": [
    "_l1 = LTC.drawGraph(allMetrics_tag=tag_chart1,\n",
    "                  vlines=[320, 460, 550, 720, 810, 1170, 1320])"
   ]
  },
  {
   "cell_type": "code",
   "execution_count": 390,
   "metadata": {},
   "outputs": [],
   "source": [
    "_l1.savefig('final_ltc1.png')"
   ]
  },
  {
   "cell_type": "code",
   "execution_count": null,
   "metadata": {},
   "outputs": [],
   "source": []
  },
  {
   "cell_type": "code",
   "execution_count": null,
   "metadata": {},
   "outputs": [],
   "source": []
  },
  {
   "cell_type": "code",
   "execution_count": 391,
   "metadata": {},
   "outputs": [
    {
     "name": "stdout",
     "output_type": "stream",
     "text": [
      "Gathered under tag 'activeClustersCounts=usingNpMap_unspents=par_nonEmptyClustersCounts=log'\n"
     ]
    },
    {
     "name": "stderr",
     "output_type": "stream",
     "text": [
      "/home/ubuntu/thesis_work/my_tools.py:1118: FutureWarning: pd.rolling_mean is deprecated for Series and will be removed in a future version, replace with \n",
      "\tSeries.rolling(window=20,center=True).mean()\n",
      "  col_after_rolling = pd.rolling_mean(pd_df[col], window=window, center=True)\n"
     ]
    }
   ],
   "source": [
    "tag_l2 = LTC.gatherAllMetrics({ S_UNSPENTS:'par', S_NONEMPTY_CLS:'log', S_CLS_CNTS: 'usingNpMap'})\n",
    "tag_chart2 = LTC.rollingMeanAllMetrics(allMetrics_tag=tag_l2, common_win=20, )"
   ]
  },
  {
   "cell_type": "code",
   "execution_count": 392,
   "metadata": {
    "scrolled": false
   },
   "outputs": [
    {
     "data": {
      "image/png": "[encoded data removed]",
      "text/plain": [
       "<Figure size 1440x1728 with 4 Axes>"
      ]
     },
     "metadata": {},
     "output_type": "display_data"
    }
   ],
   "source": [
    "_l2 = LTC.drawGraph(allMetrics_tag=tag_chart2,  prices_key='coingecko',\n",
    "                  vlines=[320, 460, 550, 720, 810, 1170, 1320])"
   ]
  },
  {
   "cell_type": "code",
   "execution_count": 393,
   "metadata": {},
   "outputs": [],
   "source": [
    "_l2.savefig('final_ltc2.png')"
   ]
  },
  {
   "cell_type": "code",
   "execution_count": null,
   "metadata": {},
   "outputs": [],
   "source": []
  },
  {
   "cell_type": "code",
   "execution_count": null,
   "metadata": {},
   "outputs": [],
   "source": []
  },
  {
   "cell_type": "code",
   "execution_count": null,
   "metadata": {},
   "outputs": [],
   "source": []
  },
  {
   "cell_type": "code",
   "execution_count": null,
   "metadata": {},
   "outputs": [],
   "source": []
  },
  {
   "cell_type": "code",
   "execution_count": 369,
   "metadata": {},
   "outputs": [
    {
     "data": {
      "image/png": "[encoded data removed]",
      "text/plain": [
       "<Figure size 1440x2160 with 5 Axes>"
      ]
     },
     "metadata": {},
     "output_type": "display_data"
    }
   ],
   "source": [
    "_l1 = LTC.drawGraph(allMetrics_tag=tag_chart1,  prices_key='coingecko', begin=315, end=1350,\n",
    "                  vlines=[460, 550, 720, 810, 1170, 1320])"
   ]
  },
  {
   "cell_type": "code",
   "execution_count": null,
   "metadata": {},
   "outputs": [],
   "source": []
  },
  {
   "cell_type": "code",
   "execution_count": null,
   "metadata": {},
   "outputs": [],
   "source": []
  },
  {
   "cell_type": "code",
   "execution_count": null,
   "metadata": {},
   "outputs": [],
   "source": []
  },
  {
   "cell_type": "code",
   "execution_count": null,
   "metadata": {},
   "outputs": [],
   "source": []
  },
  {
   "cell_type": "code",
   "execution_count": null,
   "metadata": {},
   "outputs": [],
   "source": []
  },
  {
   "cell_type": "code",
   "execution_count": null,
   "metadata": {},
   "outputs": [],
   "source": []
  },
  {
   "cell_type": "code",
   "execution_count": null,
   "metadata": {},
   "outputs": [],
   "source": []
  },
  {
   "cell_type": "code",
   "execution_count": null,
   "metadata": {},
   "outputs": [],
   "source": []
  },
  {
   "cell_type": "code",
   "execution_count": null,
   "metadata": {},
   "outputs": [],
   "source": []
  },
  {
   "cell_type": "code",
   "execution_count": null,
   "metadata": {},
   "outputs": [],
   "source": []
  },
  {
   "cell_type": "code",
   "execution_count": 71,
   "metadata": {},
   "outputs": [],
   "source": [
    "bdf = BTC.allMetrics[tag_mean].copy()\n",
    "bdf.dropna(inplace=True)\n",
    "\n",
    "ddf = pd.DataFrame()\n",
    "for col in bdf:\n",
    "    ddf[col] = getDiff(bdf[col])\n",
    "ddf.dropna(inplace=True)"
   ]
  },
  {
   "cell_type": "code",
   "execution_count": null,
   "metadata": {},
   "outputs": [],
   "source": []
  },
  {
   "cell_type": "code",
   "execution_count": 34,
   "metadata": {},
   "outputs": [],
   "source": [
    "def grangerCasualityDict(y, x, maxlag):\n",
    "    xy = pd.DataFrame({'x': x, 'y': y})\n",
    "    r = statsmodels.tsa.stattools.grangercausalitytests(xy[['y', 'x']], maxlag=maxlag, verbose=False)\n",
    "    result_dict = {}\n",
    "    for lag in range(1, maxlag + 1):\n",
    "        lag_r = r[lag]\n",
    "        p_values = [np.round(np.float(test_results[1]),5) for test_results in lag_r[0].values()]\n",
    "        result_dict[lag] = p_values\n",
    "    return result_dict"
   ]
  },
  {
   "cell_type": "code",
   "execution_count": 65,
   "metadata": {},
   "outputs": [],
   "source": [
    "def grangerCasualityNp(y, x, maxlag):\n",
    "    xy = pd.DataFrame({'x': x, 'y': y})\n",
    "    r = statsmodels.tsa.stattools.grangercausalitytests(xy[['y', 'x']], maxlag=maxlag, verbose=False)\n",
    "    result_np = np.zeros((maxlag + 1, 5))\n",
    "    for lag in range(1, maxlag + 1):\n",
    "        lag_r = r[lag]\n",
    "        p_values = [test_results[1] for test_results in lag_r[0].values()]\n",
    "        #print(list(lag_r[0].values()))\n",
    "        #p_values = [np.round(np.float(test_results[1]),5) for test_results in lag_r[0].values()]\n",
    "        result_np[lag][1:] = np.array(p_values).round(3)\n",
    "        result_np[lag][0] = (np.array(p_values).round(3)).max()\n",
    "    return result_np[1:]\n",
    "    \n",
    "    "
   ]
  },
  {
   "cell_type": "code",
   "execution_count": 229,
   "metadata": {},
   "outputs": [],
   "source": [
    "#grangerCasualityNp(bdf[S_SYNC_PRICES], bdf[S_UNSPENTS], 10)"
   ]
  },
  {
   "cell_type": "code",
   "execution_count": 67,
   "metadata": {},
   "outputs": [],
   "source": [
    "def grangerStatsFromCol(df, the_col, maxlag, reverse=False, max_p=True):\n",
    "    for a_col in df.columns:\n",
    "        if not a_col in (the_col, 'times'):\n",
    "            cols_pair = [df[a_col], df[the_col]] if reverse else [df[the_col], df[a_col]]\n",
    "            print(a_col)\n",
    "            print(grangerCasualityNp(*cols_pair, maxlag))"
   ]
  },
  {
   "cell_type": "code",
   "execution_count": 230,
   "metadata": {},
   "outputs": [],
   "source": [
    "#grangerStatsFromCol(ddf, S_SYNC_PRICES, 5)"
   ]
  },
  {
   "cell_type": "code",
   "execution_count": 231,
   "metadata": {},
   "outputs": [],
   "source": [
    "#grangerStatsFromCol(ddf, S_NCS, maxlag=7, reverse=True)"
   ]
  },
  {
   "cell_type": "code",
   "execution_count": 232,
   "metadata": {},
   "outputs": [],
   "source": [
    "#grangerStatsFromCol(ddf, S_NCS, maxlag=7)"
   ]
  },
  {
   "cell_type": "code",
   "execution_count": null,
   "metadata": {},
   "outputs": [],
   "source": []
  },
  {
   "cell_type": "code",
   "execution_count": 226,
   "metadata": {},
   "outputs": [],
   "source": [
    "y = np.random.randn(1000)\n",
    "x = np.zeros(1000)\n",
    "x_shift = 20\n",
    "x[:-x_shift] = y[x_shift:]\n",
    "x[-x_shift:] = np.random.randn(x_shift)"
   ]
  },
  {
   "cell_type": "code",
   "execution_count": 227,
   "metadata": {},
   "outputs": [
    {
     "name": "stdout",
     "output_type": "stream",
     "text": [
      "maxlags is 20\n",
      "lag is 20\n",
      "x resids acorr p: 0.999999999999\n",
      "y resids acorr 1.7246118353e-21\n",
      "x does NOT cause y: 0.0\n",
      "y does NOT cause x: 0.906\n"
     ]
    }
   ],
   "source": [
    "todaYamamoto(y, x, verbose=True)"
   ]
  },
  {
   "cell_type": "code",
   "execution_count": 206,
   "metadata": {},
   "outputs": [
    {
     "data": {
      "text/plain": [
       "array([[ 0.217,  0.217,  0.209,  0.217,  0.207],\n",
       "       [ 0.421,  0.421,  0.402,  0.421,  0.399]])"
      ]
     },
     "execution_count": 206,
     "metadata": {},
     "output_type": "execute_result"
    }
   ],
   "source": [
    "grangerCasualityNp(x, y, 2)"
   ]
  },
  {
   "cell_type": "code",
   "execution_count": null,
   "metadata": {},
   "outputs": [],
   "source": []
  },
  {
   "cell_type": "code",
   "execution_count": null,
   "metadata": {},
   "outputs": [],
   "source": [
    "def grangerStatsFromPrice(df, max_lag, to_time=False, max_p=True):\n",
    "    for col in bdf.columns:\n",
    "        if not col in (S_SYNC_PRICES, 'times'):\n",
    "            \n",
    "            cols_pair = [S_SYNC_PRICES,col] if to_time else [col, S_SYNC_PRICES]\n",
    "            print(col)\n",
    "            r = statsmodels.tsa.stattools.grangercausalitytests(\\\n",
    "                bdf[cols_pair], max_lag, verbose=False)\n",
    "            sr = simplifyGrangerResults(r)\n",
    "            print(sr)\n",
    "            if max_p:\n",
    "                print(max([v[1] for v in sr.values()]))\n",
    "            else:\n",
    "                print(min([v[1] for v in sr.values()]))"
   ]
  },
  {
   "cell_type": "code",
   "execution_count": null,
   "metadata": {},
   "outputs": [],
   "source": [
    "def simplifyGrangerResults(res):\n",
    "    return {k: list(res[k][0].values())[0][:2] for k in res}"
   ]
  },
  {
   "cell_type": "code",
   "execution_count": null,
   "metadata": {},
   "outputs": [],
   "source": []
  },
  {
   "cell_type": "code",
   "execution_count": null,
   "metadata": {},
   "outputs": [],
   "source": []
  },
  {
   "cell_type": "code",
   "execution_count": null,
   "metadata": {},
   "outputs": [],
   "source": [
    "statsmodels.tsa.stattools.kpss(x, regression='c', lags=None, store=False)"
   ]
  },
  {
   "cell_type": "code",
   "execution_count": 84,
   "metadata": {},
   "outputs": [
    {
     "data": {
      "text/plain": [
       "(-2.9745454039648904,\n",
       " 0.037340890654007371,\n",
       " 10,\n",
       " 261,\n",
       " {'1%': -3.4556556713934934,\n",
       "  '10%': -2.5727054883222502,\n",
       "  '5%': -2.8726783524898591},\n",
       " -346.59677756474844)"
      ]
     },
     "execution_count": 84,
     "metadata": {},
     "output_type": "execute_result"
    }
   ],
   "source": [
    "adfuller(ddf[S_NCS])"
   ]
  },
  {
   "cell_type": "code",
   "execution_count": 85,
   "metadata": {},
   "outputs": [
    {
     "data": {
      "text/plain": [
       "(-2.0282371580583702,\n",
       " 0.27433094857710288,\n",
       " 11,\n",
       " 261,\n",
       " {'1%': -3.4556556713934934,\n",
       "  '10%': -2.5727054883222502,\n",
       "  '5%': -2.8726783524898591},\n",
       " -351.42045795409467)"
      ]
     },
     "execution_count": 85,
     "metadata": {},
     "output_type": "execute_result"
    }
   ],
   "source": [
    "adfuller(bdf[S_NCS])"
   ]
  },
  {
   "cell_type": "code",
   "execution_count": 87,
   "metadata": {},
   "outputs": [
    {
     "name": "stderr",
     "output_type": "stream",
     "text": [
      "/usr/local/lib/python3.5/dist-packages/statsmodels/tsa/stattools.py:1276: InterpolationWarning: p-value is smaller than the indicated p-value\n",
      "  warn(\"p-value is smaller than the indicated p-value\", InterpolationWarning)\n"
     ]
    },
    {
     "data": {
      "text/plain": [
       "(0.97559090126189885,\n",
       " 0.01,\n",
       " 16,\n",
       " {'1%': 0.739, '10%': 0.347, '2.5%': 0.574, '5%': 0.463})"
      ]
     },
     "execution_count": 87,
     "metadata": {},
     "output_type": "execute_result"
    }
   ],
   "source": [
    "statsmodels.tsa.stattools.kpss(bdf[S_NCS])"
   ]
  },
  {
   "cell_type": "code",
   "execution_count": 89,
   "metadata": {},
   "outputs": [
    {
     "name": "stderr",
     "output_type": "stream",
     "text": [
      "/usr/local/lib/python3.5/dist-packages/statsmodels/tsa/stattools.py:1278: InterpolationWarning: p-value is greater than the indicated p-value\n",
      "  warn(\"p-value is greater than the indicated p-value\", InterpolationWarning)\n"
     ]
    },
    {
     "data": {
      "text/plain": [
       "0.1"
      ]
     },
     "execution_count": 89,
     "metadata": {},
     "output_type": "execute_result"
    }
   ],
   "source": [
    "statsmodels.tsa.stattools.kpss(ddf[S_NCS])[1]"
   ]
  },
  {
   "cell_type": "code",
   "execution_count": 93,
   "metadata": {},
   "outputs": [],
   "source": [
    "def testStationarityTwice(series):\n",
    "    print('prob if stationary:', statsmodels.tsa.stattools.kpss(series)[1])\n",
    "    print('prob if NOT stationary:', adfuller(series)[1])"
   ]
  },
  {
   "cell_type": "code",
   "execution_count": 94,
   "metadata": {},
   "outputs": [
    {
     "name": "stdout",
     "output_type": "stream",
     "text": [
      "prob if stationary: 0.1\n",
      "prob if NOT stationary: 0.037340890654\n"
     ]
    },
    {
     "name": "stderr",
     "output_type": "stream",
     "text": [
      "/usr/local/lib/python3.5/dist-packages/statsmodels/tsa/stattools.py:1278: InterpolationWarning: p-value is greater than the indicated p-value\n",
      "  warn(\"p-value is greater than the indicated p-value\", InterpolationWarning)\n"
     ]
    }
   ],
   "source": [
    "testStationarityTwice(ddf[S_NCS])"
   ]
  },
  {
   "cell_type": "code",
   "execution_count": 96,
   "metadata": {},
   "outputs": [],
   "source": [
    "def checkStationarities(df):\n",
    "    for col in df.columns:\n",
    "        if col != 'times':\n",
    "            print(col)\n",
    "            testStationarityTwice(df[col])"
   ]
  },
  {
   "cell_type": "code",
   "execution_count": 233,
   "metadata": {},
   "outputs": [
    {
     "name": "stdout",
     "output_type": "stream",
     "text": [
      "NacamotoCoefs\n",
      "prob if stationary: 0.01\n",
      "prob if NOT stationary: 0.274330948577\n",
      "activeClustersCounts\n",
      "prob if stationary: 0.01\n",
      "prob if NOT stationary: 0.994508645184\n",
      "fees\n",
      "prob if stationary: 0.01\n",
      "prob if NOT stationary: 0.958202085991\n",
      "ginisOfClustersWealth\n",
      "prob if stationary: 0.01\n",
      "prob if NOT stationary: 0.55660045987\n",
      "nonEmptyClustersCounts\n",
      "prob if stationary: 0.01\n",
      "prob if NOT stationary: 0.998918676954\n",
      "relativeFlowVolumes\n",
      "prob if stationary: 0.01\n",
      "prob if NOT stationary: 0.484578997941\n",
      "synchronizedPrices\n",
      "prob if stationary: 0.01\n",
      "prob if NOT stationary: 0.856649303296\n",
      "unspents\n",
      "prob if stationary: 0.01\n",
      "prob if NOT stationary: 1.0\n"
     ]
    },
    {
     "name": "stderr",
     "output_type": "stream",
     "text": [
      "/usr/local/lib/python3.5/dist-packages/statsmodels/tsa/stattools.py:1276: InterpolationWarning: p-value is smaller than the indicated p-value\n",
      "  warn(\"p-value is smaller than the indicated p-value\", InterpolationWarning)\n",
      "/usr/local/lib/python3.5/dist-packages/statsmodels/tsa/stattools.py:1276: InterpolationWarning: p-value is smaller than the indicated p-value\n",
      "  warn(\"p-value is smaller than the indicated p-value\", InterpolationWarning)\n",
      "/usr/local/lib/python3.5/dist-packages/statsmodels/tsa/stattools.py:1276: InterpolationWarning: p-value is smaller than the indicated p-value\n",
      "  warn(\"p-value is smaller than the indicated p-value\", InterpolationWarning)\n",
      "/usr/local/lib/python3.5/dist-packages/statsmodels/tsa/stattools.py:1276: InterpolationWarning: p-value is smaller than the indicated p-value\n",
      "  warn(\"p-value is smaller than the indicated p-value\", InterpolationWarning)\n",
      "/usr/local/lib/python3.5/dist-packages/statsmodels/tsa/stattools.py:1276: InterpolationWarning: p-value is smaller than the indicated p-value\n",
      "  warn(\"p-value is smaller than the indicated p-value\", InterpolationWarning)\n",
      "/usr/local/lib/python3.5/dist-packages/statsmodels/tsa/stattools.py:1276: InterpolationWarning: p-value is smaller than the indicated p-value\n",
      "  warn(\"p-value is smaller than the indicated p-value\", InterpolationWarning)\n",
      "/usr/local/lib/python3.5/dist-packages/statsmodels/tsa/stattools.py:1276: InterpolationWarning: p-value is smaller than the indicated p-value\n",
      "  warn(\"p-value is smaller than the indicated p-value\", InterpolationWarning)\n",
      "/usr/local/lib/python3.5/dist-packages/statsmodels/tsa/stattools.py:1276: InterpolationWarning: p-value is smaller than the indicated p-value\n",
      "  warn(\"p-value is smaller than the indicated p-value\", InterpolationWarning)\n"
     ]
    }
   ],
   "source": [
    "checkStationarities(bdf)"
   ]
  },
  {
   "cell_type": "code",
   "execution_count": 98,
   "metadata": {},
   "outputs": [
    {
     "name": "stdout",
     "output_type": "stream",
     "text": [
      "NacamotoCoefs\n",
      "prob if stationary: 0.1\n",
      "prob if NOT stationary: 0.037340890654\n",
      "activeClustersCounts\n",
      "prob if stationary: 0.1\n",
      "prob if NOT stationary: 0.000175172505866\n",
      "fees\n",
      "prob if stationary: 0.1\n",
      "prob if NOT stationary: 0.000620261685099\n",
      "ginisOfClustersWealth\n",
      "prob if stationary: 0.010516020444121539\n",
      "prob if NOT stationary: 0.56849349117\n",
      "nonEmptyClustersCounts\n",
      "prob if stationary: 0.016121815369597732\n",
      "prob if NOT stationary: 0.028801468199\n",
      "relativeFlowVolumes\n",
      "prob if stationary: 0.1\n",
      "prob if NOT stationary: 0.00429694202388\n",
      "synchronizedPrices\n",
      "prob if stationary: 0.1\n",
      "prob if NOT stationary: 0.0614571010647\n",
      "unspents\n",
      "prob if stationary: 0.03870542377192431\n",
      "prob if NOT stationary: 0.00699208337348\n"
     ]
    },
    {
     "name": "stderr",
     "output_type": "stream",
     "text": [
      "/usr/local/lib/python3.5/dist-packages/statsmodels/tsa/stattools.py:1278: InterpolationWarning: p-value is greater than the indicated p-value\n",
      "  warn(\"p-value is greater than the indicated p-value\", InterpolationWarning)\n",
      "/usr/local/lib/python3.5/dist-packages/statsmodels/tsa/stattools.py:1278: InterpolationWarning: p-value is greater than the indicated p-value\n",
      "  warn(\"p-value is greater than the indicated p-value\", InterpolationWarning)\n",
      "/usr/local/lib/python3.5/dist-packages/statsmodels/tsa/stattools.py:1278: InterpolationWarning: p-value is greater than the indicated p-value\n",
      "  warn(\"p-value is greater than the indicated p-value\", InterpolationWarning)\n",
      "/usr/local/lib/python3.5/dist-packages/statsmodels/tsa/stattools.py:1278: InterpolationWarning: p-value is greater than the indicated p-value\n",
      "  warn(\"p-value is greater than the indicated p-value\", InterpolationWarning)\n",
      "/usr/local/lib/python3.5/dist-packages/statsmodels/tsa/stattools.py:1278: InterpolationWarning: p-value is greater than the indicated p-value\n",
      "  warn(\"p-value is greater than the indicated p-value\", InterpolationWarning)\n"
     ]
    }
   ],
   "source": [
    "checkStationarities(ddf)"
   ]
  },
  {
   "cell_type": "code",
   "execution_count": 103,
   "metadata": {},
   "outputs": [
    {
     "name": "stdout",
     "output_type": "stream",
     "text": [
      "prob if stationary: 0.01\n",
      "prob if NOT stationary: 0.216251617453\n"
     ]
    },
    {
     "name": "stderr",
     "output_type": "stream",
     "text": [
      "/usr/local/lib/python3.5/dist-packages/statsmodels/tsa/stattools.py:1276: InterpolationWarning: p-value is smaller than the indicated p-value\n",
      "  warn(\"p-value is smaller than the indicated p-value\", InterpolationWarning)\n"
     ]
    }
   ],
   "source": [
    "testStationarityTwice(getDiff(pd.Series(BTC[S_GINIS]['WOnuldata'])))"
   ]
  },
  {
   "cell_type": "code",
   "execution_count": 107,
   "metadata": {},
   "outputs": [
    {
     "name": "stdout",
     "output_type": "stream",
     "text": [
      "prob if stationary: 0.1\n",
      "prob if NOT stationary: 1.90960224282e-07\n"
     ]
    },
    {
     "name": "stderr",
     "output_type": "stream",
     "text": [
      "/usr/local/lib/python3.5/dist-packages/statsmodels/tsa/stattools.py:1278: InterpolationWarning: p-value is greater than the indicated p-value\n",
      "  warn(\"p-value is greater than the indicated p-value\", InterpolationWarning)\n"
     ]
    }
   ],
   "source": [
    "testStationarityTwice(getDiff(getDiff(pd.Series(BTC[S_GINIS]['WOnuldata']))))"
   ]
  },
  {
   "cell_type": "code",
   "execution_count": 106,
   "metadata": {},
   "outputs": [
    {
     "name": "stdout",
     "output_type": "stream",
     "text": [
      "prob if stationary: 0.1\n",
      "prob if NOT stationary: 0.000165831254244\n"
     ]
    },
    {
     "name": "stderr",
     "output_type": "stream",
     "text": [
      "/usr/local/lib/python3.5/dist-packages/statsmodels/tsa/stattools.py:1278: InterpolationWarning: p-value is greater than the indicated p-value\n",
      "  warn(\"p-value is greater than the indicated p-value\", InterpolationWarning)\n"
     ]
    }
   ],
   "source": [
    "testStationarityTwice(getDiff(ddf[S_NONEMPTY_CLS]))"
   ]
  },
  {
   "cell_type": "code",
   "execution_count": 234,
   "metadata": {},
   "outputs": [
    {
     "name": "stdout",
     "output_type": "stream",
     "text": [
      "prob if stationary: 0.1\n",
      "prob if NOT stationary: 2.0867392889e-07\n"
     ]
    },
    {
     "name": "stderr",
     "output_type": "stream",
     "text": [
      "/usr/local/lib/python3.5/dist-packages/statsmodels/tsa/stattools.py:1278: InterpolationWarning: p-value is greater than the indicated p-value\n",
      "  warn(\"p-value is greater than the indicated p-value\", InterpolationWarning)\n"
     ]
    }
   ],
   "source": [
    "testStationarityTwice(getDiff(ddf[S_GINIS]))"
   ]
  },
  {
   "cell_type": "code",
   "execution_count": 235,
   "metadata": {},
   "outputs": [
    {
     "name": "stdout",
     "output_type": "stream",
     "text": [
      "prob if stationary: 0.1\n",
      "prob if NOT stationary: 2.55598387695e-12\n"
     ]
    },
    {
     "name": "stderr",
     "output_type": "stream",
     "text": [
      "/usr/local/lib/python3.5/dist-packages/statsmodels/tsa/stattools.py:1278: InterpolationWarning: p-value is greater than the indicated p-value\n",
      "  warn(\"p-value is greater than the indicated p-value\", InterpolationWarning)\n"
     ]
    }
   ],
   "source": [
    "testStationarityTwice(getDiff(ddf[S_UNSPENTS]))"
   ]
  },
  {
   "cell_type": "code",
   "execution_count": null,
   "metadata": {},
   "outputs": [],
   "source": []
  },
  {
   "cell_type": "code",
   "execution_count": 110,
   "metadata": {},
   "outputs": [],
   "source": [
    "from statsmodels.tsa.api import VAR"
   ]
  },
  {
   "cell_type": "code",
   "execution_count": 153,
   "metadata": {},
   "outputs": [
    {
     "name": "stderr",
     "output_type": "stream",
     "text": [
      "/usr/local/lib/python3.5/dist-packages/statsmodels/tsa/base/tsa_model.py:221: ValueWarning: An unsupported index was provided and will be ignored when e.g. forecasting.\n",
      "  ' ignored when e.g. forecasting.', ValueWarning)\n"
     ]
    }
   ],
   "source": [
    "model = VAR(bdf[[S_GINIS, S_NCS]])"
   ]
  },
  {
   "cell_type": "code",
   "execution_count": 154,
   "metadata": {},
   "outputs": [],
   "source": [
    "orders = model.select_order()"
   ]
  },
  {
   "cell_type": "code",
   "execution_count": 167,
   "metadata": {},
   "outputs": [
    {
     "data": {
      "text/plain": [
       "array([ 0.75523405,  0.93535234,  0.97827432,  0.97534852,  0.98020237,\n",
       "        0.95730726,  0.95918617,  0.96760634,  0.98369571,  0.93682711,\n",
       "        0.93095334,  0.89884631])"
      ]
     },
     "execution_count": 167,
     "metadata": {},
     "output_type": "execute_result"
    }
   ],
   "source": [
    "model_fit = model.fit(12)\n",
    "statsmodels.stats.diagnostic.acorr_ljungbox(model_fit.resid[S_NCS], 12)[1]\n",
    "statsmodels.stats.diagnostic.acorr_ljungbox(model_fit.resid[S_GINIS], 12)[1]"
   ]
  },
  {
   "cell_type": "code",
   "execution_count": 163,
   "metadata": {},
   "outputs": [],
   "source": [
    "#model_fit.fittedvalues[S_REL_FLOWS]"
   ]
  },
  {
   "cell_type": "code",
   "execution_count": 168,
   "metadata": {},
   "outputs": [
    {
     "data": {
      "text/plain": [
       "12"
      ]
     },
     "execution_count": 168,
     "metadata": {},
     "output_type": "execute_result"
    }
   ],
   "source": [
    "model_fit.k_ar"
   ]
  },
  {
   "cell_type": "code",
   "execution_count": null,
   "metadata": {},
   "outputs": [],
   "source": [
    "model_fit.acorr(12)"
   ]
  },
  {
   "cell_type": "code",
   "execution_count": 155,
   "metadata": {},
   "outputs": [
    {
     "data": {
      "text/plain": [
       "{'aic': 12, 'bic': 7, 'fpe': 12, 'hqic': 12}"
      ]
     },
     "execution_count": 155,
     "metadata": {},
     "output_type": "execute_result"
    }
   ],
   "source": [
    "orders.selected_orders"
   ]
  },
  {
   "cell_type": "code",
   "execution_count": 157,
   "metadata": {},
   "outputs": [
    {
     "data": {
      "text/plain": [
       "[<matplotlib.lines.Line2D at 0x7f5ac5003860>]"
      ]
     },
     "execution_count": 157,
     "metadata": {},
     "output_type": "execute_result"
    },
    {
     "data": {
      "image/png": "[encoded data removed]",
      "text/plain": [
       "<Figure size 432x288 with 1 Axes>"
      ]
     },
     "metadata": {},
     "output_type": "display_data"
    }
   ],
   "source": [
    "plt.plot(model_fit.resid[S_GINIS])"
   ]
  },
  {
   "cell_type": "code",
   "execution_count": 152,
   "metadata": {},
   "outputs": [
    {
     "data": {
      "text/plain": [
       "array([  5.79581737e-11,   7.74710686e-14,   2.31427213e-15,\n",
       "         1.86043477e-15,   5.35728912e-19,   2.21429888e-18,\n",
       "         2.87696847e-18,   2.42347024e-18,   3.56115195e-18,\n",
       "         3.32230430e-19,   7.67342079e-21,   2.53777341e-20])"
      ]
     },
     "execution_count": 152,
     "metadata": {},
     "output_type": "execute_result"
    }
   ],
   "source": [
    "statsmodels.stats.diagnostic.acorr_ljungbox(model_fit.resid[S_NCS], 12)[1]"
   ]
  },
  {
   "cell_type": "code",
   "execution_count": 138,
   "metadata": {},
   "outputs": [
    {
     "data": {
      "text/plain": [
       "array([ 0.342,  0.342,  0.27 ,  0.342,  0.247])"
      ]
     },
     "execution_count": 138,
     "metadata": {},
     "output_type": "execute_result"
    }
   ],
   "source": [
    "grangerCasualityNp(bdf[S_REL_FLOWS], bdf[S_NCS], 12)[11]"
   ]
  },
  {
   "cell_type": "code",
   "execution_count": 239,
   "metadata": {},
   "outputs": [],
   "source": [
    "from statsmodels.stats.diagnostic import acorr_ljungbox\n",
    "def todaYamamoto(y, x, maxlags=None, verbose=0):\n",
    "    xy = pd.DataFrame({'x': x, 'y': y})\n",
    "    model = VAR(xy)\n",
    "    if maxlags is None:\n",
    "        maxlags = model.select_order().selected_orders['aic']\n",
    "        if verbose >= 2:\n",
    "            print('maxlags is', maxlags)\n",
    "    model_fit = model.fit(maxlags=maxlags)\n",
    "    lag = model_fit.k_ar\n",
    "    if verbose >= 1:\n",
    "        print('lag is', lag)\n",
    "    \n",
    "    print('x resids acorr p:', acorr_ljungbox(model_fit.resid['x'], lag)[1].max())\n",
    "    print('y resids acorr', acorr_ljungbox(model_fit.resid['y'], lag)[1].max())\n",
    "    \n",
    "    print('x does NOT cause y:', grangerCasualityNp(y, x, lag)[lag - 1][0])\n",
    "    print('y does NOT cause x:', grangerCasualityNp(x, y, lag)[lag - 1][0])"
   ]
  },
  {
   "cell_type": "code",
   "execution_count": 177,
   "metadata": {},
   "outputs": [
    {
     "name": "stdout",
     "output_type": "stream",
     "text": [
      "maxlags is 12\n",
      "lag is 12\n",
      "x resids acorr p: 0.997809460852\n",
      "y resids acorr 0.997491275038\n",
      "x does NOT cause y: 0.056\n",
      "y does NOT cause x: 0.033\n"
     ]
    },
    {
     "name": "stderr",
     "output_type": "stream",
     "text": [
      "/usr/local/lib/python3.5/dist-packages/statsmodels/tsa/base/tsa_model.py:221: ValueWarning: An unsupported index was provided and will be ignored when e.g. forecasting.\n",
      "  ' ignored when e.g. forecasting.', ValueWarning)\n"
     ]
    }
   ],
   "source": [
    "todaYamamoto(bdf[S_REL_FLOWS], bdf[S_GINIS])"
   ]
  },
  {
   "cell_type": "code",
   "execution_count": 243,
   "metadata": {},
   "outputs": [],
   "source": [
    "def todaYamamotoWithCol(df, the_col, verbose=0):\n",
    "    for a_col in df.columns:\n",
    "        if not a_col in (the_col, 'times'):\n",
    "            print('y={},   x={}'.format(a_col, the_col))\n",
    "            todaYamamoto(df[a_col], df[the_col], verbose=verbose)\n",
    "            print('-------------------------------')"
   ]
  },
  {
   "cell_type": "code",
   "execution_count": 244,
   "metadata": {},
   "outputs": [
    {
     "name": "stdout",
     "output_type": "stream",
     "text": [
      "y=NacamotoCoefs,   x=synchronizedPrices\n",
      "lag is 12\n",
      "x resids acorr p: 0.987306883676\n",
      "y resids acorr 0.999700306021\n",
      "x does NOT cause y: 0.206\n",
      "y does NOT cause x: 0.103\n",
      "-------------------------------\n",
      "y=activeClustersCounts,   x=synchronizedPrices\n",
      "lag is 13\n",
      "x resids acorr p: 0.977401367581\n",
      "y resids acorr 0.978603033818\n",
      "x does NOT cause y: 0.056\n",
      "y does NOT cause x: 0.003\n",
      "-------------------------------\n",
      "y=fees,   x=synchronizedPrices\n"
     ]
    },
    {
     "name": "stderr",
     "output_type": "stream",
     "text": [
      "/usr/local/lib/python3.5/dist-packages/statsmodels/tsa/base/tsa_model.py:221: ValueWarning: An unsupported index was provided and will be ignored when e.g. forecasting.\n",
      "  ' ignored when e.g. forecasting.', ValueWarning)\n",
      "/usr/local/lib/python3.5/dist-packages/statsmodels/tsa/base/tsa_model.py:221: ValueWarning: An unsupported index was provided and will be ignored when e.g. forecasting.\n",
      "  ' ignored when e.g. forecasting.', ValueWarning)\n",
      "/usr/local/lib/python3.5/dist-packages/statsmodels/tsa/base/tsa_model.py:221: ValueWarning: An unsupported index was provided and will be ignored when e.g. forecasting.\n",
      "  ' ignored when e.g. forecasting.', ValueWarning)\n"
     ]
    },
    {
     "name": "stdout",
     "output_type": "stream",
     "text": [
      "lag is 14\n",
      "x resids acorr p: 0.918884327458\n",
      "y resids acorr 0.937186613336\n",
      "x does NOT cause y: 0.023\n",
      "y does NOT cause x: 0.0\n",
      "-------------------------------\n",
      "y=ginisOfClustersWealth,   x=synchronizedPrices\n",
      "lag is 15\n",
      "x resids acorr p: 0.999088122388\n",
      "y resids acorr 0.999620464096\n",
      "x does NOT cause y: 0.085\n"
     ]
    },
    {
     "name": "stderr",
     "output_type": "stream",
     "text": [
      "/usr/local/lib/python3.5/dist-packages/statsmodels/tsa/base/tsa_model.py:221: ValueWarning: An unsupported index was provided and will be ignored when e.g. forecasting.\n",
      "  ' ignored when e.g. forecasting.', ValueWarning)\n",
      "/usr/local/lib/python3.5/dist-packages/statsmodels/tsa/base/tsa_model.py:221: ValueWarning: An unsupported index was provided and will be ignored when e.g. forecasting.\n",
      "  ' ignored when e.g. forecasting.', ValueWarning)\n"
     ]
    },
    {
     "name": "stdout",
     "output_type": "stream",
     "text": [
      "y does NOT cause x: 0.059\n",
      "-------------------------------\n",
      "y=nonEmptyClustersCounts,   x=synchronizedPrices\n",
      "lag is 14\n",
      "x resids acorr p: 0.9995335909\n",
      "y resids acorr 0.932430858996\n",
      "x does NOT cause y: 0.336\n",
      "y does NOT cause x: 0.32\n",
      "-------------------------------\n",
      "y=relativeFlowVolumes,   x=synchronizedPrices\n",
      "lag is 15\n",
      "x resids acorr p: 0.996942224916\n",
      "y resids acorr 0.997052314423\n",
      "x does NOT cause y: 0.19\n"
     ]
    },
    {
     "name": "stderr",
     "output_type": "stream",
     "text": [
      "/usr/local/lib/python3.5/dist-packages/statsmodels/tsa/base/tsa_model.py:221: ValueWarning: An unsupported index was provided and will be ignored when e.g. forecasting.\n",
      "  ' ignored when e.g. forecasting.', ValueWarning)\n",
      "/usr/local/lib/python3.5/dist-packages/statsmodels/tsa/base/tsa_model.py:221: ValueWarning: An unsupported index was provided and will be ignored when e.g. forecasting.\n",
      "  ' ignored when e.g. forecasting.', ValueWarning)\n",
      "/usr/local/lib/python3.5/dist-packages/statsmodels/base/model.py:1532: ValueWarning: covariance of constraints does not have full rank. The number of constraints is 5, but rank is 4\n",
      "  'rank is %d' % (J, J_), ValueWarning)\n",
      "/usr/local/lib/python3.5/dist-packages/statsmodels/base/model.py:1532: ValueWarning: covariance of constraints does not have full rank. The number of constraints is 6, but rank is 5\n",
      "  'rank is %d' % (J, J_), ValueWarning)\n",
      "/usr/local/lib/python3.5/dist-packages/statsmodels/base/model.py:1532: ValueWarning: covariance of constraints does not have full rank. The number of constraints is 7, but rank is 5\n",
      "  'rank is %d' % (J, J_), ValueWarning)\n",
      "/usr/local/lib/python3.5/dist-packages/statsmodels/base/model.py:1532: ValueWarning: covariance of constraints does not have full rank. The number of constraints is 8, but rank is 5\n",
      "  'rank is %d' % (J, J_), ValueWarning)\n",
      "/usr/local/lib/python3.5/dist-packages/statsmodels/base/model.py:1532: ValueWarning: covariance of constraints does not have full rank. The number of constraints is 9, but rank is 6\n",
      "  'rank is %d' % (J, J_), ValueWarning)\n",
      "/usr/local/lib/python3.5/dist-packages/statsmodels/base/model.py:1532: ValueWarning: covariance of constraints does not have full rank. The number of constraints is 10, but rank is 6\n",
      "  'rank is %d' % (J, J_), ValueWarning)\n",
      "/usr/local/lib/python3.5/dist-packages/statsmodels/base/model.py:1532: ValueWarning: covariance of constraints does not have full rank. The number of constraints is 11, but rank is 6\n",
      "  'rank is %d' % (J, J_), ValueWarning)\n",
      "/usr/local/lib/python3.5/dist-packages/statsmodels/base/model.py:1532: ValueWarning: covariance of constraints does not have full rank. The number of constraints is 12, but rank is 6\n",
      "  'rank is %d' % (J, J_), ValueWarning)\n"
     ]
    },
    {
     "name": "stdout",
     "output_type": "stream",
     "text": [
      "y does NOT cause x: 0.005\n",
      "-------------------------------\n",
      "y=unspents,   x=synchronizedPrices\n",
      "lag is 12\n",
      "x resids acorr p: 0.795891804906\n",
      "y resids acorr 0.932786066414\n",
      "x does NOT cause y: 0.8\n",
      "y does NOT cause x: 1.0\n",
      "-------------------------------\n"
     ]
    }
   ],
   "source": [
    "todaYamamotoWithCol(bdf, S_SYNC_PRICES, verbose=1)"
   ]
  },
  {
   "cell_type": "code",
   "execution_count": 190,
   "metadata": {},
   "outputs": [
    {
     "name": "stdout",
     "output_type": "stream",
     "text": [
      "y=NacamotoCoefs,   x=relativeFlowVolumes\n",
      "x resids acorr p: 0.996700904484\n",
      "y resids acorr 0.995625357382\n",
      "x does NOT cause y: 0.423\n",
      "y does NOT cause x: 0.342\n",
      "-------------------------------\n",
      "y=activeClustersCounts,   x=relativeFlowVolumes\n",
      "x resids acorr p: 0.993381689253\n",
      "y resids acorr 0.886886525225\n",
      "x does NOT cause y: 0.003\n"
     ]
    },
    {
     "name": "stderr",
     "output_type": "stream",
     "text": [
      "/usr/local/lib/python3.5/dist-packages/statsmodels/tsa/base/tsa_model.py:221: ValueWarning: An unsupported index was provided and will be ignored when e.g. forecasting.\n",
      "  ' ignored when e.g. forecasting.', ValueWarning)\n",
      "/usr/local/lib/python3.5/dist-packages/statsmodels/tsa/base/tsa_model.py:221: ValueWarning: An unsupported index was provided and will be ignored when e.g. forecasting.\n",
      "  ' ignored when e.g. forecasting.', ValueWarning)\n"
     ]
    },
    {
     "name": "stdout",
     "output_type": "stream",
     "text": [
      "y does NOT cause x: 0.014\n",
      "-------------------------------\n",
      "y=fees,   x=relativeFlowVolumes\n",
      "x resids acorr p: 0.995022998653\n",
      "y resids acorr 0.996112076705\n",
      "x does NOT cause y: 0.117\n",
      "y does NOT cause x: 0.934\n",
      "-------------------------------\n",
      "y=ginisOfClustersWealth,   x=relativeFlowVolumes\n",
      "x resids acorr p: 0.997491275038\n",
      "y resids acorr 0.997809460852\n",
      "x does NOT cause y: 0.033\n",
      "y does NOT cause x: 0.056\n",
      "-------------------------------\n",
      "y=nonEmptyClustersCounts,   x=relativeFlowVolumes\n"
     ]
    },
    {
     "name": "stderr",
     "output_type": "stream",
     "text": [
      "/usr/local/lib/python3.5/dist-packages/statsmodels/tsa/base/tsa_model.py:221: ValueWarning: An unsupported index was provided and will be ignored when e.g. forecasting.\n",
      "  ' ignored when e.g. forecasting.', ValueWarning)\n",
      "/usr/local/lib/python3.5/dist-packages/statsmodels/tsa/base/tsa_model.py:221: ValueWarning: An unsupported index was provided and will be ignored when e.g. forecasting.\n",
      "  ' ignored when e.g. forecasting.', ValueWarning)\n",
      "/usr/local/lib/python3.5/dist-packages/statsmodels/tsa/base/tsa_model.py:221: ValueWarning: An unsupported index was provided and will be ignored when e.g. forecasting.\n",
      "  ' ignored when e.g. forecasting.', ValueWarning)\n"
     ]
    },
    {
     "name": "stdout",
     "output_type": "stream",
     "text": [
      "x resids acorr p: 0.99661448088\n",
      "y resids acorr 0.874467122798\n",
      "x does NOT cause y: 0.56\n",
      "y does NOT cause x: 0.421\n",
      "-------------------------------\n",
      "y=synchronizedPrices,   x=relativeFlowVolumes\n",
      "x resids acorr p: 0.997052314423\n",
      "y resids acorr 0.996942224916\n",
      "x does NOT cause y: 0.005\n",
      "y does NOT cause x: 0.19\n",
      "-------------------------------\n",
      "y=unspents,   x=relativeFlowVolumes\n"
     ]
    },
    {
     "name": "stderr",
     "output_type": "stream",
     "text": [
      "/usr/local/lib/python3.5/dist-packages/statsmodels/tsa/base/tsa_model.py:221: ValueWarning: An unsupported index was provided and will be ignored when e.g. forecasting.\n",
      "  ' ignored when e.g. forecasting.', ValueWarning)\n",
      "/usr/local/lib/python3.5/dist-packages/statsmodels/tsa/base/tsa_model.py:221: ValueWarning: An unsupported index was provided and will be ignored when e.g. forecasting.\n",
      "  ' ignored when e.g. forecasting.', ValueWarning)\n",
      "/usr/local/lib/python3.5/dist-packages/statsmodels/base/model.py:1532: ValueWarning: covariance of constraints does not have full rank. The number of constraints is 9, but rank is 8\n",
      "  'rank is %d' % (J, J_), ValueWarning)\n",
      "/usr/local/lib/python3.5/dist-packages/statsmodels/base/model.py:1532: ValueWarning: covariance of constraints does not have full rank. The number of constraints is 10, but rank is 9\n",
      "  'rank is %d' % (J, J_), ValueWarning)\n",
      "/usr/local/lib/python3.5/dist-packages/statsmodels/base/model.py:1532: ValueWarning: covariance of constraints does not have full rank. The number of constraints is 11, but rank is 10\n",
      "  'rank is %d' % (J, J_), ValueWarning)\n",
      "/usr/local/lib/python3.5/dist-packages/statsmodels/base/model.py:1532: ValueWarning: covariance of constraints does not have full rank. The number of constraints is 12, but rank is 10\n",
      "  'rank is %d' % (J, J_), ValueWarning)\n"
     ]
    },
    {
     "name": "stdout",
     "output_type": "stream",
     "text": [
      "x resids acorr p: 0.992273450761\n",
      "y resids acorr 0.800810436527\n",
      "x does NOT cause y: 0.014\n",
      "y does NOT cause x: 1.0\n",
      "-------------------------------\n"
     ]
    }
   ],
   "source": [
    "todaYamamotoWithCol(bdf, S_REL_FLOWS)"
   ]
  },
  {
   "cell_type": "code",
   "execution_count": 248,
   "metadata": {},
   "outputs": [
    {
     "name": "stdout",
     "output_type": "stream",
     "text": [
      "y=activeClustersCounts,   x=NacamotoCoefs\n",
      "lag is 14\n",
      "x resids acorr p: 0.999430665831\n",
      "y resids acorr 0.960058609792\n",
      "x does NOT cause y: 0.145\n",
      "y does NOT cause x: 0.14\n",
      "-------------------------------\n",
      "y=fees,   x=NacamotoCoefs\n",
      "lag is 14\n",
      "x resids acorr p: 0.999075241192\n",
      "y resids acorr 0.944659590355\n",
      "x does NOT cause y: 0.011\n"
     ]
    },
    {
     "name": "stderr",
     "output_type": "stream",
     "text": [
      "/usr/local/lib/python3.5/dist-packages/statsmodels/tsa/base/tsa_model.py:221: ValueWarning: An unsupported index was provided and will be ignored when e.g. forecasting.\n",
      "  ' ignored when e.g. forecasting.', ValueWarning)\n",
      "/usr/local/lib/python3.5/dist-packages/statsmodels/tsa/base/tsa_model.py:221: ValueWarning: An unsupported index was provided and will be ignored when e.g. forecasting.\n",
      "  ' ignored when e.g. forecasting.', ValueWarning)\n"
     ]
    },
    {
     "name": "stdout",
     "output_type": "stream",
     "text": [
      "y does NOT cause x: 0.581\n",
      "-------------------------------\n",
      "y=ginisOfClustersWealth,   x=NacamotoCoefs\n",
      "lag is 12\n",
      "x resids acorr p: 0.994607906082\n",
      "y resids acorr 0.983695711822\n",
      "x does NOT cause y: 0.535\n",
      "y does NOT cause x: 0.545\n",
      "-------------------------------\n",
      "y=nonEmptyClustersCounts,   x=NacamotoCoefs\n",
      "lag is 13\n",
      "x resids acorr p: 0.99609307849\n",
      "y resids acorr 0.963810781967\n",
      "x does NOT cause y: 0.335\n",
      "y does NOT cause x: 0.906\n",
      "-------------------------------\n",
      "y=relativeFlowVolumes,   x=NacamotoCoefs\n"
     ]
    },
    {
     "name": "stderr",
     "output_type": "stream",
     "text": [
      "/usr/local/lib/python3.5/dist-packages/statsmodels/tsa/base/tsa_model.py:221: ValueWarning: An unsupported index was provided and will be ignored when e.g. forecasting.\n",
      "  ' ignored when e.g. forecasting.', ValueWarning)\n",
      "/usr/local/lib/python3.5/dist-packages/statsmodels/tsa/base/tsa_model.py:221: ValueWarning: An unsupported index was provided and will be ignored when e.g. forecasting.\n",
      "  ' ignored when e.g. forecasting.', ValueWarning)\n",
      "/usr/local/lib/python3.5/dist-packages/statsmodels/tsa/base/tsa_model.py:221: ValueWarning: An unsupported index was provided and will be ignored when e.g. forecasting.\n",
      "  ' ignored when e.g. forecasting.', ValueWarning)\n"
     ]
    },
    {
     "name": "stdout",
     "output_type": "stream",
     "text": [
      "lag is 12\n",
      "x resids acorr p: 0.995625357382\n",
      "y resids acorr 0.996700904484\n",
      "x does NOT cause y: 0.342\n",
      "y does NOT cause x: 0.423\n",
      "-------------------------------\n",
      "y=synchronizedPrices,   x=NacamotoCoefs\n",
      "lag is 12\n",
      "x resids acorr p: 0.999700306021\n",
      "y resids acorr 0.987306883676\n",
      "x does NOT cause y: 0.103\n",
      "y does NOT cause x: 0.206\n",
      "-------------------------------\n",
      "y=unspents,   x=NacamotoCoefs\n",
      "lag is 12\n",
      "x resids acorr p: 0.994509654183\n",
      "y resids acorr 0.938012557045\n",
      "x does NOT cause y: 0.227\n",
      "y does NOT cause x: 0.171\n",
      "-------------------------------\n"
     ]
    },
    {
     "name": "stderr",
     "output_type": "stream",
     "text": [
      "/usr/local/lib/python3.5/dist-packages/statsmodels/tsa/base/tsa_model.py:221: ValueWarning: An unsupported index was provided and will be ignored when e.g. forecasting.\n",
      "  ' ignored when e.g. forecasting.', ValueWarning)\n",
      "/usr/local/lib/python3.5/dist-packages/statsmodels/tsa/base/tsa_model.py:221: ValueWarning: An unsupported index was provided and will be ignored when e.g. forecasting.\n",
      "  ' ignored when e.g. forecasting.', ValueWarning)\n"
     ]
    }
   ],
   "source": [
    "todaYamamotoWithCol(bdf, S_NCS, 1)"
   ]
  },
  {
   "cell_type": "code",
   "execution_count": 247,
   "metadata": {},
   "outputs": [
    {
     "name": "stdout",
     "output_type": "stream",
     "text": [
      "y=NacamotoCoefs,   x=fees\n",
      "lag is 14\n",
      "x resids acorr p: 0.944637951733\n",
      "y resids acorr 0.999075639686\n",
      "x does NOT cause y: 0.581\n",
      "y does NOT cause x: 0.011\n",
      "-------------------------------\n",
      "y=activeClustersCounts,   x=fees\n",
      "lag is 14\n",
      "x resids acorr p: 0.995221234669\n",
      "y resids acorr 0.896619029103\n",
      "x does NOT cause y: 0.0\n"
     ]
    },
    {
     "name": "stderr",
     "output_type": "stream",
     "text": [
      "/usr/local/lib/python3.5/dist-packages/statsmodels/tsa/base/tsa_model.py:221: ValueWarning: An unsupported index was provided and will be ignored when e.g. forecasting.\n",
      "  ' ignored when e.g. forecasting.', ValueWarning)\n",
      "/usr/local/lib/python3.5/dist-packages/statsmodels/tsa/base/tsa_model.py:221: ValueWarning: An unsupported index was provided and will be ignored when e.g. forecasting.\n",
      "  ' ignored when e.g. forecasting.', ValueWarning)\n"
     ]
    },
    {
     "name": "stdout",
     "output_type": "stream",
     "text": [
      "y does NOT cause x: 0.0\n",
      "-------------------------------\n",
      "y=ginisOfClustersWealth,   x=fees\n",
      "lag is 12\n",
      "x resids acorr p: 0.901765073816\n",
      "y resids acorr 0.999478357471\n",
      "x does NOT cause y: 0.057\n",
      "y does NOT cause x: 0.017\n",
      "-------------------------------\n",
      "y=nonEmptyClustersCounts,   x=fees\n",
      "lag is 12\n",
      "x resids acorr p: 0.911106024152\n",
      "y resids acorr 0.567888529108\n",
      "x does NOT cause y: 1.0\n",
      "y does NOT cause x: 0.06\n",
      "-------------------------------\n",
      "y=relativeFlowVolumes,   x=fees\n"
     ]
    },
    {
     "name": "stderr",
     "output_type": "stream",
     "text": [
      "/usr/local/lib/python3.5/dist-packages/statsmodels/tsa/base/tsa_model.py:221: ValueWarning: An unsupported index was provided and will be ignored when e.g. forecasting.\n",
      "  ' ignored when e.g. forecasting.', ValueWarning)\n",
      "/usr/local/lib/python3.5/dist-packages/statsmodels/tsa/base/tsa_model.py:221: ValueWarning: An unsupported index was provided and will be ignored when e.g. forecasting.\n",
      "  ' ignored when e.g. forecasting.', ValueWarning)\n",
      "/usr/local/lib/python3.5/dist-packages/statsmodels/base/model.py:1532: ValueWarning: covariance of constraints does not have full rank. The number of constraints is 7, but rank is 6\n",
      "  'rank is %d' % (J, J_), ValueWarning)\n",
      "/usr/local/lib/python3.5/dist-packages/statsmodels/base/model.py:1532: ValueWarning: covariance of constraints does not have full rank. The number of constraints is 8, but rank is 7\n",
      "  'rank is %d' % (J, J_), ValueWarning)\n",
      "/usr/local/lib/python3.5/dist-packages/statsmodels/base/model.py:1532: ValueWarning: covariance of constraints does not have full rank. The number of constraints is 9, but rank is 8\n",
      "  'rank is %d' % (J, J_), ValueWarning)\n",
      "/usr/local/lib/python3.5/dist-packages/statsmodels/base/model.py:1532: ValueWarning: covariance of constraints does not have full rank. The number of constraints is 10, but rank is 9\n",
      "  'rank is %d' % (J, J_), ValueWarning)\n",
      "/usr/local/lib/python3.5/dist-packages/statsmodels/base/model.py:1532: ValueWarning: covariance of constraints does not have full rank. The number of constraints is 11, but rank is 9\n",
      "  'rank is %d' % (J, J_), ValueWarning)\n",
      "/usr/local/lib/python3.5/dist-packages/statsmodels/base/model.py:1532: ValueWarning: covariance of constraints does not have full rank. The number of constraints is 12, but rank is 10\n",
      "  'rank is %d' % (J, J_), ValueWarning)\n",
      "/usr/local/lib/python3.5/dist-packages/statsmodels/tsa/base/tsa_model.py:221: ValueWarning: An unsupported index was provided and will be ignored when e.g. forecasting.\n",
      "  ' ignored when e.g. forecasting.', ValueWarning)\n"
     ]
    },
    {
     "name": "stdout",
     "output_type": "stream",
     "text": [
      "lag is 14\n",
      "x resids acorr p: 0.996004785333\n",
      "y resids acorr 0.994838838586\n",
      "x does NOT cause y: 0.934\n",
      "y does NOT cause x: 0.117\n",
      "-------------------------------\n",
      "y=synchronizedPrices,   x=fees\n",
      "lag is 14\n",
      "x resids acorr p: 0.936795163394\n",
      "y resids acorr 0.919137699669\n",
      "x does NOT cause y: 0.0\n",
      "y does NOT cause x: 0.023\n",
      "-------------------------------\n",
      "y=unspents,   x=fees\n"
     ]
    },
    {
     "name": "stderr",
     "output_type": "stream",
     "text": [
      "/usr/local/lib/python3.5/dist-packages/statsmodels/tsa/base/tsa_model.py:221: ValueWarning: An unsupported index was provided and will be ignored when e.g. forecasting.\n",
      "  ' ignored when e.g. forecasting.', ValueWarning)\n",
      "/usr/local/lib/python3.5/dist-packages/statsmodels/tsa/base/tsa_model.py:221: ValueWarning: An unsupported index was provided and will be ignored when e.g. forecasting.\n",
      "  ' ignored when e.g. forecasting.', ValueWarning)\n"
     ]
    },
    {
     "name": "stdout",
     "output_type": "stream",
     "text": [
      "lag is 15\n",
      "x resids acorr p: 0.702139657843\n",
      "y resids acorr 0.782912534741\n",
      "x does NOT cause y: 0.0\n",
      "y does NOT cause x: 0.0\n",
      "-------------------------------\n"
     ]
    }
   ],
   "source": [
    "todaYamamotoWithCol(bdf, S_FEES, 1)"
   ]
  },
  {
   "cell_type": "code",
   "execution_count": 395,
   "metadata": {},
   "outputs": [
    {
     "data": {
      "text/html": [
       "<div>\n",
       "<style scoped>\n",
       "    .dataframe tbody tr th:only-of-type {\n",
       "        vertical-align: middle;\n",
       "    }\n",
       "\n",
       "    .dataframe tbody tr th {\n",
       "        vertical-align: top;\n",
       "    }\n",
       "\n",
       "    .dataframe thead th {\n",
       "        text-align: right;\n",
       "    }\n",
       "</style>\n",
       "<table border=\"1\" class=\"dataframe\">\n",
       "  <thead>\n",
       "    <tr style=\"text-align: right;\">\n",
       "      <th></th>\n",
       "      <th>NacamotoCoefs</th>\n",
       "      <th>activeClustersCounts</th>\n",
       "      <th>fees</th>\n",
       "      <th>ginisOfClustersWealth</th>\n",
       "      <th>nonEmptyClustersCounts</th>\n",
       "      <th>relativeFlowVolumes</th>\n",
       "      <th>synchronizedPrices</th>\n",
       "      <th>times</th>\n",
       "      <th>unspents</th>\n",
       "    </tr>\n",
       "  </thead>\n",
       "  <tbody>\n",
       "    <tr>\n",
       "      <th>236</th>\n",
       "      <td>2.4</td>\n",
       "      <td>76405.4</td>\n",
       "      <td>3.183490e+10</td>\n",
       "      <td>-3.909305</td>\n",
       "      <td>13.796953</td>\n",
       "      <td>-1.501054</td>\n",
       "      <td>4.780832</td>\n",
       "      <td>2013-05-20 01:27:13</td>\n",
       "      <td>9.344180e+11</td>\n",
       "    </tr>\n",
       "    <tr>\n",
       "      <th>237</th>\n",
       "      <td>2.6</td>\n",
       "      <td>70323.8</td>\n",
       "      <td>3.115314e+10</td>\n",
       "      <td>-3.917940</td>\n",
       "      <td>13.807275</td>\n",
       "      <td>-1.587155</td>\n",
       "      <td>4.800500</td>\n",
       "      <td>2013-05-26 09:31:45</td>\n",
       "      <td>9.954470e+11</td>\n",
       "    </tr>\n",
       "    <tr>\n",
       "      <th>238</th>\n",
       "      <td>2.8</td>\n",
       "      <td>63239.8</td>\n",
       "      <td>2.877500e+10</td>\n",
       "      <td>-3.924782</td>\n",
       "      <td>13.815170</td>\n",
       "      <td>-1.582121</td>\n",
       "      <td>4.827393</td>\n",
       "      <td>2013-06-01 05:23:03</td>\n",
       "      <td>9.380164e+11</td>\n",
       "    </tr>\n",
       "    <tr>\n",
       "      <th>239</th>\n",
       "      <td>3.0</td>\n",
       "      <td>57896.8</td>\n",
       "      <td>2.553067e+10</td>\n",
       "      <td>-3.933151</td>\n",
       "      <td>13.821637</td>\n",
       "      <td>-1.672538</td>\n",
       "      <td>4.807320</td>\n",
       "      <td>2013-06-06 03:34:30</td>\n",
       "      <td>7.577512e+11</td>\n",
       "    </tr>\n",
       "    <tr>\n",
       "      <th>240</th>\n",
       "      <td>3.0</td>\n",
       "      <td>55305.4</td>\n",
       "      <td>2.536594e+10</td>\n",
       "      <td>-3.940061</td>\n",
       "      <td>13.827379</td>\n",
       "      <td>-1.708188</td>\n",
       "      <td>4.767439</td>\n",
       "      <td>2013-06-11 22:09:17</td>\n",
       "      <td>8.132155e+11</td>\n",
       "    </tr>\n",
       "    <tr>\n",
       "      <th>241</th>\n",
       "      <td>3.0</td>\n",
       "      <td>53072.0</td>\n",
       "      <td>2.423639e+10</td>\n",
       "      <td>-3.946957</td>\n",
       "      <td>13.832579</td>\n",
       "      <td>-1.671140</td>\n",
       "      <td>4.722011</td>\n",
       "      <td>2013-06-17 10:09:06</td>\n",
       "      <td>8.102716e+11</td>\n",
       "    </tr>\n",
       "    <tr>\n",
       "      <th>242</th>\n",
       "      <td>3.0</td>\n",
       "      <td>52454.8</td>\n",
       "      <td>2.249671e+10</td>\n",
       "      <td>-3.954436</td>\n",
       "      <td>13.837622</td>\n",
       "      <td>-1.586595</td>\n",
       "      <td>4.657139</td>\n",
       "      <td>2013-06-23 20:25:36</td>\n",
       "      <td>7.903806e+11</td>\n",
       "    </tr>\n",
       "    <tr>\n",
       "      <th>243</th>\n",
       "      <td>3.0</td>\n",
       "      <td>50320.0</td>\n",
       "      <td>2.097004e+10</td>\n",
       "      <td>-3.960468</td>\n",
       "      <td>13.842402</td>\n",
       "      <td>-1.533776</td>\n",
       "      <td>4.569373</td>\n",
       "      <td>2013-06-29 23:10:49</td>\n",
       "      <td>8.832214e+11</td>\n",
       "    </tr>\n",
       "    <tr>\n",
       "      <th>244</th>\n",
       "      <td>3.0</td>\n",
       "      <td>50862.4</td>\n",
       "      <td>2.057365e+10</td>\n",
       "      <td>-3.966433</td>\n",
       "      <td>13.847042</td>\n",
       "      <td>-1.418850</td>\n",
       "      <td>4.526991</td>\n",
       "      <td>2013-07-05 23:19:46</td>\n",
       "      <td>8.465595e+11</td>\n",
       "    </tr>\n",
       "    <tr>\n",
       "      <th>245</th>\n",
       "      <td>3.0</td>\n",
       "      <td>48634.2</td>\n",
       "      <td>1.779667e+10</td>\n",
       "      <td>-3.972529</td>\n",
       "      <td>13.851636</td>\n",
       "      <td>-1.377191</td>\n",
       "      <td>4.524102</td>\n",
       "      <td>2013-07-11 07:28:20</td>\n",
       "      <td>7.578488e+11</td>\n",
       "    </tr>\n",
       "    <tr>\n",
       "      <th>246</th>\n",
       "      <td>3.0</td>\n",
       "      <td>47249.6</td>\n",
       "      <td>1.686321e+10</td>\n",
       "      <td>-3.978212</td>\n",
       "      <td>13.855937</td>\n",
       "      <td>-1.356240</td>\n",
       "      <td>4.489846</td>\n",
       "      <td>2013-07-17 09:43:22</td>\n",
       "      <td>7.303116e+11</td>\n",
       "    </tr>\n",
       "    <tr>\n",
       "      <th>247</th>\n",
       "      <td>3.0</td>\n",
       "      <td>53800.2</td>\n",
       "      <td>1.726369e+10</td>\n",
       "      <td>-3.988147</td>\n",
       "      <td>13.865976</td>\n",
       "      <td>-1.355524</td>\n",
       "      <td>4.500780</td>\n",
       "      <td>2013-07-22 23:46:49</td>\n",
       "      <td>6.717322e+11</td>\n",
       "    </tr>\n",
       "    <tr>\n",
       "      <th>248</th>\n",
       "      <td>3.0</td>\n",
       "      <td>54418.2</td>\n",
       "      <td>1.791088e+10</td>\n",
       "      <td>-3.998993</td>\n",
       "      <td>13.876106</td>\n",
       "      <td>-1.421180</td>\n",
       "      <td>4.556512</td>\n",
       "      <td>2013-07-29 05:54:30</td>\n",
       "      <td>5.791965e+11</td>\n",
       "    </tr>\n",
       "    <tr>\n",
       "      <th>249</th>\n",
       "      <td>3.0</td>\n",
       "      <td>53353.8</td>\n",
       "      <td>1.738117e+10</td>\n",
       "      <td>-4.009194</td>\n",
       "      <td>13.886124</td>\n",
       "      <td>-1.544324</td>\n",
       "      <td>4.590575</td>\n",
       "      <td>2013-08-03 12:31:12</td>\n",
       "      <td>5.987186e+11</td>\n",
       "    </tr>\n",
       "    <tr>\n",
       "      <th>250</th>\n",
       "      <td>3.0</td>\n",
       "      <td>55582.2</td>\n",
       "      <td>1.934093e+10</td>\n",
       "      <td>-4.018954</td>\n",
       "      <td>13.895937</td>\n",
       "      <td>-1.525640</td>\n",
       "      <td>4.604409</td>\n",
       "      <td>2013-08-08 23:07:23</td>\n",
       "      <td>5.698656e+11</td>\n",
       "    </tr>\n",
       "    <tr>\n",
       "      <th>251</th>\n",
       "      <td>3.0</td>\n",
       "      <td>56507.8</td>\n",
       "      <td>1.954215e+10</td>\n",
       "      <td>-4.028142</td>\n",
       "      <td>13.905855</td>\n",
       "      <td>-1.507857</td>\n",
       "      <td>4.659090</td>\n",
       "      <td>2013-08-13 18:08:14</td>\n",
       "      <td>6.362363e+11</td>\n",
       "    </tr>\n",
       "    <tr>\n",
       "      <th>252</th>\n",
       "      <td>3.0</td>\n",
       "      <td>49589.8</td>\n",
       "      <td>2.441283e+10</td>\n",
       "      <td>-4.031439</td>\n",
       "      <td>13.909796</td>\n",
       "      <td>-1.549619</td>\n",
       "      <td>4.699155</td>\n",
       "      <td>2013-08-19 11:09:07</td>\n",
       "      <td>5.884647e+11</td>\n",
       "    </tr>\n",
       "    <tr>\n",
       "      <th>253</th>\n",
       "      <td>3.0</td>\n",
       "      <td>49576.6</td>\n",
       "      <td>2.372578e+10</td>\n",
       "      <td>-4.034499</td>\n",
       "      <td>13.914274</td>\n",
       "      <td>-1.549108</td>\n",
       "      <td>4.743127</td>\n",
       "      <td>2013-08-24 12:03:12</td>\n",
       "      <td>6.282621e+11</td>\n",
       "    </tr>\n",
       "    <tr>\n",
       "      <th>254</th>\n",
       "      <td>3.0</td>\n",
       "      <td>51013.4</td>\n",
       "      <td>2.397574e+10</td>\n",
       "      <td>-4.036933</td>\n",
       "      <td>13.918141</td>\n",
       "      <td>-1.495793</td>\n",
       "      <td>4.800143</td>\n",
       "      <td>2013-08-30 06:39:30</td>\n",
       "      <td>6.710906e+11</td>\n",
       "    </tr>\n",
       "    <tr>\n",
       "      <th>255</th>\n",
       "      <td>2.8</td>\n",
       "      <td>48669.2</td>\n",
       "      <td>2.134292e+10</td>\n",
       "      <td>-4.038405</td>\n",
       "      <td>13.921511</td>\n",
       "      <td>-1.593925</td>\n",
       "      <td>4.835217</td>\n",
       "      <td>2013-09-04 01:22:25</td>\n",
       "      <td>7.077215e+11</td>\n",
       "    </tr>\n",
       "    <tr>\n",
       "      <th>256</th>\n",
       "      <td>2.6</td>\n",
       "      <td>47831.2</td>\n",
       "      <td>2.934518e+10</td>\n",
       "      <td>-4.039137</td>\n",
       "      <td>13.924672</td>\n",
       "      <td>-1.667035</td>\n",
       "      <td>4.855393</td>\n",
       "      <td>2013-09-09 21:04:20</td>\n",
       "      <td>6.616103e+11</td>\n",
       "    </tr>\n",
       "    <tr>\n",
       "      <th>257</th>\n",
       "      <td>2.4</td>\n",
       "      <td>46595.0</td>\n",
       "      <td>2.360865e+10</td>\n",
       "      <td>-4.039753</td>\n",
       "      <td>13.928000</td>\n",
       "      <td>-1.709867</td>\n",
       "      <td>4.868457</td>\n",
       "      <td>2013-09-14 18:21:27</td>\n",
       "      <td>7.848966e+11</td>\n",
       "    </tr>\n",
       "    <tr>\n",
       "      <th>258</th>\n",
       "      <td>2.4</td>\n",
       "      <td>47356.2</td>\n",
       "      <td>2.466708e+10</td>\n",
       "      <td>-4.039666</td>\n",
       "      <td>13.930741</td>\n",
       "      <td>-1.711652</td>\n",
       "      <td>4.866575</td>\n",
       "      <td>2013-09-20 09:43:25</td>\n",
       "      <td>8.611245e+11</td>\n",
       "    </tr>\n",
       "    <tr>\n",
       "      <th>259</th>\n",
       "      <td>2.4</td>\n",
       "      <td>46916.8</td>\n",
       "      <td>2.464654e+10</td>\n",
       "      <td>-4.038678</td>\n",
       "      <td>13.934346</td>\n",
       "      <td>-1.677169</td>\n",
       "      <td>4.862601</td>\n",
       "      <td>2013-09-25 07:24:54</td>\n",
       "      <td>8.722229e+11</td>\n",
       "    </tr>\n",
       "    <tr>\n",
       "      <th>260</th>\n",
       "      <td>2.6</td>\n",
       "      <td>49165.4</td>\n",
       "      <td>2.524471e+10</td>\n",
       "      <td>-4.039063</td>\n",
       "      <td>13.938431</td>\n",
       "      <td>-1.611034</td>\n",
       "      <td>4.864428</td>\n",
       "      <td>2013-10-01 00:55:19</td>\n",
       "      <td>8.631824e+11</td>\n",
       "    </tr>\n",
       "    <tr>\n",
       "      <th>261</th>\n",
       "      <td>2.8</td>\n",
       "      <td>50187.6</td>\n",
       "      <td>1.636438e+10</td>\n",
       "      <td>-4.042591</td>\n",
       "      <td>13.943892</td>\n",
       "      <td>-1.634577</td>\n",
       "      <td>4.862716</td>\n",
       "      <td>2013-10-06 02:47:33</td>\n",
       "      <td>8.073730e+11</td>\n",
       "    </tr>\n",
       "    <tr>\n",
       "      <th>262</th>\n",
       "      <td>3.0</td>\n",
       "      <td>53078.4</td>\n",
       "      <td>1.716913e+10</td>\n",
       "      <td>-4.046732</td>\n",
       "      <td>13.949513</td>\n",
       "      <td>-1.648563</td>\n",
       "      <td>4.884842</td>\n",
       "      <td>2013-10-11 21:13:24</td>\n",
       "      <td>7.471900e+11</td>\n",
       "    </tr>\n",
       "    <tr>\n",
       "      <th>263</th>\n",
       "      <td>3.0</td>\n",
       "      <td>54110.6</td>\n",
       "      <td>1.686988e+10</td>\n",
       "      <td>-4.046945</td>\n",
       "      <td>13.955184</td>\n",
       "      <td>-1.601798</td>\n",
       "      <td>4.954603</td>\n",
       "      <td>2013-10-16 03:41:14</td>\n",
       "      <td>6.969221e+11</td>\n",
       "    </tr>\n",
       "    <tr>\n",
       "      <th>264</th>\n",
       "      <td>2.8</td>\n",
       "      <td>56264.4</td>\n",
       "      <td>1.783785e+10</td>\n",
       "      <td>-4.049261</td>\n",
       "      <td>13.960943</td>\n",
       "      <td>-1.626790</td>\n",
       "      <td>5.007268</td>\n",
       "      <td>2013-10-21 04:41:08</td>\n",
       "      <td>1.519022e+12</td>\n",
       "    </tr>\n",
       "    <tr>\n",
       "      <th>265</th>\n",
       "      <td>2.8</td>\n",
       "      <td>56632.0</td>\n",
       "      <td>1.843816e+10</td>\n",
       "      <td>-4.051674</td>\n",
       "      <td>13.967013</td>\n",
       "      <td>-1.685523</td>\n",
       "      <td>5.101057</td>\n",
       "      <td>2013-10-25 16:05:44</td>\n",
       "      <td>1.580842e+12</td>\n",
       "    </tr>\n",
       "    <tr>\n",
       "      <th>...</th>\n",
       "      <td>...</td>\n",
       "      <td>...</td>\n",
       "      <td>...</td>\n",
       "      <td>...</td>\n",
       "      <td>...</td>\n",
       "      <td>...</td>\n",
       "      <td>...</td>\n",
       "      <td>...</td>\n",
       "      <td>...</td>\n",
       "    </tr>\n",
       "    <tr>\n",
       "      <th>478</th>\n",
       "      <td>6.8</td>\n",
       "      <td>977877.8</td>\n",
       "      <td>1.218421e+11</td>\n",
       "      <td>-4.780018</td>\n",
       "      <td>16.078723</td>\n",
       "      <td>-0.117063</td>\n",
       "      <td>8.062835</td>\n",
       "      <td>2017-08-04 11:46:04</td>\n",
       "      <td>1.564712e+13</td>\n",
       "    </tr>\n",
       "    <tr>\n",
       "      <th>479</th>\n",
       "      <td>6.8</td>\n",
       "      <td>1036893.8</td>\n",
       "      <td>1.503302e+11</td>\n",
       "      <td>-4.765714</td>\n",
       "      <td>16.090908</td>\n",
       "      <td>-0.106451</td>\n",
       "      <td>8.143755</td>\n",
       "      <td>2017-08-10 23:23:31</td>\n",
       "      <td>1.758603e+13</td>\n",
       "    </tr>\n",
       "    <tr>\n",
       "      <th>480</th>\n",
       "      <td>6.6</td>\n",
       "      <td>1085571.4</td>\n",
       "      <td>1.849457e+11</td>\n",
       "      <td>-4.756019</td>\n",
       "      <td>16.103263</td>\n",
       "      <td>-0.315897</td>\n",
       "      <td>8.254254</td>\n",
       "      <td>2017-08-17 21:37:36</td>\n",
       "      <td>1.858641e+13</td>\n",
       "    </tr>\n",
       "    <tr>\n",
       "      <th>481</th>\n",
       "      <td>6.2</td>\n",
       "      <td>1085121.6</td>\n",
       "      <td>1.995201e+11</td>\n",
       "      <td>-4.751468</td>\n",
       "      <td>16.115024</td>\n",
       "      <td>-0.572855</td>\n",
       "      <td>8.349628</td>\n",
       "      <td>2017-08-25 19:46:42</td>\n",
       "      <td>1.296222e+13</td>\n",
       "    </tr>\n",
       "    <tr>\n",
       "      <th>482</th>\n",
       "      <td>5.8</td>\n",
       "      <td>1066362.2</td>\n",
       "      <td>2.018663e+11</td>\n",
       "      <td>-4.745125</td>\n",
       "      <td>16.126231</td>\n",
       "      <td>-0.616508</td>\n",
       "      <td>8.378125</td>\n",
       "      <td>2017-09-01 16:27:17</td>\n",
       "      <td>1.065607e+13</td>\n",
       "    </tr>\n",
       "    <tr>\n",
       "      <th>483</th>\n",
       "      <td>5.8</td>\n",
       "      <td>1017384.8</td>\n",
       "      <td>1.806789e+11</td>\n",
       "      <td>-4.736430</td>\n",
       "      <td>16.136644</td>\n",
       "      <td>-0.689578</td>\n",
       "      <td>8.359152</td>\n",
       "      <td>2017-09-07 11:45:18</td>\n",
       "      <td>9.979494e+12</td>\n",
       "    </tr>\n",
       "    <tr>\n",
       "      <th>484</th>\n",
       "      <td>5.6</td>\n",
       "      <td>981794.8</td>\n",
       "      <td>1.429736e+11</td>\n",
       "      <td>-4.727073</td>\n",
       "      <td>16.146126</td>\n",
       "      <td>-0.742286</td>\n",
       "      <td>8.341907</td>\n",
       "      <td>2017-09-13 09:45:32</td>\n",
       "      <td>8.507762e+12</td>\n",
       "    </tr>\n",
       "    <tr>\n",
       "      <th>485</th>\n",
       "      <td>5.6</td>\n",
       "      <td>972162.2</td>\n",
       "      <td>1.054172e+11</td>\n",
       "      <td>-4.717301</td>\n",
       "      <td>16.155379</td>\n",
       "      <td>-0.730615</td>\n",
       "      <td>8.321130</td>\n",
       "      <td>2017-09-19 09:02:39</td>\n",
       "      <td>7.943416e+12</td>\n",
       "    </tr>\n",
       "    <tr>\n",
       "      <th>486</th>\n",
       "      <td>5.8</td>\n",
       "      <td>990472.8</td>\n",
       "      <td>9.004500e+10</td>\n",
       "      <td>-4.708489</td>\n",
       "      <td>16.164742</td>\n",
       "      <td>-0.785565</td>\n",
       "      <td>8.328576</td>\n",
       "      <td>2017-09-26 05:20:16</td>\n",
       "      <td>7.462355e+12</td>\n",
       "    </tr>\n",
       "    <tr>\n",
       "      <th>487</th>\n",
       "      <td>6.0</td>\n",
       "      <td>1048803.0</td>\n",
       "      <td>9.468140e+10</td>\n",
       "      <td>-4.701458</td>\n",
       "      <td>16.175292</td>\n",
       "      <td>-0.768764</td>\n",
       "      <td>8.404753</td>\n",
       "      <td>2017-10-02 20:44:07</td>\n",
       "      <td>7.856329e+12</td>\n",
       "    </tr>\n",
       "    <tr>\n",
       "      <th>488</th>\n",
       "      <td>6.0</td>\n",
       "      <td>1110728.2</td>\n",
       "      <td>9.952613e+10</td>\n",
       "      <td>-4.694898</td>\n",
       "      <td>16.187209</td>\n",
       "      <td>-0.757964</td>\n",
       "      <td>8.492424</td>\n",
       "      <td>2017-10-09 05:54:54</td>\n",
       "      <td>8.328562e+12</td>\n",
       "    </tr>\n",
       "    <tr>\n",
       "      <th>489</th>\n",
       "      <td>6.0</td>\n",
       "      <td>1136171.0</td>\n",
       "      <td>1.011942e+11</td>\n",
       "      <td>-4.687021</td>\n",
       "      <td>16.200090</td>\n",
       "      <td>-0.742388</td>\n",
       "      <td>8.573383</td>\n",
       "      <td>2017-10-15 17:54:42</td>\n",
       "      <td>1.016276e+13</td>\n",
       "    </tr>\n",
       "    <tr>\n",
       "      <th>490</th>\n",
       "      <td>5.8</td>\n",
       "      <td>1216631.0</td>\n",
       "      <td>1.215617e+11</td>\n",
       "      <td>-4.680235</td>\n",
       "      <td>16.214652</td>\n",
       "      <td>-0.718600</td>\n",
       "      <td>8.677861</td>\n",
       "      <td>2017-10-21 16:10:35</td>\n",
       "      <td>1.110111e+13</td>\n",
       "    </tr>\n",
       "    <tr>\n",
       "      <th>491</th>\n",
       "      <td>5.8</td>\n",
       "      <td>1298542.0</td>\n",
       "      <td>1.448857e+11</td>\n",
       "      <td>-4.675124</td>\n",
       "      <td>16.230483</td>\n",
       "      <td>-0.607445</td>\n",
       "      <td>8.736041</td>\n",
       "      <td>2017-10-27 16:05:29</td>\n",
       "      <td>1.262686e+13</td>\n",
       "    </tr>\n",
       "    <tr>\n",
       "      <th>492</th>\n",
       "      <td>5.4</td>\n",
       "      <td>1336932.8</td>\n",
       "      <td>1.993663e+11</td>\n",
       "      <td>-4.668569</td>\n",
       "      <td>16.246503</td>\n",
       "      <td>-0.362254</td>\n",
       "      <td>8.804675</td>\n",
       "      <td>2017-11-04 05:10:12</td>\n",
       "      <td>1.578409e+13</td>\n",
       "    </tr>\n",
       "    <tr>\n",
       "      <th>493</th>\n",
       "      <td>5.2</td>\n",
       "      <td>1348605.2</td>\n",
       "      <td>2.111272e+11</td>\n",
       "      <td>-4.661230</td>\n",
       "      <td>16.262269</td>\n",
       "      <td>-0.216072</td>\n",
       "      <td>8.878517</td>\n",
       "      <td>2017-11-11 11:02:12</td>\n",
       "      <td>1.641079e+13</td>\n",
       "    </tr>\n",
       "    <tr>\n",
       "      <th>494</th>\n",
       "      <td>5.2</td>\n",
       "      <td>1444315.6</td>\n",
       "      <td>2.212995e+11</td>\n",
       "      <td>-4.655299</td>\n",
       "      <td>16.279797</td>\n",
       "      <td>-0.183959</td>\n",
       "      <td>9.007293</td>\n",
       "      <td>2017-11-19 00:42:46</td>\n",
       "      <td>1.673192e+13</td>\n",
       "    </tr>\n",
       "    <tr>\n",
       "      <th>495</th>\n",
       "      <td>5.2</td>\n",
       "      <td>1471402.2</td>\n",
       "      <td>2.080120e+11</td>\n",
       "      <td>-4.646971</td>\n",
       "      <td>16.297888</td>\n",
       "      <td>-0.174996</td>\n",
       "      <td>9.190712</td>\n",
       "      <td>2017-11-25 07:03:18</td>\n",
       "      <td>1.691556e+13</td>\n",
       "    </tr>\n",
       "    <tr>\n",
       "      <th>496</th>\n",
       "      <td>5.0</td>\n",
       "      <td>1567431.8</td>\n",
       "      <td>2.303266e+11</td>\n",
       "      <td>-4.636594</td>\n",
       "      <td>16.318394</td>\n",
       "      <td>-0.151455</td>\n",
       "      <td>9.381512</td>\n",
       "      <td>2017-12-01 09:30:23</td>\n",
       "      <td>1.920340e+13</td>\n",
       "    </tr>\n",
       "    <tr>\n",
       "      <th>497</th>\n",
       "      <td>5.2</td>\n",
       "      <td>1634330.0</td>\n",
       "      <td>2.154097e+11</td>\n",
       "      <td>-4.626306</td>\n",
       "      <td>16.340177</td>\n",
       "      <td>-0.381677</td>\n",
       "      <td>9.556203</td>\n",
       "      <td>2017-12-07 00:27:26</td>\n",
       "      <td>1.918384e+13</td>\n",
       "    </tr>\n",
       "    <tr>\n",
       "      <th>498</th>\n",
       "      <td>5.0</td>\n",
       "      <td>1707722.8</td>\n",
       "      <td>3.179546e+11</td>\n",
       "      <td>-4.620358</td>\n",
       "      <td>16.362457</td>\n",
       "      <td>-0.554020</td>\n",
       "      <td>9.654639</td>\n",
       "      <td>2017-12-13 04:09:24</td>\n",
       "      <td>2.006161e+13</td>\n",
       "    </tr>\n",
       "    <tr>\n",
       "      <th>499</th>\n",
       "      <td>4.8</td>\n",
       "      <td>1658796.8</td>\n",
       "      <td>3.827225e+11</td>\n",
       "      <td>-4.614991</td>\n",
       "      <td>16.383113</td>\n",
       "      <td>-0.616829</td>\n",
       "      <td>9.704282</td>\n",
       "      <td>2017-12-18 18:34:47</td>\n",
       "      <td>2.336124e+13</td>\n",
       "    </tr>\n",
       "    <tr>\n",
       "      <th>500</th>\n",
       "      <td>4.6</td>\n",
       "      <td>1635923.4</td>\n",
       "      <td>4.433442e+11</td>\n",
       "      <td>-4.611791</td>\n",
       "      <td>16.402346</td>\n",
       "      <td>-0.683708</td>\n",
       "      <td>9.687934</td>\n",
       "      <td>2017-12-25 17:33:42</td>\n",
       "      <td>2.491213e+13</td>\n",
       "    </tr>\n",
       "    <tr>\n",
       "      <th>501</th>\n",
       "      <td>4.4</td>\n",
       "      <td>1521307.4</td>\n",
       "      <td>4.602252e+11</td>\n",
       "      <td>-4.610427</td>\n",
       "      <td>16.418468</td>\n",
       "      <td>-0.799892</td>\n",
       "      <td>9.671130</td>\n",
       "      <td>2018-01-01 05:27:20</td>\n",
       "      <td>2.591144e+13</td>\n",
       "    </tr>\n",
       "    <tr>\n",
       "      <th>502</th>\n",
       "      <td>4.2</td>\n",
       "      <td>1413604.8</td>\n",
       "      <td>4.684048e+11</td>\n",
       "      <td>-4.610741</td>\n",
       "      <td>16.432651</td>\n",
       "      <td>-0.906633</td>\n",
       "      <td>9.573187</td>\n",
       "      <td>2018-01-07 11:17:10</td>\n",
       "      <td>2.569848e+13</td>\n",
       "    </tr>\n",
       "    <tr>\n",
       "      <th>503</th>\n",
       "      <td>4.2</td>\n",
       "      <td>1268412.2</td>\n",
       "      <td>3.694146e+11</td>\n",
       "      <td>-4.608418</td>\n",
       "      <td>16.444913</td>\n",
       "      <td>-1.047128</td>\n",
       "      <td>9.524730</td>\n",
       "      <td>2018-01-13 07:11:12</td>\n",
       "      <td>2.522844e+13</td>\n",
       "    </tr>\n",
       "    <tr>\n",
       "      <th>504</th>\n",
       "      <td>4.0</td>\n",
       "      <td>1216402.4</td>\n",
       "      <td>2.982393e+11</td>\n",
       "      <td>-4.607266</td>\n",
       "      <td>16.457092</td>\n",
       "      <td>-1.149107</td>\n",
       "      <td>9.455896</td>\n",
       "      <td>2018-01-19 16:27:55</td>\n",
       "      <td>2.329006e+13</td>\n",
       "    </tr>\n",
       "    <tr>\n",
       "      <th>505</th>\n",
       "      <td>3.8</td>\n",
       "      <td>1102521.4</td>\n",
       "      <td>2.345379e+11</td>\n",
       "      <td>-4.607934</td>\n",
       "      <td>16.468330</td>\n",
       "      <td>-1.196724</td>\n",
       "      <td>9.273695</td>\n",
       "      <td>2018-01-25 04:47:32</td>\n",
       "      <td>2.426500e+13</td>\n",
       "    </tr>\n",
       "    <tr>\n",
       "      <th>506</th>\n",
       "      <td>3.6</td>\n",
       "      <td>1012674.8</td>\n",
       "      <td>1.663652e+11</td>\n",
       "      <td>-4.605385</td>\n",
       "      <td>16.478877</td>\n",
       "      <td>-1.163173</td>\n",
       "      <td>9.166990</td>\n",
       "      <td>2018-01-31 18:48:43</td>\n",
       "      <td>2.277217e+13</td>\n",
       "    </tr>\n",
       "    <tr>\n",
       "      <th>507</th>\n",
       "      <td>3.4</td>\n",
       "      <td>946210.6</td>\n",
       "      <td>1.009200e+11</td>\n",
       "      <td>-4.600833</td>\n",
       "      <td>16.488960</td>\n",
       "      <td>-1.067737</td>\n",
       "      <td>9.144796</td>\n",
       "      <td>2018-02-06 19:24:33</td>\n",
       "      <td>2.122049e+13</td>\n",
       "    </tr>\n",
       "  </tbody>\n",
       "</table>\n",
       "<p>272 rows × 9 columns</p>\n",
       "</div>"
      ],
      "text/plain": [
       "     NacamotoCoefs  activeClustersCounts          fees  ginisOfClustersWealth  \\\n",
       "236            2.4               76405.4  3.183490e+10              -3.909305   \n",
       "237            2.6               70323.8  3.115314e+10              -3.917940   \n",
       "238            2.8               63239.8  2.877500e+10              -3.924782   \n",
       "239            3.0               57896.8  2.553067e+10              -3.933151   \n",
       "240            3.0               55305.4  2.536594e+10              -3.940061   \n",
       "241            3.0               53072.0  2.423639e+10              -3.946957   \n",
       "242            3.0               52454.8  2.249671e+10              -3.954436   \n",
       "243            3.0               50320.0  2.097004e+10              -3.960468   \n",
       "244            3.0               50862.4  2.057365e+10              -3.966433   \n",
       "245            3.0               48634.2  1.779667e+10              -3.972529   \n",
       "246            3.0               47249.6  1.686321e+10              -3.978212   \n",
       "247            3.0               53800.2  1.726369e+10              -3.988147   \n",
       "248            3.0               54418.2  1.791088e+10              -3.998993   \n",
       "249            3.0               53353.8  1.738117e+10              -4.009194   \n",
       "250            3.0               55582.2  1.934093e+10              -4.018954   \n",
       "251            3.0               56507.8  1.954215e+10              -4.028142   \n",
       "252            3.0               49589.8  2.441283e+10              -4.031439   \n",
       "253            3.0               49576.6  2.372578e+10              -4.034499   \n",
       "254            3.0               51013.4  2.397574e+10              -4.036933   \n",
       "255            2.8               48669.2  2.134292e+10              -4.038405   \n",
       "256            2.6               47831.2  2.934518e+10              -4.039137   \n",
       "257            2.4               46595.0  2.360865e+10              -4.039753   \n",
       "258            2.4               47356.2  2.466708e+10              -4.039666   \n",
       "259            2.4               46916.8  2.464654e+10              -4.038678   \n",
       "260            2.6               49165.4  2.524471e+10              -4.039063   \n",
       "261            2.8               50187.6  1.636438e+10              -4.042591   \n",
       "262            3.0               53078.4  1.716913e+10              -4.046732   \n",
       "263            3.0               54110.6  1.686988e+10              -4.046945   \n",
       "264            2.8               56264.4  1.783785e+10              -4.049261   \n",
       "265            2.8               56632.0  1.843816e+10              -4.051674   \n",
       "..             ...                   ...           ...                    ...   \n",
       "478            6.8              977877.8  1.218421e+11              -4.780018   \n",
       "479            6.8             1036893.8  1.503302e+11              -4.765714   \n",
       "480            6.6             1085571.4  1.849457e+11              -4.756019   \n",
       "481            6.2             1085121.6  1.995201e+11              -4.751468   \n",
       "482            5.8             1066362.2  2.018663e+11              -4.745125   \n",
       "483            5.8             1017384.8  1.806789e+11              -4.736430   \n",
       "484            5.6              981794.8  1.429736e+11              -4.727073   \n",
       "485            5.6              972162.2  1.054172e+11              -4.717301   \n",
       "486            5.8              990472.8  9.004500e+10              -4.708489   \n",
       "487            6.0             1048803.0  9.468140e+10              -4.701458   \n",
       "488            6.0             1110728.2  9.952613e+10              -4.694898   \n",
       "489            6.0             1136171.0  1.011942e+11              -4.687021   \n",
       "490            5.8             1216631.0  1.215617e+11              -4.680235   \n",
       "491            5.8             1298542.0  1.448857e+11              -4.675124   \n",
       "492            5.4             1336932.8  1.993663e+11              -4.668569   \n",
       "493            5.2             1348605.2  2.111272e+11              -4.661230   \n",
       "494            5.2             1444315.6  2.212995e+11              -4.655299   \n",
       "495            5.2             1471402.2  2.080120e+11              -4.646971   \n",
       "496            5.0             1567431.8  2.303266e+11              -4.636594   \n",
       "497            5.2             1634330.0  2.154097e+11              -4.626306   \n",
       "498            5.0             1707722.8  3.179546e+11              -4.620358   \n",
       "499            4.8             1658796.8  3.827225e+11              -4.614991   \n",
       "500            4.6             1635923.4  4.433442e+11              -4.611791   \n",
       "501            4.4             1521307.4  4.602252e+11              -4.610427   \n",
       "502            4.2             1413604.8  4.684048e+11              -4.610741   \n",
       "503            4.2             1268412.2  3.694146e+11              -4.608418   \n",
       "504            4.0             1216402.4  2.982393e+11              -4.607266   \n",
       "505            3.8             1102521.4  2.345379e+11              -4.607934   \n",
       "506            3.6             1012674.8  1.663652e+11              -4.605385   \n",
       "507            3.4              946210.6  1.009200e+11              -4.600833   \n",
       "\n",
       "     nonEmptyClustersCounts  relativeFlowVolumes  synchronizedPrices  \\\n",
       "236               13.796953            -1.501054            4.780832   \n",
       "237               13.807275            -1.587155            4.800500   \n",
       "238               13.815170            -1.582121            4.827393   \n",
       "239               13.821637            -1.672538            4.807320   \n",
       "240               13.827379            -1.708188            4.767439   \n",
       "241               13.832579            -1.671140            4.722011   \n",
       "242               13.837622            -1.586595            4.657139   \n",
       "243               13.842402            -1.533776            4.569373   \n",
       "244               13.847042            -1.418850            4.526991   \n",
       "245               13.851636            -1.377191            4.524102   \n",
       "246               13.855937            -1.356240            4.489846   \n",
       "247               13.865976            -1.355524            4.500780   \n",
       "248               13.876106            -1.421180            4.556512   \n",
       "249               13.886124            -1.544324            4.590575   \n",
       "250               13.895937            -1.525640            4.604409   \n",
       "251               13.905855            -1.507857            4.659090   \n",
       "252               13.909796            -1.549619            4.699155   \n",
       "253               13.914274            -1.549108            4.743127   \n",
       "254               13.918141            -1.495793            4.800143   \n",
       "255               13.921511            -1.593925            4.835217   \n",
       "256               13.924672            -1.667035            4.855393   \n",
       "257               13.928000            -1.709867            4.868457   \n",
       "258               13.930741            -1.711652            4.866575   \n",
       "259               13.934346            -1.677169            4.862601   \n",
       "260               13.938431            -1.611034            4.864428   \n",
       "261               13.943892            -1.634577            4.862716   \n",
       "262               13.949513            -1.648563            4.884842   \n",
       "263               13.955184            -1.601798            4.954603   \n",
       "264               13.960943            -1.626790            5.007268   \n",
       "265               13.967013            -1.685523            5.101057   \n",
       "..                      ...                  ...                 ...   \n",
       "478               16.078723            -0.117063            8.062835   \n",
       "479               16.090908            -0.106451            8.143755   \n",
       "480               16.103263            -0.315897            8.254254   \n",
       "481               16.115024            -0.572855            8.349628   \n",
       "482               16.126231            -0.616508            8.378125   \n",
       "483               16.136644            -0.689578            8.359152   \n",
       "484               16.146126            -0.742286            8.341907   \n",
       "485               16.155379            -0.730615            8.321130   \n",
       "486               16.164742            -0.785565            8.328576   \n",
       "487               16.175292            -0.768764            8.404753   \n",
       "488               16.187209            -0.757964            8.492424   \n",
       "489               16.200090            -0.742388            8.573383   \n",
       "490               16.214652            -0.718600            8.677861   \n",
       "491               16.230483            -0.607445            8.736041   \n",
       "492               16.246503            -0.362254            8.804675   \n",
       "493               16.262269            -0.216072            8.878517   \n",
       "494               16.279797            -0.183959            9.007293   \n",
       "495               16.297888            -0.174996            9.190712   \n",
       "496               16.318394            -0.151455            9.381512   \n",
       "497               16.340177            -0.381677            9.556203   \n",
       "498               16.362457            -0.554020            9.654639   \n",
       "499               16.383113            -0.616829            9.704282   \n",
       "500               16.402346            -0.683708            9.687934   \n",
       "501               16.418468            -0.799892            9.671130   \n",
       "502               16.432651            -0.906633            9.573187   \n",
       "503               16.444913            -1.047128            9.524730   \n",
       "504               16.457092            -1.149107            9.455896   \n",
       "505               16.468330            -1.196724            9.273695   \n",
       "506               16.478877            -1.163173            9.166990   \n",
       "507               16.488960            -1.067737            9.144796   \n",
       "\n",
       "                  times      unspents  \n",
       "236 2013-05-20 01:27:13  9.344180e+11  \n",
       "237 2013-05-26 09:31:45  9.954470e+11  \n",
       "238 2013-06-01 05:23:03  9.380164e+11  \n",
       "239 2013-06-06 03:34:30  7.577512e+11  \n",
       "240 2013-06-11 22:09:17  8.132155e+11  \n",
       "241 2013-06-17 10:09:06  8.102716e+11  \n",
       "242 2013-06-23 20:25:36  7.903806e+11  \n",
       "243 2013-06-29 23:10:49  8.832214e+11  \n",
       "244 2013-07-05 23:19:46  8.465595e+11  \n",
       "245 2013-07-11 07:28:20  7.578488e+11  \n",
       "246 2013-07-17 09:43:22  7.303116e+11  \n",
       "247 2013-07-22 23:46:49  6.717322e+11  \n",
       "248 2013-07-29 05:54:30  5.791965e+11  \n",
       "249 2013-08-03 12:31:12  5.987186e+11  \n",
       "250 2013-08-08 23:07:23  5.698656e+11  \n",
       "251 2013-08-13 18:08:14  6.362363e+11  \n",
       "252 2013-08-19 11:09:07  5.884647e+11  \n",
       "253 2013-08-24 12:03:12  6.282621e+11  \n",
       "254 2013-08-30 06:39:30  6.710906e+11  \n",
       "255 2013-09-04 01:22:25  7.077215e+11  \n",
       "256 2013-09-09 21:04:20  6.616103e+11  \n",
       "257 2013-09-14 18:21:27  7.848966e+11  \n",
       "258 2013-09-20 09:43:25  8.611245e+11  \n",
       "259 2013-09-25 07:24:54  8.722229e+11  \n",
       "260 2013-10-01 00:55:19  8.631824e+11  \n",
       "261 2013-10-06 02:47:33  8.073730e+11  \n",
       "262 2013-10-11 21:13:24  7.471900e+11  \n",
       "263 2013-10-16 03:41:14  6.969221e+11  \n",
       "264 2013-10-21 04:41:08  1.519022e+12  \n",
       "265 2013-10-25 16:05:44  1.580842e+12  \n",
       "..                  ...           ...  \n",
       "478 2017-08-04 11:46:04  1.564712e+13  \n",
       "479 2017-08-10 23:23:31  1.758603e+13  \n",
       "480 2017-08-17 21:37:36  1.858641e+13  \n",
       "481 2017-08-25 19:46:42  1.296222e+13  \n",
       "482 2017-09-01 16:27:17  1.065607e+13  \n",
       "483 2017-09-07 11:45:18  9.979494e+12  \n",
       "484 2017-09-13 09:45:32  8.507762e+12  \n",
       "485 2017-09-19 09:02:39  7.943416e+12  \n",
       "486 2017-09-26 05:20:16  7.462355e+12  \n",
       "487 2017-10-02 20:44:07  7.856329e+12  \n",
       "488 2017-10-09 05:54:54  8.328562e+12  \n",
       "489 2017-10-15 17:54:42  1.016276e+13  \n",
       "490 2017-10-21 16:10:35  1.110111e+13  \n",
       "491 2017-10-27 16:05:29  1.262686e+13  \n",
       "492 2017-11-04 05:10:12  1.578409e+13  \n",
       "493 2017-11-11 11:02:12  1.641079e+13  \n",
       "494 2017-11-19 00:42:46  1.673192e+13  \n",
       "495 2017-11-25 07:03:18  1.691556e+13  \n",
       "496 2017-12-01 09:30:23  1.920340e+13  \n",
       "497 2017-12-07 00:27:26  1.918384e+13  \n",
       "498 2017-12-13 04:09:24  2.006161e+13  \n",
       "499 2017-12-18 18:34:47  2.336124e+13  \n",
       "500 2017-12-25 17:33:42  2.491213e+13  \n",
       "501 2018-01-01 05:27:20  2.591144e+13  \n",
       "502 2018-01-07 11:17:10  2.569848e+13  \n",
       "503 2018-01-13 07:11:12  2.522844e+13  \n",
       "504 2018-01-19 16:27:55  2.329006e+13  \n",
       "505 2018-01-25 04:47:32  2.426500e+13  \n",
       "506 2018-01-31 18:48:43  2.277217e+13  \n",
       "507 2018-02-06 19:24:33  2.122049e+13  \n",
       "\n",
       "[272 rows x 9 columns]"
      ]
     },
     "execution_count": 395,
     "metadata": {},
     "output_type": "execute_result"
    }
   ],
   "source": [
    "bdf[:-1]"
   ]
  },
  {
   "cell_type": "code",
   "execution_count": null,
   "metadata": {},
   "outputs": [],
   "source": [
    "20-05-2013"
   ]
  }
 ],
 "metadata": {
  "kernelspec": {
   "display_name": "Python 3",
   "language": "python",
   "name": "python3"
  },
  "language_info": {
   "codemirror_mode": {
    "name": "ipython",
    "version": 3
   },
   "file_extension": ".py",
   "mimetype": "text/x-python",
   "name": "python",
   "nbconvert_exporter": "python",
   "pygments_lexer": "ipython3",
   "version": "3.5.2"
  }
 },
 "nbformat": 4,
 "nbformat_minor": 2
}
