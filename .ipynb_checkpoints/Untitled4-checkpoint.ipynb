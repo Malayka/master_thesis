{
 "cells": [
  {
   "cell_type": "markdown",
   "metadata": {},
   "source": [
    "## Granger casuality"
   ]
  },
  {
   "cell_type": "code",
   "execution_count": 15,
   "metadata": {},
   "outputs": [
    {
     "data": {
      "text/plain": [
       "<module 'my_tools' from '/home/ubuntu/thesis_work/my_tools.py'>"
      ]
     },
     "execution_count": 15,
     "metadata": {},
     "output_type": "execute_result"
    }
   ],
   "source": [
    "import imp\n",
    "import my_tools\n",
    "imp.reload(my_tools)"
   ]
  },
  {
   "cell_type": "code",
   "execution_count": 16,
   "metadata": {},
   "outputs": [],
   "source": [
    "from my_tools import *"
   ]
  },
  {
   "cell_type": "code",
   "execution_count": 3,
   "metadata": {},
   "outputs": [
    {
     "name": "stdout",
     "output_type": "stream",
     "text": [
      "Got 523426 blocks\n",
      "Got 206433637 clusters\n"
     ]
    }
   ],
   "source": [
    "# Q_BITCOIN\n",
    "BTC = CoinDataMgr(blocksci_path=\"/home/ubuntu/bitcoin\",\n",
    "                  path_to_clusters=\"/home/ubuntu/~/clusters_b\",\n",
    "                  folder_with_calculated=\"/home/ubuntu/thesis_work/calculated/bitcoin\")"
   ]
  },
  {
   "cell_type": "code",
   "execution_count": 8,
   "metadata": {
    "scrolled": true
   },
   "outputs": [
    {
     "name": "stdout",
     "output_type": "stream",
     "text": [
      "Reading folder '/home/ubuntu/thesis_work/calculated/bitcoin' with prefix 'int1000b_ginisOfClustersWealth'...\n",
      "  Got 'int1000b_ginisOfClustersWealth_need2recalculateWOnulldata.json', key is 'need2recalculateWOnulldata'\n",
      "There is already need2recalculateWOnulldata version of data, stop\n",
      "  Got 'int1000b_ginisOfClustersWealth_log21.json', key is 'log21'\n",
      "There is already log21 version of data, stop\n",
      "  Got 'int1000b_ginisOfClustersWealth_WOnuldata.json', key is 'WOnuldata'\n",
      "There is already WOnuldata version of data, stop\n",
      "Finish\n",
      "Reading folder '/home/ubuntu/thesis_work/calculated/bitcoin' with prefix 'int1000b_relativeFlowVolumes'...\n",
      "  Got 'int1000b_relativeFlowVolumes_log.json', key is 'log'\n",
      "There is already log version of data, stop\n",
      "  Got 'int1000b_relativeFlowVolumes_nonPar.json', key is 'nonPar'\n",
      "There is already nonPar version of data, stop\n",
      "Finish\n",
      "Reading folder '/home/ubuntu/thesis_work/calculated/bitcoin' with prefix 'int1000b_fees'...\n",
      "  Got 'int1000b_fees_log.json', key is 'log'\n",
      "There is already log version of data, stop\n",
      "  Got 'int1000b_fees_nonPar.json', key is 'nonPar'\n",
      "There is already nonPar version of data, stop\n",
      "Finish\n",
      "Reading folder '/home/ubuntu/thesis_work/calculated/bitcoin' with prefix 'int1000b_NacamotoCoefs'...\n",
      "  Got 'int1000b_NacamotoCoefs.json', key is ''\n",
      "There is already  version of data, stop\n",
      "Finish\n",
      "Reading folder '/home/ubuntu/thesis_work/calculated/bitcoin' with prefix 'int1000b_unspents'...\n",
      "  Got 'int1000b_unspents_par.json', key is 'par'\n",
      "There is already par version of data, stop\n",
      "Finish\n",
      "Reading folder '/home/ubuntu/thesis_work/calculated/bitcoin' with prefix 'int1000b_nonEmptyClustersCounts'...\n",
      "  Got 'int1000b_nonEmptyClustersCounts_nonPar_filteringUnspents.json', key is 'nonPar_filteringUnspents'\n",
      "There is already nonPar_filteringUnspents version of data, stop\n",
      "  Got 'int1000b_nonEmptyClustersCounts_log.json', key is 'log'\n",
      "There is already log version of data, stop\n",
      "  Got 'int1000b_nonEmptyClustersCounts_nonPar.json', key is 'nonPar'\n",
      "There is already nonPar version of data, stop\n",
      "Finish\n",
      "Reading folder '/home/ubuntu/thesis_work/calculated/bitcoin' with prefix 'int1000b_activeClustersCounts'...\n",
      "  Got 'int1000b_activeClustersCounts.json', key is ''\n",
      "Finish\n",
      "Reading folder '/home/ubuntu/thesis_work/calculated/bitcoin' with prefix 'int1000b_synchronizedPrices'...\n",
      "  Got 'int1000b_synchronizedPrices_c_byDay.json', key is 'c_byDay'\n",
      "There is already c_byDay version of data, stop\n",
      "  Got 'int1000b_synchronizedPrices_log.json', key is 'log'\n",
      "There is already log version of data, stop\n",
      "Finish\n",
      "Reading folder '/home/ubuntu/thesis_work/calculated/bitcoin' with prefix 'int1000b_prices'...\n",
      "  Got 'int1000b_prices_btc_info.csv', key is 'btc_info'\n",
      "There is already btc_info version of data, stop\n",
      "  Got 'int1000b_prices_coingecko.csv', key is 'coingecko'\n",
      "There is already coingecko version of data, stop\n",
      "Finish\n"
     ]
    }
   ],
   "source": [
    "BTC[S_GINIS].readAll()\n",
    "BTC[S_REL_FLOWS].readAll()\n",
    "BTC[S_FEES].readAll()\n",
    "BTC[S_NCS].readAll()\n",
    "BTC[S_UNSPENTS].readAll()\n",
    "BTC[S_NONEMPTY_CLS].readAll()\n",
    "BTC[S_CLS_CNTS].readAll()\n",
    "BTC[S_SYNC_PRICES].readAll()\n",
    "BTC.prices.readAll()"
   ]
  },
  {
   "cell_type": "code",
   "execution_count": 9,
   "metadata": {},
   "outputs": [
    {
     "name": "stdout",
     "output_type": "stream",
     "text": [
      "Gathered under tag 'relativeFlowVolumes=log_activeClustersCounts=_synchronizedPrices=log_fees=nonPar_NacamotoCoefs=_nonEmptyClustersCounts=log_unspents=par_ginisOfClustersWealth=log21'\n"
     ]
    },
    {
     "name": "stderr",
     "output_type": "stream",
     "text": [
      "/home/ubuntu/thesis_work/my_tools.py:1099: FutureWarning: pd.rolling_mean is deprecated for Series and will be removed in a future version, replace with \n",
      "\tSeries.rolling(window=5,center=True).mean()\n",
      "  col_after_rolling = pd.rolling_mean(pd_df[col], window=window, center=True)\n"
     ]
    }
   ],
   "source": [
    "tag_b = BTC.gatherAllMetrics({S_NCS:'', S_GINIS:'log21', S_REL_FLOWS:'log', S_FEES:'nonPar',\n",
    "                              S_UNSPENTS:'par', S_NONEMPTY_CLS:'log', S_SYNC_PRICES: 'log', S_CLS_CNTS: ''})\n",
    "tag_mean = BTC.rollingMeanAllMetrics(allMetrics_tag=tag_b, common_win=5)"
   ]
  },
  {
   "cell_type": "code",
   "execution_count": 71,
   "metadata": {},
   "outputs": [],
   "source": [
    "bdf = BTC.allMetrics[tag_mean].copy()\n",
    "bdf.dropna(inplace=True)\n",
    "\n",
    "ddf = pd.DataFrame()\n",
    "for col in bdf:\n",
    "    ddf[col] = getDiff(bdf[col])\n",
    "ddf.dropna(inplace=True)"
   ]
  },
  {
   "cell_type": "code",
   "execution_count": null,
   "metadata": {},
   "outputs": [],
   "source": []
  },
  {
   "cell_type": "code",
   "execution_count": 34,
   "metadata": {},
   "outputs": [],
   "source": [
    "def grangerCasualityDict(y, x, maxlag):\n",
    "    xy = pd.DataFrame({'x': x, 'y': y})\n",
    "    r = statsmodels.tsa.stattools.grangercausalitytests(xy[['y', 'x']], maxlag=maxlag, verbose=False)\n",
    "    result_dict = {}\n",
    "    for lag in range(1, maxlag + 1):\n",
    "        lag_r = r[lag]\n",
    "        p_values = [np.round(np.float(test_results[1]),5) for test_results in lag_r[0].values()]\n",
    "        result_dict[lag] = p_values\n",
    "    return result_dict"
   ]
  },
  {
   "cell_type": "code",
   "execution_count": 65,
   "metadata": {},
   "outputs": [],
   "source": [
    "def grangerCasualityNp(y, x, maxlag):\n",
    "    xy = pd.DataFrame({'x': x, 'y': y})\n",
    "    r = statsmodels.tsa.stattools.grangercausalitytests(xy[['y', 'x']], maxlag=maxlag, verbose=False)\n",
    "    result_np = np.zeros((maxlag + 1, 5))\n",
    "    for lag in range(1, maxlag + 1):\n",
    "        lag_r = r[lag]\n",
    "        p_values = [test_results[1] for test_results in lag_r[0].values()]\n",
    "        #print(list(lag_r[0].values()))\n",
    "        #p_values = [np.round(np.float(test_results[1]),5) for test_results in lag_r[0].values()]\n",
    "        result_np[lag][1:] = np.array(p_values).round(3)\n",
    "        result_np[lag][0] = (np.array(p_values).round(3)).max()\n",
    "    return result_np[1:]\n",
    "    \n",
    "    "
   ]
  },
  {
   "cell_type": "code",
   "execution_count": 229,
   "metadata": {},
   "outputs": [],
   "source": [
    "#grangerCasualityNp(bdf[S_SYNC_PRICES], bdf[S_UNSPENTS], 10)"
   ]
  },
  {
   "cell_type": "code",
   "execution_count": 67,
   "metadata": {},
   "outputs": [],
   "source": [
    "def grangerStatsFromCol(df, the_col, maxlag, reverse=False, max_p=True):\n",
    "    for a_col in df.columns:\n",
    "        if not a_col in (the_col, 'times'):\n",
    "            cols_pair = [df[a_col], df[the_col]] if reverse else [df[the_col], df[a_col]]\n",
    "            print(a_col)\n",
    "            print(grangerCasualityNp(*cols_pair, maxlag))"
   ]
  },
  {
   "cell_type": "code",
   "execution_count": 230,
   "metadata": {},
   "outputs": [],
   "source": [
    "#grangerStatsFromCol(ddf, S_SYNC_PRICES, 5)"
   ]
  },
  {
   "cell_type": "code",
   "execution_count": 231,
   "metadata": {},
   "outputs": [],
   "source": [
    "#grangerStatsFromCol(ddf, S_NCS, maxlag=7, reverse=True)"
   ]
  },
  {
   "cell_type": "code",
   "execution_count": 232,
   "metadata": {},
   "outputs": [],
   "source": [
    "#grangerStatsFromCol(ddf, S_NCS, maxlag=7)"
   ]
  },
  {
   "cell_type": "code",
   "execution_count": null,
   "metadata": {},
   "outputs": [],
   "source": []
  },
  {
   "cell_type": "code",
   "execution_count": 226,
   "metadata": {},
   "outputs": [],
   "source": [
    "y = np.random.randn(1000)\n",
    "x = np.zeros(1000)\n",
    "x_shift = 20\n",
    "x[:-x_shift] = y[x_shift:]\n",
    "x[-x_shift:] = np.random.randn(x_shift)"
   ]
  },
  {
   "cell_type": "code",
   "execution_count": 227,
   "metadata": {},
   "outputs": [
    {
     "name": "stdout",
     "output_type": "stream",
     "text": [
      "maxlags is 20\n",
      "lag is 20\n",
      "x resids acorr p: 0.999999999999\n",
      "y resids acorr 1.7246118353e-21\n",
      "x does NOT cause y: 0.0\n",
      "y does NOT cause x: 0.906\n"
     ]
    }
   ],
   "source": [
    "todaYamamoto(y, x, verbose=True)"
   ]
  },
  {
   "cell_type": "code",
   "execution_count": 206,
   "metadata": {},
   "outputs": [
    {
     "data": {
      "text/plain": [
       "array([[ 0.217,  0.217,  0.209,  0.217,  0.207],\n",
       "       [ 0.421,  0.421,  0.402,  0.421,  0.399]])"
      ]
     },
     "execution_count": 206,
     "metadata": {},
     "output_type": "execute_result"
    }
   ],
   "source": [
    "grangerCasualityNp(x, y, 2)"
   ]
  },
  {
   "cell_type": "code",
   "execution_count": null,
   "metadata": {},
   "outputs": [],
   "source": []
  },
  {
   "cell_type": "code",
   "execution_count": null,
   "metadata": {},
   "outputs": [],
   "source": [
    "def grangerStatsFromPrice(df, max_lag, to_time=False, max_p=True):\n",
    "    for col in bdf.columns:\n",
    "        if not col in (S_SYNC_PRICES, 'times'):\n",
    "            \n",
    "            cols_pair = [S_SYNC_PRICES,col] if to_time else [col, S_SYNC_PRICES]\n",
    "            print(col)\n",
    "            r = statsmodels.tsa.stattools.grangercausalitytests(\\\n",
    "                bdf[cols_pair], max_lag, verbose=False)\n",
    "            sr = simplifyGrangerResults(r)\n",
    "            print(sr)\n",
    "            if max_p:\n",
    "                print(max([v[1] for v in sr.values()]))\n",
    "            else:\n",
    "                print(min([v[1] for v in sr.values()]))"
   ]
  },
  {
   "cell_type": "code",
   "execution_count": null,
   "metadata": {},
   "outputs": [],
   "source": [
    "def simplifyGrangerResults(res):\n",
    "    return {k: list(res[k][0].values())[0][:2] for k in res}"
   ]
  },
  {
   "cell_type": "code",
   "execution_count": null,
   "metadata": {},
   "outputs": [],
   "source": []
  },
  {
   "cell_type": "code",
   "execution_count": null,
   "metadata": {},
   "outputs": [],
   "source": []
  },
  {
   "cell_type": "code",
   "execution_count": null,
   "metadata": {},
   "outputs": [],
   "source": [
    "statsmodels.tsa.stattools.kpss(x, regression='c', lags=None, store=False)"
   ]
  },
  {
   "cell_type": "code",
   "execution_count": 84,
   "metadata": {},
   "outputs": [
    {
     "data": {
      "text/plain": [
       "(-2.9745454039648904,\n",
       " 0.037340890654007371,\n",
       " 10,\n",
       " 261,\n",
       " {'1%': -3.4556556713934934,\n",
       "  '10%': -2.5727054883222502,\n",
       "  '5%': -2.8726783524898591},\n",
       " -346.59677756474844)"
      ]
     },
     "execution_count": 84,
     "metadata": {},
     "output_type": "execute_result"
    }
   ],
   "source": [
    "adfuller(ddf[S_NCS])"
   ]
  },
  {
   "cell_type": "code",
   "execution_count": 85,
   "metadata": {},
   "outputs": [
    {
     "data": {
      "text/plain": [
       "(-2.0282371580583702,\n",
       " 0.27433094857710288,\n",
       " 11,\n",
       " 261,\n",
       " {'1%': -3.4556556713934934,\n",
       "  '10%': -2.5727054883222502,\n",
       "  '5%': -2.8726783524898591},\n",
       " -351.42045795409467)"
      ]
     },
     "execution_count": 85,
     "metadata": {},
     "output_type": "execute_result"
    }
   ],
   "source": [
    "adfuller(bdf[S_NCS])"
   ]
  },
  {
   "cell_type": "code",
   "execution_count": 87,
   "metadata": {},
   "outputs": [
    {
     "name": "stderr",
     "output_type": "stream",
     "text": [
      "/usr/local/lib/python3.5/dist-packages/statsmodels/tsa/stattools.py:1276: InterpolationWarning: p-value is smaller than the indicated p-value\n",
      "  warn(\"p-value is smaller than the indicated p-value\", InterpolationWarning)\n"
     ]
    },
    {
     "data": {
      "text/plain": [
       "(0.97559090126189885,\n",
       " 0.01,\n",
       " 16,\n",
       " {'1%': 0.739, '10%': 0.347, '2.5%': 0.574, '5%': 0.463})"
      ]
     },
     "execution_count": 87,
     "metadata": {},
     "output_type": "execute_result"
    }
   ],
   "source": [
    "statsmodels.tsa.stattools.kpss(bdf[S_NCS])"
   ]
  },
  {
   "cell_type": "code",
   "execution_count": 89,
   "metadata": {},
   "outputs": [
    {
     "name": "stderr",
     "output_type": "stream",
     "text": [
      "/usr/local/lib/python3.5/dist-packages/statsmodels/tsa/stattools.py:1278: InterpolationWarning: p-value is greater than the indicated p-value\n",
      "  warn(\"p-value is greater than the indicated p-value\", InterpolationWarning)\n"
     ]
    },
    {
     "data": {
      "text/plain": [
       "0.1"
      ]
     },
     "execution_count": 89,
     "metadata": {},
     "output_type": "execute_result"
    }
   ],
   "source": [
    "statsmodels.tsa.stattools.kpss(ddf[S_NCS])[1]"
   ]
  },
  {
   "cell_type": "code",
   "execution_count": 93,
   "metadata": {},
   "outputs": [],
   "source": [
    "def testStationarityTwice(series):\n",
    "    print('prob if stationary:', statsmodels.tsa.stattools.kpss(series)[1])\n",
    "    print('prob if NOT stationary:', adfuller(series)[1])"
   ]
  },
  {
   "cell_type": "code",
   "execution_count": 94,
   "metadata": {},
   "outputs": [
    {
     "name": "stdout",
     "output_type": "stream",
     "text": [
      "prob if stationary: 0.1\n",
      "prob if NOT stationary: 0.037340890654\n"
     ]
    },
    {
     "name": "stderr",
     "output_type": "stream",
     "text": [
      "/usr/local/lib/python3.5/dist-packages/statsmodels/tsa/stattools.py:1278: InterpolationWarning: p-value is greater than the indicated p-value\n",
      "  warn(\"p-value is greater than the indicated p-value\", InterpolationWarning)\n"
     ]
    }
   ],
   "source": [
    "testStationarityTwice(ddf[S_NCS])"
   ]
  },
  {
   "cell_type": "code",
   "execution_count": 96,
   "metadata": {},
   "outputs": [],
   "source": [
    "def checkStationarities(df):\n",
    "    for col in df.columns:\n",
    "        if col != 'times':\n",
    "            print(col)\n",
    "            testStationarityTwice(df[col])"
   ]
  },
  {
   "cell_type": "code",
   "execution_count": 233,
   "metadata": {},
   "outputs": [
    {
     "name": "stdout",
     "output_type": "stream",
     "text": [
      "NacamotoCoefs\n",
      "prob if stationary: 0.01\n",
      "prob if NOT stationary: 0.274330948577\n",
      "activeClustersCounts\n",
      "prob if stationary: 0.01\n",
      "prob if NOT stationary: 0.994508645184\n",
      "fees\n",
      "prob if stationary: 0.01\n",
      "prob if NOT stationary: 0.958202085991\n",
      "ginisOfClustersWealth\n",
      "prob if stationary: 0.01\n",
      "prob if NOT stationary: 0.55660045987\n",
      "nonEmptyClustersCounts\n",
      "prob if stationary: 0.01\n",
      "prob if NOT stationary: 0.998918676954\n",
      "relativeFlowVolumes\n",
      "prob if stationary: 0.01\n",
      "prob if NOT stationary: 0.484578997941\n",
      "synchronizedPrices\n",
      "prob if stationary: 0.01\n",
      "prob if NOT stationary: 0.856649303296\n",
      "unspents\n",
      "prob if stationary: 0.01\n",
      "prob if NOT stationary: 1.0\n"
     ]
    },
    {
     "name": "stderr",
     "output_type": "stream",
     "text": [
      "/usr/local/lib/python3.5/dist-packages/statsmodels/tsa/stattools.py:1276: InterpolationWarning: p-value is smaller than the indicated p-value\n",
      "  warn(\"p-value is smaller than the indicated p-value\", InterpolationWarning)\n",
      "/usr/local/lib/python3.5/dist-packages/statsmodels/tsa/stattools.py:1276: InterpolationWarning: p-value is smaller than the indicated p-value\n",
      "  warn(\"p-value is smaller than the indicated p-value\", InterpolationWarning)\n",
      "/usr/local/lib/python3.5/dist-packages/statsmodels/tsa/stattools.py:1276: InterpolationWarning: p-value is smaller than the indicated p-value\n",
      "  warn(\"p-value is smaller than the indicated p-value\", InterpolationWarning)\n",
      "/usr/local/lib/python3.5/dist-packages/statsmodels/tsa/stattools.py:1276: InterpolationWarning: p-value is smaller than the indicated p-value\n",
      "  warn(\"p-value is smaller than the indicated p-value\", InterpolationWarning)\n",
      "/usr/local/lib/python3.5/dist-packages/statsmodels/tsa/stattools.py:1276: InterpolationWarning: p-value is smaller than the indicated p-value\n",
      "  warn(\"p-value is smaller than the indicated p-value\", InterpolationWarning)\n",
      "/usr/local/lib/python3.5/dist-packages/statsmodels/tsa/stattools.py:1276: InterpolationWarning: p-value is smaller than the indicated p-value\n",
      "  warn(\"p-value is smaller than the indicated p-value\", InterpolationWarning)\n",
      "/usr/local/lib/python3.5/dist-packages/statsmodels/tsa/stattools.py:1276: InterpolationWarning: p-value is smaller than the indicated p-value\n",
      "  warn(\"p-value is smaller than the indicated p-value\", InterpolationWarning)\n",
      "/usr/local/lib/python3.5/dist-packages/statsmodels/tsa/stattools.py:1276: InterpolationWarning: p-value is smaller than the indicated p-value\n",
      "  warn(\"p-value is smaller than the indicated p-value\", InterpolationWarning)\n"
     ]
    }
   ],
   "source": [
    "checkStationarities(bdf)"
   ]
  },
  {
   "cell_type": "code",
   "execution_count": 98,
   "metadata": {},
   "outputs": [
    {
     "name": "stdout",
     "output_type": "stream",
     "text": [
      "NacamotoCoefs\n",
      "prob if stationary: 0.1\n",
      "prob if NOT stationary: 0.037340890654\n",
      "activeClustersCounts\n",
      "prob if stationary: 0.1\n",
      "prob if NOT stationary: 0.000175172505866\n",
      "fees\n",
      "prob if stationary: 0.1\n",
      "prob if NOT stationary: 0.000620261685099\n",
      "ginisOfClustersWealth\n",
      "prob if stationary: 0.010516020444121539\n",
      "prob if NOT stationary: 0.56849349117\n",
      "nonEmptyClustersCounts\n",
      "prob if stationary: 0.016121815369597732\n",
      "prob if NOT stationary: 0.028801468199\n",
      "relativeFlowVolumes\n",
      "prob if stationary: 0.1\n",
      "prob if NOT stationary: 0.00429694202388\n",
      "synchronizedPrices\n",
      "prob if stationary: 0.1\n",
      "prob if NOT stationary: 0.0614571010647\n",
      "unspents\n",
      "prob if stationary: 0.03870542377192431\n",
      "prob if NOT stationary: 0.00699208337348\n"
     ]
    },
    {
     "name": "stderr",
     "output_type": "stream",
     "text": [
      "/usr/local/lib/python3.5/dist-packages/statsmodels/tsa/stattools.py:1278: InterpolationWarning: p-value is greater than the indicated p-value\n",
      "  warn(\"p-value is greater than the indicated p-value\", InterpolationWarning)\n",
      "/usr/local/lib/python3.5/dist-packages/statsmodels/tsa/stattools.py:1278: InterpolationWarning: p-value is greater than the indicated p-value\n",
      "  warn(\"p-value is greater than the indicated p-value\", InterpolationWarning)\n",
      "/usr/local/lib/python3.5/dist-packages/statsmodels/tsa/stattools.py:1278: InterpolationWarning: p-value is greater than the indicated p-value\n",
      "  warn(\"p-value is greater than the indicated p-value\", InterpolationWarning)\n",
      "/usr/local/lib/python3.5/dist-packages/statsmodels/tsa/stattools.py:1278: InterpolationWarning: p-value is greater than the indicated p-value\n",
      "  warn(\"p-value is greater than the indicated p-value\", InterpolationWarning)\n",
      "/usr/local/lib/python3.5/dist-packages/statsmodels/tsa/stattools.py:1278: InterpolationWarning: p-value is greater than the indicated p-value\n",
      "  warn(\"p-value is greater than the indicated p-value\", InterpolationWarning)\n"
     ]
    }
   ],
   "source": [
    "checkStationarities(ddf)"
   ]
  },
  {
   "cell_type": "code",
   "execution_count": 103,
   "metadata": {},
   "outputs": [
    {
     "name": "stdout",
     "output_type": "stream",
     "text": [
      "prob if stationary: 0.01\n",
      "prob if NOT stationary: 0.216251617453\n"
     ]
    },
    {
     "name": "stderr",
     "output_type": "stream",
     "text": [
      "/usr/local/lib/python3.5/dist-packages/statsmodels/tsa/stattools.py:1276: InterpolationWarning: p-value is smaller than the indicated p-value\n",
      "  warn(\"p-value is smaller than the indicated p-value\", InterpolationWarning)\n"
     ]
    }
   ],
   "source": [
    "testStationarityTwice(getDiff(pd.Series(BTC[S_GINIS]['WOnuldata'])))"
   ]
  },
  {
   "cell_type": "code",
   "execution_count": 107,
   "metadata": {},
   "outputs": [
    {
     "name": "stdout",
     "output_type": "stream",
     "text": [
      "prob if stationary: 0.1\n",
      "prob if NOT stationary: 1.90960224282e-07\n"
     ]
    },
    {
     "name": "stderr",
     "output_type": "stream",
     "text": [
      "/usr/local/lib/python3.5/dist-packages/statsmodels/tsa/stattools.py:1278: InterpolationWarning: p-value is greater than the indicated p-value\n",
      "  warn(\"p-value is greater than the indicated p-value\", InterpolationWarning)\n"
     ]
    }
   ],
   "source": [
    "testStationarityTwice(getDiff(getDiff(pd.Series(BTC[S_GINIS]['WOnuldata']))))"
   ]
  },
  {
   "cell_type": "code",
   "execution_count": 106,
   "metadata": {},
   "outputs": [
    {
     "name": "stdout",
     "output_type": "stream",
     "text": [
      "prob if stationary: 0.1\n",
      "prob if NOT stationary: 0.000165831254244\n"
     ]
    },
    {
     "name": "stderr",
     "output_type": "stream",
     "text": [
      "/usr/local/lib/python3.5/dist-packages/statsmodels/tsa/stattools.py:1278: InterpolationWarning: p-value is greater than the indicated p-value\n",
      "  warn(\"p-value is greater than the indicated p-value\", InterpolationWarning)\n"
     ]
    }
   ],
   "source": [
    "testStationarityTwice(getDiff(ddf[S_NONEMPTY_CLS]))"
   ]
  },
  {
   "cell_type": "code",
   "execution_count": 234,
   "metadata": {},
   "outputs": [
    {
     "name": "stdout",
     "output_type": "stream",
     "text": [
      "prob if stationary: 0.1\n",
      "prob if NOT stationary: 2.0867392889e-07\n"
     ]
    },
    {
     "name": "stderr",
     "output_type": "stream",
     "text": [
      "/usr/local/lib/python3.5/dist-packages/statsmodels/tsa/stattools.py:1278: InterpolationWarning: p-value is greater than the indicated p-value\n",
      "  warn(\"p-value is greater than the indicated p-value\", InterpolationWarning)\n"
     ]
    }
   ],
   "source": [
    "testStationarityTwice(getDiff(ddf[S_GINIS]))"
   ]
  },
  {
   "cell_type": "code",
   "execution_count": 235,
   "metadata": {},
   "outputs": [
    {
     "name": "stdout",
     "output_type": "stream",
     "text": [
      "prob if stationary: 0.1\n",
      "prob if NOT stationary: 2.55598387695e-12\n"
     ]
    },
    {
     "name": "stderr",
     "output_type": "stream",
     "text": [
      "/usr/local/lib/python3.5/dist-packages/statsmodels/tsa/stattools.py:1278: InterpolationWarning: p-value is greater than the indicated p-value\n",
      "  warn(\"p-value is greater than the indicated p-value\", InterpolationWarning)\n"
     ]
    }
   ],
   "source": [
    "testStationarityTwice(getDiff(ddf[S_UNSPENTS]))"
   ]
  },
  {
   "cell_type": "code",
   "execution_count": null,
   "metadata": {},
   "outputs": [],
   "source": []
  },
  {
   "cell_type": "code",
   "execution_count": 110,
   "metadata": {},
   "outputs": [],
   "source": [
    "from statsmodels.tsa.api import VAR"
   ]
  },
  {
   "cell_type": "code",
   "execution_count": 153,
   "metadata": {},
   "outputs": [
    {
     "name": "stderr",
     "output_type": "stream",
     "text": [
      "/usr/local/lib/python3.5/dist-packages/statsmodels/tsa/base/tsa_model.py:221: ValueWarning: An unsupported index was provided and will be ignored when e.g. forecasting.\n",
      "  ' ignored when e.g. forecasting.', ValueWarning)\n"
     ]
    }
   ],
   "source": [
    "model = VAR(bdf[[S_GINIS, S_NCS]])"
   ]
  },
  {
   "cell_type": "code",
   "execution_count": 154,
   "metadata": {},
   "outputs": [],
   "source": [
    "orders = model.select_order()"
   ]
  },
  {
   "cell_type": "code",
   "execution_count": 167,
   "metadata": {},
   "outputs": [
    {
     "data": {
      "text/plain": [
       "array([ 0.75523405,  0.93535234,  0.97827432,  0.97534852,  0.98020237,\n",
       "        0.95730726,  0.95918617,  0.96760634,  0.98369571,  0.93682711,\n",
       "        0.93095334,  0.89884631])"
      ]
     },
     "execution_count": 167,
     "metadata": {},
     "output_type": "execute_result"
    }
   ],
   "source": [
    "model_fit = model.fit(12)\n",
    "statsmodels.stats.diagnostic.acorr_ljungbox(model_fit.resid[S_NCS], 12)[1]\n",
    "statsmodels.stats.diagnostic.acorr_ljungbox(model_fit.resid[S_GINIS], 12)[1]"
   ]
  },
  {
   "cell_type": "code",
   "execution_count": 163,
   "metadata": {},
   "outputs": [],
   "source": [
    "#model_fit.fittedvalues[S_REL_FLOWS]"
   ]
  },
  {
   "cell_type": "code",
   "execution_count": 168,
   "metadata": {},
   "outputs": [
    {
     "data": {
      "text/plain": [
       "12"
      ]
     },
     "execution_count": 168,
     "metadata": {},
     "output_type": "execute_result"
    }
   ],
   "source": [
    "model_fit.k_ar"
   ]
  },
  {
   "cell_type": "code",
   "execution_count": null,
   "metadata": {},
   "outputs": [],
   "source": [
    "model_fit.acorr(12)"
   ]
  },
  {
   "cell_type": "code",
   "execution_count": 155,
   "metadata": {},
   "outputs": [
    {
     "data": {
      "text/plain": [
       "{'aic': 12, 'bic': 7, 'fpe': 12, 'hqic': 12}"
      ]
     },
     "execution_count": 155,
     "metadata": {},
     "output_type": "execute_result"
    }
   ],
   "source": [
    "orders.selected_orders"
   ]
  },
  {
   "cell_type": "code",
   "execution_count": 157,
   "metadata": {},
   "outputs": [
    {
     "data": {
      "text/plain": [
       "[<matplotlib.lines.Line2D at 0x7f5ac5003860>]"
      ]
     },
     "execution_count": 157,
     "metadata": {},
     "output_type": "execute_result"
    },
    {
     "data": {
      "image/png": "[encoded data removed]",
      "text/plain": [
       "<Figure size 432x288 with 1 Axes>"
      ]
     },
     "metadata": {},
     "output_type": "display_data"
    }
   ],
   "source": [
    "plt.plot(model_fit.resid[S_GINIS])"
   ]
  },
  {
   "cell_type": "code",
   "execution_count": 152,
   "metadata": {},
   "outputs": [
    {
     "data": {
      "text/plain": [
       "array([  5.79581737e-11,   7.74710686e-14,   2.31427213e-15,\n",
       "         1.86043477e-15,   5.35728912e-19,   2.21429888e-18,\n",
       "         2.87696847e-18,   2.42347024e-18,   3.56115195e-18,\n",
       "         3.32230430e-19,   7.67342079e-21,   2.53777341e-20])"
      ]
     },
     "execution_count": 152,
     "metadata": {},
     "output_type": "execute_result"
    }
   ],
   "source": [
    "statsmodels.stats.diagnostic.acorr_ljungbox(model_fit.resid[S_NCS], 12)[1]"
   ]
  },
  {
   "cell_type": "code",
   "execution_count": 138,
   "metadata": {},
   "outputs": [
    {
     "data": {
      "text/plain": [
       "array([ 0.342,  0.342,  0.27 ,  0.342,  0.247])"
      ]
     },
     "execution_count": 138,
     "metadata": {},
     "output_type": "execute_result"
    }
   ],
   "source": [
    "grangerCasualityNp(bdf[S_REL_FLOWS], bdf[S_NCS], 12)[11]"
   ]
  },
  {
   "cell_type": "code",
   "execution_count": 181,
   "metadata": {},
   "outputs": [],
   "source": [
    "from statsmodels.stats.diagnostic import acorr_ljungbox\n",
    "def todaYamamoto(y, x, maxlags=None, verbose=0):\n",
    "    xy = pd.DataFrame({'x': x, 'y': y})\n",
    "    model = VAR(xy)\n",
    "    if maxlags is None:\n",
    "        maxlags = model.select_order().selected_orders['aic']\n",
    "        if verbose >= 2:\n",
    "            print('maxlags is', maxlags)\n",
    "    model_fit = model.fit(maxlags=maxlags)\n",
    "    lag = model_fit.k_ar\n",
    "    if verbose >= 1:\n",
    "        print('lag is', lag)\n",
    "    \n",
    "    print('x resids acorr p:', acorr_ljungbox(model_fit.resid['x'], lag)[1].max())\n",
    "    print('y resids acorr', acorr_ljungbox(model_fit.resid['y'], lag)[1].max())\n",
    "    \n",
    "    print('x does NOT cause y:', grangerCasualityNp(y, x, lag)[lag - 1][0])\n",
    "    print('y does NOT cause x:', grangerCasualityNp(x, y, lag)[lag - 1][0])"
   ]
  },
  {
   "cell_type": "code",
   "execution_count": 177,
   "metadata": {},
   "outputs": [
    {
     "name": "stdout",
     "output_type": "stream",
     "text": [
      "maxlags is 12\n",
      "lag is 12\n",
      "x resids acorr p: 0.997809460852\n",
      "y resids acorr 0.997491275038\n",
      "x does NOT cause y: 0.056\n",
      "y does NOT cause x: 0.033\n"
     ]
    },
    {
     "name": "stderr",
     "output_type": "stream",
     "text": [
      "/usr/local/lib/python3.5/dist-packages/statsmodels/tsa/base/tsa_model.py:221: ValueWarning: An unsupported index was provided and will be ignored when e.g. forecasting.\n",
      "  ' ignored when e.g. forecasting.', ValueWarning)\n"
     ]
    }
   ],
   "source": [
    "todaYamamoto(bdf[S_REL_FLOWS], bdf[S_GINIS])"
   ]
  },
  {
   "cell_type": "code",
   "execution_count": 182,
   "metadata": {},
   "outputs": [],
   "source": [
    "def todaYamamotoWithCol(df, the_col, verbose=0):\n",
    "    for a_col in df.columns:\n",
    "        if not a_col in (the_col, 'times'):\n",
    "            print('y={},   x={}'.format(a_col, the_col))\n",
    "            todaYamamoto(df[a_col], df[the_col], verbose)\n",
    "            print('-------------------------------')"
   ]
  },
  {
   "cell_type": "code",
   "execution_count": 183,
   "metadata": {},
   "outputs": [
    {
     "name": "stdout",
     "output_type": "stream",
     "text": [
      "y=NacamotoCoefs,   x=synchronizedPrices\n",
      "x resids acorr p: 0.987306883676\n",
      "y resids acorr 0.999700306021\n",
      "x does NOT cause y: 0.206\n",
      "y does NOT cause x: 0.103\n",
      "-------------------------------\n",
      "y=activeClustersCounts,   x=synchronizedPrices\n",
      "x resids acorr p: 0.977401367581\n",
      "y resids acorr 0.978603033818\n",
      "x does NOT cause y: 0.056\n",
      "y does NOT cause x: 0.003\n",
      "-------------------------------\n",
      "y=fees,   x=synchronizedPrices\n"
     ]
    },
    {
     "name": "stderr",
     "output_type": "stream",
     "text": [
      "/usr/local/lib/python3.5/dist-packages/statsmodels/tsa/base/tsa_model.py:221: ValueWarning: An unsupported index was provided and will be ignored when e.g. forecasting.\n",
      "  ' ignored when e.g. forecasting.', ValueWarning)\n",
      "/usr/local/lib/python3.5/dist-packages/statsmodels/tsa/base/tsa_model.py:221: ValueWarning: An unsupported index was provided and will be ignored when e.g. forecasting.\n",
      "  ' ignored when e.g. forecasting.', ValueWarning)\n",
      "/usr/local/lib/python3.5/dist-packages/statsmodels/tsa/base/tsa_model.py:221: ValueWarning: An unsupported index was provided and will be ignored when e.g. forecasting.\n",
      "  ' ignored when e.g. forecasting.', ValueWarning)\n"
     ]
    },
    {
     "name": "stdout",
     "output_type": "stream",
     "text": [
      "x resids acorr p: 0.918884327458\n",
      "y resids acorr 0.937186613336\n",
      "x does NOT cause y: 0.023\n",
      "y does NOT cause x: 0.0\n",
      "-------------------------------\n",
      "y=ginisOfClustersWealth,   x=synchronizedPrices\n",
      "x resids acorr p: 0.999088122388\n",
      "y resids acorr 0.999620464096\n",
      "x does NOT cause y: 0.085\n",
      "y does NOT cause x: 0.059\n",
      "-------------------------------\n",
      "y=nonEmptyClustersCounts,   x=synchronizedPrices\n"
     ]
    },
    {
     "name": "stderr",
     "output_type": "stream",
     "text": [
      "/usr/local/lib/python3.5/dist-packages/statsmodels/tsa/base/tsa_model.py:221: ValueWarning: An unsupported index was provided and will be ignored when e.g. forecasting.\n",
      "  ' ignored when e.g. forecasting.', ValueWarning)\n",
      "/usr/local/lib/python3.5/dist-packages/statsmodels/tsa/base/tsa_model.py:221: ValueWarning: An unsupported index was provided and will be ignored when e.g. forecasting.\n",
      "  ' ignored when e.g. forecasting.', ValueWarning)\n"
     ]
    },
    {
     "name": "stdout",
     "output_type": "stream",
     "text": [
      "x resids acorr p: 0.9995335909\n",
      "y resids acorr 0.932430858996\n",
      "x does NOT cause y: 0.336\n",
      "y does NOT cause x: 0.32\n",
      "-------------------------------\n",
      "y=relativeFlowVolumes,   x=synchronizedPrices\n",
      "x resids acorr p: 0.996942224916\n",
      "y resids acorr 0.997052314423\n",
      "x does NOT cause y: 0.19\n",
      "y does NOT cause x: 0.005\n",
      "-------------------------------\n",
      "y=unspents,   x=synchronizedPrices\n"
     ]
    },
    {
     "name": "stderr",
     "output_type": "stream",
     "text": [
      "/usr/local/lib/python3.5/dist-packages/statsmodels/tsa/base/tsa_model.py:221: ValueWarning: An unsupported index was provided and will be ignored when e.g. forecasting.\n",
      "  ' ignored when e.g. forecasting.', ValueWarning)\n",
      "/usr/local/lib/python3.5/dist-packages/statsmodels/tsa/base/tsa_model.py:221: ValueWarning: An unsupported index was provided and will be ignored when e.g. forecasting.\n",
      "  ' ignored when e.g. forecasting.', ValueWarning)\n",
      "/usr/local/lib/python3.5/dist-packages/statsmodels/base/model.py:1532: ValueWarning: covariance of constraints does not have full rank. The number of constraints is 5, but rank is 4\n",
      "  'rank is %d' % (J, J_), ValueWarning)\n",
      "/usr/local/lib/python3.5/dist-packages/statsmodels/base/model.py:1532: ValueWarning: covariance of constraints does not have full rank. The number of constraints is 6, but rank is 5\n",
      "  'rank is %d' % (J, J_), ValueWarning)\n",
      "/usr/local/lib/python3.5/dist-packages/statsmodels/base/model.py:1532: ValueWarning: covariance of constraints does not have full rank. The number of constraints is 7, but rank is 5\n",
      "  'rank is %d' % (J, J_), ValueWarning)\n",
      "/usr/local/lib/python3.5/dist-packages/statsmodels/base/model.py:1532: ValueWarning: covariance of constraints does not have full rank. The number of constraints is 8, but rank is 5\n",
      "  'rank is %d' % (J, J_), ValueWarning)\n",
      "/usr/local/lib/python3.5/dist-packages/statsmodels/base/model.py:1532: ValueWarning: covariance of constraints does not have full rank. The number of constraints is 9, but rank is 6\n",
      "  'rank is %d' % (J, J_), ValueWarning)\n",
      "/usr/local/lib/python3.5/dist-packages/statsmodels/base/model.py:1532: ValueWarning: covariance of constraints does not have full rank. The number of constraints is 10, but rank is 6\n",
      "  'rank is %d' % (J, J_), ValueWarning)\n",
      "/usr/local/lib/python3.5/dist-packages/statsmodels/base/model.py:1532: ValueWarning: covariance of constraints does not have full rank. The number of constraints is 11, but rank is 6\n",
      "  'rank is %d' % (J, J_), ValueWarning)\n",
      "/usr/local/lib/python3.5/dist-packages/statsmodels/base/model.py:1532: ValueWarning: covariance of constraints does not have full rank. The number of constraints is 12, but rank is 6\n",
      "  'rank is %d' % (J, J_), ValueWarning)\n"
     ]
    },
    {
     "name": "stdout",
     "output_type": "stream",
     "text": [
      "x resids acorr p: 0.795891804906\n",
      "y resids acorr 0.932786066414\n",
      "x does NOT cause y: 0.8\n",
      "y does NOT cause x: 1.0\n",
      "-------------------------------\n"
     ]
    }
   ],
   "source": [
    "todaYamamotoWithCol(bdf, S_SYNC_PRICES)"
   ]
  },
  {
   "cell_type": "code",
   "execution_count": 190,
   "metadata": {},
   "outputs": [
    {
     "name": "stdout",
     "output_type": "stream",
     "text": [
      "y=NacamotoCoefs,   x=relativeFlowVolumes\n",
      "x resids acorr p: 0.996700904484\n",
      "y resids acorr 0.995625357382\n",
      "x does NOT cause y: 0.423\n",
      "y does NOT cause x: 0.342\n",
      "-------------------------------\n",
      "y=activeClustersCounts,   x=relativeFlowVolumes\n",
      "x resids acorr p: 0.993381689253\n",
      "y resids acorr 0.886886525225\n",
      "x does NOT cause y: 0.003\n"
     ]
    },
    {
     "name": "stderr",
     "output_type": "stream",
     "text": [
      "/usr/local/lib/python3.5/dist-packages/statsmodels/tsa/base/tsa_model.py:221: ValueWarning: An unsupported index was provided and will be ignored when e.g. forecasting.\n",
      "  ' ignored when e.g. forecasting.', ValueWarning)\n",
      "/usr/local/lib/python3.5/dist-packages/statsmodels/tsa/base/tsa_model.py:221: ValueWarning: An unsupported index was provided and will be ignored when e.g. forecasting.\n",
      "  ' ignored when e.g. forecasting.', ValueWarning)\n"
     ]
    },
    {
     "name": "stdout",
     "output_type": "stream",
     "text": [
      "y does NOT cause x: 0.014\n",
      "-------------------------------\n",
      "y=fees,   x=relativeFlowVolumes\n",
      "x resids acorr p: 0.995022998653\n",
      "y resids acorr 0.996112076705\n",
      "x does NOT cause y: 0.117\n",
      "y does NOT cause x: 0.934\n",
      "-------------------------------\n",
      "y=ginisOfClustersWealth,   x=relativeFlowVolumes\n",
      "x resids acorr p: 0.997491275038\n",
      "y resids acorr 0.997809460852\n",
      "x does NOT cause y: 0.033\n",
      "y does NOT cause x: 0.056\n",
      "-------------------------------\n",
      "y=nonEmptyClustersCounts,   x=relativeFlowVolumes\n"
     ]
    },
    {
     "name": "stderr",
     "output_type": "stream",
     "text": [
      "/usr/local/lib/python3.5/dist-packages/statsmodels/tsa/base/tsa_model.py:221: ValueWarning: An unsupported index was provided and will be ignored when e.g. forecasting.\n",
      "  ' ignored when e.g. forecasting.', ValueWarning)\n",
      "/usr/local/lib/python3.5/dist-packages/statsmodels/tsa/base/tsa_model.py:221: ValueWarning: An unsupported index was provided and will be ignored when e.g. forecasting.\n",
      "  ' ignored when e.g. forecasting.', ValueWarning)\n",
      "/usr/local/lib/python3.5/dist-packages/statsmodels/tsa/base/tsa_model.py:221: ValueWarning: An unsupported index was provided and will be ignored when e.g. forecasting.\n",
      "  ' ignored when e.g. forecasting.', ValueWarning)\n"
     ]
    },
    {
     "name": "stdout",
     "output_type": "stream",
     "text": [
      "x resids acorr p: 0.99661448088\n",
      "y resids acorr 0.874467122798\n",
      "x does NOT cause y: 0.56\n",
      "y does NOT cause x: 0.421\n",
      "-------------------------------\n",
      "y=synchronizedPrices,   x=relativeFlowVolumes\n",
      "x resids acorr p: 0.997052314423\n",
      "y resids acorr 0.996942224916\n",
      "x does NOT cause y: 0.005\n",
      "y does NOT cause x: 0.19\n",
      "-------------------------------\n",
      "y=unspents,   x=relativeFlowVolumes\n"
     ]
    },
    {
     "name": "stderr",
     "output_type": "stream",
     "text": [
      "/usr/local/lib/python3.5/dist-packages/statsmodels/tsa/base/tsa_model.py:221: ValueWarning: An unsupported index was provided and will be ignored when e.g. forecasting.\n",
      "  ' ignored when e.g. forecasting.', ValueWarning)\n",
      "/usr/local/lib/python3.5/dist-packages/statsmodels/tsa/base/tsa_model.py:221: ValueWarning: An unsupported index was provided and will be ignored when e.g. forecasting.\n",
      "  ' ignored when e.g. forecasting.', ValueWarning)\n",
      "/usr/local/lib/python3.5/dist-packages/statsmodels/base/model.py:1532: ValueWarning: covariance of constraints does not have full rank. The number of constraints is 9, but rank is 8\n",
      "  'rank is %d' % (J, J_), ValueWarning)\n",
      "/usr/local/lib/python3.5/dist-packages/statsmodels/base/model.py:1532: ValueWarning: covariance of constraints does not have full rank. The number of constraints is 10, but rank is 9\n",
      "  'rank is %d' % (J, J_), ValueWarning)\n",
      "/usr/local/lib/python3.5/dist-packages/statsmodels/base/model.py:1532: ValueWarning: covariance of constraints does not have full rank. The number of constraints is 11, but rank is 10\n",
      "  'rank is %d' % (J, J_), ValueWarning)\n",
      "/usr/local/lib/python3.5/dist-packages/statsmodels/base/model.py:1532: ValueWarning: covariance of constraints does not have full rank. The number of constraints is 12, but rank is 10\n",
      "  'rank is %d' % (J, J_), ValueWarning)\n"
     ]
    },
    {
     "name": "stdout",
     "output_type": "stream",
     "text": [
      "x resids acorr p: 0.992273450761\n",
      "y resids acorr 0.800810436527\n",
      "x does NOT cause y: 0.014\n",
      "y does NOT cause x: 1.0\n",
      "-------------------------------\n"
     ]
    }
   ],
   "source": [
    "todaYamamotoWithCol(bdf, S_REL_FLOWS)"
   ]
  },
  {
   "cell_type": "code",
   "execution_count": null,
   "metadata": {},
   "outputs": [],
   "source": []
  }
 ],
 "metadata": {
  "kernelspec": {
   "display_name": "Python 3",
   "language": "python",
   "name": "python3"
  },
  "language_info": {
   "codemirror_mode": {
    "name": "ipython",
    "version": 3
   },
   "file_extension": ".py",
   "mimetype": "text/x-python",
   "name": "python",
   "nbconvert_exporter": "python",
   "pygments_lexer": "ipython3",
   "version": "3.5.2"
  }
 },
 "nbformat": 4,
 "nbformat_minor": 2
}
